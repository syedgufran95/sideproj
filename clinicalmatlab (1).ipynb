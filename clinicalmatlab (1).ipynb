{
 "cells": [
  {
   "cell_type": "code",
   "execution_count": 13,
   "metadata": {},
   "outputs": [],
   "source": [
    "import pandas as pd\n",
    "import matplotlib.pyplot as plt\n",
    "import matplotlib.dates as mdates\n",
    "import numpy as np\n",
    "import math\n",
    "import calendar"
   ]
  },
  {
   "cell_type": "code",
   "execution_count": 5,
   "metadata": {},
   "outputs": [],
   "source": [
    "df=pd.read_csv(\"./xml2csv.csv\")"
   ]
  },
  {
   "cell_type": "code",
   "execution_count": 6,
   "metadata": {},
   "outputs": [],
   "source": [
    "df2=pd.read_csv(\"./classcsv - classcsv.csv\")"
   ]
  },
  {
   "cell_type": "code",
   "execution_count": 7,
   "metadata": {},
   "outputs": [
    {
     "data": {
      "text/html": [
       "<div>\n",
       "<style scoped>\n",
       "    .dataframe tbody tr th:only-of-type {\n",
       "        vertical-align: middle;\n",
       "    }\n",
       "\n",
       "    .dataframe tbody tr th {\n",
       "        vertical-align: top;\n",
       "    }\n",
       "\n",
       "    .dataframe thead th {\n",
       "        text-align: right;\n",
       "    }\n",
       "</style>\n",
       "<table border=\"1\" class=\"dataframe\">\n",
       "  <thead>\n",
       "    <tr style=\"text-align: right;\">\n",
       "      <th></th>\n",
       "      <th>nct_id</th>\n",
       "      <th>overall_status</th>\n",
       "      <th>start_date</th>\n",
       "      <th>completion_date</th>\n",
       "      <th>condition</th>\n",
       "      <th>Study design info</th>\n",
       "      <th>eligibility</th>\n",
       "      <th>has_expanded_access</th>\n",
       "      <th>enrollment</th>\n",
       "    </tr>\n",
       "  </thead>\n",
       "  <tbody>\n",
       "    <tr>\n",
       "      <th>0</th>\n",
       "      <td>NCT04453566</td>\n",
       "      <td>Recruiting</td>\n",
       "      <td>May 27, 2020</td>\n",
       "      <td>December 2020</td>\n",
       "      <td>COVID-19,Life Satisfaction,Anxiety,Mental Heal...</td>\n",
       "      <td>Other,Retrospective</td>\n",
       "      <td>sampling_method:Probability Sample,gender:All,...</td>\n",
       "      <td>No</td>\n",
       "      <td>120.0</td>\n",
       "    </tr>\n",
       "    <tr>\n",
       "      <th>1</th>\n",
       "      <td>NCT04403386</td>\n",
       "      <td>Recruiting</td>\n",
       "      <td>June 1, 2020</td>\n",
       "      <td>May 31, 2022</td>\n",
       "      <td>COVID-19</td>\n",
       "      <td>Cohort,Prospective</td>\n",
       "      <td>sampling_method:Non-Probability Sample,gender:...</td>\n",
       "      <td>No</td>\n",
       "      <td>200.0</td>\n",
       "    </tr>\n",
       "    <tr>\n",
       "      <th>2</th>\n",
       "      <td>NCT04526977</td>\n",
       "      <td>Not yet recruiting</td>\n",
       "      <td>September 1, 2020</td>\n",
       "      <td>September 30, 2021</td>\n",
       "      <td>Covid19,Immune Suppression,HIV-1-infection</td>\n",
       "      <td>Case-Control,Cross-Sectional</td>\n",
       "      <td>sampling_method:Non-Probability Sample,gender:...</td>\n",
       "      <td>No</td>\n",
       "      <td>90.0</td>\n",
       "    </tr>\n",
       "    <tr>\n",
       "      <th>3</th>\n",
       "      <td>NCT04561102</td>\n",
       "      <td>Enrolling by invitation</td>\n",
       "      <td>September 11, 2020</td>\n",
       "      <td>December 31, 2020</td>\n",
       "      <td>SARS-CoV-2</td>\n",
       "      <td>Case-Only,Prospective</td>\n",
       "      <td>sampling_method:Non-Probability Sample,gender:...</td>\n",
       "      <td>No</td>\n",
       "      <td>2500.0</td>\n",
       "    </tr>\n",
       "    <tr>\n",
       "      <th>4</th>\n",
       "      <td>NCT04375735</td>\n",
       "      <td>Not yet recruiting</td>\n",
       "      <td>July 1, 2020</td>\n",
       "      <td>July 1, 2021</td>\n",
       "      <td>ARDS, Human,COVID-19</td>\n",
       "      <td>Randomized,Parallel Assignment,Patients will b...</td>\n",
       "      <td>gender:All,Min Age:18 Years,Max Age:N/A</td>\n",
       "      <td>No</td>\n",
       "      <td>20.0</td>\n",
       "    </tr>\n",
       "    <tr>\n",
       "      <th>...</th>\n",
       "      <td>...</td>\n",
       "      <td>...</td>\n",
       "      <td>...</td>\n",
       "      <td>...</td>\n",
       "      <td>...</td>\n",
       "      <td>...</td>\n",
       "      <td>...</td>\n",
       "      <td>...</td>\n",
       "      <td>...</td>\n",
       "    </tr>\n",
       "    <tr>\n",
       "      <th>3523</th>\n",
       "      <td>NCT04378803</td>\n",
       "      <td>Completed</td>\n",
       "      <td>May 13, 2020</td>\n",
       "      <td>August 4, 2020</td>\n",
       "      <td>Well Aging</td>\n",
       "      <td>Randomized,Crossover Assignment,The wait-list ...</td>\n",
       "      <td>gender:All,Min Age:60 Years,Max Age:95 Years</td>\n",
       "      <td>No</td>\n",
       "      <td>53.0</td>\n",
       "    </tr>\n",
       "    <tr>\n",
       "      <th>3524</th>\n",
       "      <td>NCT04352634</td>\n",
       "      <td>Recruiting</td>\n",
       "      <td>April 26, 2020</td>\n",
       "      <td>December 31, 2021</td>\n",
       "      <td>Covid-19,Mental Health Disorder,Stress Disorde...</td>\n",
       "      <td>Cohort,Prospective</td>\n",
       "      <td>sampling_method:Non-Probability Sample,gender:...</td>\n",
       "      <td>No</td>\n",
       "      <td>2000.0</td>\n",
       "    </tr>\n",
       "    <tr>\n",
       "      <th>3525</th>\n",
       "      <td>NCT04356144</td>\n",
       "      <td>Recruiting</td>\n",
       "      <td>April 15, 2020</td>\n",
       "      <td>December 1, 2020</td>\n",
       "      <td>Disseminated Intravascular Coagulation,Critica...</td>\n",
       "      <td>Cohort,Prospective</td>\n",
       "      <td>sampling_method:Non-Probability Sample,gender:...</td>\n",
       "      <td>No</td>\n",
       "      <td>60.0</td>\n",
       "    </tr>\n",
       "    <tr>\n",
       "      <th>3526</th>\n",
       "      <td>NCT04429763</td>\n",
       "      <td>Not yet recruiting</td>\n",
       "      <td>July 2020</td>\n",
       "      <td>November 2020</td>\n",
       "      <td>COVID-19</td>\n",
       "      <td>Randomized,Parallel Assignment,It will be incl...</td>\n",
       "      <td>gender:All,Min Age:18 Years,Max Age:79 Years</td>\n",
       "      <td>No</td>\n",
       "      <td>30.0</td>\n",
       "    </tr>\n",
       "    <tr>\n",
       "      <th>3527</th>\n",
       "      <td>NCT04529525</td>\n",
       "      <td>Recruiting</td>\n",
       "      <td>August 19, 2020</td>\n",
       "      <td>January 31, 2021</td>\n",
       "      <td>Covid19</td>\n",
       "      <td>Randomized,Parallel Assignment,Treatment,Quadr...</td>\n",
       "      <td>gender:All,Min Age:18 Years,Max Age:N/A</td>\n",
       "      <td>No</td>\n",
       "      <td>500.0</td>\n",
       "    </tr>\n",
       "  </tbody>\n",
       "</table>\n",
       "<p>3528 rows × 9 columns</p>\n",
       "</div>"
      ],
      "text/plain": [
       "           nct_id           overall_status          start_date  \\\n",
       "0     NCT04453566               Recruiting        May 27, 2020   \n",
       "1     NCT04403386               Recruiting        June 1, 2020   \n",
       "2     NCT04526977       Not yet recruiting   September 1, 2020   \n",
       "3     NCT04561102  Enrolling by invitation  September 11, 2020   \n",
       "4     NCT04375735       Not yet recruiting        July 1, 2020   \n",
       "...           ...                      ...                 ...   \n",
       "3523  NCT04378803                Completed        May 13, 2020   \n",
       "3524  NCT04352634               Recruiting      April 26, 2020   \n",
       "3525  NCT04356144               Recruiting      April 15, 2020   \n",
       "3526  NCT04429763       Not yet recruiting           July 2020   \n",
       "3527  NCT04529525               Recruiting     August 19, 2020   \n",
       "\n",
       "         completion_date                                          condition  \\\n",
       "0          December 2020  COVID-19,Life Satisfaction,Anxiety,Mental Heal...   \n",
       "1           May 31, 2022                                           COVID-19   \n",
       "2     September 30, 2021         Covid19,Immune Suppression,HIV-1-infection   \n",
       "3      December 31, 2020                                         SARS-CoV-2   \n",
       "4           July 1, 2021                               ARDS, Human,COVID-19   \n",
       "...                  ...                                                ...   \n",
       "3523      August 4, 2020                                         Well Aging   \n",
       "3524   December 31, 2021  Covid-19,Mental Health Disorder,Stress Disorde...   \n",
       "3525    December 1, 2020  Disseminated Intravascular Coagulation,Critica...   \n",
       "3526       November 2020                                           COVID-19   \n",
       "3527    January 31, 2021                                            Covid19   \n",
       "\n",
       "                                      Study design info  \\\n",
       "0                                   Other,Retrospective   \n",
       "1                                    Cohort,Prospective   \n",
       "2                          Case-Control,Cross-Sectional   \n",
       "3                                 Case-Only,Prospective   \n",
       "4     Randomized,Parallel Assignment,Patients will b...   \n",
       "...                                                 ...   \n",
       "3523  Randomized,Crossover Assignment,The wait-list ...   \n",
       "3524                                 Cohort,Prospective   \n",
       "3525                                 Cohort,Prospective   \n",
       "3526  Randomized,Parallel Assignment,It will be incl...   \n",
       "3527  Randomized,Parallel Assignment,Treatment,Quadr...   \n",
       "\n",
       "                                            eligibility has_expanded_access  \\\n",
       "0     sampling_method:Probability Sample,gender:All,...                  No   \n",
       "1     sampling_method:Non-Probability Sample,gender:...                  No   \n",
       "2     sampling_method:Non-Probability Sample,gender:...                  No   \n",
       "3     sampling_method:Non-Probability Sample,gender:...                  No   \n",
       "4               gender:All,Min Age:18 Years,Max Age:N/A                  No   \n",
       "...                                                 ...                 ...   \n",
       "3523       gender:All,Min Age:60 Years,Max Age:95 Years                  No   \n",
       "3524  sampling_method:Non-Probability Sample,gender:...                  No   \n",
       "3525  sampling_method:Non-Probability Sample,gender:...                  No   \n",
       "3526       gender:All,Min Age:18 Years,Max Age:79 Years                  No   \n",
       "3527            gender:All,Min Age:18 Years,Max Age:N/A                  No   \n",
       "\n",
       "      enrollment  \n",
       "0          120.0  \n",
       "1          200.0  \n",
       "2           90.0  \n",
       "3         2500.0  \n",
       "4           20.0  \n",
       "...          ...  \n",
       "3523        53.0  \n",
       "3524      2000.0  \n",
       "3525        60.0  \n",
       "3526        30.0  \n",
       "3527       500.0  \n",
       "\n",
       "[3528 rows x 9 columns]"
      ]
     },
     "execution_count": 7,
     "metadata": {},
     "output_type": "execute_result"
    }
   ],
   "source": [
    "df"
   ]
  },
  {
   "cell_type": "code",
   "execution_count": 8,
   "metadata": {},
   "outputs": [
    {
     "data": {
      "text/html": [
       "<div>\n",
       "<style scoped>\n",
       "    .dataframe tbody tr th:only-of-type {\n",
       "        vertical-align: middle;\n",
       "    }\n",
       "\n",
       "    .dataframe tbody tr th {\n",
       "        vertical-align: top;\n",
       "    }\n",
       "\n",
       "    .dataframe thead th {\n",
       "        text-align: right;\n",
       "    }\n",
       "</style>\n",
       "<table border=\"1\" class=\"dataframe\">\n",
       "  <thead>\n",
       "    <tr style=\"text-align: right;\">\n",
       "      <th></th>\n",
       "      <th>nct_id</th>\n",
       "      <th>condition</th>\n",
       "      <th>facility_name</th>\n",
       "      <th>city</th>\n",
       "      <th>sampling_method</th>\n",
       "      <th>overall_status</th>\n",
       "      <th>study_type</th>\n",
       "    </tr>\n",
       "  </thead>\n",
       "  <tbody>\n",
       "    <tr>\n",
       "      <th>0</th>\n",
       "      <td>NCT04357457</td>\n",
       "      <td>Covid 19|Hypoxemic Respiratory Failure|</td>\n",
       "      <td>Hospital Pitié-Salpêtrière</td>\n",
       "      <td>Paris</td>\n",
       "      <td>NaN</td>\n",
       "      <td>Recruiting</td>\n",
       "      <td>Interventional</td>\n",
       "    </tr>\n",
       "    <tr>\n",
       "      <th>1</th>\n",
       "      <td>NCT04568005</td>\n",
       "      <td>Lymphedema|</td>\n",
       "      <td>Fatih Sultan Mehmet Training and Research Hosp...</td>\n",
       "      <td>Istanbul</td>\n",
       "      <td>Non-Probability Sample</td>\n",
       "      <td>Completed</td>\n",
       "      <td>Observational [Patient Registry]</td>\n",
       "    </tr>\n",
       "    <tr>\n",
       "      <th>2</th>\n",
       "      <td>NCT04351347</td>\n",
       "      <td>COVID|</td>\n",
       "      <td>Tanta University</td>\n",
       "      <td>Tanta</td>\n",
       "      <td>NaN</td>\n",
       "      <td>Recruiting</td>\n",
       "      <td>Interventional</td>\n",
       "    </tr>\n",
       "    <tr>\n",
       "      <th>3</th>\n",
       "      <td>NCT04389450</td>\n",
       "      <td>COVID|ARDS|</td>\n",
       "      <td>University of California Irvine</td>\n",
       "      <td>Irvine</td>\n",
       "      <td>NaN</td>\n",
       "      <td>Recruiting</td>\n",
       "      <td>Interventional</td>\n",
       "    </tr>\n",
       "    <tr>\n",
       "      <th>4</th>\n",
       "      <td>NCT04298814</td>\n",
       "      <td>COVID-19|Endotracheal Intubation|</td>\n",
       "      <td>Tongji Hospital</td>\n",
       "      <td>Wuhan</td>\n",
       "      <td>Non-Probability Sample</td>\n",
       "      <td>Withdrawn</td>\n",
       "      <td>Observational</td>\n",
       "    </tr>\n",
       "    <tr>\n",
       "      <th>...</th>\n",
       "      <td>...</td>\n",
       "      <td>...</td>\n",
       "      <td>...</td>\n",
       "      <td>...</td>\n",
       "      <td>...</td>\n",
       "      <td>...</td>\n",
       "      <td>...</td>\n",
       "    </tr>\n",
       "    <tr>\n",
       "      <th>3527</th>\n",
       "      <td>NCT04486404</td>\n",
       "      <td>Acute Stress Disorder|</td>\n",
       "      <td>Pontificia Universidad Católica de Chile</td>\n",
       "      <td>Santiago</td>\n",
       "      <td>Non-Probability Sample</td>\n",
       "      <td>Enrolling by invitation</td>\n",
       "      <td>Observational</td>\n",
       "    </tr>\n",
       "    <tr>\n",
       "      <th>3528</th>\n",
       "      <td>NCT04539795</td>\n",
       "      <td>Covid19|</td>\n",
       "      <td>UAB Lung Health Center</td>\n",
       "      <td>Birmingham</td>\n",
       "      <td>NaN</td>\n",
       "      <td>Not yet recruiting</td>\n",
       "      <td>Interventional</td>\n",
       "    </tr>\n",
       "    <tr>\n",
       "      <th>3529</th>\n",
       "      <td>NCT04359264</td>\n",
       "      <td>COVID-19|</td>\n",
       "      <td>Municipality of Assiginack Family Health Team</td>\n",
       "      <td>Assiginack</td>\n",
       "      <td>NaN</td>\n",
       "      <td>Active, not recruiting</td>\n",
       "      <td>Interventional</td>\n",
       "    </tr>\n",
       "    <tr>\n",
       "      <th>3530</th>\n",
       "      <td>NCT04402853</td>\n",
       "      <td>Sars-CoV2|Tear|</td>\n",
       "      <td>ASST Sette Laghi</td>\n",
       "      <td>Varese</td>\n",
       "      <td>Probability Sample</td>\n",
       "      <td>Completed</td>\n",
       "      <td>Observational</td>\n",
       "    </tr>\n",
       "    <tr>\n",
       "      <th>3531</th>\n",
       "      <td>NCT04375748</td>\n",
       "      <td>Acute Myocarditis|</td>\n",
       "      <td>CHU de TOULOUSE</td>\n",
       "      <td>Toulouse</td>\n",
       "      <td>Non-Probability Sample</td>\n",
       "      <td>Recruiting</td>\n",
       "      <td>Observational</td>\n",
       "    </tr>\n",
       "  </tbody>\n",
       "</table>\n",
       "<p>3532 rows × 7 columns</p>\n",
       "</div>"
      ],
      "text/plain": [
       "           nct_id                                condition  \\\n",
       "0     NCT04357457  Covid 19|Hypoxemic Respiratory Failure|   \n",
       "1     NCT04568005                              Lymphedema|   \n",
       "2     NCT04351347                                   COVID|   \n",
       "3     NCT04389450                              COVID|ARDS|   \n",
       "4     NCT04298814        COVID-19|Endotracheal Intubation|   \n",
       "...           ...                                      ...   \n",
       "3527  NCT04486404                   Acute Stress Disorder|   \n",
       "3528  NCT04539795                                 Covid19|   \n",
       "3529  NCT04359264                                COVID-19|   \n",
       "3530  NCT04402853                          Sars-CoV2|Tear|   \n",
       "3531  NCT04375748                       Acute Myocarditis|   \n",
       "\n",
       "                                          facility_name        city  \\\n",
       "0                            Hospital Pitié-Salpêtrière       Paris   \n",
       "1     Fatih Sultan Mehmet Training and Research Hosp...    Istanbul   \n",
       "2                                      Tanta University       Tanta   \n",
       "3                       University of California Irvine      Irvine   \n",
       "4                                       Tongji Hospital       Wuhan   \n",
       "...                                                 ...         ...   \n",
       "3527           Pontificia Universidad Católica de Chile    Santiago   \n",
       "3528                             UAB Lung Health Center  Birmingham   \n",
       "3529      Municipality of Assiginack Family Health Team  Assiginack   \n",
       "3530                                   ASST Sette Laghi      Varese   \n",
       "3531                                    CHU de TOULOUSE    Toulouse   \n",
       "\n",
       "             sampling_method           overall_status  \\\n",
       "0                        NaN               Recruiting   \n",
       "1     Non-Probability Sample                Completed   \n",
       "2                        NaN               Recruiting   \n",
       "3                        NaN               Recruiting   \n",
       "4     Non-Probability Sample                Withdrawn   \n",
       "...                      ...                      ...   \n",
       "3527  Non-Probability Sample  Enrolling by invitation   \n",
       "3528                     NaN       Not yet recruiting   \n",
       "3529                     NaN   Active, not recruiting   \n",
       "3530      Probability Sample                Completed   \n",
       "3531  Non-Probability Sample               Recruiting   \n",
       "\n",
       "                            study_type  \n",
       "0                       Interventional  \n",
       "1     Observational [Patient Registry]  \n",
       "2                       Interventional  \n",
       "3                       Interventional  \n",
       "4                        Observational  \n",
       "...                                ...  \n",
       "3527                     Observational  \n",
       "3528                    Interventional  \n",
       "3529                    Interventional  \n",
       "3530                     Observational  \n",
       "3531                     Observational  \n",
       "\n",
       "[3532 rows x 7 columns]"
      ]
     },
     "execution_count": 8,
     "metadata": {},
     "output_type": "execute_result"
    }
   ],
   "source": [
    "df2"
   ]
  },
  {
   "cell_type": "code",
   "execution_count": null,
   "metadata": {},
   "outputs": [],
   "source": [
    "#as the date is in series formatneed to convert it into timeso as to do some manipulations"
   ]
  },
  {
   "cell_type": "code",
   "execution_count": 9,
   "metadata": {},
   "outputs": [
    {
     "data": {
      "text/plain": [
       "pandas.core.series.Series"
      ]
     },
     "execution_count": 9,
     "metadata": {},
     "output_type": "execute_result"
    }
   ],
   "source": [
    "type(df[\"start_date\"])"
   ]
  },
  {
   "cell_type": "code",
   "execution_count": 10,
   "metadata": {},
   "outputs": [],
   "source": [
    "df[\"start_date\"]=pd.to_datetime(df[\"start_date\"])"
   ]
  },
  {
   "cell_type": "code",
   "execution_count": 11,
   "metadata": {},
   "outputs": [],
   "source": [
    "df[\"completion_date\"]=pd.to_datetime(df[\"completion_date\"])"
   ]
  },
  {
   "cell_type": "code",
   "execution_count": null,
   "metadata": {},
   "outputs": [],
   "source": [
    "#created new data frame from existing one and added months comlumn"
   ]
  },
  {
   "cell_type": "code",
   "execution_count": 12,
   "metadata": {},
   "outputs": [],
   "source": [
    "test4=df\n",
    "test4['month'] = pd.DatetimeIndex(df['start_date']).month"
   ]
  },
  {
   "cell_type": "code",
   "execution_count": 11,
   "metadata": {},
   "outputs": [],
   "source": [
    "#lets look at test4"
   ]
  },
  {
   "cell_type": "code",
   "execution_count": 176,
   "metadata": {},
   "outputs": [
    {
     "data": {
      "text/html": [
       "<div>\n",
       "<style scoped>\n",
       "    .dataframe tbody tr th:only-of-type {\n",
       "        vertical-align: middle;\n",
       "    }\n",
       "\n",
       "    .dataframe tbody tr th {\n",
       "        vertical-align: top;\n",
       "    }\n",
       "\n",
       "    .dataframe thead th {\n",
       "        text-align: right;\n",
       "    }\n",
       "</style>\n",
       "<table border=\"1\" class=\"dataframe\">\n",
       "  <thead>\n",
       "    <tr style=\"text-align: right;\">\n",
       "      <th></th>\n",
       "      <th>nct_id</th>\n",
       "      <th>overall_status</th>\n",
       "      <th>start_date</th>\n",
       "      <th>completion_date</th>\n",
       "      <th>condition</th>\n",
       "      <th>Study design info</th>\n",
       "      <th>eligibility</th>\n",
       "      <th>has_expanded_access</th>\n",
       "      <th>enrollment</th>\n",
       "      <th>month</th>\n",
       "      <th>sum</th>\n",
       "      <th>counts</th>\n",
       "    </tr>\n",
       "  </thead>\n",
       "  <tbody>\n",
       "    <tr>\n",
       "      <th>0</th>\n",
       "      <td>NCT04453566</td>\n",
       "      <td>Recruiting</td>\n",
       "      <td>2020-05-27</td>\n",
       "      <td>2020-12-01</td>\n",
       "      <td>covid-19,life satisfaction,anxiety,mental heal...</td>\n",
       "      <td>Other,Retrospective</td>\n",
       "      <td>sampling_method:Probability Sample,gender:All,...</td>\n",
       "      <td>No</td>\n",
       "      <td>120.0</td>\n",
       "      <td>5.0</td>\n",
       "      <td>COVID-19,Lung Infection</td>\n",
       "      <td>NaN</td>\n",
       "    </tr>\n",
       "    <tr>\n",
       "      <th>1</th>\n",
       "      <td>NCT04403386</td>\n",
       "      <td>Recruiting</td>\n",
       "      <td>2020-06-01</td>\n",
       "      <td>2022-05-31</td>\n",
       "      <td>covid-19</td>\n",
       "      <td>Cohort,Prospective</td>\n",
       "      <td>sampling_method:Non-Probability Sample,gender:...</td>\n",
       "      <td>No</td>\n",
       "      <td>200.0</td>\n",
       "      <td>6.0</td>\n",
       "      <td>COVID-19,Lung Infection</td>\n",
       "      <td>NaN</td>\n",
       "    </tr>\n",
       "    <tr>\n",
       "      <th>2</th>\n",
       "      <td>NCT04526977</td>\n",
       "      <td>Not yet recruiting</td>\n",
       "      <td>2020-09-01</td>\n",
       "      <td>2021-09-30</td>\n",
       "      <td>covid19,immune suppression,hiv-1-infection</td>\n",
       "      <td>Case-Control,Cross-Sectional</td>\n",
       "      <td>sampling_method:Non-Probability Sample,gender:...</td>\n",
       "      <td>No</td>\n",
       "      <td>90.0</td>\n",
       "      <td>9.0</td>\n",
       "      <td>COVID-19,Lung Infection</td>\n",
       "      <td>NaN</td>\n",
       "    </tr>\n",
       "    <tr>\n",
       "      <th>3</th>\n",
       "      <td>NCT04561102</td>\n",
       "      <td>Enrolling by invitation</td>\n",
       "      <td>2020-09-11</td>\n",
       "      <td>2020-12-31</td>\n",
       "      <td>sars-cov-2</td>\n",
       "      <td>Case-Only,Prospective</td>\n",
       "      <td>sampling_method:Non-Probability Sample,gender:...</td>\n",
       "      <td>No</td>\n",
       "      <td>2500.0</td>\n",
       "      <td>9.0</td>\n",
       "      <td>COVID-19,Lung Infection</td>\n",
       "      <td>NaN</td>\n",
       "    </tr>\n",
       "    <tr>\n",
       "      <th>4</th>\n",
       "      <td>NCT04375735</td>\n",
       "      <td>Not yet recruiting</td>\n",
       "      <td>2020-07-01</td>\n",
       "      <td>2021-07-01</td>\n",
       "      <td>ards, human,covid-19</td>\n",
       "      <td>Randomized,Parallel Assignment,Patients will b...</td>\n",
       "      <td>gender:All,Min Age:18 Years,Max Age:N/A</td>\n",
       "      <td>No</td>\n",
       "      <td>20.0</td>\n",
       "      <td>7.0</td>\n",
       "      <td>COVID-19,Lung Infection</td>\n",
       "      <td>NaN</td>\n",
       "    </tr>\n",
       "    <tr>\n",
       "      <th>...</th>\n",
       "      <td>...</td>\n",
       "      <td>...</td>\n",
       "      <td>...</td>\n",
       "      <td>...</td>\n",
       "      <td>...</td>\n",
       "      <td>...</td>\n",
       "      <td>...</td>\n",
       "      <td>...</td>\n",
       "      <td>...</td>\n",
       "      <td>...</td>\n",
       "      <td>...</td>\n",
       "      <td>...</td>\n",
       "    </tr>\n",
       "    <tr>\n",
       "      <th>3523</th>\n",
       "      <td>NCT04378803</td>\n",
       "      <td>Completed</td>\n",
       "      <td>2020-05-13</td>\n",
       "      <td>2020-08-04</td>\n",
       "      <td>well aging</td>\n",
       "      <td>Randomized,Crossover Assignment,The wait-list ...</td>\n",
       "      <td>gender:All,Min Age:60 Years,Max Age:95 Years</td>\n",
       "      <td>No</td>\n",
       "      <td>53.0</td>\n",
       "      <td>5.0</td>\n",
       "      <td>COVID-19,Lung Infection</td>\n",
       "      <td>NaN</td>\n",
       "    </tr>\n",
       "    <tr>\n",
       "      <th>3524</th>\n",
       "      <td>NCT04352634</td>\n",
       "      <td>Recruiting</td>\n",
       "      <td>2020-04-26</td>\n",
       "      <td>2021-12-31</td>\n",
       "      <td>covid-19,mental health disorder,stress disorde...</td>\n",
       "      <td>Cohort,Prospective</td>\n",
       "      <td>sampling_method:Non-Probability Sample,gender:...</td>\n",
       "      <td>No</td>\n",
       "      <td>2000.0</td>\n",
       "      <td>4.0</td>\n",
       "      <td>COVID-19,Lung Infection</td>\n",
       "      <td>NaN</td>\n",
       "    </tr>\n",
       "    <tr>\n",
       "      <th>3525</th>\n",
       "      <td>NCT04356144</td>\n",
       "      <td>Recruiting</td>\n",
       "      <td>2020-04-15</td>\n",
       "      <td>2020-12-01</td>\n",
       "      <td>disseminated intravascular coagulation,critica...</td>\n",
       "      <td>Cohort,Prospective</td>\n",
       "      <td>sampling_method:Non-Probability Sample,gender:...</td>\n",
       "      <td>No</td>\n",
       "      <td>60.0</td>\n",
       "      <td>4.0</td>\n",
       "      <td>COVID-19,Lung Infection</td>\n",
       "      <td>NaN</td>\n",
       "    </tr>\n",
       "    <tr>\n",
       "      <th>3526</th>\n",
       "      <td>NCT04429763</td>\n",
       "      <td>Not yet recruiting</td>\n",
       "      <td>2020-07-01</td>\n",
       "      <td>2020-11-01</td>\n",
       "      <td>covid-19</td>\n",
       "      <td>Randomized,Parallel Assignment,It will be incl...</td>\n",
       "      <td>gender:All,Min Age:18 Years,Max Age:79 Years</td>\n",
       "      <td>No</td>\n",
       "      <td>30.0</td>\n",
       "      <td>7.0</td>\n",
       "      <td>COVID-19,Lung Infection</td>\n",
       "      <td>NaN</td>\n",
       "    </tr>\n",
       "    <tr>\n",
       "      <th>3527</th>\n",
       "      <td>NCT04529525</td>\n",
       "      <td>Recruiting</td>\n",
       "      <td>2020-08-19</td>\n",
       "      <td>2021-01-31</td>\n",
       "      <td>covid19</td>\n",
       "      <td>Randomized,Parallel Assignment,Treatment,Quadr...</td>\n",
       "      <td>gender:All,Min Age:18 Years,Max Age:N/A</td>\n",
       "      <td>No</td>\n",
       "      <td>500.0</td>\n",
       "      <td>8.0</td>\n",
       "      <td>COVID-19,Lung Infection</td>\n",
       "      <td>NaN</td>\n",
       "    </tr>\n",
       "  </tbody>\n",
       "</table>\n",
       "<p>3528 rows × 12 columns</p>\n",
       "</div>"
      ],
      "text/plain": [
       "           nct_id           overall_status start_date completion_date  \\\n",
       "0     NCT04453566               Recruiting 2020-05-27      2020-12-01   \n",
       "1     NCT04403386               Recruiting 2020-06-01      2022-05-31   \n",
       "2     NCT04526977       Not yet recruiting 2020-09-01      2021-09-30   \n",
       "3     NCT04561102  Enrolling by invitation 2020-09-11      2020-12-31   \n",
       "4     NCT04375735       Not yet recruiting 2020-07-01      2021-07-01   \n",
       "...           ...                      ...        ...             ...   \n",
       "3523  NCT04378803                Completed 2020-05-13      2020-08-04   \n",
       "3524  NCT04352634               Recruiting 2020-04-26      2021-12-31   \n",
       "3525  NCT04356144               Recruiting 2020-04-15      2020-12-01   \n",
       "3526  NCT04429763       Not yet recruiting 2020-07-01      2020-11-01   \n",
       "3527  NCT04529525               Recruiting 2020-08-19      2021-01-31   \n",
       "\n",
       "                                              condition  \\\n",
       "0     covid-19,life satisfaction,anxiety,mental heal...   \n",
       "1                                              covid-19   \n",
       "2            covid19,immune suppression,hiv-1-infection   \n",
       "3                                            sars-cov-2   \n",
       "4                                  ards, human,covid-19   \n",
       "...                                                 ...   \n",
       "3523                                         well aging   \n",
       "3524  covid-19,mental health disorder,stress disorde...   \n",
       "3525  disseminated intravascular coagulation,critica...   \n",
       "3526                                           covid-19   \n",
       "3527                                            covid19   \n",
       "\n",
       "                                      Study design info  \\\n",
       "0                                   Other,Retrospective   \n",
       "1                                    Cohort,Prospective   \n",
       "2                          Case-Control,Cross-Sectional   \n",
       "3                                 Case-Only,Prospective   \n",
       "4     Randomized,Parallel Assignment,Patients will b...   \n",
       "...                                                 ...   \n",
       "3523  Randomized,Crossover Assignment,The wait-list ...   \n",
       "3524                                 Cohort,Prospective   \n",
       "3525                                 Cohort,Prospective   \n",
       "3526  Randomized,Parallel Assignment,It will be incl...   \n",
       "3527  Randomized,Parallel Assignment,Treatment,Quadr...   \n",
       "\n",
       "                                            eligibility has_expanded_access  \\\n",
       "0     sampling_method:Probability Sample,gender:All,...                  No   \n",
       "1     sampling_method:Non-Probability Sample,gender:...                  No   \n",
       "2     sampling_method:Non-Probability Sample,gender:...                  No   \n",
       "3     sampling_method:Non-Probability Sample,gender:...                  No   \n",
       "4               gender:All,Min Age:18 Years,Max Age:N/A                  No   \n",
       "...                                                 ...                 ...   \n",
       "3523       gender:All,Min Age:60 Years,Max Age:95 Years                  No   \n",
       "3524  sampling_method:Non-Probability Sample,gender:...                  No   \n",
       "3525  sampling_method:Non-Probability Sample,gender:...                  No   \n",
       "3526       gender:All,Min Age:18 Years,Max Age:79 Years                  No   \n",
       "3527            gender:All,Min Age:18 Years,Max Age:N/A                  No   \n",
       "\n",
       "      enrollment  month                      sum  counts  \n",
       "0          120.0    5.0  COVID-19,Lung Infection     NaN  \n",
       "1          200.0    6.0  COVID-19,Lung Infection     NaN  \n",
       "2           90.0    9.0  COVID-19,Lung Infection     NaN  \n",
       "3         2500.0    9.0  COVID-19,Lung Infection     NaN  \n",
       "4           20.0    7.0  COVID-19,Lung Infection     NaN  \n",
       "...          ...    ...                      ...     ...  \n",
       "3523        53.0    5.0  COVID-19,Lung Infection     NaN  \n",
       "3524      2000.0    4.0  COVID-19,Lung Infection     NaN  \n",
       "3525        60.0    4.0  COVID-19,Lung Infection     NaN  \n",
       "3526        30.0    7.0  COVID-19,Lung Infection     NaN  \n",
       "3527       500.0    8.0  COVID-19,Lung Infection     NaN  \n",
       "\n",
       "[3528 rows x 12 columns]"
      ]
     },
     "execution_count": 176,
     "metadata": {},
     "output_type": "execute_result"
    }
   ],
   "source": [
    "test4"
   ]
  },
  {
   "cell_type": "code",
   "execution_count": null,
   "metadata": {},
   "outputs": [],
   "source": [
    "#counting no. of trials in each month starting from 1st Jan 2020 to 31 Dec 2020"
   ]
  },
  {
   "cell_type": "code",
   "execution_count": 14,
   "metadata": {},
   "outputs": [],
   "source": [
    "trial_count=test4[\"month\"][( test4[\"start_date\"] <'2020-12-31') \n",
    "                           & ( test4[\"start_date\"] > '2020-01-01' )\n",
    "                          ].value_counts()"
   ]
  },
  {
   "cell_type": "code",
   "execution_count": 15,
   "metadata": {},
   "outputs": [
    {
     "data": {
      "text/plain": [
       "4.0     807\n",
       "5.0     617\n",
       "6.0     466\n",
       "3.0     355\n",
       "7.0     353\n",
       "9.0     305\n",
       "8.0     251\n",
       "10.0    127\n",
       "2.0      78\n",
       "11.0     38\n",
       "12.0     24\n",
       "1.0      21\n",
       "Name: month, dtype: int64"
      ]
     },
     "execution_count": 15,
     "metadata": {},
     "output_type": "execute_result"
    }
   ],
   "source": [
    "trial_count"
   ]
  },
  {
   "cell_type": "code",
   "execution_count": null,
   "metadata": {},
   "outputs": [],
   "source": []
  },
  {
   "cell_type": "code",
   "execution_count": 238,
   "metadata": {},
   "outputs": [
    {
     "data": {
      "text/plain": [
       "Recruiting                 1838\n",
       "Not yet recruiting          839\n",
       "Completed                   393\n",
       "Active, not recruiting      233\n",
       "Enrolling by invitation     115\n",
       "Withdrawn                    48\n",
       "Terminated                   20\n",
       "Available                    19\n",
       "Suspended                    19\n",
       "No longer available           3\n",
       "Approved for marketing        1\n",
       "Name: overall_status, dtype: int64"
      ]
     },
     "execution_count": 238,
     "metadata": {},
     "output_type": "execute_result"
    }
   ],
   "source": []
  },
  {
   "cell_type": "code",
   "execution_count": null,
   "metadata": {},
   "outputs": [],
   "source": []
  },
  {
   "cell_type": "code",
   "execution_count": null,
   "metadata": {},
   "outputs": [],
   "source": []
  },
  {
   "cell_type": "code",
   "execution_count": null,
   "metadata": {},
   "outputs": [],
   "source": []
  },
  {
   "cell_type": "code",
   "execution_count": 17,
   "metadata": {},
   "outputs": [],
   "source": []
  },
  {
   "cell_type": "code",
   "execution_count": null,
   "metadata": {},
   "outputs": [],
   "source": [
    "\n"
   ]
  },
  {
   "cell_type": "code",
   "execution_count": 68,
   "metadata": {},
   "outputs": [],
   "source": [
    "def make_count():\n",
    "    x=trial_count.keys()\n",
    "    fig,ax=plt.subplots(figsize=(10,5) )\n",
    "    mon=['Jan','Feb','Mar','Apr','May',\n",
    "         'Jun','Jul','Aug','Sep','Oct',\n",
    "         'Nov','Dev']\n",
    "    ax.set_xlim(xmin=0,xmax=13)\n",
    "    z=ax.bar(x,trial_count,label='No. of Trials')\n",
    "    ax.set_title(\"Clinical Trials in 2020\")\n",
    "    ax.set_xlabel(\"Jan 2020 - December 2020\")\n",
    "    ax.set_ylabel(\"No. of Trials\")\n",
    "    ax.set_xticks(np.arange(1,13,1))\n",
    "    ax.set_xticklabels(mon)\n",
    "    ax.legend(loc=\"upper right\")\n",
    "    totals=[]\n",
    "    for i in ax.patches:\n",
    "        totals.append(i.get_width())\n",
    "    total=sum(totals)\n",
    "    count=0\n",
    "    for i in ax.patches:\n",
    "        ax.text(i.get_x()+.1,i.get_y()+i.get_height()+5,\n",
    "               str(round((i.get_height()),2)),fontsize=13,\n",
    "               color='green')\n",
    "    \n",
    "\n",
    "    "
   ]
  },
  {
   "cell_type": "code",
   "execution_count": 69,
   "metadata": {},
   "outputs": [
    {
     "data": {
      "image/png": "[encoded data removed]",
      "text/plain": [
       "<Figure size 720x360 with 1 Axes>"
      ]
     },
     "metadata": {
      "needs_background": "light"
     },
     "output_type": "display_data"
    }
   ],
   "source": [
    "make_count()"
   ]
  },
  {
   "cell_type": "code",
   "execution_count": null,
   "metadata": {},
   "outputs": [],
   "source": []
  },
  {
   "cell_type": "code",
   "execution_count": null,
   "metadata": {},
   "outputs": [],
   "source": []
  },
  {
   "cell_type": "code",
   "execution_count": 20,
   "metadata": {},
   "outputs": [
    {
     "data": {
      "text/plain": [
       "Interventional                      1998\n",
       "Observational                       1306\n",
       "Observational [Patient Registry]     204\n",
       "Expanded Access                       24\n",
       "Name: study_type, dtype: int64"
      ]
     },
     "execution_count": 20,
     "metadata": {},
     "output_type": "execute_result"
    }
   ],
   "source": [
    "counts=df2[\"study_type\"].value_counts()\n",
    "counts"
   ]
  },
  {
   "cell_type": "markdown",
   "metadata": {},
   "source": [
    "df2"
   ]
  },
  {
   "cell_type": "code",
   "execution_count": null,
   "metadata": {},
   "outputs": [],
   "source": []
  },
  {
   "cell_type": "code",
   "execution_count": 175,
   "metadata": {},
   "outputs": [
    {
     "data": {
      "text/html": [
       "<div>\n",
       "<style scoped>\n",
       "    .dataframe tbody tr th:only-of-type {\n",
       "        vertical-align: middle;\n",
       "    }\n",
       "\n",
       "    .dataframe tbody tr th {\n",
       "        vertical-align: top;\n",
       "    }\n",
       "\n",
       "    .dataframe thead th {\n",
       "        text-align: right;\n",
       "    }\n",
       "</style>\n",
       "<table border=\"1\" class=\"dataframe\">\n",
       "  <thead>\n",
       "    <tr style=\"text-align: right;\">\n",
       "      <th></th>\n",
       "      <th>nct_id</th>\n",
       "      <th>condition</th>\n",
       "      <th>facility_name</th>\n",
       "      <th>city</th>\n",
       "      <th>sampling_method</th>\n",
       "      <th>overall_status</th>\n",
       "      <th>study_type</th>\n",
       "    </tr>\n",
       "  </thead>\n",
       "  <tbody>\n",
       "    <tr>\n",
       "      <th>0</th>\n",
       "      <td>NCT04357457</td>\n",
       "      <td>Covid 19|Hypoxemic Respiratory Failure|</td>\n",
       "      <td>Hospital Pitié-Salpêtrière</td>\n",
       "      <td>Paris</td>\n",
       "      <td>NaN</td>\n",
       "      <td>Recruiting</td>\n",
       "      <td>Interventional</td>\n",
       "    </tr>\n",
       "    <tr>\n",
       "      <th>1</th>\n",
       "      <td>NCT04568005</td>\n",
       "      <td>Lymphedema|</td>\n",
       "      <td>Fatih Sultan Mehmet Training and Research Hosp...</td>\n",
       "      <td>Istanbul</td>\n",
       "      <td>Non-Probability Sample</td>\n",
       "      <td>Completed</td>\n",
       "      <td>Observational [Patient Registry]</td>\n",
       "    </tr>\n",
       "    <tr>\n",
       "      <th>2</th>\n",
       "      <td>NCT04351347</td>\n",
       "      <td>COVID|</td>\n",
       "      <td>Tanta University</td>\n",
       "      <td>Tanta</td>\n",
       "      <td>NaN</td>\n",
       "      <td>Recruiting</td>\n",
       "      <td>Interventional</td>\n",
       "    </tr>\n",
       "    <tr>\n",
       "      <th>3</th>\n",
       "      <td>NCT04389450</td>\n",
       "      <td>COVID|ARDS|</td>\n",
       "      <td>University of California Irvine</td>\n",
       "      <td>Irvine</td>\n",
       "      <td>NaN</td>\n",
       "      <td>Recruiting</td>\n",
       "      <td>Interventional</td>\n",
       "    </tr>\n",
       "    <tr>\n",
       "      <th>4</th>\n",
       "      <td>NCT04298814</td>\n",
       "      <td>COVID-19|Endotracheal Intubation|</td>\n",
       "      <td>Tongji Hospital</td>\n",
       "      <td>Wuhan</td>\n",
       "      <td>Non-Probability Sample</td>\n",
       "      <td>Withdrawn</td>\n",
       "      <td>Observational</td>\n",
       "    </tr>\n",
       "    <tr>\n",
       "      <th>...</th>\n",
       "      <td>...</td>\n",
       "      <td>...</td>\n",
       "      <td>...</td>\n",
       "      <td>...</td>\n",
       "      <td>...</td>\n",
       "      <td>...</td>\n",
       "      <td>...</td>\n",
       "    </tr>\n",
       "    <tr>\n",
       "      <th>3527</th>\n",
       "      <td>NCT04486404</td>\n",
       "      <td>Acute Stress Disorder|</td>\n",
       "      <td>Pontificia Universidad Católica de Chile</td>\n",
       "      <td>Santiago</td>\n",
       "      <td>Non-Probability Sample</td>\n",
       "      <td>Enrolling by invitation</td>\n",
       "      <td>Observational</td>\n",
       "    </tr>\n",
       "    <tr>\n",
       "      <th>3528</th>\n",
       "      <td>NCT04539795</td>\n",
       "      <td>Covid19|</td>\n",
       "      <td>UAB Lung Health Center</td>\n",
       "      <td>Birmingham</td>\n",
       "      <td>NaN</td>\n",
       "      <td>Not yet recruiting</td>\n",
       "      <td>Interventional</td>\n",
       "    </tr>\n",
       "    <tr>\n",
       "      <th>3529</th>\n",
       "      <td>NCT04359264</td>\n",
       "      <td>COVID-19|</td>\n",
       "      <td>Municipality of Assiginack Family Health Team</td>\n",
       "      <td>Assiginack</td>\n",
       "      <td>NaN</td>\n",
       "      <td>Active, not recruiting</td>\n",
       "      <td>Interventional</td>\n",
       "    </tr>\n",
       "    <tr>\n",
       "      <th>3530</th>\n",
       "      <td>NCT04402853</td>\n",
       "      <td>Sars-CoV2|Tear|</td>\n",
       "      <td>ASST Sette Laghi</td>\n",
       "      <td>Varese</td>\n",
       "      <td>Probability Sample</td>\n",
       "      <td>Completed</td>\n",
       "      <td>Observational</td>\n",
       "    </tr>\n",
       "    <tr>\n",
       "      <th>3531</th>\n",
       "      <td>NCT04375748</td>\n",
       "      <td>Acute Myocarditis|</td>\n",
       "      <td>CHU de TOULOUSE</td>\n",
       "      <td>Toulouse</td>\n",
       "      <td>Non-Probability Sample</td>\n",
       "      <td>Recruiting</td>\n",
       "      <td>Observational</td>\n",
       "    </tr>\n",
       "  </tbody>\n",
       "</table>\n",
       "<p>3532 rows × 7 columns</p>\n",
       "</div>"
      ],
      "text/plain": [
       "           nct_id                                condition  \\\n",
       "0     NCT04357457  Covid 19|Hypoxemic Respiratory Failure|   \n",
       "1     NCT04568005                              Lymphedema|   \n",
       "2     NCT04351347                                   COVID|   \n",
       "3     NCT04389450                              COVID|ARDS|   \n",
       "4     NCT04298814        COVID-19|Endotracheal Intubation|   \n",
       "...           ...                                      ...   \n",
       "3527  NCT04486404                   Acute Stress Disorder|   \n",
       "3528  NCT04539795                                 Covid19|   \n",
       "3529  NCT04359264                                COVID-19|   \n",
       "3530  NCT04402853                          Sars-CoV2|Tear|   \n",
       "3531  NCT04375748                       Acute Myocarditis|   \n",
       "\n",
       "                                          facility_name        city  \\\n",
       "0                            Hospital Pitié-Salpêtrière       Paris   \n",
       "1     Fatih Sultan Mehmet Training and Research Hosp...    Istanbul   \n",
       "2                                      Tanta University       Tanta   \n",
       "3                       University of California Irvine      Irvine   \n",
       "4                                       Tongji Hospital       Wuhan   \n",
       "...                                                 ...         ...   \n",
       "3527           Pontificia Universidad Católica de Chile    Santiago   \n",
       "3528                             UAB Lung Health Center  Birmingham   \n",
       "3529      Municipality of Assiginack Family Health Team  Assiginack   \n",
       "3530                                   ASST Sette Laghi      Varese   \n",
       "3531                                    CHU de TOULOUSE    Toulouse   \n",
       "\n",
       "             sampling_method           overall_status  \\\n",
       "0                        NaN               Recruiting   \n",
       "1     Non-Probability Sample                Completed   \n",
       "2                        NaN               Recruiting   \n",
       "3                        NaN               Recruiting   \n",
       "4     Non-Probability Sample                Withdrawn   \n",
       "...                      ...                      ...   \n",
       "3527  Non-Probability Sample  Enrolling by invitation   \n",
       "3528                     NaN       Not yet recruiting   \n",
       "3529                     NaN   Active, not recruiting   \n",
       "3530      Probability Sample                Completed   \n",
       "3531  Non-Probability Sample               Recruiting   \n",
       "\n",
       "                            study_type  \n",
       "0                       Interventional  \n",
       "1     Observational [Patient Registry]  \n",
       "2                       Interventional  \n",
       "3                       Interventional  \n",
       "4                        Observational  \n",
       "...                                ...  \n",
       "3527                     Observational  \n",
       "3528                    Interventional  \n",
       "3529                    Interventional  \n",
       "3530                     Observational  \n",
       "3531                     Observational  \n",
       "\n",
       "[3532 rows x 7 columns]"
      ]
     },
     "execution_count": 175,
     "metadata": {},
     "output_type": "execute_result"
    }
   ],
   "source": [
    "df2"
   ]
  },
  {
   "cell_type": "code",
   "execution_count": null,
   "metadata": {},
   "outputs": [],
   "source": []
  },
  {
   "cell_type": "code",
   "execution_count": null,
   "metadata": {},
   "outputs": [],
   "source": []
  },
  {
   "cell_type": "code",
   "execution_count": null,
   "metadata": {},
   "outputs": [],
   "source": []
  },
  {
   "cell_type": "code",
   "execution_count": 70,
   "metadata": {},
   "outputs": [],
   "source": [
    "def make_studytype():\n",
    "    fig,ax=plt.subplots()\n",
    "    ax.barh(counts.index,counts)\n",
    "    ax.set_title(\"study types\")\n",
    "    ax.set_xlabel(\"No. of studies\")"
   ]
  },
  {
   "cell_type": "code",
   "execution_count": 71,
   "metadata": {},
   "outputs": [
    {
     "data": {
      "image/png": "[encoded data removed]",
      "text/plain": [
       "<Figure size 432x288 with 1 Axes>"
      ]
     },
     "metadata": {
      "needs_background": "light"
     },
     "output_type": "display_data"
    }
   ],
   "source": [
    "make_studytype()"
   ]
  },
  {
   "cell_type": "code",
   "execution_count": null,
   "metadata": {},
   "outputs": [],
   "source": []
  },
  {
   "cell_type": "code",
   "execution_count": null,
   "metadata": {},
   "outputs": [],
   "source": []
  },
  {
   "cell_type": "code",
   "execution_count": null,
   "metadata": {},
   "outputs": [],
   "source": []
  },
  {
   "cell_type": "code",
   "execution_count": 22,
   "metadata": {},
   "outputs": [
    {
     "data": {
      "text/plain": [
       "Interventional                      1998\n",
       "Observational                       1306\n",
       "Observational [Patient Registry]     204\n",
       "Expanded Access                       24\n",
       "Name: study_type, dtype: int64"
      ]
     },
     "execution_count": 22,
     "metadata": {},
     "output_type": "execute_result"
    }
   ],
   "source": []
  },
  {
   "cell_type": "code",
   "execution_count": null,
   "metadata": {},
   "outputs": [],
   "source": []
  },
  {
   "cell_type": "code",
   "execution_count": null,
   "metadata": {},
   "outputs": [],
   "source": []
  },
  {
   "cell_type": "code",
   "execution_count": 153,
   "metadata": {},
   "outputs": [],
   "source": [
    "tester=df\n",
    "tester['condition']=df[\"condition\"].str.lower()\n",
    "#label=tester[\"condition\"].unique()\n",
    "#newdf=tester[tester[x for x in label]"
   ]
  },
  {
   "cell_type": "code",
   "execution_count": 178,
   "metadata": {},
   "outputs": [],
   "source": [
    "combdf=pd.DataFrame()"
   ]
  },
  {
   "cell_type": "code",
   "execution_count": 179,
   "metadata": {},
   "outputs": [],
   "source": [
    "combdf[\"city\"]=df2['city']"
   ]
  },
  {
   "cell_type": "code",
   "execution_count": 24,
   "metadata": {},
   "outputs": [],
   "source": [
    "res=pd.merge(df,df2,on='nct_id')"
   ]
  },
  {
   "cell_type": "code",
   "execution_count": null,
   "metadata": {},
   "outputs": [],
   "source": []
  },
  {
   "cell_type": "code",
   "execution_count": 25,
   "metadata": {},
   "outputs": [],
   "source": [
    "label=res[\"city\"].unique()"
   ]
  },
  {
   "cell_type": "code",
   "execution_count": 27,
   "metadata": {},
   "outputs": [
    {
     "data": {
      "text/plain": [
       "array(['Istanbul', 'Bethesda', nan, 'Winter Park', 'Miami', 'Aurora',\n",
       "       'Palo Alto', 'London', 'Manaus', 'Madison', 'Bishkek', 'Mulhouse',\n",
       "       'Bilbao', 'Denver', 'Praha', 'Colombes', 'Aguascalientes',\n",
       "       'Berlin', 'Birmingham', 'Orlando', 'São Paulo', 'Athens',\n",
       "       'Atlanta', 'New York', 'Jakarta Pusat', 'Pudong', 'Rawalpindi',\n",
       "       'Buenos Aires', 'Lyon', 'Little Rock', 'Montreal', 'Detroit',\n",
       "       'Catanzaro', 'San Lorenzo De El Escorial', 'Saint Louis',\n",
       "       'Boulogne', 'Tehran', 'Milano', 'Paris', 'Amsterdam', 'Roma',\n",
       "       'Oxford', 'Kayseri', 'Zurich', 'Doha', \"Xi'an\", 'Jerusalem',\n",
       "       'Valencia', 'Belo Horizonte', 'Mexico City', 'Lahore',\n",
       "       'Strasbourg', 'Murcia', 'Kuala Lumpur', 'Caen', 'Faro', 'Padova',\n",
       "       'Wenzhou', 'Chengdu', 'Madrid', 'Liverpool', 'Xuzhou', 'Nîmes',\n",
       "       'Duarte', 'Umuahia', 'Valladolid', 'Angers', 'Oslo', 'Pau',\n",
       "       'Assiut', 'San Francisco', 'Konya', 'Seoul', 'Erzincan', 'Cairo',\n",
       "       'General Juan Madariaga', 'Singapore', 'Moscow', 'Mission Viejo',\n",
       "       'Amiens', 'Fayoum', 'Milwaukee', 'Zürich', 'Falls Church',\n",
       "       'Szeged', 'Herning', 'Baltimore', 'New Delhi', 'Morgantown',\n",
       "       'Great Neck', 'Hamburg', 'Chisinau', 'Salt Lake City', 'Pécs',\n",
       "       'Bobo-Dioulasso', 'Vienna', 'Saint-Étienne', 'Holon',\n",
       "       'Helsingborg', 'Nice', 'Providence', 'Monaco', 'Ventura',\n",
       "       'Columbia', 'Cypress', 'Aix-en-Provence', 'Liestal', 'Toluca',\n",
       "       'Melbourne', 'Edmonton', 'Washington', 'Maastricht', 'Berkeley',\n",
       "       \"Ivano-Frankivs'k\", 'Sevilla', 'Calgary', 'Fort Collins',\n",
       "       'Sabadell', 'Decatur', 'Boston', 'Lille', 'Marseille',\n",
       "       'Bento Gonçalves', 'Mansoura', 'Wuhan', 'Houston', 'Le Mans',\n",
       "       'Terrassa', 'Glasgow', 'Montréal', 'Hackensack', 'Guangzhou',\n",
       "       'Erlangen', 'İzmirli', 'Chicago', 'Ixtapaluca', 'Hasa', 'Palermo',\n",
       "       'Harrow', 'Ferrol', 'Barcelona', 'Jerez de la Frontera', 'Swansea',\n",
       "       'Beuvry', 'Montpellier', 'Islamabad', 'Dammam', 'Sao Paulo',\n",
       "       'Brussels', 'Shreveport', 'Münster', 'Tyumen', 'Puebla', 'Reus',\n",
       "       'Ancona', 'Cracovia', 'Research Triangle Park', 'Shanghai',\n",
       "       'Manchester', 'Binzhou', 'Beijing', 'Foster City', 'Celje',\n",
       "       'Weston', 'Lisbon', 'Gillingham', 'Cagliari', 'Västerås',\n",
       "       'Romford', 'Bangkok Noi', 'Jacksonville', 'Wolverhampton',\n",
       "       'Toulouse', 'Rosario', 'Gent', 'Brétigny-sur-Orge', 'Tanta',\n",
       "       'Santiago', 'Prato', 'Ribeirão Preto', 'Garches', 'Bannu', 'Tunis',\n",
       "       'Ahmadabad', 'New Brunswick', 'Cooperstown', 'Monterrey',\n",
       "       'Makhachkala', 'Herlev', 'Taizhou', 'Nimes', 'Reims', 'Oakland',\n",
       "       'Zabrze', 'Irvine', 'Rome', 'Chang chun', 'Meldola', 'Los Angeles',\n",
       "       'Tucson', 'Tempe', 'Izmir', 'Manhasset', 'Portsmouth', 'Bologna',\n",
       "       'Philadelphia', 'Ciudad Autonoma de Buenos Aire',\n",
       "       'Le Puy-en-Velay', 'Rochester', 'Sofia', 'Farmington', 'Conakry',\n",
       "       'La Rochelle', 'Scottsdale', 'Copenhagen', 'Hong Kong',\n",
       "       'Cambridge', 'Eskisehir', 'Bobigny', 'Maadi', 'Besançon',\n",
       "       'Karachi', 'Johor Bahru', 'Charlotte', 'Vandoeuvre-les-Nancy',\n",
       "       'Boadilla Del Monte', 'Northridge', 'Salzburg', 'Portland',\n",
       "       'Colorado Springs', 'Mexico city', 'Fort Lauderdale', 'Fullerton',\n",
       "       'Innsbruck', 'Hasselt', 'Chertsey', 'Uppsala', 'Giza', 'Guayaquil',\n",
       "       'Badalona', 'Falun', 'Canberra', 'Stanford', 'Oviedo', 'Cañuelas',\n",
       "       'Belfast', 'Minsk', 'Gloucester', 'Bruxelles', 'Luxembourg',\n",
       "       'Haifa', 'Ramat-Gan', 'Argenteuil', 'Botucatu', 'Verona',\n",
       "       'Campinas', 'Nancy', 'Pittsburgh', 'Québec', 'Brugge', 'Ann Arbor',\n",
       "       'Cannes', 'Rogers', 'Córdoba', 'Albertson', 'Dubai',\n",
       "       'Clermont-Ferrand', 'Tuebingen', 'Limoges', 'Ferrara',\n",
       "       'Gainesville', 'Hillerød', 'Neuilly-sur-Marne', 'Bydgoszcz',\n",
       "       'Toronto', 'San Diego', 'Hvidovre', 'Winston-Salem', 'Nanjing',\n",
       "       'Seattle', 'Louisville', 'Dhaka', 'Le Plessis-Robinson',\n",
       "       'Suresnes', 'Aarhus', 'Vandœuvre-lès-Nancy', 'Durham',\n",
       "       'University', 'Faisalābad', 'Camperdown', 'Phoenix', 'Korolev',\n",
       "       'Lund', 'Fayetteville', 'Stockholm', 'Sanabis', 'Bradenton',\n",
       "       'Nashville', 'Basel', 'Cali', 'Aalborg', 'A Coruña', 'San Donato',\n",
       "       'Rennes', 'Columbus', 'Lexington', 'Lørenskog', 'Bangalore',\n",
       "       'Greensboro', 'Kiev', 'Abbeville', 'Pisa', 'Bron', 'Bucharest',\n",
       "       'Brasilia', 'Medellín', 'Freiburg', 'Giessen', 'Koltsovo',\n",
       "       'Marousi', 'Shijiazhuang', 'Albuquerque', 'Clamart', 'Creil',\n",
       "       'Sugar Land', 'Melaka Tengah', 'Salvador', 'Modena', 'New Haven',\n",
       "       'Reykjavík', 'Chennai', 'Cornellà De Llobregat', 'Tubingen',\n",
       "       'Rouen', \"Cox's Bazar\", 'Pamplona', 'Pilar', 'Augusta', 'Aalst',\n",
       "       'Umeå', 'La Tronche', 'Galway', 'Nottingham', 'Barnaul', 'Milan',\n",
       "       'Chapel Hill', 'Poitiers', 'Chongqing', 'Osaka', 'Bordeaux',\n",
       "       'Linköping', 'Bremen', 'Beheira', 'Fribourg', 'Hangzhou', 'Halle',\n",
       "       'Ottawa', 'Jakarta', 'Rio De Janeiro', 'Thessaloníki',\n",
       "       'Providencia', 'Recife', 'Vancouver', 'Monastir', 'La Mesa',\n",
       "       'Geneva', 'Alexandroupolis', 'Monza', 'Stony Brook', 'Akyurt',\n",
       "       'Bellinzona', 'Port Orange', 'Pavia', 'Richmond', 'Rostock',\n",
       "       'Bergamo', 'Utrecht', 'Bursa', 'Kansas City', 'Villanova',\n",
       "       'San Luis Rio Colorado', 'El Paso', 'Cottingham',\n",
       "       'Presidente Derqui', 'Saint Petersburg', 'Zagazig', 'Cincinnati',\n",
       "       'Mobile', 'Curug', 'Kinshasa', 'Treviso', 'Leicester',\n",
       "       'Alexandria', 'Baghdad', 'Austin', 'Sungai Buloh', 'Overland Park',\n",
       "       'Sydney', 'Shibīn Al Kawm', 'Nantes', 'Mexico, City', 'Bangkok',\n",
       "       'Kermanshah', 'Jaipur', 'Málaga', 'Copenhagen NV', 'Poznan',\n",
       "       'Feira De Santana', 'Gothenburg', 'Ciudad de México', 'Jiangsu',\n",
       "       'München', 'Dallas', 'Ciudad Autónoma de Buenos Aires', 'Dalian',\n",
       "       'Creteil', 'Pagani', 'Lincoln', 'Orange', 'Hot Springs', 'Brest',\n",
       "       'La Jolla', 'Mantes la Jolie', 'Charlottesville', 'Kaluga',\n",
       "       'Kuwait City', 'Bissau', 'Cape Town', 'Winnipeg', 'Shenzhen',\n",
       "       'Randwick', 'Wichita', 'Le Kremlin-Bicêtre', 'Bakersfield',\n",
       "       'Kraków', 'Khartoum', 'Pierre-Bénite', 'Agen', 'Cesena', 'Warsaw',\n",
       "       'Fuzhou', 'Taipei', 'Ulm', 'Gijón', 'Latina', 'Graz', 'Ashdod',\n",
       "       'Riyadh', 'Usak', 'Minneapolis', 'Rockville',\n",
       "       \"L'Hospitalet De Llobregat\", 'Edinburgh', 'Granada',\n",
       "       'Altamonte Springs', 'Almere', 'Hellerup', 'Victorville',\n",
       "       'Danderyd', 'Varese', 'Antibes', 'Honolulu',\n",
       "       'Ciudad Autonoma de Buenos Aires', 'Skien', 'Tampa', 'Worthing',\n",
       "       'Yıldırım', 'Savannah', 'Rotterdam', 'West Haven', 'Palm Springs',\n",
       "       'Krasnodar', 'Anaheim', 'Lima', 'Hartford', 'Tomsk', 'Huizhou',\n",
       "       'Leeds', 'Créteil', 'Fasa', 'South Pasadena', 's-Hertogenbosch',\n",
       "       'Porto Alegre', 'Bay Shore', 'Huddinge', 'Coral Gables',\n",
       "       'Passo Fundo', 'Metz', 'Shiyan', 'Johannesburg', 'Cremona',\n",
       "       'Getafe', 'Göttingen', 'Tourcoing', 'Plymouth', 'Akron',\n",
       "       'Southampton', 'San Isidro', 'Düsseldorf', 'Curitiba', 'Bagdad',\n",
       "       'Newark', 'Tlemcen', 'Aachen', 'Damanhūr', 'Chula Vista',\n",
       "       'Le Chesnay', 'Daejeon', 'Natchitoches', 'Miami Beach', 'Fuyang',\n",
       "       'Orbassano', 'Grenoble', 'Viña Del Mar', 'San Martin',\n",
       "       'Huntersville', 'Rozzano', 'Gilbert', 'Huaian', 'Mekelle',\n",
       "       'Guadalajara', 'Napoli', 'Ciudad de mexico', 'Maceió', 'Mesa',\n",
       "       'Bahcelievler', 'Heidelberg', 'Munich', 'Memphis', 'Jeddah',\n",
       "       'Suita', 'Hanoi', 'Parma', 'Florence', 'Uden', 'Sebastopol',\n",
       "       'Mumbai', 'New Orleans', 'Haidari/Athens', 'Lyon 4', 'Lamia',\n",
       "       'Buffalo', 'San Donato Milanese', 'Birgunj', 'Kitchener', 'Jinan',\n",
       "       'Cleveland', 'Hamilton', 'Callao', 'Cluj-Napoca', 'Bern', 'Tours',\n",
       "       'Newmarket', 'North Bethesda', 'Newport Beach', 'South Miami',\n",
       "       'Long Beach', 'Broomfield', 'Naples', 'Daytona Beach', 'Bogota',\n",
       "       'Thessaloniki', 'Mexico', 'Saltillo', 'Trabzon', 'Siena', 'Liège',\n",
       "       'Antwerpen', 'Kyiv', 'Bastia', 'Millsboro', 'Kingswood', 'Cayenne',\n",
       "       'Fresno', 'Sheffield', 'New Hyde Park', 'Prague', 'San José',\n",
       "       'Preston', 'Smolensk', 'Bergisch Gladbach',\n",
       "       'La Guerche de Bretagne', 'North York', 'Qinā', 'Amman',\n",
       "       'Ramat Gan', 'Sousse', 'Oklahoma City', 'Genova', 'Sari', 'Bronx',\n",
       "       'Manama', 'Bagno A Ripoli', 'Sarajevo', 'Genk', 'Northglenn',\n",
       "       'Mashhad', 'Al Madinah', 'Dax', 'Coventry', 'Raipur', 'Dijon',\n",
       "       \"L'Hospitalet de Llobregat\", 'Piscataway', 'Belfort', 'Mecca',\n",
       "       'Lausanne', 'Fukuoka-shi', 'Ghent', 'Torrance', 'Subang Jaya',\n",
       "       'Bruce', 'Royal Oak', 'Orléans', 'Castellón De La Plana',\n",
       "       'Sherbrooke', 'Bloemfontein', 'Zingonia', 'Stanmore', 'Assiginack',\n",
       "       'Xiangtan', 'Ankara', 'Groningen', 'Halifax', 'Jodhpur', 'Minya',\n",
       "       'Ottignies', 'Den Bosch', 'São Carlos', 'Rio de Janeiro',\n",
       "       'Bourgoin-Jallieu', 'Zhengzhou', 'Livingston', 'Lafayette',\n",
       "       'Boulogne-Billancourt', 'Xinxiang', 'Ashton-under-Lyne',\n",
       "       'İstanbul', 'Ghaziabad', 'Reggio Emilia', 'Cheongju-si',\n",
       "       'Brooklyn', 'Strassen', 'Basingstoke', 'Caluire-et-Cuire',\n",
       "       'Saint-Denis', 'Montélimar', 'Zerifin', 'Park Ridge', 'Bayreuth',\n",
       "       'Murray', 'Leuven', 'Banhā', 'Galdakao', 'Omaha', 'Helsinki',\n",
       "       'Arras', 'Torino', 'Iowa City', 'Maia', 'Solingen', 'İzmir',\n",
       "       'Abidjan', 'Jinhua', 'Hospitalet de Llobregat', 'Bogotá',\n",
       "       'Wrocław', 'Toulon', 'Jackson', 'Kuwait', 'Antony', 'Besancon',\n",
       "       'Piedecuesta', 'Elche', 'Casale Monferrato', 'Guastalla', 'Helwan',\n",
       "       'Gvardeyskiy', 'Kampala', 'Makassar', 'Chittagong', 'Genoa',\n",
       "       'New Smyrna Beach', 'Hankou', 'Taoyuan City', 'Lynwood', 'Antalya',\n",
       "       'Kannapolis', 'Pontoise', 'Renqiu', 'Brussel', 'Novosibirsk',\n",
       "       'Victoria', 'Hershey', 'Mountain View', 'Charleston', 'Mantova',\n",
       "       'Edison', 'Arendal', 'Sutton', 'Ibiza', 'Amersfoort', 'Kazan',\n",
       "       'Draper', 'Skopje', 'Grenoble Cedex 9', 'Sohag', 'Roslyn', 'Køge',\n",
       "       'Ariana', 'Aliso Viejo', 'Novara', 'Winterthur', 'Münsterlingen',\n",
       "       'Paisley', 'Bradford', 'México', 'New delhi', 'Sunnyvale',\n",
       "       'Kampar', 'Nedlands', 'Daegu', 'Trieste', 'Middletown', 'Derby',\n",
       "       'Sioux Falls', 'Celaya', 'Abbottābād', 'Bergen', 'Ranica',\n",
       "       'Sleepy Hollow', 'Kowloon Tong', 'Balingen', 'Sha Tin',\n",
       "       'Abu Dhabi', 'Cold Spring Harbor', 'Segrate', 'Quebec', 'Nanchang',\n",
       "       'SAo Paulo', 'Ecully', 'Zárate', 'Bonn', 'Fukuoka', 'Cologne',\n",
       "       'Bari', 'Seongnam-si', 'Majadahonda', 'Massa Lombarda', 'Kingman',\n",
       "       'Marburg', 'Jāmshoro', 'Taunton', 'Petah tikva', 'Poznań',\n",
       "       'Culver City', 'Basking Ridge', 'Canakkale', 'Leon', 'Al Minyā',\n",
       "       'Peoria', 'Poissy', 'Srikakulam', 'Fairhope', 'La Coruña',\n",
       "       'Taichung', 'Caba', 'Banbury', 'Turku', \"Be'er Sheva\",\n",
       "       'Greifswald', 'Idaho Falls', 'Chieti', 'Brescia', 'Brindisi',\n",
       "       'Lodi', 'Frederick', 'DeLand', 'Alessandria', 'New Fairfield',\n",
       "       'Juarez', \"Coeur d'Alene\", 'Cheboksary', 'Hadera', 'Adelaide',\n",
       "       'Petach Tikva', 'Zagreb', 'Abuja', 'Odense',\n",
       "       'VANDOEUVRE LES Nancy', 'Astana', 'Ile-Ife', 'Paterna', 'Drammen',\n",
       "       'Udine', 'Zaragoza', 'San Antonio', 'Belleville', 'Anniston',\n",
       "       'Manila', 'Burr Ridge', 'Issy-les-Moulineaux', 'Sant Joan Despí',\n",
       "       'Bandung', 'Aarau', 'Malmö', 'Doncaster', \"L'Aquila\", 'Loma Linda',\n",
       "       'Lowell', 'Toledo', 'Chandigarh', 'Belém', '¨Paris',\n",
       "       'Castiglione Cosentino', 'Pozzilli', 'Seville', 'Antwerp',\n",
       "       'Sacramento', 'Allschwil', 'Dhahran', 'Fortaleza', 'Kissimmee',\n",
       "       'Hull', 'Samara', 'Beirut', 'Fuenlabrada', 'Christchurch',\n",
       "       'Huelva', 'Mataró', 'Worcester', 'Gelsenkirchen', 'Villejuif',\n",
       "       'Saskatoon', 'Hjørring', 'Náfplio', 'Brampton', 'Aulnay-sous-Bois',\n",
       "       'Palma de Mallorca', 'Qena', 'Hollywood', 'Afyonkarahisar',\n",
       "       'Tegucigalpa', 'Ar Rass', 'Frankfurt', 'Ekaterinburg', 'Novi',\n",
       "       'Jena', 'Huixquilucan', 'Latisana', 'Norwich', 'San Juan',\n",
       "       'Brisbane', 'Ramadi', 'Aurangabad', 'Salamanca', 'Delhi',\n",
       "       'Medellin', 'Jette', 'Gdańsk', 'Boussu', 'Baton Rouge',\n",
       "       'Boca Raton', 'Negrar', 'Greenville', 'Evanston', 'Tübingen',\n",
       "       'Etampes', 'Villeneuve St Georges', 'Freyming-Merlebach', 'Sylmar',\n",
       "       'Jesús María', 'Florencio Varela', 'Lillestrom', 'Leòn', 'Iasi',\n",
       "       'Roubaix', 'Nicosia', 'Darlinghurst', 'Vaals', 'Kisumu',\n",
       "       'Santiago De Los Caballeros', 'Tríkala', 'Bad Aibling', 'Kingston',\n",
       "       'Essen', 'Stains', 'Palma De Mallorca', 'Zumpango',\n",
       "       'Ciudad de Buenos Aires', 'Caringbah', 'Santander', 'Mexico DF',\n",
       "       'Budapest', 'Guanzhou', 'Gießen', 'Tijuana', 'Mineola',\n",
       "       'Bandar Tun Razak', 'Visakhapatnam', 'Albacete', 'Lancaster',\n",
       "       'Rize', 'Quimper', 'Alcalá De Henares', 'Jingzhou', 'Dakar',\n",
       "       'Corvallis', 'Ansan', 'Kigali', 'Stevensville', 'Burnaby',\n",
       "       'Huntsville', 'Port Said', 'Bondy', 'Brunswick', 'Oceanside',\n",
       "       'Batesville', 'León', 'Girona', 'Ljubljana', 'Marietta', 'Ibadan',\n",
       "       'Pessac', 'Dhaka-1000', 'Laredo', 'Nijmegen', 'Herston', 'Serra',\n",
       "       'Zhuhai', 'Rio Branco', 'Duesseldorf', 'Ludwigshafen',\n",
       "       'Pierre-Bénite cedex', 'Damietta', 'Corrientes'], dtype=object)"
      ]
     },
     "execution_count": 27,
     "metadata": {},
     "output_type": "execute_result"
    }
   ],
   "source": [
    "label"
   ]
  },
  {
   "cell_type": "code",
   "execution_count": null,
   "metadata": {},
   "outputs": [],
   "source": []
  },
  {
   "cell_type": "code",
   "execution_count": null,
   "metadata": {},
   "outputs": [],
   "source": []
  },
  {
   "cell_type": "code",
   "execution_count": 184,
   "metadata": {},
   "outputs": [
    {
     "data": {
      "text/html": [
       "<div>\n",
       "<style scoped>\n",
       "    .dataframe tbody tr th:only-of-type {\n",
       "        vertical-align: middle;\n",
       "    }\n",
       "\n",
       "    .dataframe tbody tr th {\n",
       "        vertical-align: top;\n",
       "    }\n",
       "\n",
       "    .dataframe thead th {\n",
       "        text-align: right;\n",
       "    }\n",
       "</style>\n",
       "<table border=\"1\" class=\"dataframe\">\n",
       "  <thead>\n",
       "    <tr style=\"text-align: right;\">\n",
       "      <th></th>\n",
       "      <th>nct_id</th>\n",
       "      <th>overall_status_x</th>\n",
       "      <th>start_date</th>\n",
       "      <th>completion_date</th>\n",
       "      <th>condition_x</th>\n",
       "      <th>Study design info</th>\n",
       "      <th>eligibility</th>\n",
       "      <th>has_expanded_access</th>\n",
       "      <th>enrollment</th>\n",
       "      <th>month</th>\n",
       "      <th>sum</th>\n",
       "      <th>counts</th>\n",
       "      <th>condition_y</th>\n",
       "      <th>facility_name</th>\n",
       "      <th>city</th>\n",
       "      <th>sampling_method</th>\n",
       "      <th>overall_status_y</th>\n",
       "      <th>study_type</th>\n",
       "    </tr>\n",
       "  </thead>\n",
       "  <tbody>\n",
       "    <tr>\n",
       "      <th>0</th>\n",
       "      <td>NCT04453566</td>\n",
       "      <td>Recruiting</td>\n",
       "      <td>2020-05-27</td>\n",
       "      <td>2020-12-01</td>\n",
       "      <td>covid-19,life satisfaction,anxiety,mental heal...</td>\n",
       "      <td>Other,Retrospective</td>\n",
       "      <td>sampling_method:Probability Sample,gender:All,...</td>\n",
       "      <td>No</td>\n",
       "      <td>120.0</td>\n",
       "      <td>5.0</td>\n",
       "      <td>COVID-19,Lung Infection</td>\n",
       "      <td>NaN</td>\n",
       "      <td>COVID-19|Life Satisfaction|Anxiety|Mental Heal...</td>\n",
       "      <td>Uskudar University</td>\n",
       "      <td>Istanbul</td>\n",
       "      <td>Probability Sample</td>\n",
       "      <td>Recruiting</td>\n",
       "      <td>Observational</td>\n",
       "    </tr>\n",
       "    <tr>\n",
       "      <th>1</th>\n",
       "      <td>NCT04403386</td>\n",
       "      <td>Recruiting</td>\n",
       "      <td>2020-06-01</td>\n",
       "      <td>2022-05-31</td>\n",
       "      <td>covid-19</td>\n",
       "      <td>Cohort,Prospective</td>\n",
       "      <td>sampling_method:Non-Probability Sample,gender:...</td>\n",
       "      <td>No</td>\n",
       "      <td>200.0</td>\n",
       "      <td>6.0</td>\n",
       "      <td>COVID-19,Lung Infection</td>\n",
       "      <td>NaN</td>\n",
       "      <td>COVID-19|</td>\n",
       "      <td>National Institutes of Health Clinical Center</td>\n",
       "      <td>Bethesda</td>\n",
       "      <td>Non-Probability Sample</td>\n",
       "      <td>Recruiting</td>\n",
       "      <td>Observational</td>\n",
       "    </tr>\n",
       "    <tr>\n",
       "      <th>2</th>\n",
       "      <td>NCT04526977</td>\n",
       "      <td>Not yet recruiting</td>\n",
       "      <td>2020-09-01</td>\n",
       "      <td>2021-09-30</td>\n",
       "      <td>covid19,immune suppression,hiv-1-infection</td>\n",
       "      <td>Case-Control,Cross-Sectional</td>\n",
       "      <td>sampling_method:Non-Probability Sample,gender:...</td>\n",
       "      <td>No</td>\n",
       "      <td>90.0</td>\n",
       "      <td>9.0</td>\n",
       "      <td>COVID-19,Lung Infection</td>\n",
       "      <td>NaN</td>\n",
       "      <td>Covid19|Immune Suppression|HIV-1-infection|</td>\n",
       "      <td>NaN</td>\n",
       "      <td>NaN</td>\n",
       "      <td>Non-Probability Sample</td>\n",
       "      <td>Not yet recruiting</td>\n",
       "      <td>Observational</td>\n",
       "    </tr>\n",
       "    <tr>\n",
       "      <th>3</th>\n",
       "      <td>NCT04561102</td>\n",
       "      <td>Enrolling by invitation</td>\n",
       "      <td>2020-09-11</td>\n",
       "      <td>2020-12-31</td>\n",
       "      <td>sars-cov-2</td>\n",
       "      <td>Case-Only,Prospective</td>\n",
       "      <td>sampling_method:Non-Probability Sample,gender:...</td>\n",
       "      <td>No</td>\n",
       "      <td>2500.0</td>\n",
       "      <td>9.0</td>\n",
       "      <td>COVID-19,Lung Infection</td>\n",
       "      <td>NaN</td>\n",
       "      <td>SARS-CoV-2|</td>\n",
       "      <td>Rollins College Alfonds Sports Center</td>\n",
       "      <td>Winter Park</td>\n",
       "      <td>Non-Probability Sample</td>\n",
       "      <td>Enrolling by invitation</td>\n",
       "      <td>Observational</td>\n",
       "    </tr>\n",
       "    <tr>\n",
       "      <th>4</th>\n",
       "      <td>NCT04375735</td>\n",
       "      <td>Not yet recruiting</td>\n",
       "      <td>2020-07-01</td>\n",
       "      <td>2021-07-01</td>\n",
       "      <td>ards, human,covid-19</td>\n",
       "      <td>Randomized,Parallel Assignment,Patients will b...</td>\n",
       "      <td>gender:All,Min Age:18 Years,Max Age:N/A</td>\n",
       "      <td>No</td>\n",
       "      <td>20.0</td>\n",
       "      <td>7.0</td>\n",
       "      <td>COVID-19,Lung Infection</td>\n",
       "      <td>NaN</td>\n",
       "      <td>ARDS, Human|COVID-19|</td>\n",
       "      <td>NaN</td>\n",
       "      <td>NaN</td>\n",
       "      <td>NaN</td>\n",
       "      <td>Not yet recruiting</td>\n",
       "      <td>Interventional</td>\n",
       "    </tr>\n",
       "    <tr>\n",
       "      <th>...</th>\n",
       "      <td>...</td>\n",
       "      <td>...</td>\n",
       "      <td>...</td>\n",
       "      <td>...</td>\n",
       "      <td>...</td>\n",
       "      <td>...</td>\n",
       "      <td>...</td>\n",
       "      <td>...</td>\n",
       "      <td>...</td>\n",
       "      <td>...</td>\n",
       "      <td>...</td>\n",
       "      <td>...</td>\n",
       "      <td>...</td>\n",
       "      <td>...</td>\n",
       "      <td>...</td>\n",
       "      <td>...</td>\n",
       "      <td>...</td>\n",
       "      <td>...</td>\n",
       "    </tr>\n",
       "    <tr>\n",
       "      <th>3523</th>\n",
       "      <td>NCT04378803</td>\n",
       "      <td>Completed</td>\n",
       "      <td>2020-05-13</td>\n",
       "      <td>2020-08-04</td>\n",
       "      <td>well aging</td>\n",
       "      <td>Randomized,Crossover Assignment,The wait-list ...</td>\n",
       "      <td>gender:All,Min Age:60 Years,Max Age:95 Years</td>\n",
       "      <td>No</td>\n",
       "      <td>53.0</td>\n",
       "      <td>5.0</td>\n",
       "      <td>COVID-19,Lung Infection</td>\n",
       "      <td>NaN</td>\n",
       "      <td>Well Aging|</td>\n",
       "      <td>University of Miami</td>\n",
       "      <td>Coral Gables</td>\n",
       "      <td>NaN</td>\n",
       "      <td>Completed</td>\n",
       "      <td>Interventional</td>\n",
       "    </tr>\n",
       "    <tr>\n",
       "      <th>3524</th>\n",
       "      <td>NCT04352634</td>\n",
       "      <td>Recruiting</td>\n",
       "      <td>2020-04-26</td>\n",
       "      <td>2021-12-31</td>\n",
       "      <td>covid-19,mental health disorder,stress disorde...</td>\n",
       "      <td>Cohort,Prospective</td>\n",
       "      <td>sampling_method:Non-Probability Sample,gender:...</td>\n",
       "      <td>No</td>\n",
       "      <td>2000.0</td>\n",
       "      <td>4.0</td>\n",
       "      <td>COVID-19,Lung Infection</td>\n",
       "      <td>NaN</td>\n",
       "      <td>Covid-19|Mental Health Disorder|Stress Disorde...</td>\n",
       "      <td>Columbia University</td>\n",
       "      <td>New York</td>\n",
       "      <td>Non-Probability Sample</td>\n",
       "      <td>Recruiting</td>\n",
       "      <td>Observational</td>\n",
       "    </tr>\n",
       "    <tr>\n",
       "      <th>3525</th>\n",
       "      <td>NCT04356144</td>\n",
       "      <td>Recruiting</td>\n",
       "      <td>2020-04-15</td>\n",
       "      <td>2020-12-01</td>\n",
       "      <td>disseminated intravascular coagulation,critica...</td>\n",
       "      <td>Cohort,Prospective</td>\n",
       "      <td>sampling_method:Non-Probability Sample,gender:...</td>\n",
       "      <td>No</td>\n",
       "      <td>60.0</td>\n",
       "      <td>4.0</td>\n",
       "      <td>COVID-19,Lung Infection</td>\n",
       "      <td>NaN</td>\n",
       "      <td>Disseminated Intravascular Coagulation|Critica...</td>\n",
       "      <td>Medical University Vienna</td>\n",
       "      <td>Vienna</td>\n",
       "      <td>Non-Probability Sample</td>\n",
       "      <td>Recruiting</td>\n",
       "      <td>Observational</td>\n",
       "    </tr>\n",
       "    <tr>\n",
       "      <th>3526</th>\n",
       "      <td>NCT04429763</td>\n",
       "      <td>Not yet recruiting</td>\n",
       "      <td>2020-07-01</td>\n",
       "      <td>2020-11-01</td>\n",
       "      <td>covid-19</td>\n",
       "      <td>Randomized,Parallel Assignment,It will be incl...</td>\n",
       "      <td>gender:All,Min Age:18 Years,Max Age:79 Years</td>\n",
       "      <td>No</td>\n",
       "      <td>30.0</td>\n",
       "      <td>7.0</td>\n",
       "      <td>COVID-19,Lung Infection</td>\n",
       "      <td>NaN</td>\n",
       "      <td>COVID-19|</td>\n",
       "      <td>NaN</td>\n",
       "      <td>NaN</td>\n",
       "      <td>NaN</td>\n",
       "      <td>Not yet recruiting</td>\n",
       "      <td>Interventional</td>\n",
       "    </tr>\n",
       "    <tr>\n",
       "      <th>3527</th>\n",
       "      <td>NCT04529525</td>\n",
       "      <td>Recruiting</td>\n",
       "      <td>2020-08-19</td>\n",
       "      <td>2021-01-31</td>\n",
       "      <td>covid19</td>\n",
       "      <td>Randomized,Parallel Assignment,Treatment,Quadr...</td>\n",
       "      <td>gender:All,Min Age:18 Years,Max Age:N/A</td>\n",
       "      <td>No</td>\n",
       "      <td>500.0</td>\n",
       "      <td>8.0</td>\n",
       "      <td>COVID-19,Lung Infection</td>\n",
       "      <td>NaN</td>\n",
       "      <td>Covid19|</td>\n",
       "      <td>Ministry of Public Health of the Province of C...</td>\n",
       "      <td>Corrientes</td>\n",
       "      <td>NaN</td>\n",
       "      <td>Recruiting</td>\n",
       "      <td>Interventional</td>\n",
       "    </tr>\n",
       "  </tbody>\n",
       "</table>\n",
       "<p>3528 rows × 18 columns</p>\n",
       "</div>"
      ],
      "text/plain": [
       "           nct_id         overall_status_x start_date completion_date  \\\n",
       "0     NCT04453566               Recruiting 2020-05-27      2020-12-01   \n",
       "1     NCT04403386               Recruiting 2020-06-01      2022-05-31   \n",
       "2     NCT04526977       Not yet recruiting 2020-09-01      2021-09-30   \n",
       "3     NCT04561102  Enrolling by invitation 2020-09-11      2020-12-31   \n",
       "4     NCT04375735       Not yet recruiting 2020-07-01      2021-07-01   \n",
       "...           ...                      ...        ...             ...   \n",
       "3523  NCT04378803                Completed 2020-05-13      2020-08-04   \n",
       "3524  NCT04352634               Recruiting 2020-04-26      2021-12-31   \n",
       "3525  NCT04356144               Recruiting 2020-04-15      2020-12-01   \n",
       "3526  NCT04429763       Not yet recruiting 2020-07-01      2020-11-01   \n",
       "3527  NCT04529525               Recruiting 2020-08-19      2021-01-31   \n",
       "\n",
       "                                            condition_x  \\\n",
       "0     covid-19,life satisfaction,anxiety,mental heal...   \n",
       "1                                              covid-19   \n",
       "2            covid19,immune suppression,hiv-1-infection   \n",
       "3                                            sars-cov-2   \n",
       "4                                  ards, human,covid-19   \n",
       "...                                                 ...   \n",
       "3523                                         well aging   \n",
       "3524  covid-19,mental health disorder,stress disorde...   \n",
       "3525  disseminated intravascular coagulation,critica...   \n",
       "3526                                           covid-19   \n",
       "3527                                            covid19   \n",
       "\n",
       "                                      Study design info  \\\n",
       "0                                   Other,Retrospective   \n",
       "1                                    Cohort,Prospective   \n",
       "2                          Case-Control,Cross-Sectional   \n",
       "3                                 Case-Only,Prospective   \n",
       "4     Randomized,Parallel Assignment,Patients will b...   \n",
       "...                                                 ...   \n",
       "3523  Randomized,Crossover Assignment,The wait-list ...   \n",
       "3524                                 Cohort,Prospective   \n",
       "3525                                 Cohort,Prospective   \n",
       "3526  Randomized,Parallel Assignment,It will be incl...   \n",
       "3527  Randomized,Parallel Assignment,Treatment,Quadr...   \n",
       "\n",
       "                                            eligibility has_expanded_access  \\\n",
       "0     sampling_method:Probability Sample,gender:All,...                  No   \n",
       "1     sampling_method:Non-Probability Sample,gender:...                  No   \n",
       "2     sampling_method:Non-Probability Sample,gender:...                  No   \n",
       "3     sampling_method:Non-Probability Sample,gender:...                  No   \n",
       "4               gender:All,Min Age:18 Years,Max Age:N/A                  No   \n",
       "...                                                 ...                 ...   \n",
       "3523       gender:All,Min Age:60 Years,Max Age:95 Years                  No   \n",
       "3524  sampling_method:Non-Probability Sample,gender:...                  No   \n",
       "3525  sampling_method:Non-Probability Sample,gender:...                  No   \n",
       "3526       gender:All,Min Age:18 Years,Max Age:79 Years                  No   \n",
       "3527            gender:All,Min Age:18 Years,Max Age:N/A                  No   \n",
       "\n",
       "      enrollment  month                      sum  counts  \\\n",
       "0          120.0    5.0  COVID-19,Lung Infection     NaN   \n",
       "1          200.0    6.0  COVID-19,Lung Infection     NaN   \n",
       "2           90.0    9.0  COVID-19,Lung Infection     NaN   \n",
       "3         2500.0    9.0  COVID-19,Lung Infection     NaN   \n",
       "4           20.0    7.0  COVID-19,Lung Infection     NaN   \n",
       "...          ...    ...                      ...     ...   \n",
       "3523        53.0    5.0  COVID-19,Lung Infection     NaN   \n",
       "3524      2000.0    4.0  COVID-19,Lung Infection     NaN   \n",
       "3525        60.0    4.0  COVID-19,Lung Infection     NaN   \n",
       "3526        30.0    7.0  COVID-19,Lung Infection     NaN   \n",
       "3527       500.0    8.0  COVID-19,Lung Infection     NaN   \n",
       "\n",
       "                                            condition_y  \\\n",
       "0     COVID-19|Life Satisfaction|Anxiety|Mental Heal...   \n",
       "1                                             COVID-19|   \n",
       "2           Covid19|Immune Suppression|HIV-1-infection|   \n",
       "3                                           SARS-CoV-2|   \n",
       "4                                 ARDS, Human|COVID-19|   \n",
       "...                                                 ...   \n",
       "3523                                        Well Aging|   \n",
       "3524  Covid-19|Mental Health Disorder|Stress Disorde...   \n",
       "3525  Disseminated Intravascular Coagulation|Critica...   \n",
       "3526                                          COVID-19|   \n",
       "3527                                           Covid19|   \n",
       "\n",
       "                                          facility_name          city  \\\n",
       "0                                    Uskudar University      Istanbul   \n",
       "1         National Institutes of Health Clinical Center      Bethesda   \n",
       "2                                                   NaN           NaN   \n",
       "3                 Rollins College Alfonds Sports Center   Winter Park   \n",
       "4                                                   NaN           NaN   \n",
       "...                                                 ...           ...   \n",
       "3523                                University of Miami  Coral Gables   \n",
       "3524                                Columbia University      New York   \n",
       "3525                          Medical University Vienna        Vienna   \n",
       "3526                                                NaN           NaN   \n",
       "3527  Ministry of Public Health of the Province of C...    Corrientes   \n",
       "\n",
       "             sampling_method         overall_status_y      study_type  \n",
       "0         Probability Sample               Recruiting   Observational  \n",
       "1     Non-Probability Sample               Recruiting   Observational  \n",
       "2     Non-Probability Sample       Not yet recruiting   Observational  \n",
       "3     Non-Probability Sample  Enrolling by invitation   Observational  \n",
       "4                        NaN       Not yet recruiting  Interventional  \n",
       "...                      ...                      ...             ...  \n",
       "3523                     NaN                Completed  Interventional  \n",
       "3524  Non-Probability Sample               Recruiting   Observational  \n",
       "3525  Non-Probability Sample               Recruiting   Observational  \n",
       "3526                     NaN       Not yet recruiting  Interventional  \n",
       "3527                     NaN               Recruiting  Interventional  \n",
       "\n",
       "[3528 rows x 18 columns]"
      ]
     },
     "execution_count": 184,
     "metadata": {},
     "output_type": "execute_result"
    }
   ],
   "source": [
    "res"
   ]
  },
  {
   "cell_type": "code",
   "execution_count": 213,
   "metadata": {},
   "outputs": [],
   "source": [
    "city_count=np.zeros(label.shape)\n",
    "\n",
    "c=res[\"study_type\"].unique()\n",
    "for i,x in enumerate(label):\n",
    "    \n",
    "    city_count[i]=res.loc[res['city']==x,'enrollment'].sum()\n",
    "    "
   ]
  },
  {
   "cell_type": "code",
   "execution_count": null,
   "metadata": {},
   "outputs": [],
   "source": []
  },
  {
   "cell_type": "code",
   "execution_count": null,
   "metadata": {},
   "outputs": [],
   "source": []
  },
  {
   "cell_type": "code",
   "execution_count": null,
   "metadata": {},
   "outputs": [],
   "source": []
  },
  {
   "cell_type": "code",
   "execution_count": null,
   "metadata": {},
   "outputs": [],
   "source": []
  },
  {
   "cell_type": "code",
   "execution_count": null,
   "metadata": {},
   "outputs": [],
   "source": []
  },
  {
   "cell_type": "code",
   "execution_count": null,
   "metadata": {},
   "outputs": [],
   "source": []
  },
  {
   "cell_type": "code",
   "execution_count": null,
   "metadata": {},
   "outputs": [],
   "source": []
  },
  {
   "cell_type": "code",
   "execution_count": null,
   "metadata": {},
   "outputs": [],
   "source": []
  },
  {
   "cell_type": "code",
   "execution_count": null,
   "metadata": {},
   "outputs": [],
   "source": []
  },
  {
   "cell_type": "code",
   "execution_count": 204,
   "metadata": {},
   "outputs": [
    {
     "data": {
      "text/plain": [
       "array(['Interventional', 'Observational [Patient Registry]',\n",
       "       'Observational', 'Expanded Access'], dtype=object)"
      ]
     },
     "execution_count": 204,
     "metadata": {},
     "output_type": "execute_result"
    }
   ],
   "source": [
    "df2[\"study_type\"].unique()"
   ]
  },
  {
   "cell_type": "code",
   "execution_count": null,
   "metadata": {},
   "outputs": [],
   "source": []
  },
  {
   "cell_type": "code",
   "execution_count": null,
   "metadata": {},
   "outputs": [],
   "source": []
  },
  {
   "cell_type": "code",
   "execution_count": null,
   "metadata": {},
   "outputs": [],
   "source": []
  },
  {
   "cell_type": "code",
   "execution_count": 37,
   "metadata": {},
   "outputs": [
    {
     "data": {
      "text/plain": [
       "143690.0"
      ]
     },
     "execution_count": 37,
     "metadata": {},
     "output_type": "execute_result"
    }
   ],
   "source": [
    "city_count[1]"
   ]
  },
  {
   "cell_type": "code",
   "execution_count": 88,
   "metadata": {},
   "outputs": [],
   "source": [
    "test9=df"
   ]
  },
  {
   "cell_type": "code",
   "execution_count": null,
   "metadata": {},
   "outputs": [],
   "source": []
  },
  {
   "cell_type": "code",
   "execution_count": 154,
   "metadata": {},
   "outputs": [
    {
     "data": {
      "text/plain": [
       "array(['covid-19,life satisfaction,anxiety,mental health wellness 1,athlete,stress',\n",
       "       'covid-19', 'covid19,immune suppression,hiv-1-infection', ...,\n",
       "       'well aging',\n",
       "       'covid-19,mental health disorder,stress disorder,anxiety,depression,sars-cov-2',\n",
       "       'disseminated intravascular coagulation,critical illness,sars-cov2,viral infection,coagulation disorder, blood,covid19'],\n",
       "      dtype=object)"
      ]
     },
     "execution_count": 154,
     "metadata": {},
     "output_type": "execute_result"
    }
   ],
   "source": [
    "label"
   ]
  },
  {
   "cell_type": "code",
   "execution_count": null,
   "metadata": {},
   "outputs": [],
   "source": []
  },
  {
   "cell_type": "code",
   "execution_count": null,
   "metadata": {},
   "outputs": [],
   "source": []
  },
  {
   "cell_type": "code",
   "execution_count": null,
   "metadata": {},
   "outputs": [],
   "source": []
  },
  {
   "cell_type": "code",
   "execution_count": null,
   "metadata": {},
   "outputs": [],
   "source": []
  },
  {
   "cell_type": "code",
   "execution_count": null,
   "metadata": {},
   "outputs": [],
   "source": []
  },
  {
   "cell_type": "code",
   "execution_count": null,
   "metadata": {},
   "outputs": [],
   "source": []
  },
  {
   "cell_type": "code",
   "execution_count": null,
   "metadata": {},
   "outputs": [],
   "source": []
  },
  {
   "cell_type": "code",
   "execution_count": null,
   "metadata": {},
   "outputs": [],
   "source": []
  },
  {
   "cell_type": "code",
   "execution_count": 116,
   "metadata": {},
   "outputs": [
    {
     "data": {
      "text/plain": [
       "array([1.2000000e+02, 1.4101111e+07, 9.0000000e+01, ..., 5.3000000e+01,\n",
       "       2.0000000e+03, 6.0000000e+01])"
      ]
     },
     "execution_count": 116,
     "metadata": {},
     "output_type": "execute_result"
    }
   ],
   "source": [
    "z"
   ]
  },
  {
   "cell_type": "code",
   "execution_count": 117,
   "metadata": {},
   "outputs": [
    {
     "data": {
      "text/plain": [
       "14101111.0"
      ]
     },
     "execution_count": 117,
     "metadata": {},
     "output_type": "execute_result"
    }
   ],
   "source": [
    "z[1]"
   ]
  },
  {
   "cell_type": "code",
   "execution_count": 118,
   "metadata": {},
   "outputs": [
    {
     "data": {
      "text/plain": [
       "(1849,)"
      ]
     },
     "execution_count": 118,
     "metadata": {},
     "output_type": "execute_result"
    }
   ],
   "source": [
    "z.shape"
   ]
  },
  {
   "cell_type": "code",
   "execution_count": 38,
   "metadata": {},
   "outputs": [],
   "source": [
    "dummy=pd.DataFrame()"
   ]
  },
  {
   "cell_type": "code",
   "execution_count": null,
   "metadata": {},
   "outputs": [],
   "source": []
  },
  {
   "cell_type": "code",
   "execution_count": 39,
   "metadata": {},
   "outputs": [],
   "source": [
    "dummy['city']=[x for x in label]"
   ]
  },
  {
   "cell_type": "code",
   "execution_count": null,
   "metadata": {},
   "outputs": [],
   "source": []
  },
  {
   "cell_type": "code",
   "execution_count": null,
   "metadata": {},
   "outputs": [],
   "source": []
  },
  {
   "cell_type": "code",
   "execution_count": 40,
   "metadata": {},
   "outputs": [],
   "source": [
    "dummy['sum']=[x for x in city_count]"
   ]
  },
  {
   "cell_type": "code",
   "execution_count": 41,
   "metadata": {},
   "outputs": [
    {
     "data": {
      "text/html": [
       "<div>\n",
       "<style scoped>\n",
       "    .dataframe tbody tr th:only-of-type {\n",
       "        vertical-align: middle;\n",
       "    }\n",
       "\n",
       "    .dataframe tbody tr th {\n",
       "        vertical-align: top;\n",
       "    }\n",
       "\n",
       "    .dataframe thead th {\n",
       "        text-align: right;\n",
       "    }\n",
       "</style>\n",
       "<table border=\"1\" class=\"dataframe\">\n",
       "  <thead>\n",
       "    <tr style=\"text-align: right;\">\n",
       "      <th></th>\n",
       "      <th>city</th>\n",
       "      <th>sum</th>\n",
       "    </tr>\n",
       "  </thead>\n",
       "  <tbody>\n",
       "    <tr>\n",
       "      <th>0</th>\n",
       "      <td>Istanbul</td>\n",
       "      <td>119525.0</td>\n",
       "    </tr>\n",
       "    <tr>\n",
       "      <th>1</th>\n",
       "      <td>Bethesda</td>\n",
       "      <td>143690.0</td>\n",
       "    </tr>\n",
       "    <tr>\n",
       "      <th>2</th>\n",
       "      <td>NaN</td>\n",
       "      <td>0.0</td>\n",
       "    </tr>\n",
       "    <tr>\n",
       "      <th>3</th>\n",
       "      <td>Winter Park</td>\n",
       "      <td>2500.0</td>\n",
       "    </tr>\n",
       "    <tr>\n",
       "      <th>4</th>\n",
       "      <td>Miami</td>\n",
       "      <td>2701.0</td>\n",
       "    </tr>\n",
       "    <tr>\n",
       "      <th>...</th>\n",
       "      <td>...</td>\n",
       "      <td>...</td>\n",
       "    </tr>\n",
       "    <tr>\n",
       "      <th>931</th>\n",
       "      <td>Duesseldorf</td>\n",
       "      <td>600.0</td>\n",
       "    </tr>\n",
       "    <tr>\n",
       "      <th>932</th>\n",
       "      <td>Ludwigshafen</td>\n",
       "      <td>4000.0</td>\n",
       "    </tr>\n",
       "    <tr>\n",
       "      <th>933</th>\n",
       "      <td>Pierre-Bénite cedex</td>\n",
       "      <td>550.0</td>\n",
       "    </tr>\n",
       "    <tr>\n",
       "      <th>934</th>\n",
       "      <td>Damietta</td>\n",
       "      <td>111.0</td>\n",
       "    </tr>\n",
       "    <tr>\n",
       "      <th>935</th>\n",
       "      <td>Corrientes</td>\n",
       "      <td>500.0</td>\n",
       "    </tr>\n",
       "  </tbody>\n",
       "</table>\n",
       "<p>936 rows × 2 columns</p>\n",
       "</div>"
      ],
      "text/plain": [
       "                    city       sum\n",
       "0               Istanbul  119525.0\n",
       "1               Bethesda  143690.0\n",
       "2                    NaN       0.0\n",
       "3            Winter Park    2500.0\n",
       "4                  Miami    2701.0\n",
       "..                   ...       ...\n",
       "931          Duesseldorf     600.0\n",
       "932         Ludwigshafen    4000.0\n",
       "933  Pierre-Bénite cedex     550.0\n",
       "934             Damietta     111.0\n",
       "935           Corrientes     500.0\n",
       "\n",
       "[936 rows x 2 columns]"
      ]
     },
     "execution_count": 41,
     "metadata": {},
     "output_type": "execute_result"
    }
   ],
   "source": [
    "dummy"
   ]
  },
  {
   "cell_type": "code",
   "execution_count": 42,
   "metadata": {},
   "outputs": [
    {
     "data": {
      "text/html": [
       "<div>\n",
       "<style scoped>\n",
       "    .dataframe tbody tr th:only-of-type {\n",
       "        vertical-align: middle;\n",
       "    }\n",
       "\n",
       "    .dataframe tbody tr th {\n",
       "        vertical-align: top;\n",
       "    }\n",
       "\n",
       "    .dataframe thead th {\n",
       "        text-align: right;\n",
       "    }\n",
       "</style>\n",
       "<table border=\"1\" class=\"dataframe\">\n",
       "  <thead>\n",
       "    <tr style=\"text-align: right;\">\n",
       "      <th></th>\n",
       "      <th>city</th>\n",
       "      <th>sum</th>\n",
       "    </tr>\n",
       "  </thead>\n",
       "  <tbody>\n",
       "    <tr>\n",
       "      <th>119</th>\n",
       "      <td>Boston</td>\n",
       "      <td>10099982.0</td>\n",
       "    </tr>\n",
       "    <tr>\n",
       "      <th>661</th>\n",
       "      <td>İzmir</td>\n",
       "      <td>7882543.0</td>\n",
       "    </tr>\n",
       "    <tr>\n",
       "      <th>478</th>\n",
       "      <td>Créteil</td>\n",
       "      <td>6008320.0</td>\n",
       "    </tr>\n",
       "    <tr>\n",
       "      <th>271</th>\n",
       "      <td>Hillerød</td>\n",
       "      <td>6000522.0</td>\n",
       "    </tr>\n",
       "    <tr>\n",
       "      <th>126</th>\n",
       "      <td>Le Mans</td>\n",
       "      <td>3000134.0</td>\n",
       "    </tr>\n",
       "  </tbody>\n",
       "</table>\n",
       "</div>"
      ],
      "text/plain": [
       "         city         sum\n",
       "119    Boston  10099982.0\n",
       "661     İzmir   7882543.0\n",
       "478   Créteil   6008320.0\n",
       "271  Hillerød   6000522.0\n",
       "126   Le Mans   3000134.0"
      ]
     },
     "execution_count": 42,
     "metadata": {},
     "output_type": "execute_result"
    }
   ],
   "source": [
    "top5=dummy.sort_values('sum',ascending=False).head(5)\n",
    "top5"
   ]
  },
  {
   "cell_type": "code",
   "execution_count": 53,
   "metadata": {},
   "outputs": [
    {
     "data": {
      "text/html": [
       "<div>\n",
       "<style scoped>\n",
       "    .dataframe tbody tr th:only-of-type {\n",
       "        vertical-align: middle;\n",
       "    }\n",
       "\n",
       "    .dataframe tbody tr th {\n",
       "        vertical-align: top;\n",
       "    }\n",
       "\n",
       "    .dataframe thead th {\n",
       "        text-align: right;\n",
       "    }\n",
       "</style>\n",
       "<table border=\"1\" class=\"dataframe\">\n",
       "  <thead>\n",
       "    <tr style=\"text-align: right;\">\n",
       "      <th></th>\n",
       "      <th>index</th>\n",
       "      <th>city</th>\n",
       "      <th>sum</th>\n",
       "    </tr>\n",
       "  </thead>\n",
       "  <tbody>\n",
       "    <tr>\n",
       "      <th>0</th>\n",
       "      <td>119</td>\n",
       "      <td>Boston</td>\n",
       "      <td>10099982.0</td>\n",
       "    </tr>\n",
       "    <tr>\n",
       "      <th>1</th>\n",
       "      <td>661</td>\n",
       "      <td>İzmir</td>\n",
       "      <td>7882543.0</td>\n",
       "    </tr>\n",
       "    <tr>\n",
       "      <th>2</th>\n",
       "      <td>478</td>\n",
       "      <td>Créteil</td>\n",
       "      <td>6008320.0</td>\n",
       "    </tr>\n",
       "    <tr>\n",
       "      <th>3</th>\n",
       "      <td>271</td>\n",
       "      <td>Hillerød</td>\n",
       "      <td>6000522.0</td>\n",
       "    </tr>\n",
       "    <tr>\n",
       "      <th>4</th>\n",
       "      <td>126</td>\n",
       "      <td>Le Mans</td>\n",
       "      <td>3000134.0</td>\n",
       "    </tr>\n",
       "  </tbody>\n",
       "</table>\n",
       "</div>"
      ],
      "text/plain": [
       "   index      city         sum\n",
       "0    119    Boston  10099982.0\n",
       "1    661     İzmir   7882543.0\n",
       "2    478   Créteil   6008320.0\n",
       "3    271  Hillerød   6000522.0\n",
       "4    126   Le Mans   3000134.0"
      ]
     },
     "execution_count": 53,
     "metadata": {},
     "output_type": "execute_result"
    }
   ],
   "source": [
    "top5.reset_index()"
   ]
  },
  {
   "cell_type": "code",
   "execution_count": null,
   "metadata": {},
   "outputs": [],
   "source": []
  },
  {
   "cell_type": "code",
   "execution_count": null,
   "metadata": {},
   "outputs": [],
   "source": []
  },
  {
   "cell_type": "code",
   "execution_count": 55,
   "metadata": {},
   "outputs": [
    {
     "data": {
      "text/plain": [
       "10099982.0"
      ]
     },
     "execution_count": 55,
     "metadata": {},
     "output_type": "execute_result"
    }
   ],
   "source": [
    "top5['sum'].max()"
   ]
  },
  {
   "cell_type": "code",
   "execution_count": 56,
   "metadata": {},
   "outputs": [
    {
     "data": {
      "text/html": [
       "<div>\n",
       "<style scoped>\n",
       "    .dataframe tbody tr th:only-of-type {\n",
       "        vertical-align: middle;\n",
       "    }\n",
       "\n",
       "    .dataframe tbody tr th {\n",
       "        vertical-align: top;\n",
       "    }\n",
       "\n",
       "    .dataframe thead th {\n",
       "        text-align: right;\n",
       "    }\n",
       "</style>\n",
       "<table border=\"1\" class=\"dataframe\">\n",
       "  <thead>\n",
       "    <tr style=\"text-align: right;\">\n",
       "      <th></th>\n",
       "      <th>city</th>\n",
       "      <th>sum</th>\n",
       "    </tr>\n",
       "  </thead>\n",
       "  <tbody>\n",
       "    <tr>\n",
       "      <th>119</th>\n",
       "      <td>Boston</td>\n",
       "      <td>10099982.0</td>\n",
       "    </tr>\n",
       "    <tr>\n",
       "      <th>661</th>\n",
       "      <td>İzmir</td>\n",
       "      <td>7882543.0</td>\n",
       "    </tr>\n",
       "    <tr>\n",
       "      <th>478</th>\n",
       "      <td>Créteil</td>\n",
       "      <td>6008320.0</td>\n",
       "    </tr>\n",
       "    <tr>\n",
       "      <th>271</th>\n",
       "      <td>Hillerød</td>\n",
       "      <td>6000522.0</td>\n",
       "    </tr>\n",
       "    <tr>\n",
       "      <th>126</th>\n",
       "      <td>Le Mans</td>\n",
       "      <td>3000134.0</td>\n",
       "    </tr>\n",
       "  </tbody>\n",
       "</table>\n",
       "</div>"
      ],
      "text/plain": [
       "         city         sum\n",
       "119    Boston  10099982.0\n",
       "661     İzmir   7882543.0\n",
       "478   Créteil   6008320.0\n",
       "271  Hillerød   6000522.0\n",
       "126   Le Mans   3000134.0"
      ]
     },
     "execution_count": 56,
     "metadata": {},
     "output_type": "execute_result"
    }
   ],
   "source": [
    "top5"
   ]
  },
  {
   "cell_type": "code",
   "execution_count": null,
   "metadata": {},
   "outputs": [],
   "source": []
  },
  {
   "cell_type": "code",
   "execution_count": 168,
   "metadata": {},
   "outputs": [],
   "source": [
    "x=top5['city']\n",
    "y=top5['sum']"
   ]
  },
  {
   "cell_type": "code",
   "execution_count": null,
   "metadata": {},
   "outputs": [],
   "source": []
  },
  {
   "cell_type": "code",
   "execution_count": null,
   "metadata": {},
   "outputs": [],
   "source": []
  },
  {
   "cell_type": "code",
   "execution_count": null,
   "metadata": {},
   "outputs": [],
   "source": []
  },
  {
   "cell_type": "code",
   "execution_count": 60,
   "metadata": {},
   "outputs": [],
   "source": [
    "def make_bar():\n",
    "    fig,ax=plt.subplots()\n",
    "    ax.barh(top5['city'],top5['sum'])\n",
    "    ax.set_title(\"Top 10 trial enrollments\")\n",
    "    ax.set_xlabel(\"No. of people\")\n",
    "    ax.set_xlim(xmin=100,xmax=(top5['sum'].max()+10000))"
   ]
  },
  {
   "cell_type": "code",
   "execution_count": 62,
   "metadata": {},
   "outputs": [
    {
     "data": {
      "image/png": "[encoded data removed]",
      "text/plain": [
       "<Figure size 432x288 with 1 Axes>"
      ]
     },
     "metadata": {
      "needs_background": "light"
     },
     "output_type": "display_data"
    }
   ],
   "source": [
    "make_bar()"
   ]
  },
  {
   "cell_type": "code",
   "execution_count": 63,
   "metadata": {
    "scrolled": true
   },
   "outputs": [],
   "source": [
    "def make_stack():\n",
    "    x=top5['city']\n",
    "    y=top5['sum']\n",
    "    color_map = [\"#9b59b6\", \"#e74c3c\", \"#34495e\", \"#2ecc71\"]\n",
    "    #blockPrint()\n",
    "    fig, ax=plt.subplots(figsize=(15,5))\n",
    "    plt.plot([],[],color='c',label=' İzmir',linewidth=5)\n",
    "    plt.plot([],[],color='r',label='Créteil',linewidth=5)\n",
    "    plt.plot([],[],color='k',label='Hillerød',linewidth=5)\n",
    "    plt.plot([],[],color='b',label='Le Mans',linewidth=5)\n",
    "    plt.plot([],[],color='m',label='boston',linewidth=5)\n",
    "\n",
    "\n",
    "\n",
    "\n",
    "\n",
    "\n",
    "    ax.stackplot(x,y.iloc[0],y.iloc[1],y.iloc[2],y.iloc[3] ,colors=['m','c','r','k','b'])\n",
    "    fig.tight_layout()\n",
    "    label=[0]\n",
    "\n",
    "    plt.legend()\n",
    "    plt.show()\n",
    "\n"
   ]
  },
  {
   "cell_type": "code",
   "execution_count": 64,
   "metadata": {},
   "outputs": [
    {
     "data": {
      "image/png": "[encoded data removed]",
      "text/plain": [
       "<Figure size 1080x360 with 1 Axes>"
      ]
     },
     "metadata": {
      "needs_background": "light"
     },
     "output_type": "display_data"
    }
   ],
   "source": [
    "make_stack()"
   ]
  },
  {
   "cell_type": "code",
   "execution_count": null,
   "metadata": {},
   "outputs": [],
   "source": []
  },
  {
   "cell_type": "code",
   "execution_count": 333,
   "metadata": {},
   "outputs": [
    {
     "data": {
      "text/plain": [
       "119    10099982.0\n",
       "661     7882543.0\n",
       "478     6008320.0\n",
       "271     6000522.0\n",
       "126     3000134.0\n",
       "Name: sum, dtype: float64"
      ]
     },
     "execution_count": 333,
     "metadata": {},
     "output_type": "execute_result"
    }
   ],
   "source": []
  },
  {
   "cell_type": "code",
   "execution_count": 334,
   "metadata": {},
   "outputs": [],
   "source": []
  },
  {
   "cell_type": "code",
   "execution_count": 65,
   "metadata": {},
   "outputs": [],
   "source": [
    "def make_pie():\n",
    "    slices=y.iloc[0:5]\n",
    "    cities=x.iloc[0:5]\n",
    "    cols=['m','c','r','k','b']\n",
    "    fig, ax=plt.subplots(figsize=(30,10))\n",
    "    plt.pie(slices,labels=cities,colors=cols,startangle=90,shadow=True,autopct='%1.1f%%')\n",
    "    plt.show()"
   ]
  },
  {
   "cell_type": "code",
   "execution_count": null,
   "metadata": {},
   "outputs": [],
   "source": []
  },
  {
   "cell_type": "code",
   "execution_count": 78,
   "metadata": {},
   "outputs": [
    {
     "data": {
      "text/plain": [
       "array(['Istanbul', 'Bethesda', nan, 'Winter Park', 'Miami', 'Aurora',\n",
       "       'Palo Alto', 'London', 'Manaus', 'Madison', 'Bishkek', 'Mulhouse',\n",
       "       'Bilbao', 'Denver', 'Praha', 'Colombes', 'Aguascalientes',\n",
       "       'Berlin', 'Birmingham', 'Orlando', 'São Paulo', 'Athens',\n",
       "       'Atlanta', 'New York', 'Jakarta Pusat', 'Pudong', 'Rawalpindi',\n",
       "       'Buenos Aires', 'Lyon', 'Little Rock', 'Montreal', 'Detroit',\n",
       "       'Catanzaro', 'San Lorenzo De El Escorial', 'Saint Louis',\n",
       "       'Boulogne', 'Tehran', 'Milano', 'Paris', 'Amsterdam', 'Roma',\n",
       "       'Oxford', 'Kayseri', 'Zurich', 'Doha', \"Xi'an\", 'Jerusalem',\n",
       "       'Valencia', 'Belo Horizonte', 'Mexico City', 'Lahore',\n",
       "       'Strasbourg', 'Murcia', 'Kuala Lumpur', 'Caen', 'Faro', 'Padova',\n",
       "       'Wenzhou', 'Chengdu', 'Madrid', 'Liverpool', 'Xuzhou', 'Nîmes',\n",
       "       'Duarte', 'Umuahia', 'Valladolid', 'Angers', 'Oslo', 'Pau',\n",
       "       'Assiut', 'San Francisco', 'Konya', 'Seoul', 'Erzincan', 'Cairo',\n",
       "       'General Juan Madariaga', 'Singapore', 'Moscow', 'Mission Viejo',\n",
       "       'Amiens', 'Fayoum', 'Milwaukee', 'Zürich', 'Falls Church',\n",
       "       'Szeged', 'Herning', 'Baltimore', 'New Delhi', 'Morgantown',\n",
       "       'Great Neck', 'Hamburg', 'Chisinau', 'Salt Lake City', 'Pécs',\n",
       "       'Bobo-Dioulasso', 'Vienna', 'Saint-Étienne', 'Holon',\n",
       "       'Helsingborg', 'Nice', 'Providence', 'Monaco', 'Ventura',\n",
       "       'Columbia', 'Cypress', 'Aix-en-Provence', 'Liestal', 'Toluca',\n",
       "       'Melbourne', 'Edmonton', 'Washington', 'Maastricht', 'Berkeley',\n",
       "       \"Ivano-Frankivs'k\", 'Sevilla', 'Calgary', 'Fort Collins',\n",
       "       'Sabadell', 'Decatur', 'Boston', 'Lille', 'Marseille',\n",
       "       'Bento Gonçalves', 'Mansoura', 'Wuhan', 'Houston', 'Le Mans',\n",
       "       'Terrassa', 'Glasgow', 'Montréal', 'Hackensack', 'Guangzhou',\n",
       "       'Erlangen', 'İzmirli', 'Chicago', 'Ixtapaluca', 'Hasa', 'Palermo',\n",
       "       'Harrow', 'Ferrol', 'Barcelona', 'Jerez de la Frontera', 'Swansea',\n",
       "       'Beuvry', 'Montpellier', 'Islamabad', 'Dammam', 'Sao Paulo',\n",
       "       'Brussels', 'Shreveport', 'Münster', 'Tyumen', 'Puebla', 'Reus',\n",
       "       'Ancona', 'Cracovia', 'Research Triangle Park', 'Shanghai',\n",
       "       'Manchester', 'Binzhou', 'Beijing', 'Foster City', 'Celje',\n",
       "       'Weston', 'Lisbon', 'Gillingham', 'Cagliari', 'Västerås',\n",
       "       'Romford', 'Bangkok Noi', 'Jacksonville', 'Wolverhampton',\n",
       "       'Toulouse', 'Rosario', 'Gent', 'Brétigny-sur-Orge', 'Tanta',\n",
       "       'Santiago', 'Prato', 'Ribeirão Preto', 'Garches', 'Bannu', 'Tunis',\n",
       "       'Ahmadabad', 'New Brunswick', 'Cooperstown', 'Monterrey',\n",
       "       'Makhachkala', 'Herlev', 'Taizhou', 'Nimes', 'Reims', 'Oakland',\n",
       "       'Zabrze', 'Irvine', 'Rome', 'Chang chun', 'Meldola', 'Los Angeles',\n",
       "       'Tucson', 'Tempe', 'Izmir', 'Manhasset', 'Portsmouth', 'Bologna',\n",
       "       'Philadelphia', 'Ciudad Autonoma de Buenos Aire',\n",
       "       'Le Puy-en-Velay', 'Rochester', 'Sofia', 'Farmington', 'Conakry',\n",
       "       'La Rochelle', 'Scottsdale', 'Copenhagen', 'Hong Kong',\n",
       "       'Cambridge', 'Eskisehir', 'Bobigny', 'Maadi', 'Besançon',\n",
       "       'Karachi', 'Johor Bahru', 'Charlotte', 'Vandoeuvre-les-Nancy',\n",
       "       'Boadilla Del Monte', 'Northridge', 'Salzburg', 'Portland',\n",
       "       'Colorado Springs', 'Mexico city', 'Fort Lauderdale', 'Fullerton',\n",
       "       'Innsbruck', 'Hasselt', 'Chertsey', 'Uppsala', 'Giza', 'Guayaquil',\n",
       "       'Badalona', 'Falun', 'Canberra', 'Stanford', 'Oviedo', 'Cañuelas',\n",
       "       'Belfast', 'Minsk', 'Gloucester', 'Bruxelles', 'Luxembourg',\n",
       "       'Haifa', 'Ramat-Gan', 'Argenteuil', 'Botucatu', 'Verona',\n",
       "       'Campinas', 'Nancy', 'Pittsburgh', 'Québec', 'Brugge', 'Ann Arbor',\n",
       "       'Cannes', 'Rogers', 'Córdoba', 'Albertson', 'Dubai',\n",
       "       'Clermont-Ferrand', 'Tuebingen', 'Limoges', 'Ferrara',\n",
       "       'Gainesville', 'Hillerød', 'Neuilly-sur-Marne', 'Bydgoszcz',\n",
       "       'Toronto', 'San Diego', 'Hvidovre', 'Winston-Salem', 'Nanjing',\n",
       "       'Seattle', 'Louisville', 'Dhaka', 'Le Plessis-Robinson',\n",
       "       'Suresnes', 'Aarhus', 'Vandœuvre-lès-Nancy', 'Durham',\n",
       "       'University', 'Faisalābad', 'Camperdown', 'Phoenix', 'Korolev',\n",
       "       'Lund', 'Fayetteville', 'Stockholm', 'Sanabis', 'Bradenton',\n",
       "       'Nashville', 'Basel', 'Cali', 'Aalborg', 'A Coruña', 'San Donato',\n",
       "       'Rennes', 'Columbus', 'Lexington', 'Lørenskog', 'Bangalore',\n",
       "       'Greensboro', 'Kiev', 'Abbeville', 'Pisa', 'Bron', 'Bucharest',\n",
       "       'Brasilia', 'Medellín', 'Freiburg', 'Giessen', 'Koltsovo',\n",
       "       'Marousi', 'Shijiazhuang', 'Albuquerque', 'Clamart', 'Creil',\n",
       "       'Sugar Land', 'Melaka Tengah', 'Salvador', 'Modena', 'New Haven',\n",
       "       'Reykjavík', 'Chennai', 'Cornellà De Llobregat', 'Tubingen',\n",
       "       'Rouen', \"Cox's Bazar\", 'Pamplona', 'Pilar', 'Augusta', 'Aalst',\n",
       "       'Umeå', 'La Tronche', 'Galway', 'Nottingham', 'Barnaul', 'Milan',\n",
       "       'Chapel Hill', 'Poitiers', 'Chongqing', 'Osaka', 'Bordeaux',\n",
       "       'Linköping', 'Bremen', 'Beheira', 'Fribourg', 'Hangzhou', 'Halle',\n",
       "       'Ottawa', 'Jakarta', 'Rio De Janeiro', 'Thessaloníki',\n",
       "       'Providencia', 'Recife', 'Vancouver', 'Monastir', 'La Mesa',\n",
       "       'Geneva', 'Alexandroupolis', 'Monza', 'Stony Brook', 'Akyurt',\n",
       "       'Bellinzona', 'Port Orange', 'Pavia', 'Richmond', 'Rostock',\n",
       "       'Bergamo', 'Utrecht', 'Bursa', 'Kansas City', 'Villanova',\n",
       "       'San Luis Rio Colorado', 'El Paso', 'Cottingham',\n",
       "       'Presidente Derqui', 'Saint Petersburg', 'Zagazig', 'Cincinnati',\n",
       "       'Mobile', 'Curug', 'Kinshasa', 'Treviso', 'Leicester',\n",
       "       'Alexandria', 'Baghdad', 'Austin', 'Sungai Buloh', 'Overland Park',\n",
       "       'Sydney', 'Shibīn Al Kawm', 'Nantes', 'Mexico, City', 'Bangkok',\n",
       "       'Kermanshah', 'Jaipur', 'Málaga', 'Copenhagen NV', 'Poznan',\n",
       "       'Feira De Santana', 'Gothenburg', 'Ciudad de México', 'Jiangsu',\n",
       "       'München', 'Dallas', 'Ciudad Autónoma de Buenos Aires', 'Dalian',\n",
       "       'Creteil', 'Pagani', 'Lincoln', 'Orange', 'Hot Springs', 'Brest',\n",
       "       'La Jolla', 'Mantes la Jolie', 'Charlottesville', 'Kaluga',\n",
       "       'Kuwait City', 'Bissau', 'Cape Town', 'Winnipeg', 'Shenzhen',\n",
       "       'Randwick', 'Wichita', 'Le Kremlin-Bicêtre', 'Bakersfield',\n",
       "       'Kraków', 'Khartoum', 'Pierre-Bénite', 'Agen', 'Cesena', 'Warsaw',\n",
       "       'Fuzhou', 'Taipei', 'Ulm', 'Gijón', 'Latina', 'Graz', 'Ashdod',\n",
       "       'Riyadh', 'Usak', 'Minneapolis', 'Rockville',\n",
       "       \"L'Hospitalet De Llobregat\", 'Edinburgh', 'Granada',\n",
       "       'Altamonte Springs', 'Almere', 'Hellerup', 'Victorville',\n",
       "       'Danderyd', 'Varese', 'Antibes', 'Honolulu',\n",
       "       'Ciudad Autonoma de Buenos Aires', 'Skien', 'Tampa', 'Worthing',\n",
       "       'Yıldırım', 'Savannah', 'Rotterdam', 'West Haven', 'Palm Springs',\n",
       "       'Krasnodar', 'Anaheim', 'Lima', 'Hartford', 'Tomsk', 'Huizhou',\n",
       "       'Leeds', 'Créteil', 'Fasa', 'South Pasadena', 's-Hertogenbosch',\n",
       "       'Porto Alegre', 'Bay Shore', 'Huddinge', 'Coral Gables',\n",
       "       'Passo Fundo', 'Metz', 'Shiyan', 'Johannesburg', 'Cremona',\n",
       "       'Getafe', 'Göttingen', 'Tourcoing', 'Plymouth', 'Akron',\n",
       "       'Southampton', 'San Isidro', 'Düsseldorf', 'Curitiba', 'Bagdad',\n",
       "       'Newark', 'Tlemcen', 'Aachen', 'Damanhūr', 'Chula Vista',\n",
       "       'Le Chesnay', 'Daejeon', 'Natchitoches', 'Miami Beach', 'Fuyang',\n",
       "       'Orbassano', 'Grenoble', 'Viña Del Mar', 'San Martin',\n",
       "       'Huntersville', 'Rozzano', 'Gilbert', 'Huaian', 'Mekelle',\n",
       "       'Guadalajara', 'Napoli', 'Ciudad de mexico', 'Maceió', 'Mesa',\n",
       "       'Bahcelievler', 'Heidelberg', 'Munich', 'Memphis', 'Jeddah',\n",
       "       'Suita', 'Hanoi', 'Parma', 'Florence', 'Uden', 'Sebastopol',\n",
       "       'Mumbai', 'New Orleans', 'Haidari/Athens', 'Lyon 4', 'Lamia',\n",
       "       'Buffalo', 'San Donato Milanese', 'Birgunj', 'Kitchener', 'Jinan',\n",
       "       'Cleveland', 'Hamilton', 'Callao', 'Cluj-Napoca', 'Bern', 'Tours',\n",
       "       'Newmarket', 'North Bethesda', 'Newport Beach', 'South Miami',\n",
       "       'Long Beach', 'Broomfield', 'Naples', 'Daytona Beach', 'Bogota',\n",
       "       'Thessaloniki', 'Mexico', 'Saltillo', 'Trabzon', 'Siena', 'Liège',\n",
       "       'Antwerpen', 'Kyiv', 'Bastia', 'Millsboro', 'Kingswood', 'Cayenne',\n",
       "       'Fresno', 'Sheffield', 'New Hyde Park', 'Prague', 'San José',\n",
       "       'Preston', 'Smolensk', 'Bergisch Gladbach',\n",
       "       'La Guerche de Bretagne', 'North York', 'Qinā', 'Amman',\n",
       "       'Ramat Gan', 'Sousse', 'Oklahoma City', 'Genova', 'Sari', 'Bronx',\n",
       "       'Manama', 'Bagno A Ripoli', 'Sarajevo', 'Genk', 'Northglenn',\n",
       "       'Mashhad', 'Al Madinah', 'Dax', 'Coventry', 'Raipur', 'Dijon',\n",
       "       \"L'Hospitalet de Llobregat\", 'Piscataway', 'Belfort', 'Mecca',\n",
       "       'Lausanne', 'Fukuoka-shi', 'Ghent', 'Torrance', 'Subang Jaya',\n",
       "       'Bruce', 'Royal Oak', 'Orléans', 'Castellón De La Plana',\n",
       "       'Sherbrooke', 'Bloemfontein', 'Zingonia', 'Stanmore', 'Assiginack',\n",
       "       'Xiangtan', 'Ankara', 'Groningen', 'Halifax', 'Jodhpur', 'Minya',\n",
       "       'Ottignies', 'Den Bosch', 'São Carlos', 'Rio de Janeiro',\n",
       "       'Bourgoin-Jallieu', 'Zhengzhou', 'Livingston', 'Lafayette',\n",
       "       'Boulogne-Billancourt', 'Xinxiang', 'Ashton-under-Lyne',\n",
       "       'İstanbul', 'Ghaziabad', 'Reggio Emilia', 'Cheongju-si',\n",
       "       'Brooklyn', 'Strassen', 'Basingstoke', 'Caluire-et-Cuire',\n",
       "       'Saint-Denis', 'Montélimar', 'Zerifin', 'Park Ridge', 'Bayreuth',\n",
       "       'Murray', 'Leuven', 'Banhā', 'Galdakao', 'Omaha', 'Helsinki',\n",
       "       'Arras', 'Torino', 'Iowa City', 'Maia', 'Solingen', 'İzmir',\n",
       "       'Abidjan', 'Jinhua', 'Hospitalet de Llobregat', 'Bogotá',\n",
       "       'Wrocław', 'Toulon', 'Jackson', 'Kuwait', 'Antony', 'Besancon',\n",
       "       'Piedecuesta', 'Elche', 'Casale Monferrato', 'Guastalla', 'Helwan',\n",
       "       'Gvardeyskiy', 'Kampala', 'Makassar', 'Chittagong', 'Genoa',\n",
       "       'New Smyrna Beach', 'Hankou', 'Taoyuan City', 'Lynwood', 'Antalya',\n",
       "       'Kannapolis', 'Pontoise', 'Renqiu', 'Brussel', 'Novosibirsk',\n",
       "       'Victoria', 'Hershey', 'Mountain View', 'Charleston', 'Mantova',\n",
       "       'Edison', 'Arendal', 'Sutton', 'Ibiza', 'Amersfoort', 'Kazan',\n",
       "       'Draper', 'Skopje', 'Grenoble Cedex 9', 'Sohag', 'Roslyn', 'Køge',\n",
       "       'Ariana', 'Aliso Viejo', 'Novara', 'Winterthur', 'Münsterlingen',\n",
       "       'Paisley', 'Bradford', 'México', 'New delhi', 'Sunnyvale',\n",
       "       'Kampar', 'Nedlands', 'Daegu', 'Trieste', 'Middletown', 'Derby',\n",
       "       'Sioux Falls', 'Celaya', 'Abbottābād', 'Bergen', 'Ranica',\n",
       "       'Sleepy Hollow', 'Kowloon Tong', 'Balingen', 'Sha Tin',\n",
       "       'Abu Dhabi', 'Cold Spring Harbor', 'Segrate', 'Quebec', 'Nanchang',\n",
       "       'SAo Paulo', 'Ecully', 'Zárate', 'Bonn', 'Fukuoka', 'Cologne',\n",
       "       'Bari', 'Seongnam-si', 'Majadahonda', 'Massa Lombarda', 'Kingman',\n",
       "       'Marburg', 'Jāmshoro', 'Taunton', 'Petah tikva', 'Poznań',\n",
       "       'Culver City', 'Basking Ridge', 'Canakkale', 'Leon', 'Al Minyā',\n",
       "       'Peoria', 'Poissy', 'Srikakulam', 'Fairhope', 'La Coruña',\n",
       "       'Taichung', 'Caba', 'Banbury', 'Turku', \"Be'er Sheva\",\n",
       "       'Greifswald', 'Idaho Falls', 'Chieti', 'Brescia', 'Brindisi',\n",
       "       'Lodi', 'Frederick', 'DeLand', 'Alessandria', 'New Fairfield',\n",
       "       'Juarez', \"Coeur d'Alene\", 'Cheboksary', 'Hadera', 'Adelaide',\n",
       "       'Petach Tikva', 'Zagreb', 'Abuja', 'Odense',\n",
       "       'VANDOEUVRE LES Nancy', 'Astana', 'Ile-Ife', 'Paterna', 'Drammen',\n",
       "       'Udine', 'Zaragoza', 'San Antonio', 'Belleville', 'Anniston',\n",
       "       'Manila', 'Burr Ridge', 'Issy-les-Moulineaux', 'Sant Joan Despí',\n",
       "       'Bandung', 'Aarau', 'Malmö', 'Doncaster', \"L'Aquila\", 'Loma Linda',\n",
       "       'Lowell', 'Toledo', 'Chandigarh', 'Belém', '¨Paris',\n",
       "       'Castiglione Cosentino', 'Pozzilli', 'Seville', 'Antwerp',\n",
       "       'Sacramento', 'Allschwil', 'Dhahran', 'Fortaleza', 'Kissimmee',\n",
       "       'Hull', 'Samara', 'Beirut', 'Fuenlabrada', 'Christchurch',\n",
       "       'Huelva', 'Mataró', 'Worcester', 'Gelsenkirchen', 'Villejuif',\n",
       "       'Saskatoon', 'Hjørring', 'Náfplio', 'Brampton', 'Aulnay-sous-Bois',\n",
       "       'Palma de Mallorca', 'Qena', 'Hollywood', 'Afyonkarahisar',\n",
       "       'Tegucigalpa', 'Ar Rass', 'Frankfurt', 'Ekaterinburg', 'Novi',\n",
       "       'Jena', 'Huixquilucan', 'Latisana', 'Norwich', 'San Juan',\n",
       "       'Brisbane', 'Ramadi', 'Aurangabad', 'Salamanca', 'Delhi',\n",
       "       'Medellin', 'Jette', 'Gdańsk', 'Boussu', 'Baton Rouge',\n",
       "       'Boca Raton', 'Negrar', 'Greenville', 'Evanston', 'Tübingen',\n",
       "       'Etampes', 'Villeneuve St Georges', 'Freyming-Merlebach', 'Sylmar',\n",
       "       'Jesús María', 'Florencio Varela', 'Lillestrom', 'Leòn', 'Iasi',\n",
       "       'Roubaix', 'Nicosia', 'Darlinghurst', 'Vaals', 'Kisumu',\n",
       "       'Santiago De Los Caballeros', 'Tríkala', 'Bad Aibling', 'Kingston',\n",
       "       'Essen', 'Stains', 'Palma De Mallorca', 'Zumpango',\n",
       "       'Ciudad de Buenos Aires', 'Caringbah', 'Santander', 'Mexico DF',\n",
       "       'Budapest', 'Guanzhou', 'Gießen', 'Tijuana', 'Mineola',\n",
       "       'Bandar Tun Razak', 'Visakhapatnam', 'Albacete', 'Lancaster',\n",
       "       'Rize', 'Quimper', 'Alcalá De Henares', 'Jingzhou', 'Dakar',\n",
       "       'Corvallis', 'Ansan', 'Kigali', 'Stevensville', 'Burnaby',\n",
       "       'Huntsville', 'Port Said', 'Bondy', 'Brunswick', 'Oceanside',\n",
       "       'Batesville', 'León', 'Girona', 'Ljubljana', 'Marietta', 'Ibadan',\n",
       "       'Pessac', 'Dhaka-1000', 'Laredo', 'Nijmegen', 'Herston', 'Serra',\n",
       "       'Zhuhai', 'Rio Branco', 'Duesseldorf', 'Ludwigshafen',\n",
       "       'Pierre-Bénite cedex', 'Damietta', 'Corrientes'], dtype=object)"
      ]
     },
     "execution_count": 78,
     "metadata": {},
     "output_type": "execute_result"
    }
   ],
   "source": [
    "label"
   ]
  },
  {
   "cell_type": "code",
   "execution_count": null,
   "metadata": {},
   "outputs": [],
   "source": []
  },
  {
   "cell_type": "code",
   "execution_count": null,
   "metadata": {},
   "outputs": [],
   "source": [
    "city_count=np.zeros(label.shape)\n",
    "for i,x in enumerate(label):\n",
    "    \n",
    "    city_count[i]=res.loc[res['city']==x,'enrollment'].sum()"
   ]
  },
  {
   "cell_type": "code",
   "execution_count": 201,
   "metadata": {},
   "outputs": [
    {
     "ename": "AttributeError",
     "evalue": "'numpy.ndarray' object has no attribute 'loc'",
     "output_type": "error",
     "traceback": [
      "\u001b[1;31m---------------------------------------------------------------------------\u001b[0m",
      "\u001b[1;31mAttributeError\u001b[0m                            Traceback (most recent call last)",
      "\u001b[1;32m<ipython-input-201-6564f6e70675>\u001b[0m in \u001b[0;36m<module>\u001b[1;34m\u001b[0m\n\u001b[0;32m      2\u001b[0m \u001b[0mzaya\u001b[0m\u001b[1;33m=\u001b[0m\u001b[0mnp\u001b[0m\u001b[1;33m.\u001b[0m\u001b[0mzeros\u001b[0m\u001b[1;33m(\u001b[0m\u001b[0mlabel\u001b[0m\u001b[1;33m.\u001b[0m\u001b[0mshape\u001b[0m\u001b[1;33m)\u001b[0m\u001b[1;33m\u001b[0m\u001b[1;33m\u001b[0m\u001b[0m\n\u001b[0;32m      3\u001b[0m \u001b[1;32mfor\u001b[0m \u001b[0mi\u001b[0m\u001b[1;33m,\u001b[0m\u001b[0mcities\u001b[0m \u001b[1;32min\u001b[0m \u001b[0menumerate\u001b[0m\u001b[1;33m(\u001b[0m\u001b[0mx\u001b[0m\u001b[1;33m)\u001b[0m\u001b[1;33m:\u001b[0m\u001b[1;33m\u001b[0m\u001b[1;33m\u001b[0m\u001b[0m\n\u001b[1;32m----> 4\u001b[1;33m     \u001b[0mzaya\u001b[0m\u001b[1;33m.\u001b[0m\u001b[0mloc\u001b[0m\u001b[1;33m[\u001b[0m\u001b[0mi\u001b[0m\u001b[1;33m]\u001b[0m\u001b[1;33m=\u001b[0m\u001b[0mres\u001b[0m\u001b[1;33m[\u001b[0m\u001b[0mres\u001b[0m\u001b[1;33m[\u001b[0m\u001b[1;34m\"city\"\u001b[0m\u001b[1;33m]\u001b[0m\u001b[1;33m==\u001b[0m\u001b[0mcities\u001b[0m\u001b[1;33m]\u001b[0m\u001b[1;33m[\u001b[0m\u001b[1;34m\"sampling_method\"\u001b[0m\u001b[1;33m]\u001b[0m\u001b[1;33m\u001b[0m\u001b[1;33m\u001b[0m\u001b[0m\n\u001b[0m",
      "\u001b[1;31mAttributeError\u001b[0m: 'numpy.ndarray' object has no attribute 'loc'"
     ]
    }
   ],
   "source": [
    "#sampling[\"study_type\"]=\n",
    "zaya=np.zeros(label.shape)\n",
    "for i,cities in enumerate(x):\n",
    "    zaya.loc[i]=res[res[\"city\"]==cities][\"sampling_method\"]"
   ]
  },
  {
   "cell_type": "code",
   "execution_count": null,
   "metadata": {},
   "outputs": [],
   "source": []
  },
  {
   "cell_type": "code",
   "execution_count": 167,
   "metadata": {},
   "outputs": [
    {
     "data": {
      "text/plain": [
       "Series([], Name: overall_status, dtype: int64)"
      ]
     },
     "execution_count": 167,
     "metadata": {},
     "output_type": "execute_result"
    }
   ],
   "source": [
    "x"
   ]
  },
  {
   "cell_type": "code",
   "execution_count": 235,
   "metadata": {},
   "outputs": [
    {
     "data": {
      "text/plain": [
       "4.0     471\n",
       "5.0     362\n",
       "6.0     272\n",
       "7.0     208\n",
       "3.0     168\n",
       "8.0     133\n",
       "9.0     120\n",
       "2.0      33\n",
       "10.0     23\n",
       "1.0      12\n",
       "11.0      1\n",
       "Name: month, dtype: int64"
      ]
     },
     "execution_count": 235,
     "metadata": {},
     "output_type": "execute_result"
    }
   ],
   "source": [
    "y"
   ]
  },
  {
   "cell_type": "code",
   "execution_count": null,
   "metadata": {},
   "outputs": [],
   "source": []
  },
  {
   "cell_type": "code",
   "execution_count": null,
   "metadata": {},
   "outputs": [],
   "source": []
  },
  {
   "cell_type": "code",
   "execution_count": null,
   "metadata": {},
   "outputs": [],
   "source": []
  },
  {
   "cell_type": "code",
   "execution_count": null,
   "metadata": {},
   "outputs": [],
   "source": []
  },
  {
   "cell_type": "code",
   "execution_count": null,
   "metadata": {},
   "outputs": [],
   "source": []
  },
  {
   "cell_type": "code",
   "execution_count": 233,
   "metadata": {},
   "outputs": [
    {
     "name": "stdout",
     "output_type": "stream",
     "text": [
      "<class 'pandas.core.series.Series'>\n"
     ]
    }
   ],
   "source": [
    "print(type(x))\n"
   ]
  },
  {
   "cell_type": "code",
   "execution_count": null,
   "metadata": {},
   "outputs": [],
   "source": []
  },
  {
   "cell_type": "code",
   "execution_count": null,
   "metadata": {},
   "outputs": [],
   "source": []
  },
  {
   "cell_type": "code",
   "execution_count": null,
   "metadata": {},
   "outputs": [],
   "source": []
  },
  {
   "cell_type": "code",
   "execution_count": null,
   "metadata": {},
   "outputs": [],
   "source": []
  },
  {
   "cell_type": "code",
   "execution_count": null,
   "metadata": {},
   "outputs": [],
   "source": []
  },
  {
   "cell_type": "code",
   "execution_count": null,
   "metadata": {},
   "outputs": [],
   "source": []
  },
  {
   "cell_type": "code",
   "execution_count": 223,
   "metadata": {},
   "outputs": [
    {
     "data": {
      "text/plain": [
       "(12,)"
      ]
     },
     "execution_count": 223,
     "metadata": {},
     "output_type": "execute_result"
    }
   ],
   "source": [
    "x.shape"
   ]
  },
  {
   "cell_type": "code",
   "execution_count": 224,
   "metadata": {},
   "outputs": [
    {
     "data": {
      "text/plain": [
       "(11,)"
      ]
     },
     "execution_count": 224,
     "metadata": {},
     "output_type": "execute_result"
    }
   ],
   "source": [
    "y.shape"
   ]
  },
  {
   "cell_type": "code",
   "execution_count": 226,
   "metadata": {},
   "outputs": [
    {
     "data": {
      "text/plain": [
       "(12,)"
      ]
     },
     "execution_count": 226,
     "metadata": {},
     "output_type": "execute_result"
    }
   ],
   "source": [
    "z.shape"
   ]
  },
  {
   "cell_type": "code",
   "execution_count": null,
   "metadata": {},
   "outputs": [],
   "source": []
  },
  {
   "cell_type": "code",
   "execution_count": null,
   "metadata": {},
   "outputs": [],
   "source": []
  },
  {
   "cell_type": "code",
   "execution_count": null,
   "metadata": {},
   "outputs": [],
   "source": []
  },
  {
   "cell_type": "code",
   "execution_count": null,
   "metadata": {},
   "outputs": [],
   "source": []
  },
  {
   "cell_type": "code",
   "execution_count": null,
   "metadata": {},
   "outputs": [],
   "source": []
  },
  {
   "cell_type": "code",
   "execution_count": null,
   "metadata": {},
   "outputs": [],
   "source": []
  },
  {
   "cell_type": "code",
   "execution_count": null,
   "metadata": {},
   "outputs": [],
   "source": []
  },
  {
   "cell_type": "code",
   "execution_count": null,
   "metadata": {},
   "outputs": [],
   "source": []
  },
  {
   "cell_type": "code",
   "execution_count": null,
   "metadata": {},
   "outputs": [],
   "source": []
  },
  {
   "cell_type": "code",
   "execution_count": null,
   "metadata": {},
   "outputs": [],
   "source": []
  },
  {
   "cell_type": "code",
   "execution_count": null,
   "metadata": {},
   "outputs": [],
   "source": []
  },
  {
   "cell_type": "code",
   "execution_count": 200,
   "metadata": {},
   "outputs": [
    {
     "name": "stdout",
     "output_type": "stream",
     "text": [
      "Recruiting                 17\n",
      "Active, not recruiting      5\n",
      "Not yet recruiting          4\n",
      "Enrolling by invitation     4\n",
      "Completed                   2\n",
      "Terminated                  1\n",
      "Withdrawn                   1\n",
      "Name: overall_status, dtype: int64\n",
      "Completed                 1\n",
      "Active, not recruiting    1\n",
      "Name: overall_status, dtype: int64\n",
      "Recruiting                3\n",
      "Not yet recruiting        2\n",
      "Active, not recruiting    1\n",
      "Name: overall_status, dtype: int64\n",
      "Recruiting    3\n",
      "Completed     1\n",
      "Name: overall_status, dtype: int64\n"
     ]
    }
   ],
   "source": [
    "#f=pd.DataFrame()\n",
    "x1=df2[\"overall_status\"][( df2[\"city\"] =='Boston')].value_counts()\n",
    "x2=df2[\"overall_status\"][( df2[\"city\"] =='İzmir')].value_counts()\n",
    "x3=df2[\"overall_status\"][( df2[\"city\"] =='Créteil')].value_counts()\n",
    "x4=df2[\"overall_status\"][( df2[\"city\"] =='Hillerød')].value_counts()\n",
    "x5=df2[\"overall_status\"][( df2[\"city\"] =='Le Mans')].value_counts()\n",
    "dfs=[]\n",
    "for i,cities in enumerate(x):\n",
    "    v=df2[\"overall_status\"][( df2[\"city\"] ==cities)].value_counts()\n",
    "    \n",
    "print(x1)\n",
    "print(x2)\n",
    "print(x3)\n",
    "print(x4)"
   ]
  },
  {
   "cell_type": "code",
   "execution_count": null,
   "metadata": {},
   "outputs": [],
   "source": []
  },
  {
   "cell_type": "code",
   "execution_count": null,
   "metadata": {},
   "outputs": [],
   "source": []
  },
  {
   "cell_type": "code",
   "execution_count": null,
   "metadata": {},
   "outputs": [],
   "source": []
  },
  {
   "cell_type": "code",
   "execution_count": null,
   "metadata": {},
   "outputs": [],
   "source": []
  },
  {
   "cell_type": "code",
   "execution_count": null,
   "metadata": {},
   "outputs": [],
   "source": []
  },
  {
   "cell_type": "code",
   "execution_count": null,
   "metadata": {},
   "outputs": [],
   "source": []
  },
  {
   "cell_type": "code",
   "execution_count": null,
   "metadata": {},
   "outputs": [],
   "source": []
  },
  {
   "cell_type": "code",
   "execution_count": null,
   "metadata": {},
   "outputs": [],
   "source": []
  },
  {
   "cell_type": "code",
   "execution_count": null,
   "metadata": {},
   "outputs": [],
   "source": []
  },
  {
   "cell_type": "code",
   "execution_count": 191,
   "metadata": {},
   "outputs": [
    {
     "name": "stdout",
     "output_type": "stream",
     "text": [
      "Series([], Name: overall_status, dtype: int64)\n"
     ]
    }
   ],
   "source": [
    "print(df2[\"overall_status\"][( df2[\"city\"] =='boston')].value_counts())"
   ]
  },
  {
   "cell_type": "code",
   "execution_count": null,
   "metadata": {},
   "outputs": [],
   "source": []
  },
  {
   "cell_type": "code",
   "execution_count": null,
   "metadata": {},
   "outputs": [],
   "source": []
  },
  {
   "cell_type": "code",
   "execution_count": null,
   "metadata": {},
   "outputs": [],
   "source": []
  },
  {
   "cell_type": "code",
   "execution_count": null,
   "metadata": {},
   "outputs": [],
   "source": []
  },
  {
   "cell_type": "code",
   "execution_count": null,
   "metadata": {},
   "outputs": [],
   "source": []
  },
  {
   "cell_type": "code",
   "execution_count": null,
   "metadata": {},
   "outputs": [],
   "source": []
  },
  {
   "cell_type": "code",
   "execution_count": null,
   "metadata": {},
   "outputs": [],
   "source": []
  },
  {
   "cell_type": "code",
   "execution_count": null,
   "metadata": {},
   "outputs": [],
   "source": []
  },
  {
   "cell_type": "code",
   "execution_count": null,
   "metadata": {},
   "outputs": [],
   "source": []
  },
  {
   "cell_type": "code",
   "execution_count": 181,
   "metadata": {},
   "outputs": [
    {
     "data": {
      "text/plain": [
       "Series([], Name: overall_status, dtype: int64)"
      ]
     },
     "execution_count": 181,
     "metadata": {},
     "output_type": "execute_result"
    }
   ],
   "source": [
    "df2[\"overall_status\"][( df2[\"city\"] =='boston')].value_counts()"
   ]
  },
  {
   "cell_type": "code",
   "execution_count": null,
   "metadata": {},
   "outputs": [],
   "source": []
  },
  {
   "cell_type": "code",
   "execution_count": null,
   "metadata": {},
   "outputs": [],
   "source": []
  },
  {
   "cell_type": "code",
   "execution_count": null,
   "metadata": {},
   "outputs": [],
   "source": []
  },
  {
   "cell_type": "code",
   "execution_count": null,
   "metadata": {},
   "outputs": [],
   "source": []
  },
  {
   "cell_type": "code",
   "execution_count": null,
   "metadata": {},
   "outputs": [],
   "source": []
  },
  {
   "cell_type": "code",
   "execution_count": null,
   "metadata": {},
   "outputs": [],
   "source": []
  },
  {
   "cell_type": "code",
   "execution_count": null,
   "metadata": {},
   "outputs": [],
   "source": []
  },
  {
   "cell_type": "code",
   "execution_count": null,
   "metadata": {},
   "outputs": [],
   "source": []
  },
  {
   "cell_type": "code",
   "execution_count": null,
   "metadata": {},
   "outputs": [],
   "source": []
  },
  {
   "cell_type": "code",
   "execution_count": null,
   "metadata": {},
   "outputs": [],
   "source": []
  },
  {
   "cell_type": "code",
   "execution_count": null,
   "metadata": {},
   "outputs": [],
   "source": []
  },
  {
   "cell_type": "code",
   "execution_count": null,
   "metadata": {},
   "outputs": [],
   "source": []
  },
  {
   "cell_type": "code",
   "execution_count": null,
   "metadata": {},
   "outputs": [],
   "source": []
  },
  {
   "cell_type": "code",
   "execution_count": null,
   "metadata": {},
   "outputs": [],
   "source": []
  },
  {
   "cell_type": "code",
   "execution_count": null,
   "metadata": {},
   "outputs": [],
   "source": []
  },
  {
   "cell_type": "code",
   "execution_count": null,
   "metadata": {},
   "outputs": [],
   "source": []
  },
  {
   "cell_type": "code",
   "execution_count": null,
   "metadata": {},
   "outputs": [],
   "source": []
  },
  {
   "cell_type": "code",
   "execution_count": null,
   "metadata": {},
   "outputs": [],
   "source": []
  },
  {
   "cell_type": "code",
   "execution_count": null,
   "metadata": {},
   "outputs": [],
   "source": []
  },
  {
   "cell_type": "code",
   "execution_count": null,
   "metadata": {},
   "outputs": [],
   "source": []
  },
  {
   "cell_type": "code",
   "execution_count": null,
   "metadata": {},
   "outputs": [],
   "source": []
  },
  {
   "cell_type": "code",
   "execution_count": null,
   "metadata": {},
   "outputs": [],
   "source": []
  },
  {
   "cell_type": "code",
   "execution_count": null,
   "metadata": {},
   "outputs": [],
   "source": []
  },
  {
   "cell_type": "code",
   "execution_count": null,
   "metadata": {},
   "outputs": [],
   "source": []
  },
  {
   "cell_type": "code",
   "execution_count": null,
   "metadata": {},
   "outputs": [],
   "source": []
  },
  {
   "cell_type": "code",
   "execution_count": null,
   "metadata": {},
   "outputs": [],
   "source": []
  },
  {
   "cell_type": "code",
   "execution_count": null,
   "metadata": {},
   "outputs": [],
   "source": []
  },
  {
   "cell_type": "code",
   "execution_count": null,
   "metadata": {},
   "outputs": [],
   "source": []
  },
  {
   "cell_type": "code",
   "execution_count": null,
   "metadata": {},
   "outputs": [],
   "source": []
  },
  {
   "cell_type": "code",
   "execution_count": null,
   "metadata": {},
   "outputs": [],
   "source": []
  },
  {
   "cell_type": "code",
   "execution_count": 146,
   "metadata": {},
   "outputs": [
    {
     "data": {
      "text/html": [
       "<div>\n",
       "<style scoped>\n",
       "    .dataframe tbody tr th:only-of-type {\n",
       "        vertical-align: middle;\n",
       "    }\n",
       "\n",
       "    .dataframe tbody tr th {\n",
       "        vertical-align: top;\n",
       "    }\n",
       "\n",
       "    .dataframe thead th {\n",
       "        text-align: right;\n",
       "    }\n",
       "</style>\n",
       "<table border=\"1\" class=\"dataframe\">\n",
       "  <thead>\n",
       "    <tr style=\"text-align: right;\">\n",
       "      <th></th>\n",
       "    </tr>\n",
       "  </thead>\n",
       "  <tbody>\n",
       "  </tbody>\n",
       "</table>\n",
       "</div>"
      ],
      "text/plain": [
       "Empty DataFrame\n",
       "Columns: []\n",
       "Index: []"
      ]
     },
     "execution_count": 146,
     "metadata": {},
     "output_type": "execute_result"
    }
   ],
   "source": [
    "x"
   ]
  },
  {
   "cell_type": "code",
   "execution_count": null,
   "metadata": {},
   "outputs": [],
   "source": []
  },
  {
   "cell_type": "code",
   "execution_count": 144,
   "metadata": {},
   "outputs": [
    {
     "data": {
      "text/plain": [
       "Index([], dtype='object')"
      ]
     },
     "execution_count": 144,
     "metadata": {},
     "output_type": "execute_result"
    }
   ],
   "source": [
    "x.keys()\n"
   ]
  },
  {
   "cell_type": "code",
   "execution_count": null,
   "metadata": {},
   "outputs": [],
   "source": []
  },
  {
   "cell_type": "code",
   "execution_count": null,
   "metadata": {},
   "outputs": [],
   "source": []
  },
  {
   "cell_type": "code",
   "execution_count": null,
   "metadata": {},
   "outputs": [],
   "source": []
  },
  {
   "cell_type": "code",
   "execution_count": 140,
   "metadata": {},
   "outputs": [
    {
     "data": {
      "text/plain": [
       "<bound method Series.keys of Recruiting    2\n",
       "Name: overall_status, dtype: int64>"
      ]
     },
     "execution_count": 140,
     "metadata": {},
     "output_type": "execute_result"
    }
   ],
   "source": [
    "x.keys"
   ]
  },
  {
   "cell_type": "code",
   "execution_count": null,
   "metadata": {},
   "outputs": [],
   "source": []
  },
  {
   "cell_type": "code",
   "execution_count": null,
   "metadata": {},
   "outputs": [],
   "source": []
  },
  {
   "cell_type": "code",
   "execution_count": null,
   "metadata": {},
   "outputs": [],
   "source": []
  },
  {
   "cell_type": "code",
   "execution_count": null,
   "metadata": {},
   "outputs": [],
   "source": []
  },
  {
   "cell_type": "code",
   "execution_count": null,
   "metadata": {},
   "outputs": [],
   "source": []
  },
  {
   "cell_type": "code",
   "execution_count": null,
   "metadata": {},
   "outputs": [],
   "source": []
  },
  {
   "cell_type": "code",
   "execution_count": null,
   "metadata": {},
   "outputs": [],
   "source": []
  },
  {
   "cell_type": "code",
   "execution_count": null,
   "metadata": {},
   "outputs": [],
   "source": []
  },
  {
   "cell_type": "code",
   "execution_count": null,
   "metadata": {},
   "outputs": [],
   "source": []
  },
  {
   "cell_type": "code",
   "execution_count": null,
   "metadata": {},
   "outputs": [],
   "source": []
  },
  {
   "cell_type": "code",
   "execution_count": null,
   "metadata": {},
   "outputs": [],
   "source": []
  },
  {
   "cell_type": "code",
   "execution_count": null,
   "metadata": {},
   "outputs": [],
   "source": []
  },
  {
   "cell_type": "code",
   "execution_count": null,
   "metadata": {},
   "outputs": [],
   "source": []
  },
  {
   "cell_type": "code",
   "execution_count": 126,
   "metadata": {},
   "outputs": [
    {
     "data": {
      "text/plain": [
       "Recruiting    2\n",
       "Name: overall_status, dtype: int64"
      ]
     },
     "execution_count": 126,
     "metadata": {},
     "output_type": "execute_result"
    }
   ],
   "source": [
    "zaya"
   ]
  },
  {
   "cell_type": "code",
   "execution_count": null,
   "metadata": {},
   "outputs": [],
   "source": []
  },
  {
   "cell_type": "code",
   "execution_count": null,
   "metadata": {},
   "outputs": [],
   "source": []
  },
  {
   "cell_type": "code",
   "execution_count": null,
   "metadata": {},
   "outputs": [],
   "source": []
  },
  {
   "cell_type": "code",
   "execution_count": null,
   "metadata": {},
   "outputs": [],
   "source": []
  },
  {
   "cell_type": "code",
   "execution_count": null,
   "metadata": {},
   "outputs": [],
   "source": []
  },
  {
   "cell_type": "code",
   "execution_count": null,
   "metadata": {},
   "outputs": [],
   "source": []
  },
  {
   "cell_type": "code",
   "execution_count": 118,
   "metadata": {},
   "outputs": [
    {
     "data": {
      "text/plain": [
       "Recruiting    2\n",
       "Name: overall_status, dtype: int64"
      ]
     },
     "execution_count": 118,
     "metadata": {},
     "output_type": "execute_result"
    }
   ],
   "source": [
    "f"
   ]
  },
  {
   "cell_type": "code",
   "execution_count": null,
   "metadata": {},
   "outputs": [],
   "source": []
  },
  {
   "cell_type": "code",
   "execution_count": null,
   "metadata": {},
   "outputs": [],
   "source": []
  },
  {
   "cell_type": "code",
   "execution_count": null,
   "metadata": {},
   "outputs": [],
   "source": []
  },
  {
   "cell_type": "code",
   "execution_count": null,
   "metadata": {},
   "outputs": [],
   "source": []
  },
  {
   "cell_type": "code",
   "execution_count": null,
   "metadata": {},
   "outputs": [],
   "source": []
  },
  {
   "cell_type": "code",
   "execution_count": null,
   "metadata": {},
   "outputs": [],
   "source": []
  },
  {
   "cell_type": "code",
   "execution_count": null,
   "metadata": {},
   "outputs": [],
   "source": []
  },
  {
   "cell_type": "code",
   "execution_count": 108,
   "metadata": {},
   "outputs": [
    {
     "data": {
      "text/plain": [
       "Recruiting                 1839\n",
       "Not yet recruiting          841\n",
       "Completed                   393\n",
       "Active, not recruiting      233\n",
       "Enrolling by invitation     115\n",
       "Withdrawn                    48\n",
       "Terminated                   20\n",
       "Available                    19\n",
       "Suspended                    19\n",
       "No longer available           4\n",
       "Approved for marketing        1\n",
       "Name: overall_status, dtype: int64"
      ]
     },
     "execution_count": 108,
     "metadata": {},
     "output_type": "execute_result"
    }
   ],
   "source": [
    "df2[\"overall_status\"].value_counts()"
   ]
  },
  {
   "cell_type": "code",
   "execution_count": 110,
   "metadata": {},
   "outputs": [
    {
     "data": {
      "text/plain": [
       "Paris                    65\n",
       "Istanbul                 58\n",
       "London                   55\n",
       "New York                 55\n",
       "Cairo                    43\n",
       "                         ..\n",
       "Halle                     1\n",
       "Lyon 4                    1\n",
       "Cornellà De Llobregat     1\n",
       "Colorado Springs          1\n",
       "Pilar                     1\n",
       "Name: city, Length: 936, dtype: int64"
      ]
     },
     "execution_count": 110,
     "metadata": {},
     "output_type": "execute_result"
    }
   ],
   "source": [
    "for city in x:\n",
    "    for \n",
    "    df2['city'].value_counts()"
   ]
  },
  {
   "cell_type": "code",
   "execution_count": null,
   "metadata": {},
   "outputs": [],
   "source": []
  },
  {
   "cell_type": "code",
   "execution_count": null,
   "metadata": {},
   "outputs": [],
   "source": []
  },
  {
   "cell_type": "code",
   "execution_count": null,
   "metadata": {},
   "outputs": [],
   "source": []
  },
  {
   "cell_type": "code",
   "execution_count": null,
   "metadata": {},
   "outputs": [],
   "source": []
  },
  {
   "cell_type": "code",
   "execution_count": null,
   "metadata": {},
   "outputs": [],
   "source": []
  },
  {
   "cell_type": "code",
   "execution_count": null,
   "metadata": {},
   "outputs": [],
   "source": []
  },
  {
   "cell_type": "code",
   "execution_count": 105,
   "metadata": {},
   "outputs": [
    {
     "data": {
      "text/html": [
       "<div>\n",
       "<style scoped>\n",
       "    .dataframe tbody tr th:only-of-type {\n",
       "        vertical-align: middle;\n",
       "    }\n",
       "\n",
       "    .dataframe tbody tr th {\n",
       "        vertical-align: top;\n",
       "    }\n",
       "\n",
       "    .dataframe thead th {\n",
       "        text-align: right;\n",
       "    }\n",
       "</style>\n",
       "<table border=\"1\" class=\"dataframe\">\n",
       "  <thead>\n",
       "    <tr style=\"text-align: right;\">\n",
       "      <th></th>\n",
       "      <th>sampling method</th>\n",
       "    </tr>\n",
       "  </thead>\n",
       "  <tbody>\n",
       "    <tr>\n",
       "      <th>769</th>\n",
       "      <td>NaN</td>\n",
       "    </tr>\n",
       "    <tr>\n",
       "      <th>824</th>\n",
       "      <td>NaN</td>\n",
       "    </tr>\n",
       "    <tr>\n",
       "      <th>965</th>\n",
       "      <td>NaN</td>\n",
       "    </tr>\n",
       "    <tr>\n",
       "      <th>1015</th>\n",
       "      <td>NaN</td>\n",
       "    </tr>\n",
       "    <tr>\n",
       "      <th>1423</th>\n",
       "      <td>NaN</td>\n",
       "    </tr>\n",
       "    <tr>\n",
       "      <th>1668</th>\n",
       "      <td>NaN</td>\n",
       "    </tr>\n",
       "    <tr>\n",
       "      <th>2377</th>\n",
       "      <td>NaN</td>\n",
       "    </tr>\n",
       "    <tr>\n",
       "      <th>2573</th>\n",
       "      <td>NaN</td>\n",
       "    </tr>\n",
       "    <tr>\n",
       "      <th>2583</th>\n",
       "      <td>NaN</td>\n",
       "    </tr>\n",
       "    <tr>\n",
       "      <th>2674</th>\n",
       "      <td>NaN</td>\n",
       "    </tr>\n",
       "    <tr>\n",
       "      <th>2963</th>\n",
       "      <td>NaN</td>\n",
       "    </tr>\n",
       "    <tr>\n",
       "      <th>3333</th>\n",
       "      <td>NaN</td>\n",
       "    </tr>\n",
       "    <tr>\n",
       "      <th>3362</th>\n",
       "      <td>NaN</td>\n",
       "    </tr>\n",
       "    <tr>\n",
       "      <th>3479</th>\n",
       "      <td>NaN</td>\n",
       "    </tr>\n",
       "  </tbody>\n",
       "</table>\n",
       "</div>"
      ],
      "text/plain": [
       "     sampling method\n",
       "769              NaN\n",
       "824              NaN\n",
       "965              NaN\n",
       "1015             NaN\n",
       "1423             NaN\n",
       "1668             NaN\n",
       "2377             NaN\n",
       "2573             NaN\n",
       "2583             NaN\n",
       "2674             NaN\n",
       "2963             NaN\n",
       "3333             NaN\n",
       "3362             NaN\n",
       "3479             NaN"
      ]
     },
     "execution_count": 105,
     "metadata": {},
     "output_type": "execute_result"
    }
   ],
   "source": [
    "final"
   ]
  },
  {
   "cell_type": "code",
   "execution_count": null,
   "metadata": {},
   "outputs": [],
   "source": []
  },
  {
   "cell_type": "code",
   "execution_count": null,
   "metadata": {},
   "outputs": [],
   "source": []
  },
  {
   "cell_type": "code",
   "execution_count": null,
   "metadata": {},
   "outputs": [],
   "source": []
  },
  {
   "cell_type": "code",
   "execution_count": null,
   "metadata": {},
   "outputs": [],
   "source": []
  },
  {
   "cell_type": "code",
   "execution_count": null,
   "metadata": {},
   "outputs": [],
   "source": []
  },
  {
   "cell_type": "code",
   "execution_count": null,
   "metadata": {},
   "outputs": [],
   "source": []
  },
  {
   "cell_type": "code",
   "execution_count": null,
   "metadata": {},
   "outputs": [],
   "source": []
  },
  {
   "cell_type": "code",
   "execution_count": null,
   "metadata": {},
   "outputs": [],
   "source": []
  },
  {
   "cell_type": "code",
   "execution_count": null,
   "metadata": {},
   "outputs": [],
   "source": []
  },
  {
   "cell_type": "code",
   "execution_count": 93,
   "metadata": {},
   "outputs": [
    {
     "data": {
      "text/plain": [
       "164                   NaN\n",
       "169    Probability Sample\n",
       "Name: sampling_method, dtype: object"
      ]
     },
     "execution_count": 93,
     "metadata": {},
     "output_type": "execute_result"
    }
   ],
   "source": [
    "final"
   ]
  },
  {
   "cell_type": "code",
   "execution_count": null,
   "metadata": {},
   "outputs": [],
   "source": []
  },
  {
   "cell_type": "code",
   "execution_count": null,
   "metadata": {},
   "outputs": [],
   "source": []
  },
  {
   "cell_type": "code",
   "execution_count": null,
   "metadata": {},
   "outputs": [],
   "source": []
  },
  {
   "cell_type": "code",
   "execution_count": null,
   "metadata": {},
   "outputs": [],
   "source": []
  },
  {
   "cell_type": "code",
   "execution_count": null,
   "metadata": {},
   "outputs": [],
   "source": []
  },
  {
   "cell_type": "code",
   "execution_count": null,
   "metadata": {},
   "outputs": [],
   "source": []
  },
  {
   "cell_type": "code",
   "execution_count": null,
   "metadata": {},
   "outputs": [],
   "source": []
  },
  {
   "cell_type": "code",
   "execution_count": null,
   "metadata": {},
   "outputs": [],
   "source": []
  },
  {
   "cell_type": "code",
   "execution_count": null,
   "metadata": {},
   "outputs": [],
   "source": []
  },
  {
   "cell_type": "code",
   "execution_count": null,
   "metadata": {},
   "outputs": [],
   "source": []
  },
  {
   "cell_type": "code",
   "execution_count": 244,
   "metadata": {},
   "outputs": [
    {
     "data": {
      "text/plain": [
       "Index(['Recruiting', 'Not yet recruiting', 'Completed',\n",
       "       'Active, not recruiting', 'Enrolling by invitation', 'Withdrawn',\n",
       "       'Terminated', 'Available', 'Suspended', 'No longer available',\n",
       "       'Approved for marketing'],\n",
       "      dtype='object')"
      ]
     },
     "execution_count": 244,
     "metadata": {},
     "output_type": "execute_result"
    }
   ],
   "source": [
    "y_status.keys()"
   ]
  },
  {
   "cell_type": "code",
   "execution_count": null,
   "metadata": {},
   "outputs": [],
   "source": []
  },
  {
   "cell_type": "code",
   "execution_count": 269,
   "metadata": {},
   "outputs": [
    {
     "data": {
      "image/png": "[encoded data removed]",
      "text/plain": [
       "<Figure size 2520x1440 with 1 Axes>"
      ]
     },
     "metadata": {
      "needs_background": "light"
     },
     "output_type": "display_data"
    }
   ],
   "source": [
    " def status_cal():\n",
    "    y_status=test4['overall_status'].value_counts()\n",
    "    y_keys=y_status.keys()\n",
    "    x=trial_count.keys()\n",
    "    fig,ax=plt.subplots(figsize=(35,20) )\n",
    "    mon=['Recruiting', 'Not yet recruiting', 'Completed',\n",
    "       'Active',' not recruiting', 'Enrolling by invitation', 'Withdrawn',\n",
    "       'Terminated', 'Available', 'Suspended', 'No longer available',\n",
    "       'Approved for marketing']\n",
    "    ax.set_xlim(xmin=0,xmax=13)\n",
    "    z=ax.bar(x,trial_count,label='No. of Trials',color='red')\n",
    "    ax.set_title(\"Overall status\")\n",
    "    ax.set_xlabel(\"......................status.....................\")\n",
    "    ax.set_ylabel(\"No. of Trials\")\n",
    "    ax.set_xticks(np.arange(1,13,1))\n",
    "    ax.set_xticklabels(mon)\n",
    "    ax.legend(loc=\"upper right\")\n",
    "    totals=[]\n",
    "    for i in ax.patches:\n",
    "        totals.append(i.get_width())\n",
    "    total=sum(totals)\n",
    "    count=0\n",
    "    for i in ax.patches:\n",
    "        ax.text(i.get_x()+.1,i.get_y()+i.get_height()+5,\n",
    "               str(round((i.get_height()),2)),fontsize=15,\n",
    "               color='green')\n",
    "status_cal() "
   ]
  },
  {
   "cell_type": "code",
   "execution_count": null,
   "metadata": {},
   "outputs": [],
   "source": []
  },
  {
   "cell_type": "code",
   "execution_count": null,
   "metadata": {},
   "outputs": [],
   "source": []
  },
  {
   "cell_type": "code",
   "execution_count": null,
   "metadata": {},
   "outputs": [],
   "source": []
  },
  {
   "cell_type": "code",
   "execution_count": null,
   "metadata": {},
   "outputs": [],
   "source": []
  },
  {
   "cell_type": "code",
   "execution_count": null,
   "metadata": {},
   "outputs": [],
   "source": []
  },
  {
   "cell_type": "code",
   "execution_count": null,
   "metadata": {},
   "outputs": [],
   "source": []
  },
  {
   "cell_type": "code",
   "execution_count": null,
   "metadata": {},
   "outputs": [],
   "source": []
  },
  {
   "cell_type": "code",
   "execution_count": null,
   "metadata": {},
   "outputs": [],
   "source": []
  },
  {
   "cell_type": "code",
   "execution_count": null,
   "metadata": {},
   "outputs": [],
   "source": []
  },
  {
   "cell_type": "code",
   "execution_count": null,
   "metadata": {},
   "outputs": [],
   "source": []
  },
  {
   "cell_type": "code",
   "execution_count": null,
   "metadata": {},
   "outputs": [],
   "source": []
  },
  {
   "cell_type": "code",
   "execution_count": null,
   "metadata": {},
   "outputs": [],
   "source": []
  },
  {
   "cell_type": "code",
   "execution_count": null,
   "metadata": {},
   "outputs": [],
   "source": []
  },
  {
   "cell_type": "code",
   "execution_count": null,
   "metadata": {},
   "outputs": [],
   "source": []
  },
  {
   "cell_type": "code",
   "execution_count": null,
   "metadata": {},
   "outputs": [],
   "source": []
  },
  {
   "cell_type": "code",
   "execution_count": null,
   "metadata": {},
   "outputs": [],
   "source": []
  },
  {
   "cell_type": "code",
   "execution_count": null,
   "metadata": {},
   "outputs": [],
   "source": []
  },
  {
   "cell_type": "code",
   "execution_count": null,
   "metadata": {},
   "outputs": [],
   "source": []
  },
  {
   "cell_type": "code",
   "execution_count": null,
   "metadata": {},
   "outputs": [],
   "source": []
  },
  {
   "cell_type": "code",
   "execution_count": 253,
   "metadata": {},
   "outputs": [
    {
     "data": {
      "image/png": "[encoded data removed]",
      "text/plain": [
       "<Figure size 2160x720 with 1 Axes>"
      ]
     },
     "metadata": {
      "needs_background": "light"
     },
     "output_type": "display_data"
    }
   ],
   "source": []
  },
  {
   "cell_type": "code",
   "execution_count": null,
   "metadata": {},
   "outputs": [],
   "source": []
  },
  {
   "cell_type": "code",
   "execution_count": null,
   "metadata": {},
   "outputs": [],
   "source": []
  },
  {
   "cell_type": "code",
   "execution_count": null,
   "metadata": {},
   "outputs": [],
   "source": []
  },
  {
   "cell_type": "code",
   "execution_count": null,
   "metadata": {},
   "outputs": [],
   "source": []
  },
  {
   "cell_type": "code",
   "execution_count": null,
   "metadata": {},
   "outputs": [],
   "source": []
  },
  {
   "cell_type": "code",
   "execution_count": null,
   "metadata": {},
   "outputs": [],
   "source": []
  },
  {
   "cell_type": "code",
   "execution_count": 243,
   "metadata": {},
   "outputs": [
    {
     "data": {
      "text/plain": [
       "Index(['Recruiting', 'Not yet recruiting', 'Completed',\n",
       "       'Active, not recruiting', 'Enrolling by invitation', 'Withdrawn',\n",
       "       'Terminated', 'Available', 'Suspended', 'No longer available',\n",
       "       'Approved for marketing'],\n",
       "      dtype='object')"
      ]
     },
     "execution_count": 243,
     "metadata": {},
     "output_type": "execute_result"
    }
   ],
   "source": [
    "y_keys"
   ]
  },
  {
   "cell_type": "code",
   "execution_count": null,
   "metadata": {},
   "outputs": [],
   "source": []
  },
  {
   "cell_type": "code",
   "execution_count": null,
   "metadata": {},
   "outputs": [],
   "source": []
  },
  {
   "cell_type": "code",
   "execution_count": null,
   "metadata": {},
   "outputs": [],
   "source": []
  },
  {
   "cell_type": "code",
   "execution_count": null,
   "metadata": {},
   "outputs": [],
   "source": []
  },
  {
   "cell_type": "code",
   "execution_count": null,
   "metadata": {},
   "outputs": [],
   "source": []
  },
  {
   "cell_type": "code",
   "execution_count": null,
   "metadata": {},
   "outputs": [],
   "source": []
  },
  {
   "cell_type": "code",
   "execution_count": null,
   "metadata": {},
   "outputs": [],
   "source": []
  },
  {
   "cell_type": "code",
   "execution_count": 271,
   "metadata": {},
   "outputs": [
    {
     "data": {
      "image/png": "[encoded data removed]",
      "text/plain": [
       "<Figure size 720x360 with 1 Axes>"
      ]
     },
     "metadata": {
      "needs_background": "light"
     },
     "output_type": "display_data"
    },
    {
     "data": {
      "image/png": "[encoded data removed]",
      "text/plain": [
       "<Figure size 432x288 with 1 Axes>"
      ]
     },
     "metadata": {
      "needs_background": "light"
     },
     "output_type": "display_data"
    },
    {
     "data": {
      "image/png": "[encoded data removed]",
      "text/plain": [
       "<Figure size 432x288 with 1 Axes>"
      ]
     },
     "metadata": {
      "needs_background": "light"
     },
     "output_type": "display_data"
    },
    {
     "data": {
      "image/png": "[encoded data removed]",
      "text/plain": [
       "<Figure size 1080x360 with 1 Axes>"
      ]
     },
     "metadata": {
      "needs_background": "light"
     },
     "output_type": "display_data"
    },
    {
     "data": {
      "image/png": "[encoded data removed]",
      "text/plain": [
       "<Figure size 2160x720 with 1 Axes>"
      ]
     },
     "metadata": {},
     "output_type": "display_data"
    },
    {
     "ename": "NameError",
     "evalue": "name 'status_call' is not defined",
     "output_type": "error",
     "traceback": [
      "\u001b[1;31m---------------------------------------------------------------------------\u001b[0m",
      "\u001b[1;31mNameError\u001b[0m                                 Traceback (most recent call last)",
      "\u001b[1;32m<ipython-input-271-43e349aac345>\u001b[0m in \u001b[0;36m<module>\u001b[1;34m\u001b[0m\n\u001b[0;32m      4\u001b[0m \u001b[0mmake_stack\u001b[0m\u001b[1;33m(\u001b[0m\u001b[1;33m)\u001b[0m\u001b[1;33m\u001b[0m\u001b[1;33m\u001b[0m\u001b[0m\n\u001b[0;32m      5\u001b[0m \u001b[0mmake_pie\u001b[0m\u001b[1;33m(\u001b[0m\u001b[1;33m)\u001b[0m\u001b[1;33m\u001b[0m\u001b[1;33m\u001b[0m\u001b[0m\n\u001b[1;32m----> 6\u001b[1;33m \u001b[0mstatus_call\u001b[0m\u001b[1;33m(\u001b[0m\u001b[1;33m)\u001b[0m\u001b[1;33m\u001b[0m\u001b[1;33m\u001b[0m\u001b[0m\n\u001b[0m",
      "\u001b[1;31mNameError\u001b[0m: name 'status_call' is not defined"
     ]
    }
   ],
   "source": [
    "make_count()\n",
    "make_studytype()\n",
    "make_bar()\n",
    "make_stack()\n",
    "make_pie()\n",
    "status_call()"
   ]
  },
  {
   "cell_type": "code",
   "execution_count": null,
   "metadata": {},
   "outputs": [],
   "source": []
  },
  {
   "cell_type": "code",
   "execution_count": null,
   "metadata": {},
   "outputs": [],
   "source": []
  },
  {
   "cell_type": "code",
   "execution_count": null,
   "metadata": {},
   "outputs": [],
   "source": []
  },
  {
   "cell_type": "code",
   "execution_count": null,
   "metadata": {},
   "outputs": [],
   "source": []
  },
  {
   "cell_type": "code",
   "execution_count": null,
   "metadata": {},
   "outputs": [],
   "source": []
  },
  {
   "cell_type": "code",
   "execution_count": null,
   "metadata": {},
   "outputs": [],
   "source": []
  },
  {
   "cell_type": "code",
   "execution_count": null,
   "metadata": {},
   "outputs": [],
   "source": []
  },
  {
   "cell_type": "code",
   "execution_count": null,
   "metadata": {},
   "outputs": [],
   "source": []
  },
  {
   "cell_type": "code",
   "execution_count": null,
   "metadata": {},
   "outputs": [],
   "source": []
  },
  {
   "cell_type": "code",
   "execution_count": null,
   "metadata": {},
   "outputs": [],
   "source": []
  },
  {
   "cell_type": "code",
   "execution_count": null,
   "metadata": {},
   "outputs": [],
   "source": []
  },
  {
   "cell_type": "code",
   "execution_count": null,
   "metadata": {},
   "outputs": [],
   "source": []
  },
  {
   "cell_type": "code",
   "execution_count": null,
   "metadata": {},
   "outputs": [],
   "source": []
  },
  {
   "cell_type": "code",
   "execution_count": null,
   "metadata": {},
   "outputs": [],
   "source": []
  },
  {
   "cell_type": "code",
   "execution_count": null,
   "metadata": {},
   "outputs": [],
   "source": []
  },
  {
   "cell_type": "code",
   "execution_count": null,
   "metadata": {},
   "outputs": [],
   "source": []
  },
  {
   "cell_type": "code",
   "execution_count": null,
   "metadata": {},
   "outputs": [],
   "source": []
  },
  {
   "cell_type": "code",
   "execution_count": null,
   "metadata": {},
   "outputs": [],
   "source": []
  },
  {
   "cell_type": "code",
   "execution_count": null,
   "metadata": {},
   "outputs": [],
   "source": []
  },
  {
   "cell_type": "code",
   "execution_count": null,
   "metadata": {},
   "outputs": [],
   "source": []
  },
  {
   "cell_type": "code",
   "execution_count": null,
   "metadata": {},
   "outputs": [],
   "source": []
  },
  {
   "cell_type": "code",
   "execution_count": null,
   "metadata": {},
   "outputs": [],
   "source": []
  },
  {
   "cell_type": "code",
   "execution_count": null,
   "metadata": {},
   "outputs": [],
   "source": []
  },
  {
   "cell_type": "code",
   "execution_count": null,
   "metadata": {},
   "outputs": [],
   "source": []
  },
  {
   "cell_type": "code",
   "execution_count": null,
   "metadata": {},
   "outputs": [],
   "source": []
  },
  {
   "cell_type": "code",
   "execution_count": null,
   "metadata": {},
   "outputs": [],
   "source": []
  },
  {
   "cell_type": "code",
   "execution_count": null,
   "metadata": {},
   "outputs": [],
   "source": []
  },
  {
   "cell_type": "code",
   "execution_count": null,
   "metadata": {},
   "outputs": [],
   "source": []
  },
  {
   "cell_type": "code",
   "execution_count": null,
   "metadata": {},
   "outputs": [],
   "source": []
  },
  {
   "cell_type": "code",
   "execution_count": null,
   "metadata": {},
   "outputs": [],
   "source": []
  },
  {
   "cell_type": "code",
   "execution_count": null,
   "metadata": {},
   "outputs": [],
   "source": []
  },
  {
   "cell_type": "code",
   "execution_count": 301,
   "metadata": {},
   "outputs": [
    {
     "data": {
      "image/png": "[encoded data removed]",
      "text/plain": [
       "<Figure size 1440x720 with 1 Axes>"
      ]
     },
     "execution_count": 301,
     "metadata": {},
     "output_type": "execute_result"
    }
   ],
   "source": []
  },
  {
   "cell_type": "code",
   "execution_count": null,
   "metadata": {},
   "outputs": [],
   "source": []
  },
  {
   "cell_type": "code",
   "execution_count": null,
   "metadata": {},
   "outputs": [],
   "source": []
  },
  {
   "cell_type": "code",
   "execution_count": null,
   "metadata": {},
   "outputs": [],
   "source": []
  },
  {
   "cell_type": "code",
   "execution_count": null,
   "metadata": {},
   "outputs": [],
   "source": []
  },
  {
   "cell_type": "code",
   "execution_count": null,
   "metadata": {},
   "outputs": [],
   "source": []
  },
  {
   "cell_type": "code",
   "execution_count": null,
   "metadata": {},
   "outputs": [],
   "source": []
  },
  {
   "cell_type": "code",
   "execution_count": null,
   "metadata": {},
   "outputs": [],
   "source": []
  },
  {
   "cell_type": "code",
   "execution_count": null,
   "metadata": {},
   "outputs": [],
   "source": []
  },
  {
   "cell_type": "code",
   "execution_count": null,
   "metadata": {},
   "outputs": [],
   "source": []
  },
  {
   "cell_type": "code",
   "execution_count": null,
   "metadata": {},
   "outputs": [],
   "source": []
  },
  {
   "cell_type": "code",
   "execution_count": null,
   "metadata": {},
   "outputs": [],
   "source": []
  },
  {
   "cell_type": "code",
   "execution_count": null,
   "metadata": {},
   "outputs": [],
   "source": []
  },
  {
   "cell_type": "code",
   "execution_count": null,
   "metadata": {},
   "outputs": [],
   "source": []
  },
  {
   "cell_type": "code",
   "execution_count": null,
   "metadata": {},
   "outputs": [],
   "source": []
  },
  {
   "cell_type": "code",
   "execution_count": null,
   "metadata": {},
   "outputs": [],
   "source": []
  },
  {
   "cell_type": "code",
   "execution_count": null,
   "metadata": {},
   "outputs": [],
   "source": []
  },
  {
   "cell_type": "code",
   "execution_count": null,
   "metadata": {},
   "outputs": [],
   "source": []
  },
  {
   "cell_type": "code",
   "execution_count": 258,
   "metadata": {},
   "outputs": [
    {
     "data": {
      "text/plain": [
       "(0.0, 10099982.0)"
      ]
     },
     "execution_count": 258,
     "metadata": {},
     "output_type": "execute_result"
    }
   ],
   "source": []
  },
  {
   "cell_type": "code",
   "execution_count": 295,
   "metadata": {},
   "outputs": [],
   "source": [
    "fig.tight_layout()"
   ]
  },
  {
   "cell_type": "code",
   "execution_count": null,
   "metadata": {},
   "outputs": [],
   "source": []
  },
  {
   "cell_type": "code",
   "execution_count": 296,
   "metadata": {},
   "outputs": [
    {
     "data": {
      "image/png": "[encoded data removed]",
      "text/plain": [
       "<Figure size 1440x720 with 1 Axes>"
      ]
     },
     "execution_count": 296,
     "metadata": {},
     "output_type": "execute_result"
    }
   ],
   "source": [
    "fig"
   ]
  },
  {
   "cell_type": "code",
   "execution_count": null,
   "metadata": {},
   "outputs": [],
   "source": []
  },
  {
   "cell_type": "code",
   "execution_count": null,
   "metadata": {},
   "outputs": [],
   "source": []
  },
  {
   "cell_type": "code",
   "execution_count": null,
   "metadata": {},
   "outputs": [],
   "source": []
  },
  {
   "cell_type": "code",
   "execution_count": null,
   "metadata": {},
   "outputs": [],
   "source": []
  },
  {
   "cell_type": "code",
   "execution_count": null,
   "metadata": {},
   "outputs": [],
   "source": []
  },
  {
   "cell_type": "code",
   "execution_count": null,
   "metadata": {},
   "outputs": [],
   "source": []
  },
  {
   "cell_type": "code",
   "execution_count": null,
   "metadata": {},
   "outputs": [],
   "source": []
  },
  {
   "cell_type": "code",
   "execution_count": null,
   "metadata": {},
   "outputs": [],
   "source": []
  },
  {
   "cell_type": "code",
   "execution_count": null,
   "metadata": {},
   "outputs": [],
   "source": []
  },
  {
   "cell_type": "code",
   "execution_count": null,
   "metadata": {},
   "outputs": [],
   "source": []
  },
  {
   "cell_type": "code",
   "execution_count": null,
   "metadata": {},
   "outputs": [],
   "source": []
  },
  {
   "cell_type": "code",
   "execution_count": null,
   "metadata": {},
   "outputs": [],
   "source": []
  },
  {
   "cell_type": "code",
   "execution_count": null,
   "metadata": {},
   "outputs": [],
   "source": []
  },
  {
   "cell_type": "code",
   "execution_count": null,
   "metadata": {},
   "outputs": [],
   "source": []
  },
  {
   "cell_type": "code",
   "execution_count": null,
   "metadata": {},
   "outputs": [],
   "source": []
  },
  {
   "cell_type": "code",
   "execution_count": null,
   "metadata": {},
   "outputs": [],
   "source": []
  },
  {
   "cell_type": "code",
   "execution_count": null,
   "metadata": {},
   "outputs": [],
   "source": []
  },
  {
   "cell_type": "code",
   "execution_count": null,
   "metadata": {},
   "outputs": [],
   "source": []
  },
  {
   "cell_type": "code",
   "execution_count": null,
   "metadata": {},
   "outputs": [],
   "source": []
  },
  {
   "cell_type": "code",
   "execution_count": null,
   "metadata": {},
   "outputs": [],
   "source": []
  },
  {
   "cell_type": "code",
   "execution_count": null,
   "metadata": {},
   "outputs": [],
   "source": []
  },
  {
   "cell_type": "code",
   "execution_count": null,
   "metadata": {},
   "outputs": [],
   "source": []
  },
  {
   "cell_type": "code",
   "execution_count": null,
   "metadata": {},
   "outputs": [],
   "source": []
  },
  {
   "cell_type": "code",
   "execution_count": null,
   "metadata": {},
   "outputs": [],
   "source": []
  },
  {
   "cell_type": "code",
   "execution_count": null,
   "metadata": {},
   "outputs": [],
   "source": []
  },
  {
   "cell_type": "code",
   "execution_count": null,
   "metadata": {},
   "outputs": [],
   "source": []
  },
  {
   "cell_type": "code",
   "execution_count": null,
   "metadata": {},
   "outputs": [],
   "source": []
  },
  {
   "cell_type": "code",
   "execution_count": null,
   "metadata": {},
   "outputs": [],
   "source": []
  },
  {
   "cell_type": "code",
   "execution_count": null,
   "metadata": {},
   "outputs": [],
   "source": []
  },
  {
   "cell_type": "code",
   "execution_count": null,
   "metadata": {},
   "outputs": [],
   "source": []
  },
  {
   "cell_type": "code",
   "execution_count": null,
   "metadata": {},
   "outputs": [],
   "source": []
  },
  {
   "cell_type": "code",
   "execution_count": null,
   "metadata": {},
   "outputs": [],
   "source": []
  },
  {
   "cell_type": "code",
   "execution_count": null,
   "metadata": {},
   "outputs": [],
   "source": []
  },
  {
   "cell_type": "code",
   "execution_count": null,
   "metadata": {},
   "outputs": [],
   "source": []
  },
  {
   "cell_type": "code",
   "execution_count": null,
   "metadata": {},
   "outputs": [],
   "source": []
  },
  {
   "cell_type": "code",
   "execution_count": null,
   "metadata": {},
   "outputs": [],
   "source": []
  },
  {
   "cell_type": "code",
   "execution_count": null,
   "metadata": {},
   "outputs": [],
   "source": []
  },
  {
   "cell_type": "code",
   "execution_count": null,
   "metadata": {},
   "outputs": [],
   "source": []
  },
  {
   "cell_type": "code",
   "execution_count": null,
   "metadata": {},
   "outputs": [],
   "source": []
  },
  {
   "cell_type": "code",
   "execution_count": null,
   "metadata": {},
   "outputs": [],
   "source": []
  },
  {
   "cell_type": "code",
   "execution_count": null,
   "metadata": {},
   "outputs": [],
   "source": []
  },
  {
   "cell_type": "code",
   "execution_count": null,
   "metadata": {},
   "outputs": [],
   "source": []
  },
  {
   "cell_type": "code",
   "execution_count": null,
   "metadata": {},
   "outputs": [],
   "source": []
  },
  {
   "cell_type": "code",
   "execution_count": null,
   "metadata": {},
   "outputs": [],
   "source": []
  },
  {
   "cell_type": "code",
   "execution_count": null,
   "metadata": {},
   "outputs": [],
   "source": []
  },
  {
   "cell_type": "code",
   "execution_count": null,
   "metadata": {},
   "outputs": [],
   "source": []
  },
  {
   "cell_type": "code",
   "execution_count": null,
   "metadata": {},
   "outputs": [],
   "source": []
  },
  {
   "cell_type": "code",
   "execution_count": null,
   "metadata": {},
   "outputs": [],
   "source": []
  },
  {
   "cell_type": "code",
   "execution_count": 113,
   "metadata": {},
   "outputs": [
    {
     "data": {
      "text/plain": [
       "(1849,)"
      ]
     },
     "execution_count": 113,
     "metadata": {},
     "output_type": "execute_result"
    }
   ],
   "source": [
    "label.shape"
   ]
  },
  {
   "cell_type": "code",
   "execution_count": null,
   "metadata": {},
   "outputs": [],
   "source": []
  },
  {
   "cell_type": "code",
   "execution_count": null,
   "metadata": {},
   "outputs": [],
   "source": []
  },
  {
   "cell_type": "code",
   "execution_count": null,
   "metadata": {},
   "outputs": [],
   "source": []
  },
  {
   "cell_type": "code",
   "execution_count": null,
   "metadata": {},
   "outputs": [],
   "source": []
  },
  {
   "cell_type": "code",
   "execution_count": null,
   "metadata": {},
   "outputs": [],
   "source": []
  },
  {
   "cell_type": "code",
   "execution_count": null,
   "metadata": {},
   "outputs": [],
   "source": []
  },
  {
   "cell_type": "code",
   "execution_count": null,
   "metadata": {},
   "outputs": [],
   "source": []
  },
  {
   "cell_type": "code",
   "execution_count": 105,
   "metadata": {},
   "outputs": [
    {
     "data": {
      "text/plain": [
       "60.0"
      ]
     },
     "execution_count": 105,
     "metadata": {},
     "output_type": "execute_result"
    }
   ],
   "source": [
    "z"
   ]
  },
  {
   "cell_type": "code",
   "execution_count": null,
   "metadata": {},
   "outputs": [],
   "source": []
  },
  {
   "cell_type": "code",
   "execution_count": null,
   "metadata": {},
   "outputs": [],
   "source": []
  },
  {
   "cell_type": "code",
   "execution_count": 103,
   "metadata": {},
   "outputs": [
    {
     "data": {
      "text/plain": [
       "60.0"
      ]
     },
     "execution_count": 103,
     "metadata": {},
     "output_type": "execute_result"
    }
   ],
   "source": [
    "z"
   ]
  },
  {
   "cell_type": "code",
   "execution_count": null,
   "metadata": {},
   "outputs": [],
   "source": []
  },
  {
   "cell_type": "code",
   "execution_count": null,
   "metadata": {},
   "outputs": [],
   "source": []
  },
  {
   "cell_type": "code",
   "execution_count": 99,
   "metadata": {},
   "outputs": [
    {
     "data": {
      "text/plain": [
       "()"
      ]
     },
     "execution_count": 99,
     "metadata": {},
     "output_type": "execute_result"
    }
   ],
   "source": [
    "x.shape\n"
   ]
  },
  {
   "cell_type": "code",
   "execution_count": null,
   "metadata": {},
   "outputs": [],
   "source": []
  },
  {
   "cell_type": "code",
   "execution_count": null,
   "metadata": {},
   "outputs": [],
   "source": []
  },
  {
   "cell_type": "code",
   "execution_count": null,
   "metadata": {},
   "outputs": [],
   "source": []
  },
  {
   "cell_type": "code",
   "execution_count": null,
   "metadata": {},
   "outputs": [],
   "source": []
  },
  {
   "cell_type": "code",
   "execution_count": null,
   "metadata": {},
   "outputs": [],
   "source": []
  },
  {
   "cell_type": "code",
   "execution_count": null,
   "metadata": {},
   "outputs": [],
   "source": []
  },
  {
   "cell_type": "code",
   "execution_count": null,
   "metadata": {},
   "outputs": [],
   "source": []
  },
  {
   "cell_type": "code",
   "execution_count": null,
   "metadata": {},
   "outputs": [],
   "source": []
  },
  {
   "cell_type": "code",
   "execution_count": null,
   "metadata": {},
   "outputs": [],
   "source": []
  },
  {
   "cell_type": "code",
   "execution_count": 89,
   "metadata": {},
   "outputs": [
    {
     "ename": "TypeError",
     "evalue": "Can only count levels on hierarchical index.",
     "output_type": "error",
     "traceback": [
      "\u001b[1;31m---------------------------------------------------------------------------\u001b[0m",
      "\u001b[1;31mTypeError\u001b[0m                                 Traceback (most recent call last)",
      "\u001b[1;32m<ipython-input-89-0fc50317bbfe>\u001b[0m in \u001b[0;36m<module>\u001b[1;34m\u001b[0m\n\u001b[1;32m----> 1\u001b[1;33m \u001b[0mtest9\u001b[0m\u001b[1;33m.\u001b[0m\u001b[0mset_index\u001b[0m\u001b[1;33m(\u001b[0m\u001b[1;33m[\u001b[0m\u001b[1;34m\"condition\"\u001b[0m\u001b[1;33m]\u001b[0m\u001b[1;33m)\u001b[0m\u001b[1;33m.\u001b[0m\u001b[0mcount\u001b[0m\u001b[1;33m(\u001b[0m\u001b[0mlevel\u001b[0m\u001b[1;33m=\u001b[0m\u001b[1;34m\"enrollment\"\u001b[0m\u001b[1;33m)\u001b[0m\u001b[1;33m\u001b[0m\u001b[1;33m\u001b[0m\u001b[0m\n\u001b[0m",
      "\u001b[1;32mC:\\ProgramData\\Anaconda3\\lib\\site-packages\\pandas\\core\\frame.py\u001b[0m in \u001b[0;36mcount\u001b[1;34m(self, axis, level, numeric_only)\u001b[0m\n\u001b[0;32m   7784\u001b[0m         \u001b[0maxis\u001b[0m \u001b[1;33m=\u001b[0m \u001b[0mself\u001b[0m\u001b[1;33m.\u001b[0m\u001b[0m_get_axis_number\u001b[0m\u001b[1;33m(\u001b[0m\u001b[0maxis\u001b[0m\u001b[1;33m)\u001b[0m\u001b[1;33m\u001b[0m\u001b[1;33m\u001b[0m\u001b[0m\n\u001b[0;32m   7785\u001b[0m         \u001b[1;32mif\u001b[0m \u001b[0mlevel\u001b[0m \u001b[1;32mis\u001b[0m \u001b[1;32mnot\u001b[0m \u001b[1;32mNone\u001b[0m\u001b[1;33m:\u001b[0m\u001b[1;33m\u001b[0m\u001b[1;33m\u001b[0m\u001b[0m\n\u001b[1;32m-> 7786\u001b[1;33m             \u001b[1;32mreturn\u001b[0m \u001b[0mself\u001b[0m\u001b[1;33m.\u001b[0m\u001b[0m_count_level\u001b[0m\u001b[1;33m(\u001b[0m\u001b[0mlevel\u001b[0m\u001b[1;33m,\u001b[0m \u001b[0maxis\u001b[0m\u001b[1;33m=\u001b[0m\u001b[0maxis\u001b[0m\u001b[1;33m,\u001b[0m \u001b[0mnumeric_only\u001b[0m\u001b[1;33m=\u001b[0m\u001b[0mnumeric_only\u001b[0m\u001b[1;33m)\u001b[0m\u001b[1;33m\u001b[0m\u001b[1;33m\u001b[0m\u001b[0m\n\u001b[0m\u001b[0;32m   7787\u001b[0m \u001b[1;33m\u001b[0m\u001b[0m\n\u001b[0;32m   7788\u001b[0m         \u001b[1;32mif\u001b[0m \u001b[0mnumeric_only\u001b[0m\u001b[1;33m:\u001b[0m\u001b[1;33m\u001b[0m\u001b[1;33m\u001b[0m\u001b[0m\n",
      "\u001b[1;32mC:\\ProgramData\\Anaconda3\\lib\\site-packages\\pandas\\core\\frame.py\u001b[0m in \u001b[0;36m_count_level\u001b[1;34m(self, level, axis, numeric_only)\u001b[0m\n\u001b[0;32m   7817\u001b[0m \u001b[1;33m\u001b[0m\u001b[0m\n\u001b[0;32m   7818\u001b[0m         \u001b[1;32mif\u001b[0m \u001b[1;32mnot\u001b[0m \u001b[0misinstance\u001b[0m\u001b[1;33m(\u001b[0m\u001b[0mcount_axis\u001b[0m\u001b[1;33m,\u001b[0m \u001b[0mABCMultiIndex\u001b[0m\u001b[1;33m)\u001b[0m\u001b[1;33m:\u001b[0m\u001b[1;33m\u001b[0m\u001b[1;33m\u001b[0m\u001b[0m\n\u001b[1;32m-> 7819\u001b[1;33m             raise TypeError(\n\u001b[0m\u001b[0;32m   7820\u001b[0m                 \u001b[1;34mf\"Can only count levels on hierarchical {self._get_axis_name(axis)}.\"\u001b[0m\u001b[1;33m\u001b[0m\u001b[1;33m\u001b[0m\u001b[0m\n\u001b[0;32m   7821\u001b[0m             )\n",
      "\u001b[1;31mTypeError\u001b[0m: Can only count levels on hierarchical index."
     ]
    }
   ],
   "source": [
    "test9.set_index([\"condition\"]).count(level=\"enrollment\")"
   ]
  },
  {
   "cell_type": "code",
   "execution_count": null,
   "metadata": {},
   "outputs": [],
   "source": []
  },
  {
   "cell_type": "code",
   "execution_count": null,
   "metadata": {},
   "outputs": [],
   "source": []
  },
  {
   "cell_type": "code",
   "execution_count": null,
   "metadata": {},
   "outputs": [],
   "source": []
  },
  {
   "cell_type": "code",
   "execution_count": null,
   "metadata": {},
   "outputs": [],
   "source": []
  },
  {
   "cell_type": "code",
   "execution_count": 53,
   "metadata": {},
   "outputs": [],
   "source": [
    "test9[\"sum\"]=0"
   ]
  },
  {
   "cell_type": "code",
   "execution_count": null,
   "metadata": {},
   "outputs": [],
   "source": []
  },
  {
   "cell_type": "code",
   "execution_count": 83,
   "metadata": {},
   "outputs": [
    {
     "data": {
      "text/plain": [
       "COVID-19                                                           372\n",
       "SARS (Severe Acute Respiratory Syndrome),COVID-19                  236\n",
       "COVID-19,ICU Acquired Weakness,Weaning Failure                     178\n",
       "Covid19                                                            134\n",
       "Severe COVID-19 Pneumonia                                          117\n",
       "                                                                  ... \n",
       "Depression,Burnout, Professional,Post Traumatic Stress Disorder      1\n",
       "Covid19,Ultrasound,ARDS                                              1\n",
       "COVID-19,Convalescence                                               1\n",
       "Infertility, Female,ART,IVF,COVID-19                                 1\n",
       "Colo-rectal Cancer,Colon Cancer,Rectal Cancer,Oncology,Surgery       1\n",
       "Name: condition, Length: 329, dtype: int64"
      ]
     },
     "execution_count": 83,
     "metadata": {},
     "output_type": "execute_result"
    }
   ],
   "source": [
    "test9[\"condition\"][test9[\"enrollment\"]].value_counts()"
   ]
  },
  {
   "cell_type": "code",
   "execution_count": null,
   "metadata": {},
   "outputs": [],
   "source": []
  },
  {
   "cell_type": "code",
   "execution_count": 82,
   "metadata": {},
   "outputs": [
    {
     "data": {
      "text/html": [
       "<div>\n",
       "<style scoped>\n",
       "    .dataframe tbody tr th:only-of-type {\n",
       "        vertical-align: middle;\n",
       "    }\n",
       "\n",
       "    .dataframe tbody tr th {\n",
       "        vertical-align: top;\n",
       "    }\n",
       "\n",
       "    .dataframe thead th {\n",
       "        text-align: right;\n",
       "    }\n",
       "</style>\n",
       "<table border=\"1\" class=\"dataframe\">\n",
       "  <thead>\n",
       "    <tr style=\"text-align: right;\">\n",
       "      <th></th>\n",
       "      <th>nct_id</th>\n",
       "      <th>overall_status</th>\n",
       "      <th>start_date</th>\n",
       "      <th>completion_date</th>\n",
       "      <th>condition</th>\n",
       "      <th>Study design info</th>\n",
       "      <th>eligibility</th>\n",
       "      <th>has_expanded_access</th>\n",
       "      <th>enrollment</th>\n",
       "      <th>month</th>\n",
       "      <th>sum</th>\n",
       "      <th>counts</th>\n",
       "    </tr>\n",
       "  </thead>\n",
       "  <tbody>\n",
       "    <tr>\n",
       "      <th>0</th>\n",
       "      <td>NCT04453566</td>\n",
       "      <td>Recruiting</td>\n",
       "      <td>2020-05-27</td>\n",
       "      <td>2020-12-01</td>\n",
       "      <td>COVID-19,Life Satisfaction,Anxiety,Mental Heal...</td>\n",
       "      <td>Other,Retrospective</td>\n",
       "      <td>sampling_method:Probability Sample,gender:All,...</td>\n",
       "      <td>No</td>\n",
       "      <td>120.0</td>\n",
       "      <td>5.0</td>\n",
       "      <td>COVID-19,Lung Infection</td>\n",
       "      <td>NaN</td>\n",
       "    </tr>\n",
       "    <tr>\n",
       "      <th>1</th>\n",
       "      <td>NCT04403386</td>\n",
       "      <td>Recruiting</td>\n",
       "      <td>2020-06-01</td>\n",
       "      <td>2022-05-31</td>\n",
       "      <td>COVID-19</td>\n",
       "      <td>Cohort,Prospective</td>\n",
       "      <td>sampling_method:Non-Probability Sample,gender:...</td>\n",
       "      <td>No</td>\n",
       "      <td>200.0</td>\n",
       "      <td>6.0</td>\n",
       "      <td>COVID-19,Lung Infection</td>\n",
       "      <td>NaN</td>\n",
       "    </tr>\n",
       "    <tr>\n",
       "      <th>2</th>\n",
       "      <td>NCT04526977</td>\n",
       "      <td>Not yet recruiting</td>\n",
       "      <td>2020-09-01</td>\n",
       "      <td>2021-09-30</td>\n",
       "      <td>Covid19,Immune Suppression,HIV-1-infection</td>\n",
       "      <td>Case-Control,Cross-Sectional</td>\n",
       "      <td>sampling_method:Non-Probability Sample,gender:...</td>\n",
       "      <td>No</td>\n",
       "      <td>90.0</td>\n",
       "      <td>9.0</td>\n",
       "      <td>COVID-19,Lung Infection</td>\n",
       "      <td>NaN</td>\n",
       "    </tr>\n",
       "    <tr>\n",
       "      <th>3</th>\n",
       "      <td>NCT04561102</td>\n",
       "      <td>Enrolling by invitation</td>\n",
       "      <td>2020-09-11</td>\n",
       "      <td>2020-12-31</td>\n",
       "      <td>SARS-CoV-2</td>\n",
       "      <td>Case-Only,Prospective</td>\n",
       "      <td>sampling_method:Non-Probability Sample,gender:...</td>\n",
       "      <td>No</td>\n",
       "      <td>2500.0</td>\n",
       "      <td>9.0</td>\n",
       "      <td>COVID-19,Lung Infection</td>\n",
       "      <td>NaN</td>\n",
       "    </tr>\n",
       "    <tr>\n",
       "      <th>4</th>\n",
       "      <td>NCT04375735</td>\n",
       "      <td>Not yet recruiting</td>\n",
       "      <td>2020-07-01</td>\n",
       "      <td>2021-07-01</td>\n",
       "      <td>ARDS, Human,COVID-19</td>\n",
       "      <td>Randomized,Parallel Assignment,Patients will b...</td>\n",
       "      <td>gender:All,Min Age:18 Years,Max Age:N/A</td>\n",
       "      <td>No</td>\n",
       "      <td>20.0</td>\n",
       "      <td>7.0</td>\n",
       "      <td>COVID-19,Lung Infection</td>\n",
       "      <td>NaN</td>\n",
       "    </tr>\n",
       "    <tr>\n",
       "      <th>...</th>\n",
       "      <td>...</td>\n",
       "      <td>...</td>\n",
       "      <td>...</td>\n",
       "      <td>...</td>\n",
       "      <td>...</td>\n",
       "      <td>...</td>\n",
       "      <td>...</td>\n",
       "      <td>...</td>\n",
       "      <td>...</td>\n",
       "      <td>...</td>\n",
       "      <td>...</td>\n",
       "      <td>...</td>\n",
       "    </tr>\n",
       "    <tr>\n",
       "      <th>3523</th>\n",
       "      <td>NCT04378803</td>\n",
       "      <td>Completed</td>\n",
       "      <td>2020-05-13</td>\n",
       "      <td>2020-08-04</td>\n",
       "      <td>Well Aging</td>\n",
       "      <td>Randomized,Crossover Assignment,The wait-list ...</td>\n",
       "      <td>gender:All,Min Age:60 Years,Max Age:95 Years</td>\n",
       "      <td>No</td>\n",
       "      <td>53.0</td>\n",
       "      <td>5.0</td>\n",
       "      <td>COVID-19,Lung Infection</td>\n",
       "      <td>NaN</td>\n",
       "    </tr>\n",
       "    <tr>\n",
       "      <th>3524</th>\n",
       "      <td>NCT04352634</td>\n",
       "      <td>Recruiting</td>\n",
       "      <td>2020-04-26</td>\n",
       "      <td>2021-12-31</td>\n",
       "      <td>Covid-19,Mental Health Disorder,Stress Disorde...</td>\n",
       "      <td>Cohort,Prospective</td>\n",
       "      <td>sampling_method:Non-Probability Sample,gender:...</td>\n",
       "      <td>No</td>\n",
       "      <td>2000.0</td>\n",
       "      <td>4.0</td>\n",
       "      <td>COVID-19,Lung Infection</td>\n",
       "      <td>NaN</td>\n",
       "    </tr>\n",
       "    <tr>\n",
       "      <th>3525</th>\n",
       "      <td>NCT04356144</td>\n",
       "      <td>Recruiting</td>\n",
       "      <td>2020-04-15</td>\n",
       "      <td>2020-12-01</td>\n",
       "      <td>Disseminated Intravascular Coagulation,Critica...</td>\n",
       "      <td>Cohort,Prospective</td>\n",
       "      <td>sampling_method:Non-Probability Sample,gender:...</td>\n",
       "      <td>No</td>\n",
       "      <td>60.0</td>\n",
       "      <td>4.0</td>\n",
       "      <td>COVID-19,Lung Infection</td>\n",
       "      <td>NaN</td>\n",
       "    </tr>\n",
       "    <tr>\n",
       "      <th>3526</th>\n",
       "      <td>NCT04429763</td>\n",
       "      <td>Not yet recruiting</td>\n",
       "      <td>2020-07-01</td>\n",
       "      <td>2020-11-01</td>\n",
       "      <td>COVID-19</td>\n",
       "      <td>Randomized,Parallel Assignment,It will be incl...</td>\n",
       "      <td>gender:All,Min Age:18 Years,Max Age:79 Years</td>\n",
       "      <td>No</td>\n",
       "      <td>30.0</td>\n",
       "      <td>7.0</td>\n",
       "      <td>COVID-19,Lung Infection</td>\n",
       "      <td>NaN</td>\n",
       "    </tr>\n",
       "    <tr>\n",
       "      <th>3527</th>\n",
       "      <td>NCT04529525</td>\n",
       "      <td>Recruiting</td>\n",
       "      <td>2020-08-19</td>\n",
       "      <td>2021-01-31</td>\n",
       "      <td>Covid19</td>\n",
       "      <td>Randomized,Parallel Assignment,Treatment,Quadr...</td>\n",
       "      <td>gender:All,Min Age:18 Years,Max Age:N/A</td>\n",
       "      <td>No</td>\n",
       "      <td>500.0</td>\n",
       "      <td>8.0</td>\n",
       "      <td>COVID-19,Lung Infection</td>\n",
       "      <td>NaN</td>\n",
       "    </tr>\n",
       "  </tbody>\n",
       "</table>\n",
       "<p>3528 rows × 12 columns</p>\n",
       "</div>"
      ],
      "text/plain": [
       "           nct_id           overall_status start_date completion_date  \\\n",
       "0     NCT04453566               Recruiting 2020-05-27      2020-12-01   \n",
       "1     NCT04403386               Recruiting 2020-06-01      2022-05-31   \n",
       "2     NCT04526977       Not yet recruiting 2020-09-01      2021-09-30   \n",
       "3     NCT04561102  Enrolling by invitation 2020-09-11      2020-12-31   \n",
       "4     NCT04375735       Not yet recruiting 2020-07-01      2021-07-01   \n",
       "...           ...                      ...        ...             ...   \n",
       "3523  NCT04378803                Completed 2020-05-13      2020-08-04   \n",
       "3524  NCT04352634               Recruiting 2020-04-26      2021-12-31   \n",
       "3525  NCT04356144               Recruiting 2020-04-15      2020-12-01   \n",
       "3526  NCT04429763       Not yet recruiting 2020-07-01      2020-11-01   \n",
       "3527  NCT04529525               Recruiting 2020-08-19      2021-01-31   \n",
       "\n",
       "                                              condition  \\\n",
       "0     COVID-19,Life Satisfaction,Anxiety,Mental Heal...   \n",
       "1                                              COVID-19   \n",
       "2            Covid19,Immune Suppression,HIV-1-infection   \n",
       "3                                            SARS-CoV-2   \n",
       "4                                  ARDS, Human,COVID-19   \n",
       "...                                                 ...   \n",
       "3523                                         Well Aging   \n",
       "3524  Covid-19,Mental Health Disorder,Stress Disorde...   \n",
       "3525  Disseminated Intravascular Coagulation,Critica...   \n",
       "3526                                           COVID-19   \n",
       "3527                                            Covid19   \n",
       "\n",
       "                                      Study design info  \\\n",
       "0                                   Other,Retrospective   \n",
       "1                                    Cohort,Prospective   \n",
       "2                          Case-Control,Cross-Sectional   \n",
       "3                                 Case-Only,Prospective   \n",
       "4     Randomized,Parallel Assignment,Patients will b...   \n",
       "...                                                 ...   \n",
       "3523  Randomized,Crossover Assignment,The wait-list ...   \n",
       "3524                                 Cohort,Prospective   \n",
       "3525                                 Cohort,Prospective   \n",
       "3526  Randomized,Parallel Assignment,It will be incl...   \n",
       "3527  Randomized,Parallel Assignment,Treatment,Quadr...   \n",
       "\n",
       "                                            eligibility has_expanded_access  \\\n",
       "0     sampling_method:Probability Sample,gender:All,...                  No   \n",
       "1     sampling_method:Non-Probability Sample,gender:...                  No   \n",
       "2     sampling_method:Non-Probability Sample,gender:...                  No   \n",
       "3     sampling_method:Non-Probability Sample,gender:...                  No   \n",
       "4               gender:All,Min Age:18 Years,Max Age:N/A                  No   \n",
       "...                                                 ...                 ...   \n",
       "3523       gender:All,Min Age:60 Years,Max Age:95 Years                  No   \n",
       "3524  sampling_method:Non-Probability Sample,gender:...                  No   \n",
       "3525  sampling_method:Non-Probability Sample,gender:...                  No   \n",
       "3526       gender:All,Min Age:18 Years,Max Age:79 Years                  No   \n",
       "3527            gender:All,Min Age:18 Years,Max Age:N/A                  No   \n",
       "\n",
       "      enrollment  month                      sum  counts  \n",
       "0          120.0    5.0  COVID-19,Lung Infection     NaN  \n",
       "1          200.0    6.0  COVID-19,Lung Infection     NaN  \n",
       "2           90.0    9.0  COVID-19,Lung Infection     NaN  \n",
       "3         2500.0    9.0  COVID-19,Lung Infection     NaN  \n",
       "4           20.0    7.0  COVID-19,Lung Infection     NaN  \n",
       "...          ...    ...                      ...     ...  \n",
       "3523        53.0    5.0  COVID-19,Lung Infection     NaN  \n",
       "3524      2000.0    4.0  COVID-19,Lung Infection     NaN  \n",
       "3525        60.0    4.0  COVID-19,Lung Infection     NaN  \n",
       "3526        30.0    7.0  COVID-19,Lung Infection     NaN  \n",
       "3527       500.0    8.0  COVID-19,Lung Infection     NaN  \n",
       "\n",
       "[3528 rows x 12 columns]"
      ]
     },
     "execution_count": 82,
     "metadata": {},
     "output_type": "execute_result"
    }
   ],
   "source": [
    "test9"
   ]
  },
  {
   "cell_type": "code",
   "execution_count": null,
   "metadata": {},
   "outputs": [],
   "source": []
  },
  {
   "cell_type": "code",
   "execution_count": 80,
   "metadata": {},
   "outputs": [
    {
     "data": {
      "text/plain": [
       "0      NaN\n",
       "1      NaN\n",
       "2      NaN\n",
       "3      NaN\n",
       "4      NaN\n",
       "        ..\n",
       "3523   NaN\n",
       "3524   NaN\n",
       "3525   NaN\n",
       "3526   NaN\n",
       "3527   NaN\n",
       "Name: counts, Length: 3528, dtype: float64"
      ]
     },
     "execution_count": 80,
     "metadata": {},
     "output_type": "execute_result"
    }
   ],
   "source": [
    "test9[\"counts\"]\n"
   ]
  },
  {
   "cell_type": "code",
   "execution_count": null,
   "metadata": {},
   "outputs": [],
   "source": []
  },
  {
   "cell_type": "code",
   "execution_count": null,
   "metadata": {},
   "outputs": [],
   "source": []
  },
  {
   "cell_type": "code",
   "execution_count": null,
   "metadata": {},
   "outputs": [],
   "source": []
  },
  {
   "cell_type": "code",
   "execution_count": null,
   "metadata": {},
   "outputs": [],
   "source": []
  },
  {
   "cell_type": "code",
   "execution_count": 74,
   "metadata": {},
   "outputs": [
    {
     "data": {
      "text/plain": [
       "COVID-19                                                           372\n",
       "SARS (Severe Acute Respiratory Syndrome),COVID-19                  236\n",
       "COVID-19,ICU Acquired Weakness,Weaning Failure                     178\n",
       "Covid19                                                            134\n",
       "Severe COVID-19 Pneumonia                                          117\n",
       "                                                                  ... \n",
       "Depression,Burnout, Professional,Post Traumatic Stress Disorder      1\n",
       "Covid19,Ultrasound,ARDS                                              1\n",
       "COVID-19,Convalescence                                               1\n",
       "Infertility, Female,ART,IVF,COVID-19                                 1\n",
       "Colo-rectal Cancer,Colon Cancer,Rectal Cancer,Oncology,Surgery       1\n",
       "Name: condition, Length: 329, dtype: int64"
      ]
     },
     "execution_count": 74,
     "metadata": {},
     "output_type": "execute_result"
    }
   ],
   "source": [
    "test9"
   ]
  },
  {
   "cell_type": "code",
   "execution_count": null,
   "metadata": {},
   "outputs": [],
   "source": []
  },
  {
   "cell_type": "code",
   "execution_count": null,
   "metadata": {},
   "outputs": [],
   "source": []
  },
  {
   "cell_type": "code",
   "execution_count": null,
   "metadata": {},
   "outputs": [],
   "source": []
  },
  {
   "cell_type": "code",
   "execution_count": null,
   "metadata": {},
   "outputs": [],
   "source": []
  },
  {
   "cell_type": "code",
   "execution_count": null,
   "metadata": {},
   "outputs": [],
   "source": []
  },
  {
   "cell_type": "code",
   "execution_count": null,
   "metadata": {},
   "outputs": [],
   "source": []
  },
  {
   "cell_type": "code",
   "execution_count": null,
   "metadata": {},
   "outputs": [],
   "source": []
  },
  {
   "cell_type": "code",
   "execution_count": 66,
   "metadata": {},
   "outputs": [
    {
     "ename": "ValueError",
     "evalue": "Grouper and axis must be same length",
     "output_type": "error",
     "traceback": [
      "\u001b[1;31m---------------------------------------------------------------------------\u001b[0m",
      "\u001b[1;31mValueError\u001b[0m                                Traceback (most recent call last)",
      "\u001b[1;32m<ipython-input-66-68b5e667b509>\u001b[0m in \u001b[0;36m<module>\u001b[1;34m\u001b[0m\n\u001b[1;32m----> 1\u001b[1;33m \u001b[0mg\u001b[0m\u001b[1;33m=\u001b[0m\u001b[0mtest9\u001b[0m\u001b[1;33m.\u001b[0m\u001b[0mgroupby\u001b[0m\u001b[1;33m(\u001b[0m\u001b[0mdf\u001b[0m\u001b[1;33m[\u001b[0m\u001b[1;34m\"condition\"\u001b[0m\u001b[1;33m]\u001b[0m\u001b[1;33m.\u001b[0m\u001b[0munique\u001b[0m\u001b[1;33m(\u001b[0m\u001b[1;33m)\u001b[0m\u001b[1;33m)\u001b[0m\u001b[1;33m\u001b[0m\u001b[1;33m\u001b[0m\u001b[0m\n\u001b[0m",
      "\u001b[1;32mC:\\ProgramData\\Anaconda3\\lib\\site-packages\\pandas\\core\\frame.py\u001b[0m in \u001b[0;36mgroupby\u001b[1;34m(self, by, axis, level, as_index, sort, group_keys, squeeze, observed)\u001b[0m\n\u001b[0;32m   5799\u001b[0m         \u001b[0maxis\u001b[0m \u001b[1;33m=\u001b[0m \u001b[0mself\u001b[0m\u001b[1;33m.\u001b[0m\u001b[0m_get_axis_number\u001b[0m\u001b[1;33m(\u001b[0m\u001b[0maxis\u001b[0m\u001b[1;33m)\u001b[0m\u001b[1;33m\u001b[0m\u001b[1;33m\u001b[0m\u001b[0m\n\u001b[0;32m   5800\u001b[0m \u001b[1;33m\u001b[0m\u001b[0m\n\u001b[1;32m-> 5801\u001b[1;33m         return groupby_generic.DataFrameGroupBy(\n\u001b[0m\u001b[0;32m   5802\u001b[0m             \u001b[0mobj\u001b[0m\u001b[1;33m=\u001b[0m\u001b[0mself\u001b[0m\u001b[1;33m,\u001b[0m\u001b[1;33m\u001b[0m\u001b[1;33m\u001b[0m\u001b[0m\n\u001b[0;32m   5803\u001b[0m             \u001b[0mkeys\u001b[0m\u001b[1;33m=\u001b[0m\u001b[0mby\u001b[0m\u001b[1;33m,\u001b[0m\u001b[1;33m\u001b[0m\u001b[1;33m\u001b[0m\u001b[0m\n",
      "\u001b[1;32mC:\\ProgramData\\Anaconda3\\lib\\site-packages\\pandas\\core\\groupby\\groupby.py\u001b[0m in \u001b[0;36m__init__\u001b[1;34m(self, obj, keys, axis, level, grouper, exclusions, selection, as_index, sort, group_keys, squeeze, observed, mutated)\u001b[0m\n\u001b[0;32m    401\u001b[0m             \u001b[1;32mfrom\u001b[0m \u001b[0mpandas\u001b[0m\u001b[1;33m.\u001b[0m\u001b[0mcore\u001b[0m\u001b[1;33m.\u001b[0m\u001b[0mgroupby\u001b[0m\u001b[1;33m.\u001b[0m\u001b[0mgrouper\u001b[0m \u001b[1;32mimport\u001b[0m \u001b[0mget_grouper\u001b[0m\u001b[1;33m\u001b[0m\u001b[1;33m\u001b[0m\u001b[0m\n\u001b[0;32m    402\u001b[0m \u001b[1;33m\u001b[0m\u001b[0m\n\u001b[1;32m--> 403\u001b[1;33m             grouper, exclusions, obj = get_grouper(\n\u001b[0m\u001b[0;32m    404\u001b[0m                 \u001b[0mobj\u001b[0m\u001b[1;33m,\u001b[0m\u001b[1;33m\u001b[0m\u001b[1;33m\u001b[0m\u001b[0m\n\u001b[0;32m    405\u001b[0m                 \u001b[0mkeys\u001b[0m\u001b[1;33m,\u001b[0m\u001b[1;33m\u001b[0m\u001b[1;33m\u001b[0m\u001b[0m\n",
      "\u001b[1;32mC:\\ProgramData\\Anaconda3\\lib\\site-packages\\pandas\\core\\groupby\\grouper.py\u001b[0m in \u001b[0;36mget_grouper\u001b[1;34m(obj, key, axis, level, sort, observed, mutated, validate)\u001b[0m\n\u001b[0;32m    615\u001b[0m         \u001b[1;31m# allow us to passing the actual Grouping as the gpr\u001b[0m\u001b[1;33m\u001b[0m\u001b[1;33m\u001b[0m\u001b[1;33m\u001b[0m\u001b[0m\n\u001b[0;32m    616\u001b[0m         ping = (\n\u001b[1;32m--> 617\u001b[1;33m             Grouping(\n\u001b[0m\u001b[0;32m    618\u001b[0m                 \u001b[0mgroup_axis\u001b[0m\u001b[1;33m,\u001b[0m\u001b[1;33m\u001b[0m\u001b[1;33m\u001b[0m\u001b[0m\n\u001b[0;32m    619\u001b[0m                 \u001b[0mgpr\u001b[0m\u001b[1;33m,\u001b[0m\u001b[1;33m\u001b[0m\u001b[1;33m\u001b[0m\u001b[0m\n",
      "\u001b[1;32mC:\\ProgramData\\Anaconda3\\lib\\site-packages\\pandas\\core\\groupby\\grouper.py\u001b[0m in \u001b[0;36m__init__\u001b[1;34m(self, index, grouper, obj, name, level, sort, observed, in_axis)\u001b[0m\n\u001b[0;32m    254\u001b[0m         \u001b[0mself\u001b[0m\u001b[1;33m.\u001b[0m\u001b[0mname\u001b[0m \u001b[1;33m=\u001b[0m \u001b[0mname\u001b[0m\u001b[1;33m\u001b[0m\u001b[1;33m\u001b[0m\u001b[0m\n\u001b[0;32m    255\u001b[0m         \u001b[0mself\u001b[0m\u001b[1;33m.\u001b[0m\u001b[0mlevel\u001b[0m \u001b[1;33m=\u001b[0m \u001b[0mlevel\u001b[0m\u001b[1;33m\u001b[0m\u001b[1;33m\u001b[0m\u001b[0m\n\u001b[1;32m--> 256\u001b[1;33m         \u001b[0mself\u001b[0m\u001b[1;33m.\u001b[0m\u001b[0mgrouper\u001b[0m \u001b[1;33m=\u001b[0m \u001b[0m_convert_grouper\u001b[0m\u001b[1;33m(\u001b[0m\u001b[0mindex\u001b[0m\u001b[1;33m,\u001b[0m \u001b[0mgrouper\u001b[0m\u001b[1;33m)\u001b[0m\u001b[1;33m\u001b[0m\u001b[1;33m\u001b[0m\u001b[0m\n\u001b[0m\u001b[0;32m    257\u001b[0m         \u001b[0mself\u001b[0m\u001b[1;33m.\u001b[0m\u001b[0mall_grouper\u001b[0m \u001b[1;33m=\u001b[0m \u001b[1;32mNone\u001b[0m\u001b[1;33m\u001b[0m\u001b[1;33m\u001b[0m\u001b[0m\n\u001b[0;32m    258\u001b[0m         \u001b[0mself\u001b[0m\u001b[1;33m.\u001b[0m\u001b[0mindex\u001b[0m \u001b[1;33m=\u001b[0m \u001b[0mindex\u001b[0m\u001b[1;33m\u001b[0m\u001b[1;33m\u001b[0m\u001b[0m\n",
      "\u001b[1;32mC:\\ProgramData\\Anaconda3\\lib\\site-packages\\pandas\\core\\groupby\\grouper.py\u001b[0m in \u001b[0;36m_convert_grouper\u001b[1;34m(axis, grouper)\u001b[0m\n\u001b[0;32m    655\u001b[0m     \u001b[1;32melif\u001b[0m \u001b[0misinstance\u001b[0m\u001b[1;33m(\u001b[0m\u001b[0mgrouper\u001b[0m\u001b[1;33m,\u001b[0m \u001b[1;33m(\u001b[0m\u001b[0mlist\u001b[0m\u001b[1;33m,\u001b[0m \u001b[0mSeries\u001b[0m\u001b[1;33m,\u001b[0m \u001b[0mIndex\u001b[0m\u001b[1;33m,\u001b[0m \u001b[0mnp\u001b[0m\u001b[1;33m.\u001b[0m\u001b[0mndarray\u001b[0m\u001b[1;33m)\u001b[0m\u001b[1;33m)\u001b[0m\u001b[1;33m:\u001b[0m\u001b[1;33m\u001b[0m\u001b[1;33m\u001b[0m\u001b[0m\n\u001b[0;32m    656\u001b[0m         \u001b[1;32mif\u001b[0m \u001b[0mlen\u001b[0m\u001b[1;33m(\u001b[0m\u001b[0mgrouper\u001b[0m\u001b[1;33m)\u001b[0m \u001b[1;33m!=\u001b[0m \u001b[0mlen\u001b[0m\u001b[1;33m(\u001b[0m\u001b[0maxis\u001b[0m\u001b[1;33m)\u001b[0m\u001b[1;33m:\u001b[0m\u001b[1;33m\u001b[0m\u001b[1;33m\u001b[0m\u001b[0m\n\u001b[1;32m--> 657\u001b[1;33m             \u001b[1;32mraise\u001b[0m \u001b[0mValueError\u001b[0m\u001b[1;33m(\u001b[0m\u001b[1;34m\"Grouper and axis must be same length\"\u001b[0m\u001b[1;33m)\u001b[0m\u001b[1;33m\u001b[0m\u001b[1;33m\u001b[0m\u001b[0m\n\u001b[0m\u001b[0;32m    658\u001b[0m         \u001b[1;32mreturn\u001b[0m \u001b[0mgrouper\u001b[0m\u001b[1;33m\u001b[0m\u001b[1;33m\u001b[0m\u001b[0m\n\u001b[0;32m    659\u001b[0m     \u001b[1;32melse\u001b[0m\u001b[1;33m:\u001b[0m\u001b[1;33m\u001b[0m\u001b[1;33m\u001b[0m\u001b[0m\n",
      "\u001b[1;31mValueError\u001b[0m: Grouper and axis must be same length"
     ]
    }
   ],
   "source": []
  },
  {
   "cell_type": "code",
   "execution_count": null,
   "metadata": {},
   "outputs": [],
   "source": []
  },
  {
   "cell_type": "code",
   "execution_count": 65,
   "metadata": {},
   "outputs": [
    {
     "data": {
      "text/plain": [
       "{'2019 Novel Coronavirus Infection': Int64Index([1151], dtype='int64'),\n",
       " '2019 Novel Coronavirus Pneumonia': Int64Index([1866], dtype='int64'),\n",
       " '2019 Novel Coronavirus Pneumonia,COVID-19': Int64Index([2990], dtype='int64'),\n",
       " '2019 nCoV, PD-1': Int64Index([816], dtype='int64'),\n",
       " '2019-nCoV': Int64Index([468, 708, 795, 1046, 1628, 1940, 2814], dtype='int64'),\n",
       " '2019-nCoV (COVID-19),Interstitial Pneumonia': Int64Index([1925], dtype='int64'),\n",
       " '2019-nCoV Pneumonia': Int64Index([2184], dtype='int64'),\n",
       " '2019-nCoV Severe Pneumonia': Int64Index([275], dtype='int64'),\n",
       " '2019-nCoV,Immunoglobulin of Cured Patients': Int64Index([2790], dtype='int64'),\n",
       " '2019-nCoVs Infection Pneumonia': Int64Index([3251], dtype='int64'),\n",
       " 'AKI,ARDS,COVID': Int64Index([556], dtype='int64'),\n",
       " 'ALL, Adult': Int64Index([327], dtype='int64'),\n",
       " \"AMD, ACEi's/ARB Prevent/Worsen Risk of COVID-19 Infection\": Int64Index([1768], dtype='int64'),\n",
       " 'ARDS': Int64Index([573, 1183], dtype='int64'),\n",
       " 'ARDS Associated With COVID-19': Int64Index([2235], dtype='int64'),\n",
       " 'ARDS Due to COVID-19': Int64Index([584], dtype='int64'),\n",
       " 'ARDS Related to Severe Acute Respiratory Syndrome-Coronavirus (SARS-CoV) 2,Acute Refractory Heart Failure Related to SARS-CoV 2': Int64Index([3344], dtype='int64'),\n",
       " 'ARDS Secondary to COVID-19 Pneumonia': Int64Index([2513], dtype='int64'),\n",
       " 'ARDS, Human,COVID': Int64Index([381, 2345], dtype='int64'),\n",
       " 'ARDS, Human,COVID-19': Int64Index([4, 2726], dtype='int64'),\n",
       " 'ARDS, Human,Coronavirus': Int64Index([2114], dtype='int64'),\n",
       " 'ARDS, Human,Covid-19': Int64Index([3299], dtype='int64'),\n",
       " 'ARDS, Human,Mechanical Ventilation Complication,COVID19': Int64Index([2340], dtype='int64'),\n",
       " 'ARDS,COVID': Int64Index([2521], dtype='int64'),\n",
       " 'ARDS,COVID-19': Int64Index([457, 1260], dtype='int64'),\n",
       " 'ARDS,COVID19': Int64Index([3345], dtype='int64'),\n",
       " 'ARDS,Hypercapnic Respiratory Failure,AKI': Int64Index([3404], dtype='int64'),\n",
       " 'Activities,Mental Health Issue,Life Style': Int64Index([623], dtype='int64'),\n",
       " 'Acute Coronary Syndrome,Heart Failure,COVID': Int64Index([2167], dtype='int64'),\n",
       " 'Acute Disease,Coronavirus,Respiratory Viral Infection': Int64Index([1505], dtype='int64'),\n",
       " 'Acute Hypoxemic Respiratory Failure': Int64Index([2694, 2808], dtype='int64'),\n",
       " 'Acute Hypoxemic Respiratory Failure,COVID-19': Int64Index([1783], dtype='int64'),\n",
       " 'Acute Kidney Injury,COVID': Int64Index([22], dtype='int64'),\n",
       " 'Acute Kidney Injury,COVID-19,ARDS': Int64Index([212], dtype='int64'),\n",
       " 'Acute Kidney Injury,Corona Virus Infection': Int64Index([612], dtype='int64'),\n",
       " 'Acute Kidney Injury,Covid19': Int64Index([2787], dtype='int64'),\n",
       " 'Acute Lung Injury': Int64Index([2462], dtype='int64'),\n",
       " 'Acute Lung Injury (ALI) Associated With COVID-19,Inflammatory Lung Conditions Associated With COVID-19': Int64Index([1857], dtype='int64'),\n",
       " 'Acute Lung Injury (ALI) Associated With COVID-19,Lung Inflammation Associated With COVID-19': Int64Index([116], dtype='int64'),\n",
       " 'Acute Lung Injury,ALI,COVID-19': Int64Index([1139], dtype='int64'),\n",
       " 'Acute Lung Injury/Acute Respiratory Distress Syndrome (ARDS),Respiratory Failure,Sars-CoV2': Int64Index([2609], dtype='int64'),\n",
       " 'Acute Myeloblastic Leukemia,Acute Lymphoblastic Leukemia,SARS-CoV-2': Int64Index([546], dtype='int64'),\n",
       " 'Acute Myocardial Infarction': Int64Index([1570], dtype='int64'),\n",
       " 'Acute Myocardial Infarction,Ventricular Tachycardia,Sudden Cardiac Death,Stroke, Acute': Int64Index([2380], dtype='int64'),\n",
       " 'Acute Myocarditis': Int64Index([2858], dtype='int64'),\n",
       " 'Acute Respiratory Distress Syndrome': Int64Index([661, 891, 1749, 2252, 2518, 3051, 3166, 3438], dtype='int64'),\n",
       " 'Acute Respiratory Distress Syndrome Caused by COVID-19': Int64Index([2679], dtype='int64'),\n",
       " 'Acute Respiratory Distress Syndrome Due to SARS-CoV-2 Infection (Severe COVID19)': Int64Index([2641], dtype='int64'),\n",
       " 'Acute Respiratory Distress Syndrome,ARDS (Moderate or Severe),COVID-19 Pneumonia': Int64Index([2313], dtype='int64'),\n",
       " 'Acute Respiratory Distress Syndrome,COVID': Int64Index([2509], dtype='int64'),\n",
       " 'Acute Respiratory Distress Syndrome,COVID-19': Int64Index([508, 1839, 1924, 2185, 2640, 2646, 3416], dtype='int64'),\n",
       " 'Acute Respiratory Distress Syndrome,COVID19 Infection': Int64Index([2378], dtype='int64'),\n",
       " 'Acute Respiratory Distress Syndrome,COVID19,Sars-CoV2,Pneumonia': Int64Index([2044], dtype='int64'),\n",
       " 'Acute Respiratory Distress Syndrome,Corona Virus Infection,Acute Lung Injury,Fever,Myalgia,Cough,Dyspnea,Septic Shock,Bleeding': Int64Index([633], dtype='int64'),\n",
       " 'Acute Respiratory Distress Syndrome,Coronavirus Infection': Int64Index([163], dtype='int64'),\n",
       " 'Acute Respiratory Distress Syndrome,Coronavirus,Hypoxic Respiratory Failure,Hypoxemic Respiratory Failure,Respiratory Complication,Respiratory Insufficiency,Cardiac Dysfunction,Pneumonia,Pulmonary Edema,Pulmonary Inflammation,Respiratory Failure,Cytokine Storm,COVID 19,SARS-CoV-2,Cardiac Event,Cardiac Complication,Cardiac Failure,Cardiac Infarct': Int64Index([254], dtype='int64'),\n",
       " 'Acute Respiratory Distress Syndrome,Covid19': Int64Index([2793, 2872], dtype='int64'),\n",
       " 'Acute Respiratory Distress Syndrome,Cytokine Release Syndrome,Covid19': Int64Index([1675], dtype='int64'),\n",
       " 'Acute Respiratory Distress Syndrome,Inflammation,Dexmedetomidine,Cytokine Storm,Delirium, Emergence': Int64Index([3420], dtype='int64'),\n",
       " 'Acute Respiratory Distress Syndrome,SARS-CoV-2': Int64Index([3297], dtype='int64'),\n",
       " 'Acute Respiratory Distress Syndrome,SARS-CoV-2,COVID,COVID-19,Severe Acute Respiratory Syndrome': Int64Index([1125], dtype='int64'),\n",
       " 'Acute Respiratory Distress Syndrome,Severe Pneumonia,Respiratory Failure': Int64Index([3219], dtype='int64'),\n",
       " 'Acute Respiratory Failure With Hypoxia': Int64Index([193], dtype='int64'),\n",
       " 'Acute Respiratory Tract Infection,Acute Respiratory Insufficiency,Pneumonia,Septic Shock,Hypoxemia': Int64Index([379], dtype='int64'),\n",
       " 'Acute Stress Disorder': Int64Index([2767], dtype='int64'),\n",
       " 'Acute and Long Term Effects of COVID-19:on Systemic Inflammation,Acute and Long Term Effects of COVID-19 on Lung Function,Acute and Long Term Effects of COVID-19 on Mrain Function,Acute and Long Term Effects of COVID-19 on Cardiac Function,Acute and Long Term Effects of COVID-19 on Kidney Function': Int64Index([1191], dtype='int64'),\n",
       " 'Addiction, Substance,COVID-19': Int64Index([2884], dtype='int64'),\n",
       " 'Adenovirus Type-5 Vectored COVID-19 Vaccine': Int64Index([1933], dtype='int64'),\n",
       " 'Adherence to WHO-advised Hygiene-related Behavior,Adherence to Viral Mitigation Protocols': Int64Index([3413], dtype='int64'),\n",
       " 'Adjustment Disorder With Anxious Mood': Int64Index([3517], dtype='int64'),\n",
       " 'Adult Patients Living With HIV (PLWHIV) With Confirmed Infection With SARS-CoV-2 Since 1st January 2020': Int64Index([2818], dtype='int64'),\n",
       " 'Adult,Global Health': Int64Index([3060], dtype='int64'),\n",
       " 'Advanced Suturing Skills,Surgical Education': Int64Index([483], dtype='int64'),\n",
       " 'Age Problem,Surgery,Depression, Anxiety': Int64Index([724], dtype='int64'),\n",
       " 'Age Related Macular Degeneration,Diabetic Macular Edema,Retinal Vein Occlusion': Int64Index([2300], dtype='int64'),\n",
       " 'Airway Management': Int64Index([2355], dtype='int64'),\n",
       " 'Airway Management,COVID19': Int64Index([2377], dtype='int64'),\n",
       " 'Alcohol Drinking,Alcohol-Related Disorders,Pandemic,Psychological Stress': Int64Index([3164], dtype='int64'),\n",
       " 'Alcohol Use, Unspecified,Substance Use,Intoxication Alcohol,Emergencies,COVID-19 Pandemic,Treatment': Int64Index([908], dtype='int64'),\n",
       " 'Allergy and Immunology,Infection Viral': Int64Index([2260], dtype='int64'),\n",
       " 'Angina Pectoris,Acute Coronary Syndrome,Coronary Syndrome,Coronary Artery Disease,Angioplasty,Stent Restenosis,Hypertension,Heart Failure, Systolic,Depression, Anxiety,Covid-19,Isolation, Social': Int64Index([869], dtype='int64'),\n",
       " 'Anorexia Nervosa': Int64Index([3271], dtype='int64'),\n",
       " 'Anosmia': Int64Index([554, 1119], dtype='int64'),\n",
       " 'Anosmia,Ageusia,Covid19,Corona Virus Infection': Int64Index([997], dtype='int64'),\n",
       " 'Anosmia,Covid19': Int64Index([1672], dtype='int64'),\n",
       " 'Anosmia,Covid19,Dysgeusia': Int64Index([2309], dtype='int64'),\n",
       " 'Antibody COVID-19': Int64Index([3491], dtype='int64'),\n",
       " 'Anticoagulation in COVID-19 ARDS': Int64Index([2852], dtype='int64'),\n",
       " 'Anxiety': Int64Index([1270, 1323, 2222], dtype='int64'),\n",
       " 'Anxiety Disorder of Childhood or Adolescence': Int64Index([1687], dtype='int64'),\n",
       " 'Anxiety Disorders,Post Traumatic Stress Disorder,Depressive Disorder,Covid19': Int64Index([204], dtype='int64'),\n",
       " 'Anxiety Related to the COVID-19 Pandemic': Int64Index([3169], dtype='int64'),\n",
       " 'Anxiety State': Int64Index([719], dtype='int64'),\n",
       " 'Anxiety State,COVID-19,Isolation, Social,Health Personnel Attitude': Int64Index([474], dtype='int64'),\n",
       " 'Anxiety and Fear,Anxiety Depression,Anxiety Postoperative,Psychological Stress': Int64Index([3085], dtype='int64'),\n",
       " 'Anxiety,Covid19,Oral Hygiene': Int64Index([167], dtype='int64'),\n",
       " 'Anxiety,Depression,Insomnia,Covid19,Coronavirus': Int64Index([1970], dtype='int64'),\n",
       " 'Anxiety,Depression,Interpersonal Problem,Emotion Regulation': Int64Index([207], dtype='int64'),\n",
       " 'Anxiety,Depression,Pregnancy Related': Int64Index([3047], dtype='int64'),\n",
       " 'Anxiety,Depression,Psychological Stress,Psychological Distress,Well-being': Int64Index([2414], dtype='int64'),\n",
       " 'Anxiety,Depression,Sleep Disturbance': Int64Index([2490], dtype='int64'),\n",
       " 'Anxiety,Depression,Stress, Psychological,Loneliness,Social Isolation': Int64Index([2681], dtype='int64'),\n",
       " 'Anxiety,Depression,Traumatic Stress Disorder': Int64Index([2687], dtype='int64'),\n",
       " 'Anxiety,Depressive Symptoms,Post Traumatic Stress Symptoms,Perceived Stress': Int64Index([2941], dtype='int64'),\n",
       " 'Anxiety,Healthy Volunteers': Int64Index([1899], dtype='int64'),\n",
       " 'Anxiety,SARS-CoV Infection': Int64Index([347], dtype='int64'),\n",
       " 'Anxiety,Surgery': Int64Index([1230], dtype='int64'),\n",
       " 'Anxiety,Well-being': Int64Index([2533], dtype='int64'),\n",
       " 'Aortic Valve Stenosis': Int64Index([1938], dtype='int64'),\n",
       " 'Aplastic Anemia,Hematopoietic and Lymphoid Cell Neoplasm,Malignant Solid Neoplasm,Monoclonal B-Cell Lymphocytosis,Monoclonal Gammopathy of Undetermined Significance,Myelodysplastic Syndrome,Symptomatic COVID-19 Infection Laboratory-Confirmed': Int64Index([2853], dtype='int64'),\n",
       " 'Appendicitis': Int64Index([893], dtype='int64'),\n",
       " 'Arthroscopy': Int64Index([2095], dtype='int64'),\n",
       " 'Assisted Reproduction': Int64Index([1622], dtype='int64'),\n",
       " 'Asthma; Eosinophilic,COVID,Covid-19': Int64Index([706], dtype='int64'),\n",
       " 'Asymptomatic COVID-19 Infection Laboratory-Confirmed,Hematopoietic and Lymphoid Cell Neoplasm,Malignant Solid Neoplasm,Symptomatic COVID-19 Infection Laboratory-Confirmed': Int64Index([886], dtype='int64'),\n",
       " 'Asymptomatic COVID-19 Infection Laboratory-Confirmed,Symptomatic COVID-19 Infection Laboratory-Confirmed': Int64Index([1330], dtype='int64'),\n",
       " 'Asymptomatic Condition,Infection Viral,Coronavirus Infections,Severe Acute Respiratory Syndrome Coronavirus 2,Coronaviridae Infections,RNA Virus Infections,Virus Diseases,Communicable Disease': Int64Index([684], dtype='int64'),\n",
       " 'Asymptomatic Infections,SARS-CoV2 Infection': Int64Index([252], dtype='int64'),\n",
       " 'Autism Spectrum Disorder,Attention Deficit Hyperactivity Disorder,Neurodevelopmental Conditions,COVID-19': Int64Index([2370], dtype='int64'),\n",
       " 'Autism Spectrum Disorder,Attention-deficit Hyperactivity Disorder': Int64Index([530], dtype='int64'),\n",
       " 'B Cell ALL,B-Cell Lymphoma,B-cell Non Hodgkin Lymphoma': Int64Index([2621], dtype='int64'),\n",
       " 'BCG,COVID-19,SARS-CoV2,Corona Virus Infection': Int64Index([669], dtype='int64'),\n",
       " 'Bariatric Surgery Candidate,Covid19,Complication of Surgical Procedure,Pneumonia, Viral,Viral Infection,Obesity, Morbid,Safety Issues,Readmission': Int64Index([983], dtype='int64'),\n",
       " 'Bariatric Surgery Candidate,Patient Underwent Bariatric Surgery': Int64Index([1445], dtype='int64'),\n",
       " 'Bariatric Surgery,Obesity': Int64Index([688], dtype='int64'),\n",
       " 'Behavior, Social,Autonomic Imbalance': Int64Index([3520], dtype='int64'),\n",
       " 'Behcet Disease,COVID,FMF': Int64Index([1607], dtype='int64'),\n",
       " 'Berberine,COVID-19': Int64Index([490], dtype='int64'),\n",
       " 'Bioequivalence': Int64Index([756, 896, 1851, 1915, 3076, 3206], dtype='int64'),\n",
       " 'Bipolar Depression': Int64Index([479], dtype='int64'),\n",
       " 'Blood Donation': Int64Index([403, 500, 2671, 2970], dtype='int64'),\n",
       " 'Blood Plasma Therapy,COVID': Int64Index([401], dtype='int64'),\n",
       " 'Blood Pressure': Int64Index([716], dtype='int64'),\n",
       " 'Body Weight Changes,Eating Disorder Symptom,Sexual Harassment,Covid19,RED S': Int64Index([1580], dtype='int64'),\n",
       " 'Brain Health': Int64Index([89], dtype='int64'),\n",
       " 'Brain Injuries,Stroke,Spinal Cord Injuries': Int64Index([2975], dtype='int64'),\n",
       " 'Breast Cancer,Iron Chelation': Int64Index([3513], dtype='int64'),\n",
       " 'Breastfeeding,Breastfeeding, Exclusive,Breastfeeding Jaundice,Educational Problems': Int64Index([2748], dtype='int64'),\n",
       " 'Brief Video-based Intervention,Non Intervention Control': Int64Index([1037], dtype='int64'),\n",
       " 'Brief Video-based Intervention,Vignette Based Intervention,Non Intervention Control Arm': Int64Index([3175], dtype='int64'),\n",
       " 'Budesonide,Olfaction Disorders,SARS-CoV-2,Anosmia': Int64Index([427], dtype='int64'),\n",
       " 'Burnout': Int64Index([820, 1959], dtype='int64'),\n",
       " 'Burnout, Professional,Depression,Medical Errors,Covid-19': Int64Index([840], dtype='int64'),\n",
       " 'Burnout, Professional,Medical Errors,Depression': Int64Index([27], dtype='int64'),\n",
       " 'Burnout, Professional,Psychological Distress': Int64Index([2143], dtype='int64'),\n",
       " 'Burnout,Stress, Emotional': Int64Index([1760], dtype='int64'),\n",
       " 'COPD Exacerbation,COPD': Int64Index([2670], dtype='int64'),\n",
       " 'CORONAVIRUS INFECTIONS': Int64Index([1863], dtype='int64'),\n",
       " 'COV-HI,COVID-19,COVID-19 (COV) Hyperinflammatory (HI) Syndrome': Int64Index([2255], dtype='int64'),\n",
       " 'COVID': Int64Index([  81,  122,  128,  265,  267,  290,  317,  340,  392,  405,  416,\n",
       "              552,  560,  567,  644,  653,  665,  678,  753,  755,  773,  802,\n",
       "              823,  831,  872,  895,  932,  943,  978,  990, 1003, 1020, 1036,\n",
       "             1067, 1147, 1211, 1226, 1258, 1277, 1348, 1350, 1457, 1544, 1592,\n",
       "             1627, 1658, 1725, 1744, 1812, 1825, 1827, 1853, 1873, 1878, 1889,\n",
       "             1895, 1897, 1914, 1917, 1948, 1956, 1975, 2011, 2039, 2061, 2094,\n",
       "             2108, 2133, 2155, 2171, 2327, 2352, 2425, 2498, 2594, 2711, 2714,\n",
       "             2815, 2863, 2934, 2976, 2982, 3077, 3093, 3134, 3141, 3142, 3190,\n",
       "             3223, 3254, 3268, 3327, 3395, 3430, 3463, 3485, 3494, 3501],\n",
       "            dtype='int64'),\n",
       " 'COVID - 19': Int64Index([1582], dtype='int64'),\n",
       " 'COVID -19,Respiratory Failure,Hypoxia': Int64Index([2236], dtype='int64'),\n",
       " 'COVID 19': Int64Index([  38,   52,  101,  152,  203,  205,  336,  538,  914,  956, 1205,\n",
       "             1220, 1305, 1315, 1333, 1342, 1358, 1464, 1475, 1501, 1549, 1600,\n",
       "             1615, 1617, 1963, 2180, 2213, 2285, 2417, 2634, 2712, 2760, 2779,\n",
       "             2901, 3016, 3070, 3071, 3150, 3151, 3155, 3253, 3310, 3315],\n",
       "            dtype='int64'),\n",
       " 'COVID 19 Associated Coagulopathy': Int64Index([1830], dtype='int64'),\n",
       " 'COVID 19 Cardiac,COVID 16 Arrhythmia,COVID 19 Death': Int64Index([30], dtype='int64'),\n",
       " 'COVID 19 Disease': Int64Index([3073], dtype='int64'),\n",
       " 'COVID 19 Pneumonia': Int64Index([1429], dtype='int64'),\n",
       " 'COVID 19 Pneumonia, Impaired Respiratory Function': Int64Index([2768], dtype='int64'),\n",
       " 'COVID 19,ARDS': Int64Index([1610], dtype='int64'),\n",
       " 'COVID 19,Coronavirus': Int64Index([2617], dtype='int64'),\n",
       " 'COVID 19,Coronavirus,Diabetes Mellitus, Type 2,Diabetes Mellitus,Glucose Metabolism Disorders,Metabolic Disease,Endocrine System Diseases,Dipeptidyl-Peptidase IV Inhibitors,Linagliptin,Severe Acute Respiratory Syndrome Coronavirus 2,Sars-CoV2,Hypoglycemic Agents,Respiratory Tract Diseases,Incretins,Hormones': Int64Index([2366], dtype='int64'),\n",
       " 'COVID 19,Disease Outbreak,Mental Disorders': Int64Index([680], dtype='int64'),\n",
       " 'COVID 19,Immunomediated Inflammatory Disease in Treatment With Biological Agents and / or Jak Inhibitors': Int64Index([1069], dtype='int64'),\n",
       " 'COVID 19,Inflammatory Status': Int64Index([2362], dtype='int64'),\n",
       " 'COVID 19,Patients Hospitalized': Int64Index([1023], dtype='int64'),\n",
       " 'COVID 19,Pulmonary Disease': Int64Index([1273], dtype='int64'),\n",
       " 'COVID 19,SARS-CoV 2,Pneumonia': Int64Index([235, 815], dtype='int64'),\n",
       " 'COVID 19,SARS-Cov-2': Int64Index([1372], dtype='int64'),\n",
       " 'COVID, Cancer': Int64Index([1842], dtype='int64'),\n",
       " 'COVID, Coronavirus': Int64Index([3029], dtype='int64'),\n",
       " 'COVID,AKI': Int64Index([2203], dtype='int64'),\n",
       " 'COVID,ARDS': Int64Index([1293, 1714, 2519], dtype='int64'),\n",
       " 'COVID,ARDS, Human': Int64Index([647], dtype='int64'),\n",
       " 'COVID,ARDS,Acute Respiratory Distress Syndrome,Acute Respiratory Failure,Corona Virus Infection': Int64Index([3129], dtype='int64'),\n",
       " 'COVID,ARDS,Pneumonia': Int64Index([2214], dtype='int64'),\n",
       " 'COVID,ARDS,Quality of Life': Int64Index([2146], dtype='int64'),\n",
       " 'COVID,Acute Coronary Syndrome,Myocardial Infarction,Myocarditis,Venous Thromboembolism,Deep Vein Thrombosis,Pulmonary Embolism': Int64Index([447], dtype='int64'),\n",
       " 'COVID,Acute Hypoxemic Respiratory Failure': Int64Index([126], dtype='int64'),\n",
       " 'COVID,Acute Kidney Injury,Critical Illness': Int64Index([2420], dtype='int64'),\n",
       " 'COVID,Acute Respiratory Distress Syndrome': Int64Index([183, 725, 3265], dtype='int64'),\n",
       " 'COVID,Acute Respiratory Distress Syndrome,Endothelial Dysfunction': Int64Index([972], dtype='int64'),\n",
       " 'COVID,Acute Respiratory Failure,Acute Kidney Injury': Int64Index([2048], dtype='int64'),\n",
       " 'COVID,Anxiety,Depression, Postpartum': Int64Index([161], dtype='int64'),\n",
       " 'COVID,Arrhythmia,Torsades de Pointe Caused by Drug,Qt Interval, Variation in,Atrioventricular Block,Atrial Fibrillation,Bradyarrhythmia,Ventricular Arrythmia': Int64Index([2610], dtype='int64'),\n",
       " 'COVID,COVID 19,SARS-CoV 2': Int64Index([1579], dtype='int64'),\n",
       " 'COVID,COVID-19,Corona Virus Infection,Coronavirus Infection,Coronavirus Sars-Associated as Cause of Disease Classified Elsewhere,Coronavirus-19,SARS-CoV 2,SARS Pneumonia': Int64Index([2028], dtype='int64'),\n",
       " 'COVID,COVID-19,Corona Virus Infection,SARS-CoV-2': Int64Index([1008], dtype='int64'),\n",
       " 'COVID,COVID-19,SARS-CoV 2,Coronavirus,Corona Virus Infection': Int64Index([1204], dtype='int64'),\n",
       " 'COVID,COVID-19,SARS-CoV-2,SARS (Severe Acute Respiratory Syndrome)': Int64Index([346], dtype='int64'),\n",
       " 'COVID,COVID19,SARS-CoV 2,Dyspnea': Int64Index([15], dtype='int64'),\n",
       " 'COVID,CVD': Int64Index([1263], dtype='int64'),\n",
       " 'COVID,Conjunctivitis': Int64Index([2451], dtype='int64'),\n",
       " 'COVID,Corona Virus Infection': Int64Index([376, 810, 1736, 2551], dtype='int64'),\n",
       " 'COVID,Corona Virus Infection,Adverse Event': Int64Index([2087], dtype='int64'),\n",
       " 'COVID,Corona Virus Infection,COVID19': Int64Index([1298], dtype='int64'),\n",
       " 'COVID,Corona Virus Infection,Covid-19,SARS-CoV-2 Infection': Int64Index([3099], dtype='int64'),\n",
       " 'COVID,Corona Virus Infection,Respiratory Failure,Respiratory Distress Syndrome, Adult,ARDS, Human,SARS (Severe Acute Respiratory Syndrome)': Int64Index([3140], dtype='int64'),\n",
       " 'COVID,Corona Virus Infection,Sars-CoV2': Int64Index([1710], dtype='int64'),\n",
       " 'COVID,Corona Virus Infection,Viral Pneumonia': Int64Index([3198], dtype='int64'),\n",
       " 'COVID,Coronavirus': Int64Index([1389, 1702], dtype='int64'),\n",
       " 'COVID,Coronavirus Infection': Int64Index([880, 2411], dtype='int64'),\n",
       " 'COVID,Coronavirus Infection,SARS-CoV 2,COVID19': Int64Index([2725], dtype='int64'),\n",
       " 'COVID,Coronavirus Infection,Severe Acute Respiratory Syndrome,Thromboembolism, Venous,Anticoagulants and Bleeding Disorders': Int64Index([805], dtype='int64'),\n",
       " 'COVID,Coronavirus,COVID-19': Int64Index([1751], dtype='int64'),\n",
       " 'COVID,Coronavirus,Coronavirus Infection,AKI,Acute Kidney Injury': Int64Index([113], dtype='int64'),\n",
       " 'COVID,Covid-19,Corona Virus Infection,Coronavirus Infection,Coronavirus-19,SARS-CoV2,SARS-CoV Infection': Int64Index([2473], dtype='int64'),\n",
       " 'COVID,Covid-19,Corona Virus Infection,Sars-CoV2,Coronavirus-19,SARS Pneumonia,SARS-Associated Coronavirus as Cause of Disease Classified Elsewhere': Int64Index([131], dtype='int64'),\n",
       " 'COVID,Covid-19,Coronavirus,Coronavirus Infection,Severe Acute Respiratory Syndrome,Severe Acute Respiratory Syndrome Coronavirus 2,Sars-CoV2,Ards,Acute Respiratory Distress Syndrome': Int64Index([1410], dtype='int64'),\n",
       " 'COVID,Covid-19,Coronavirus,Pneumonia,Pneumonia, Viral,Pneumonia, Interstitial,Sars-CoV2': Int64Index([412], dtype='int64'),\n",
       " 'COVID,Covid-19,SARS-CoV 2': Int64Index([3212], dtype='int64'),\n",
       " 'COVID,Critical Limb Ischemia': Int64Index([2465], dtype='int64'),\n",
       " 'COVID,Diabetes Mellitus, Type 2,Diabetes Mellitus, Type 1': Int64Index([2706], dtype='int64'),\n",
       " 'COVID,Disseminated Intravascular Coagulation,Coagulation Disorder': Int64Index([799], dtype='int64'),\n",
       " 'COVID,Drug Effect': Int64Index([1238], dtype='int64'),\n",
       " 'COVID,Drug Effect,Drug Interaction,Adverse Drug Event': Int64Index([1455, 2914], dtype='int64'),\n",
       " 'COVID,Drug Effect,Drug Interaction,Risk Reduction': Int64Index([2566], dtype='int64'),\n",
       " 'COVID,Embolism and Thrombosis,Pneumonia, Viral': Int64Index([2603], dtype='int64'),\n",
       " 'COVID,Hypertension': Int64Index([1861], dtype='int64'),\n",
       " 'COVID,Hypertension,Cardiovascular Diseases,Cardiovascular Risk Factor': Int64Index([2825], dtype='int64'),\n",
       " 'COVID,Hypoxemia': Int64Index([1493], dtype='int64'),\n",
       " 'COVID,Hypoxic Respiratory Failure': Int64Index([541], dtype='int64'),\n",
       " 'COVID,Infectious Disease': Int64Index([1680], dtype='int64'),\n",
       " 'COVID,Influenza,Gastroenteritis': Int64Index([2286], dtype='int64'),\n",
       " 'COVID,Isolation, Social': Int64Index([2070], dtype='int64'),\n",
       " 'COVID,Kidney Injury': Int64Index([1029], dtype='int64'),\n",
       " 'COVID,Kidney Transplant; Complications,Immunosuppression': Int64Index([1684], dtype='int64'),\n",
       " 'COVID,Knowledge, Attitudes, Practice': Int64Index([867], dtype='int64'),\n",
       " 'COVID,Lymphoma': Int64Index([2663], dtype='int64'),\n",
       " 'COVID,Mechanical Ventilation,Acute Respiratory Failure': Int64Index([1018], dtype='int64'),\n",
       " 'COVID,Neurologic Manifestations': Int64Index([1077], dtype='int64'),\n",
       " 'COVID,Obstructive Sleep Apnea,Pneumonia': Int64Index([641], dtype='int64'),\n",
       " 'COVID,Oncology,Haematological Malignancy': Int64Index([1082], dtype='int64'),\n",
       " 'COVID,Pediatric Disorder': Int64Index([695], dtype='int64'),\n",
       " 'COVID,Personal Protective Equipment': Int64Index([2088], dtype='int64'),\n",
       " 'COVID,Pneumonia': Int64Index([269, 1088], dtype='int64'),\n",
       " 'COVID,Pneumonia, Viral': Int64Index([194, 713, 1634, 1639], dtype='int64'),\n",
       " 'COVID,Pneumonia, Viral,Barotrauma,Interstitial Lung Disease,Bronchiectasis Adult,Emphysema': Int64Index([1190], dtype='int64'),\n",
       " 'COVID,Pneumonia, Viral,Coagulation Disorder': Int64Index([636], dtype='int64'),\n",
       " 'COVID,Pneumonia,Diarrhea': Int64Index([2527], dtype='int64'),\n",
       " 'COVID,Post Traumatic Stress Disorder': Int64Index([2457], dtype='int64'),\n",
       " 'COVID,Pregnancy Complications': Int64Index([1674], dtype='int64'),\n",
       " 'COVID,Pregnancy Complications, Infectious,Pregnancy Related,Pregnancy, High Risk,Pregnancy Disease,Pneumonia,Pneumonia, Viral,Diagnoses Disease': Int64Index([3241], dtype='int64'),\n",
       " 'COVID,Psychiatric Disorders': Int64Index([2898], dtype='int64'),\n",
       " 'COVID,Pulmonary Infection,Sars-CoV2': Int64Index([1958], dtype='int64'),\n",
       " 'COVID,Quality of Life,Behavior,Social Isolation': Int64Index([1065], dtype='int64'),\n",
       " 'COVID,RT-ddPCR Multiplex': Int64Index([649], dtype='int64'),\n",
       " 'COVID,Respiratory Distress Syndrome': Int64Index([1378], dtype='int64'),\n",
       " 'COVID,SARS (Severe Acute Respiratory Syndrome)': Int64Index([2212], dtype='int64'),\n",
       " 'COVID,SARS Pneumonia,Cytokine Release Syndrome': Int64Index([618], dtype='int64'),\n",
       " 'COVID,SARS-CoV 2': Int64Index([228, 1502, 1614, 2652, 2977, 3209], dtype='int64'),\n",
       " 'COVID,SARS-CoV 2,Corona Virus Infection,RDT,B Cell': Int64Index([2933], dtype='int64'),\n",
       " 'COVID,SARS-CoV 2,Lung Cancer': Int64Index([3319], dtype='int64'),\n",
       " 'COVID,SARS-CoV 2,Pneumonia, Viral,Coronavirus Infection': Int64Index([3258], dtype='int64'),\n",
       " 'COVID,SARS-CoV 2,SARS Pneumonia,SARS (Disease),SARS (Severe Acute Respiratory Syndrome)': Int64Index([37], dtype='int64'),\n",
       " 'COVID,SARS-CoV-2': Int64Index([1705], dtype='int64'),\n",
       " 'COVID,SARS-CoV-2,ARDS, Human,Refractory Hypoxemia,Cardiogenic Shock,Septic Shock,Extracorporeal Membrane Oxygenation': Int64Index([2227], dtype='int64'),\n",
       " 'COVID,SARS-CoV2,Corona Virus Infection': Int64Index([898], dtype='int64'),\n",
       " 'COVID,Sars-CoV2': Int64Index([910, 1731, 2096, 3191, 3468], dtype='int64'),\n",
       " 'COVID,Sars-CoV2,ARDS, Human': Int64Index([1282], dtype='int64'),\n",
       " 'COVID,Sars-CoV2,COVID-19,Acute Respiratory Distress Syndrome': Int64Index([2649], dtype='int64'),\n",
       " 'COVID,Sars-CoV2,Corona Virus Infection,Myositis,Myocarditis': Int64Index([1177], dtype='int64'),\n",
       " 'COVID,Sars-CoV2,SARS-Associated Coronavirus as Cause of Disease Classified Elsewhere,Oxidative Stress': Int64Index([3518], dtype='int64'),\n",
       " 'COVID,Severe Acute Respiratory Syndrome,Obesity,Comorbidities and Coexisting Conditions': Int64Index([515], dtype='int64'),\n",
       " 'COVID,Severe Acute Respiratory Syndrome,Sars-CoV2,Acute Kidney Injury': Int64Index([1913], dtype='int64'),\n",
       " 'COVID,Shock': Int64Index([3379], dtype='int64'),\n",
       " 'COVID,Social Isolation,Anxiety,Frailty': Int64Index([3090], dtype='int64'),\n",
       " 'COVID,Statin,Cardiovascular Diseases': Int64Index([217], dtype='int64'),\n",
       " 'COVID,Surgery': Int64Index([2611], dtype='int64'),\n",
       " 'COVID,Terminal Renal Insufficiency': Int64Index([110], dtype='int64'),\n",
       " 'COVID,Thrombosis,Bleeding,Anticoagulation': Int64Index([2407], dtype='int64'),\n",
       " 'COVID,Thrombosis,Pulmonary Embolism,Deep Vein Thrombosis': Int64Index([1149], dtype='int64'),\n",
       " 'COVID,Trauma,Ultrasound': Int64Index([3447], dtype='int64'),\n",
       " 'COVID,Vascular; Damage': Int64Index([1352], dtype='int64'),\n",
       " 'COVID,Vitamin D Deficiency,Coagulopathy,Disseminated Intravascular Coagulation': Int64Index([2241], dtype='int64'),\n",
       " 'COVID,Zinc Deficiency,Vitamin D Deficiency': Int64Index([2733], dtype='int64'),\n",
       " 'COVID-19': Int64Index([   1,   12,   19,   21,   28,   29,   32,   33,   40,   68,\n",
       "             ...\n",
       "             3474, 3492, 3493, 3497, 3499, 3508, 3510, 3515, 3522, 3526],\n",
       "            dtype='int64', length=573),\n",
       " 'COVID-19 (Healthy Volunteers)': Int64Index([667], dtype='int64'),\n",
       " 'COVID-19 Complicated With Refractory Intestinal Infections': Int64Index([2794], dtype='int64'),\n",
       " 'COVID-19 Confirmed Cases,COVID-19 Mortality': Int64Index([3252], dtype='int64'),\n",
       " 'COVID-19 Disease': Int64Index([622, 1390, 2225, 2520], dtype='int64'),\n",
       " 'COVID-19 Disease, Severe Form': Int64Index([326], dtype='int64'),\n",
       " 'COVID-19 Disease,Nomogram Model': Int64Index([1087], dtype='int64'),\n",
       " 'COVID-19 Disease,Thromboembolism, Venous': Int64Index([2090], dtype='int64'),\n",
       " 'COVID-19 Drug Treatment': Int64Index([404, 1526], dtype='int64'),\n",
       " 'COVID-19 Experience': Int64Index([601], dtype='int64'),\n",
       " 'COVID-19 Induced Pneumonia,Covid19': Int64Index([1076], dtype='int64'),\n",
       " 'COVID-19 Infection': Int64Index([ 142,  296,  465,  582,  757,  984, 1523, 1548, 1871, 1883, 2179,\n",
       "             2197, 2432, 2688, 2731, 2921, 3176, 3305, 3334, 3512],\n",
       "            dtype='int64'),\n",
       " 'COVID-19 Infection,ANAKINRA Treatment,Optimized Standard of Care (oSOC)': Int64Index([1426], dtype='int64'),\n",
       " 'COVID-19 Infection,COVID-19-Associated Acute Respiratory Distress Syndrome': Int64Index([1747], dtype='int64'),\n",
       " 'COVID-19 Infection,Cancer Patients,General Population': Int64Index([732], dtype='int64'),\n",
       " 'COVID-19 Infection,Encephalitis': Int64Index([86], dtype='int64'),\n",
       " 'COVID-19 Infection,Hematopoietic and Lymphoid Cell Neoplasm,Malignant Solid Neoplasm': Int64Index([818, 1225], dtype='int64'),\n",
       " 'COVID-19 Infection,Malignant Solid Neoplasm': Int64Index([1283], dtype='int64'),\n",
       " 'COVID-19 Infection,Melanoma': Int64Index([2059], dtype='int64'),\n",
       " 'COVID-19 Infection,Sars-cov-2,Respiratory Failure,Palliative Situation': Int64Index([2484], dtype='int64'),\n",
       " 'COVID-19 Infections': Int64Index([2198], dtype='int64'),\n",
       " 'COVID-19 OUTBREAK AND SOLID ORGAN TRANSPLANTATION': Int64Index([305], dtype='int64'),\n",
       " 'COVID-19 Pandemic': Int64Index([2371], dtype='int64'),\n",
       " 'COVID-19 Pandemic,Vulnerable Subjects,Long-term Non-invasive Ventilation': Int64Index([747], dtype='int64'),\n",
       " 'COVID-19 Pandemics,Obstetrics and Gynecology,Workload,Questionnaire,National Survey,China': Int64Index([2837], dtype='int64'),\n",
       " 'COVID-19 Patients': Int64Index([501, 549, 3373], dtype='int64'),\n",
       " 'COVID-19 Pnemonia': Int64Index([1539], dtype='int64'),\n",
       " 'COVID-19 Pneumonia': Int64Index([  36,   83,  463,  535, 1012, 1068, 1249, 1396, 1447, 1474, 1799,\n",
       "             1912, 1916, 1986, 2029, 2385, 2485, 2662, 2693, 2702, 2796, 3019,\n",
       "             3260, 3340, 3414],\n",
       "            dtype='int64'),\n",
       " 'COVID-19 Pneumonia, Impaired Respiratory Function': Int64Index([1221], dtype='int64'),\n",
       " 'COVID-19 Pneumonia,Acute Lung Injury,ARDS': Int64Index([1437], dtype='int64'),\n",
       " 'COVID-19 Pneumonia,Convalescent Plasma': Int64Index([1465], dtype='int64'),\n",
       " 'COVID-19 Pneumonia,Lung Ultrasound': Int64Index([1550], dtype='int64'),\n",
       " 'COVID-19 Pneumonia,Vascular Complications': Int64Index([1313], dtype='int64'),\n",
       " 'COVID-19 Pneumonitis': Int64Index([289], dtype='int64'),\n",
       " 'COVID-19 Pulmonary Complications,COVID-19': Int64Index([2582], dtype='int64'),\n",
       " 'COVID-19 Realted Disruption in Patient With Diabetes and CKD': Int64Index([2405], dtype='int64'),\n",
       " 'COVID-19 Screening': Int64Index([2840], dtype='int64'),\n",
       " 'COVID-19 Severe Pneumonia,Acute Lung Injury,Acute Respiratory Distress Syndrome,Pneumonia, Viral': Int64Index([77], dtype='int64'),\n",
       " 'COVID-19 Severe Pneumonia,Severe Pneumonia Due to Other Pathogene': Int64Index([2406], dtype='int64'),\n",
       " 'COVID-19 Thalidomide': Int64Index([1581, 2558], dtype='int64'),\n",
       " 'COVID-19 Vaccine': Int64Index([3245], dtype='int64'),\n",
       " 'COVID-19 Vaccine,Safety Issues': Int64Index([862], dtype='int64'),\n",
       " 'COVID-19 Virus Infection': Int64Index([902, 3460], dtype='int64'),\n",
       " 'COVID-19 by SARS-CoV-2 Infection': Int64Index([801, 994, 1888], dtype='int64'),\n",
       " 'COVID-19, Hydroxychloroquine Sulfate': Int64Index([2249], dtype='int64'),\n",
       " 'COVID-19, SARS-CoV 2 Infection,Health Disparities': Int64Index([1276], dtype='int64'),\n",
       " 'COVID-19,2019 Novel Coronavirus Infection,COVID-19 Infection': Int64Index([2339], dtype='int64'),\n",
       " 'COVID-19,ARDS': Int64Index([517, 1806], dtype='int64'),\n",
       " 'COVID-19,ARDS, Human': Int64Index([918, 1255], dtype='int64'),\n",
       " 'COVID-19,ARDS, Human,Hypoxemic Respiratory Failure': Int64Index([1699], dtype='int64'),\n",
       " 'COVID-19,ARDS, Human,Mechanical Ventilation': Int64Index([2126], dtype='int64'),\n",
       " 'COVID-19,ARDS,Acute Respiratory Distress Syndrome': Int64Index([2675], dtype='int64'),\n",
       " 'COVID-19,ARDS,Sars-CoV2': Int64Index([1717], dtype='int64'),\n",
       " 'COVID-19,Acute Cardiovascular Condition,Acute Neurovascular Condition,Stroke,Acute Myocardial Infarction': Int64Index([202], dtype='int64'),\n",
       " 'COVID-19,Acute Hypoxemic Respiratory Failure': Int64Index([1721], dtype='int64'),\n",
       " 'COVID-19,Acute Kidney Injury': Int64Index([45], dtype='int64'),\n",
       " 'COVID-19,Acute Kidney Injury,Kidney Function': Int64Index([1450], dtype='int64'),\n",
       " 'COVID-19,Acute Lung Injury,SARS-CoV-2': Int64Index([3455], dtype='int64'),\n",
       " 'COVID-19,Acute Lung Injury/Acute Respiratory Distress Syndrome (ARDS)': Int64Index([2776], dtype='int64'),\n",
       " 'COVID-19,Acute Respiratory Distress Syndrome': Int64Index([1879, 1928, 1962], dtype='int64'),\n",
       " 'COVID-19,Acute Respiratory Distress Syndrome,Acute Respiratory Failure': Int64Index([2541], dtype='int64'),\n",
       " 'COVID-19,Acute Respiratory Distress Syndrome,Corona Virus Infection': Int64Index([754], dtype='int64'),\n",
       " 'COVID-19,Acute Respiratory Distress Syndrome,Rehabilitation,Intensive Care Unit Acquired Weakness,Critical Illness Polyneuromyopathy': Int64Index([2440], dtype='int64'),\n",
       " 'COVID-19,Acute Respiratory Distress Syndrome,Severe Acute Respiratory Syndrome (SARS),Coronavirus Infections': Int64Index([1626], dtype='int64'),\n",
       " 'COVID-19,Acute Respiratory Distress Syndrome,Virus; Pneumonia,Acute Lung Injury': Int64Index([2240], dtype='int64'),\n",
       " 'COVID-19,Acute Respiratory Failure': Int64Index([1724], dtype='int64'),\n",
       " 'COVID-19,Acute Respiratory Failure,Triage,Lung Ultrasound,CT Scan': Int64Index([2903], dtype='int64'),\n",
       " 'COVID-19,Airway': Int64Index([2799], dtype='int64'),\n",
       " 'COVID-19,Anosmia': Int64Index([2835], dtype='int64'),\n",
       " 'COVID-19,Anxiety,Depression,Stress': Int64Index([266], dtype='int64'),\n",
       " 'COVID-19,Asymptomatic Pregnant': Int64Index([2550], dtype='int64'),\n",
       " 'COVID-19,BCG Vaccination': Int64Index([3473], dtype='int64'),\n",
       " 'COVID-19,Burnout, Caregiver,Intensive Care Unit,Stress, Psychological': Int64Index([1301], dtype='int64'),\n",
       " 'COVID-19,COVID': Int64Index([1722], dtype='int64'),\n",
       " 'COVID-19,COVID,Coronavirus': Int64Index([2873], dtype='int64'),\n",
       " 'COVID-19,COVID-19 Drug Treatment,Severe Acute Respiratory Syndrome Coronavirus 2': Int64Index([1860], dtype='int64'),\n",
       " 'COVID-19,COVID-19 Immunisation': Int64Index([153], dtype='int64'),\n",
       " 'COVID-19,COVID19,Sars-CoV2,SARS-Cov-2': Int64Index([1251], dtype='int64'),\n",
       " 'COVID-19,Cancer': Int64Index([989, 2376, 3067], dtype='int64'),\n",
       " 'COVID-19,Cardiac Arrhythmias': Int64Index([2430], dtype='int64'),\n",
       " 'COVID-19,Cardiomyopathies': Int64Index([1405], dtype='int64'),\n",
       " 'COVID-19,Cardiovascular Diseases': Int64Index([1893, 2686, 3031], dtype='int64'),\n",
       " 'COVID-19,Cardiovascular Diseases,Cardiovascular Risk Factor,Heart Failure': Int64Index([3108], dtype='int64'),\n",
       " 'COVID-19,Cardiovascular Risk Factor': Int64Index([2219], dtype='int64'),\n",
       " 'COVID-19,Chilblains': Int64Index([545], dtype='int64'),\n",
       " 'COVID-19,Chronic Disease,Psychiatric Disorder,Cardiovascular Diseases': Int64Index([1433], dtype='int64'),\n",
       " 'COVID-19,Chronic Liver Disease': Int64Index([1402], dtype='int64'),\n",
       " 'COVID-19,Comorbidities and Coexisting Conditions': Int64Index([1794], dtype='int64'),\n",
       " 'COVID-19,Convalescence': Int64Index([294], dtype='int64'),\n",
       " 'COVID-19,Corona Virus Infection': Int64Index([313, 2661, 2897], dtype='int64'),\n",
       " 'COVID-19,Corona Virus Infection,ARDS,Acute Respiratory Distress Syndrome': Int64Index([3471], dtype='int64'),\n",
       " 'COVID-19,Corona Virus Infection,Coronavirus-19,Sars-CoV2': Int64Index([281], dtype='int64'),\n",
       " 'COVID-19,Corona Virus Infection,SARS (Severe Acute Respiratory Syndrome),SARS-CoV-2': Int64Index([310], dtype='int64'),\n",
       " 'COVID-19,Corona Virus Infection,SARS-CoV 2': Int64Index([3374], dtype='int64'),\n",
       " 'COVID-19,Corona Virus Infection,SARS-CoV 2,Coronavirus,Coronavirus Infection': Int64Index([3012], dtype='int64'),\n",
       " 'COVID-19,Corona Virus Infection,SARS-CoV-2,2019-nCoV,2019 Novel Coronavirus': Int64Index([368], dtype='int64'),\n",
       " 'COVID-19,Corona Virus Infection,Wuhan Coronavirus,Prophylaxis,Healthcare Worker,Sars-CoV2,Hydroxychloroquine': Int64Index([1730], dtype='int64'),\n",
       " 'COVID-19,Coronavirus': Int64Index([1223], dtype='int64'),\n",
       " 'COVID-19,Coronavirus 2019': Int64Index([735], dtype='int64'),\n",
       " 'COVID-19,Coronavirus Disease 2019': Int64Index([2824], dtype='int64'),\n",
       " 'COVID-19,Coronavirus Disease 2019,Covid19,COVID-19 Pneumonia': Int64Index([1875], dtype='int64'),\n",
       " 'COVID-19,Coronavirus Disease,SARS-CoV-2': Int64Index([2560], dtype='int64'),\n",
       " 'COVID-19,Coronavirus Infection': Int64Index([1707, 1908, 2552], dtype='int64'),\n",
       " 'COVID-19,Coronavirus Infection,Corona Virus Infection': Int64Index([1416], dtype='int64'),\n",
       " 'COVID-19,Coronavirus Infection,Coronavirus,SARS-CoV-2': Int64Index([1335], dtype='int64'),\n",
       " 'COVID-19,Coronavirus Infection,Sars-CoV2,Complications': Int64Index([300], dtype='int64'),\n",
       " 'COVID-19,Coronavirus Infection,Sars-CoV2,Corona Virus Infection,COVID,Coronavirus,Coronavirus-19,Coronavirus 19': Int64Index([988], dtype='int64'),\n",
       " 'COVID-19,Coronavirus Infection,Severe Acute Respiratory Syndrome Coronavirus 2': Int64Index([2607], dtype='int64'),\n",
       " 'COVID-19,Coronavirus Infection,Virus Disease,Acute Respiratory Infection,SARS-CoV Infection': Int64Index([63], dtype='int64'),\n",
       " 'COVID-19,Coronavirus Infections,Hay Fever,Asthma,Chronic Obstructive Pulmonary Disease,Influenza,Common Cold,Respiratory Tract Infections,Healthy': Int64Index([2751], dtype='int64'),\n",
       " 'COVID-19,Coronavirus,Cancer,Surgery': Int64Index([3057], dtype='int64'),\n",
       " 'COVID-19,Coronavirus,Coronavirus Infection': Int64Index([1253, 1369], dtype='int64'),\n",
       " 'COVID-19,Coronavirus,Coronavirus Infections,SARS-CoV 2': Int64Index([41], dtype='int64'),\n",
       " 'COVID-19,Coronavirus,Mortality': Int64Index([2326], dtype='int64'),\n",
       " 'COVID-19,Coronavirus,Mortality,Mechanical Ventilation': Int64Index([299], dtype='int64'),\n",
       " 'COVID-19,Coronavirus,SARS-CoV-2': Int64Index([2574], dtype='int64'),\n",
       " 'COVID-19,Coronavirus,Surgery': Int64Index([638], dtype='int64'),\n",
       " 'COVID-19,Critical Care,Intensive Care Units,Health Personnel': Int64Index([85], dtype='int64'),\n",
       " 'COVID-19,Critical Illness': Int64Index([395, 707, 1311, 2477], dtype='int64'),\n",
       " 'COVID-19,Critical Illness,Ards,ICU Acquired Weakness': Int64Index([1973], dtype='int64'),\n",
       " 'COVID-19,Critical Illness,Effectiveness,Outcome, Fatal': Int64Index([949], dtype='int64'),\n",
       " 'COVID-19,Critical Illness,Venous Thromboembolism,Venous Thromboses,Venous Thromboses, Deep,Venous Thrombosis Pulmonary,Pulmonary Embolism,Pulmonary Embolism and Thrombosis,Sars-CoV2,SARS-CoV Infection': Int64Index([1843], dtype='int64'),\n",
       " 'COVID-19,Cytokine Release Syndrome': Int64Index([2230], dtype='int64'),\n",
       " 'COVID-19,Cytokine Storm': Int64Index([2708], dtype='int64'),\n",
       " 'COVID-19,Cytokine Storm,Acute Respiratory Distress Syndrome': Int64Index([2720], dtype='int64'),\n",
       " 'COVID-19,D-dimer': Int64Index([1271], dtype='int64'),\n",
       " 'COVID-19,Deep Vein Thrombosis (DVT)/Thrombophlebitis': Int64Index([1030], dtype='int64'),\n",
       " 'COVID-19,Desaturation of Blood': Int64Index([1784], dtype='int64'),\n",
       " 'COVID-19,Disabilities Multiple,Cerebral Palsy,Muscular Dystrophies': Int64Index([1737], dtype='int64'),\n",
       " 'COVID-19,Dyspareunia,Postpartum Period': Int64Index([2381], dtype='int64'),\n",
       " 'COVID-19,ECMO': Int64Index([1636], dtype='int64'),\n",
       " 'COVID-19,Elderly Patients,Critical Illness,Survival,Old Age': Int64Index([2576], dtype='int64'),\n",
       " 'COVID-19,Emergency General Surgery': Int64Index([249], dtype='int64'),\n",
       " 'COVID-19,Emergency Surgery': Int64Index([2677], dtype='int64'),\n",
       " 'COVID-19,Encephalopathy,Critically Ill': Int64Index([5], dtype='int64'),\n",
       " 'COVID-19,Endotracheal Intubation': Int64Index([1279], dtype='int64'),\n",
       " 'COVID-19,Extracorporeal Membrane Oxygenation Complication,Acute Respiratory Distress Syndrome': Int64Index([1821], dtype='int64'),\n",
       " 'COVID-19,FDG PET/CT,Inflammation': Int64Index([129], dtype='int64'),\n",
       " 'COVID-19,Favipiravir (Favipira)': Int64Index([2618], dtype='int64'),\n",
       " 'COVID-19,Favipiravir,Kaletra,Hydroxychloroquine,Lopinavir/Ritonavir': Int64Index([643], dtype='int64'),\n",
       " 'COVID-19,Healthy Control': Int64Index([740], dtype='int64'),\n",
       " 'COVID-19,Hemostasis,Coagulation': Int64Index([2849], dtype='int64'),\n",
       " 'COVID-19,Hypercoagulability': Int64Index([1762], dtype='int64'),\n",
       " 'COVID-19,Hypertension': Int64Index([1936], dtype='int64'),\n",
       " 'COVID-19,Hypertension,Cardiovascular Diseases': Int64Index([2517], dtype='int64'),\n",
       " 'COVID-19,Hypoxemia,Hypoxemic Respiratory Failure': Int64Index([511], dtype='int64'),\n",
       " 'COVID-19,Hypoxia': Int64Index([764], dtype='int64'),\n",
       " 'COVID-19,Hypoxic Respiratory Failure': Int64Index([361], dtype='int64'),\n",
       " 'COVID-19,ICU Acquired Weakness,Weaning Failure': Int64Index([200], dtype='int64'),\n",
       " 'COVID-19,INTERFERON,NEBULIZATION': Int64Index([2005], dtype='int64'),\n",
       " 'COVID-19,Inflammatory Response': Int64Index([3484], dtype='int64'),\n",
       " 'COVID-19,Inpatient': Int64Index([3432], dtype='int64'),\n",
       " 'COVID-19,Intensive Care Unit Syndrome': Int64Index([1859], dtype='int64'),\n",
       " 'COVID-19,Invasive Malignancy (Any Type)': Int64Index([1585], dtype='int64'),\n",
       " 'COVID-19,Kidney Injury': Int64Index([493], dtype='int64'),\n",
       " 'COVID-19,Life Satisfaction,Anxiety,Mental Health Wellness 1,Athlete,Stress': Int64Index([0], dtype='int64'),\n",
       " 'COVID-19,Liver Cirrhosis': Int64Index([904], dtype='int64'),\n",
       " 'COVID-19,Lung Infection': Int64Index([991, 3505], dtype='int64'),\n",
       " 'COVID-19,Lung Injury': Int64Index([1573], dtype='int64'),\n",
       " 'COVID-19,Lung Injury, Acute': Int64Index([2104], dtype='int64'),\n",
       " 'COVID-19,Lymphocytopenia': Int64Index([242, 459, 2586, 3185], dtype='int64'),\n",
       " 'COVID-19,Mechanical Ventilation': Int64Index([1421], dtype='int64'),\n",
       " 'COVID-19,Mechanical Ventilation Pressure High,Acute Respiratory Distress Syndrome': Int64Index([3061], dtype='int64'),\n",
       " 'COVID-19,Mechanical Ventilation,Quality of Life,Radiologic Increased Density of Lung,Sedation,Complication of Treatment': Int64Index([1547], dtype='int64'),\n",
       " 'COVID-19,Mental Health Burden': Int64Index([1498], dtype='int64'),\n",
       " 'COVID-19,Mental Health Disorder': Int64Index([824], dtype='int64'),\n",
       " 'COVID-19,Mental Health,Psychoeducation,Anxiety': Int64Index([482], dtype='int64'),\n",
       " 'COVID-19,Myocardial Injury,Myocarditis': Int64Index([2600], dtype='int64'),\n",
       " 'COVID-19,Myocardial Reperfusion Injury,Cardiovascular Diseases': Int64Index([2922], dtype='int64'),\n",
       " 'COVID-19,Neonatal Disease,Healthy': Int64Index([3324], dtype='int64'),\n",
       " 'COVID-19,Nintedanib,Safety,Effect of Drugs': Int64Index([2908], dtype='int64'),\n",
       " 'COVID-19,Novel Coronavirus Pneumonia': Int64Index([2539], dtype='int64'),\n",
       " 'COVID-19,Obesity': Int64Index([1823], dtype='int64'),\n",
       " 'COVID-19,Organ Dysfunction Syndrome Sepsis,Organ Dysfunction Syndrome, Multiple,Septic Shock,Acute Kidney Injury,Acute Respiratory Distress Syndrome': Int64Index([1345], dtype='int64'),\n",
       " 'COVID-19,Perception, Self,Facilities and Services Utilization': Int64Index([2191], dtype='int64'),\n",
       " 'COVID-19,Physician-Patient Relations': Int64Index([2348], dtype='int64'),\n",
       " 'COVID-19,Physiotherapy': Int64Index([2920], dtype='int64'),\n",
       " 'COVID-19,Pneumonia': Int64Index([430, 1099, 1696, 2382, 2744], dtype='int64'),\n",
       " 'COVID-19,Pneumonia, Viral': Int64Index([1835, 2813, 2993], dtype='int64'),\n",
       " 'COVID-19,Pneumonia, Viral,Influenza With Pneumonia,Flu Symptom,Flu Like Illness,Pneumonia, Interstitial,Pneumonia, Ventilator-Associated,Pneumonia Atypical': Int64Index([1156], dtype='int64'),\n",
       " 'COVID-19,Pneumonia, Viral,Pulmonary Infection': Int64Index([2233], dtype='int64'),\n",
       " 'COVID-19,Pneumonia,ARDS,Hemostasis,Coagulation': Int64Index([861], dtype='int64'),\n",
       " 'COVID-19,Pneumonia,Acute Respiratory Distress Syndrome': Int64Index([2743], dtype='int64'),\n",
       " 'COVID-19,Pneumonia,Mechanical Ventilation': Int64Index([3495], dtype='int64'),\n",
       " 'COVID-19,Pregnancy Complications': Int64Index([2134], dtype='int64'),\n",
       " 'COVID-19,Pregnancy Complications,Mental Health Wellness 1,Anxiety,Depression,Ptsd,Coronavirus': Int64Index([1892], dtype='int64'),\n",
       " 'COVID-19,Pregnancy Related,Influenza, Human': Int64Index([2595], dtype='int64'),\n",
       " 'COVID-19,Prenatal Care,Postoperative Care': Int64Index([953], dtype='int64'),\n",
       " 'COVID-19,Prognostic Factors,Pregnancy': Int64Index([3336], dtype='int64'),\n",
       " 'COVID-19,Psychosocial Stress,Mental Health': Int64Index([20], dtype='int64'),\n",
       " 'COVID-19,Pulmonary Embolism, Deep Vein Thrombosis': Int64Index([597], dtype='int64'),\n",
       " 'COVID-19,Pulmonary Fibrosis': Int64Index([3046], dtype='int64'),\n",
       " 'COVID-19,Quality of Life': Int64Index([598], dtype='int64'),\n",
       " 'COVID-19,Recombinant Human Interferon α1β': Int64Index([2885], dtype='int64'),\n",
       " 'COVID-19,Remdesivir,SARS-CoV-2': Int64Index([1112], dtype='int64'),\n",
       " 'COVID-19,Renal Replacement Therapy,Acute Kidney Injury': Int64Index([3000], dtype='int64'),\n",
       " 'COVID-19,Respiratory Disease': Int64Index([1009], dtype='int64'),\n",
       " 'COVID-19,Respiratory Failure': Int64Index([16, 157, 439, 961, 2625], dtype='int64'),\n",
       " 'COVID-19,Respiratory Failure With Hypoxia': Int64Index([2211], dtype='int64'),\n",
       " 'COVID-19,Respiratory Failure,ARDS': Int64Index([3357], dtype='int64'),\n",
       " 'COVID-19,Respiratory Illness': Int64Index([933], dtype='int64'),\n",
       " 'COVID-19,Respiratory Insufficiency,Telmisartan,Respiratory Distress Syndrome, Adult': Int64Index([3263], dtype='int64'),\n",
       " 'COVID-19,Rheumatoid Arthritis': Int64Index([1141], dtype='int64'),\n",
       " 'COVID-19,SARS': Int64Index([2322], dtype='int64'),\n",
       " 'COVID-19,SARS-CoV 2': Int64Index([23, 287, 443, 540, 702, 1341, 2208, 2231, 2627, 3063, 3234, 3287], dtype='int64'),\n",
       " 'COVID-19,SARS-CoV 2,ARDS, Human,Immune System Disorder': Int64Index([583], dtype='int64'),\n",
       " 'COVID-19,SARS-CoV 2,Adult Respiratory Distress Syndrome': Int64Index([1872], dtype='int64'),\n",
       " 'COVID-19,SARS-CoV 2,Convalescence,Plasma,Doses': Int64Index([3017], dtype='int64'),\n",
       " 'COVID-19,SARS-CoV 2,Corona Virus Infection': Int64Index([1979], dtype='int64'),\n",
       " 'COVID-19,SARS-CoV 2,Corona Virus Infection,Sedentary Behavior': Int64Index([25], dtype='int64'),\n",
       " 'COVID-19,SARS-CoV 2,Coronavirus Infection': Int64Index([222, 1303], dtype='int64'),\n",
       " 'COVID-19,SARS-CoV 2,Extracorporeal Membrane Oxygenation,ARDS': Int64Index([2319], dtype='int64'),\n",
       " 'COVID-19,SARS-CoV 2,Health Personnel': Int64Index([570], dtype='int64'),\n",
       " 'COVID-19,SARS-CoV 2,Respiratory Disease,Pneumonia, Viral,Corona Virus Infection': Int64Index([484], dtype='int64'),\n",
       " 'COVID-19,SARS-CoV 2,Severe Acute Respiratory Syndrome Coronavirus 2,Virus Disease,Coronavirus Infections,Pharyngeal Diseases': Int64Index([830], dtype='int64'),\n",
       " 'COVID-19,SARS-CoV Infection,SARS (Severe Acute Respiratory Syndrome),SARS Pneumonia,ARDS, Human,Pneumonia, Viral': Int64Index([3276], dtype='int64'),\n",
       " 'COVID-19,SARS-CoV Infection,Severe Acute Respiratory Syndrome (SARS) Pneumonia,Clinical Trial': Int64Index([677], dtype='int64'),\n",
       " 'COVID-19,SARS-CoV-2': Int64Index([ 497,  565,  744,  808,  858,  888,  968, 1014, 1337, 1867, 1935,\n",
       "             1964, 2246, 2324, 2886, 3421],\n",
       "            dtype='int64'),\n",
       " 'COVID-19,SARS-CoV-2 Infection': Int64Index([1143, 2713, 2866, 3309, 3482], dtype='int64'),\n",
       " 'COVID-19,SARS-CoV-2 Infection,Pediatric ALL,Pneumonia, Viral,Pandemic Response': Int64Index([2875], dtype='int64'),\n",
       " 'COVID-19,SARS-CoV-2 Infection,Severe Acute Respiratory Syndrome Coronavirus 2': Int64Index([2398], dtype='int64'),\n",
       " 'COVID-19,SARS-CoV-2,2019-nCoV,Pneumonia, Viral': Int64Index([323], dtype='int64'),\n",
       " 'COVID-19,SARS-CoV-2,Coronavirus,Influenza -Like Illness,Lower Resp Tract Infection,Upper Resp Tract Infection': Int64Index([3269], dtype='int64'),\n",
       " 'COVID-19,SARS-CoV-2,Pregnant Women,Hydroxychloroquine': Int64Index([1965], dtype='int64'),\n",
       " 'COVID-19,SARS-CoV2': Int64Index([109, 201, 942, 947, 1245], dtype='int64'),\n",
       " 'COVID-19,SARS-CoV2,Androgenetic Alopecia,Prostate Cancer,Benign Prostatic Hyperplasia,SARS (Severe Acute Respiratory Syndrome)': Int64Index([3168], dtype='int64'),\n",
       " 'COVID-19,Sars-CoV2': Int64Index([120, 422, 909, 1267, 2540, 3243, 3291], dtype='int64'),\n",
       " 'COVID-19,Sars-CoV2,Cancer,Solid Tumor,Carcinoma,Blood Cancer': Int64Index([1533], dtype='int64'),\n",
       " 'COVID-19,Sars-CoV2,Corona Virus Infection,Semen': Int64Index([2379], dtype='int64'),\n",
       " 'COVID-19,Sars-CoV2,Pneumonia': Int64Index([962], dtype='int64'),\n",
       " 'COVID-19,Serology': Int64Index([2968], dtype='int64'),\n",
       " 'COVID-19,Severe Acute Respiratory Syndrome': Int64Index([854, 2761], dtype='int64'),\n",
       " 'COVID-19,Severe Acute Respiratory Syndrome (SARS),Coronavirus Infections': Int64Index([2117], dtype='int64'),\n",
       " 'COVID-19,Severe Acute Respiratory Syndrome Coronavirus 2': Int64Index([2992], dtype='int64'),\n",
       " 'COVID-19,Severe Acute Respiratory Syndrome Coronavirus 2,Immunomodulation': Int64Index([1027], dtype='int64'),\n",
       " 'COVID-19,Severe Pneumonia': Int64Index([2531], dtype='int64'),\n",
       " 'COVID-19,Severe Pneumonia,Chinese Medicine': Int64Index([3104], dtype='int64'),\n",
       " 'COVID-19,Sleep Quality,General Health': Int64Index([2673], dtype='int64'),\n",
       " \"COVID-19,Systemic Lupus Erythematosus,Sjogren's Syndrome,Axial Spondyloarthritis,Rheumatoid Arthritis,Giant Cell Arteritis\": Int64Index([1098], dtype='int64'),\n",
       " 'COVID-19,Telemedicine,Robotics,Emergencies,Emerging Infectious Disease': Int64Index([2583], dtype='int64'),\n",
       " 'COVID-19,Therapeutic Vaccine,BCG,SARS-CoV 2,Transmission': Int64Index([2556], dtype='int64'),\n",
       " 'COVID-19,Thermotherapy': Int64Index([2224], dtype='int64'),\n",
       " 'COVID-19,Urologic Diseases,Surgery--Complications,Epidemic Disease': Int64Index([248], dtype='int64'),\n",
       " 'COVID-19,Venous Thromboembolism,Arterial Thrombosis': Int64Index([2023], dtype='int64'),\n",
       " 'COVID-19,Venous Thromboembolism,Pulmonary Embolism,Deep Vein Thrombosis,SARS-CoV 2': Int64Index([2122], dtype='int64'),\n",
       " 'COVID-19,Venous Thromboses,Arterial Thrombosis': Int64Index([1984], dtype='int64'),\n",
       " 'COVID-19,Viral Pneumonia': Int64Index([3504], dtype='int64'),\n",
       " 'COVID-19,Viral Pneumonia Human Coronavirus': Int64Index([1531], dtype='int64'),\n",
       " 'COVID-19,Viral Respiratory Illnesses': Int64Index([2775, 3360], dtype='int64'),\n",
       " 'COVID-19,Virus Diseases,Corona Virus Infection': Int64Index([1338], dtype='int64'),\n",
       " 'COVID-19,Virus Diseases,Corona Virus Infection,Coronary Heart Disease,Chronic Obstructive Pulmonary Disease': Int64Index([2878], dtype='int64'),\n",
       " 'COVID-19,Virus Diseases,Corona Virus Infection,Lower Respiratory Tract Infection Viral': Int64Index([617], dtype='int64'),\n",
       " 'COVID-19,Virus Diseases,Macrophage Activation Syndrome,Corona Virus Infection': Int64Index([778], dtype='int64'),\n",
       " 'COVID-19,Virus; Pneumonia,Atelectasis': Int64Index([2757], dtype='int64'),\n",
       " 'COVID-19,Vitamin D Deficiency': Int64Index([1733], dtype='int64'),\n",
       " 'COVID-19,Vitamin D Deficiency,Respiratory Viral Infection': Int64Index([1999], dtype='int64'),\n",
       " 'COVID-19,Yellow Fever': Int64Index([1555], dtype='int64'),\n",
       " 'COVID-19; Cardiovascular Diseases': Int64Index([2467], dtype='int64'),\n",
       " 'COVID-19; and High Infection Risk of SARS-CoV-2': Int64Index([952], dtype='int64'),\n",
       " 'COVID-2019': Int64Index([306], dtype='int64'),\n",
       " 'COVID-2019 Pneumonia,Pulmonary Rehabilitation': Int64Index([1186], dtype='int64'),\n",
       " 'COVID19': Int64Index([   8,   67,  188,  311,  348,  645,  663,  783,  916,  919,  923,\n",
       "             1090, 1116, 1133, 1154, 1200, 1247, 1365, 1503, 1565, 1727, 1765,\n",
       "             1801, 2013, 2169, 2195, 2202, 2217, 2306, 2532, 2754, 2923, 2972,\n",
       "             2978, 3116, 3131, 3222, 3356, 3370, 3496],\n",
       "            dtype='int64'),\n",
       " 'COVID19 ARDS': Int64Index([1340], dtype='int64'),\n",
       " 'COVID19 Behavioral Prophylaxis': Int64Index([421], dtype='int64'),\n",
       " 'COVID19 Infection': Int64Index([2409], dtype='int64'),\n",
       " 'COVID19 Pneumonia': Int64Index([17, 1417, 3124, 3201], dtype='int64'),\n",
       " 'COVID19,ARDS': Int64Index([3454], dtype='int64'),\n",
       " 'COVID19,ARDS,AKI,Circulatory Failure,Coagulation Disorder,Inflammatory Response': Int64Index([788], dtype='int64'),\n",
       " 'COVID19,Acute Respiratory Distress Syndrome': Int64Index([2715], dtype='int64'),\n",
       " 'COVID19,BETA-CELL FUNCTION': Int64Index([1870], dtype='int64'),\n",
       " 'COVID19,COVID-19,Coronavirus': Int64Index([1184], dtype='int64'),\n",
       " 'COVID19,Cardiovascular Diseases': Int64Index([3220], dtype='int64'),\n",
       " 'COVID19,Corona Virus Infection,Myocardial Injury,Pneumonia': Int64Index([2788], dtype='int64'),\n",
       " 'COVID19,Coronavirus Infection,Coronavirus,Virus Diseases,RNA Virus Infections': Int64Index([1310], dtype='int64'),\n",
       " 'COVID19,Coronavirus Infection,Pregnancy Disease,Severe Acute Respiratory Syndrome': Int64Index([736], dtype='int64'),\n",
       " 'COVID19,Coronavirus,Acute Respiratory Illnesses': Int64Index([774], dtype='int64'),\n",
       " 'COVID19,Fertility Issues,ART': Int64Index([2272], dtype='int64'),\n",
       " 'COVID19,Healthcare Workers': Int64Index([3393], dtype='int64'),\n",
       " 'COVID19,Hematologic Malignancy': Int64Index([343], dtype='int64'),\n",
       " 'COVID19,Hydroxychloroquine,Prophylaxis,Treatment,SARS-CoV-2': Int64Index([309], dtype='int64'),\n",
       " 'COVID19,Hypoxia': Int64Index([1514], dtype='int64'),\n",
       " 'COVID19,Influenza Vaccination,ACE Inhibitors,ARB': Int64Index([1486], dtype='int64'),\n",
       " 'COVID19,Intensive Care Unit': Int64Index([2097], dtype='int64'),\n",
       " 'COVID19,Mouthwash,Saliva': Int64Index([1773], dtype='int64'),\n",
       " 'COVID19,Ophthalmopathy': Int64Index([1584], dtype='int64'),\n",
       " 'COVID19,Oxygen Therapy,Prone Position,Spontaneous Ventilation,Respiratory Distress Syndrome': Int64Index([1567], dtype='int64'),\n",
       " 'COVID19,Pneumonia, Viral,Inflammatory Response': Int64Index([1685], dtype='int64'),\n",
       " 'COVID19,Post Intensive Care Unit Syndrome': Int64Index([2315], dtype='int64'),\n",
       " 'COVID19,SARS-CoV-2 Infection': Int64Index([2008], dtype='int64'),\n",
       " 'COVID19,Sars-CoV2,Hydroxychloroquine,Prophylaxis,Healthcare Worker': Int64Index([2447], dtype='int64'),\n",
       " 'COVID19,Thromboembolism': Int64Index([1049], dtype='int64'),\n",
       " 'COVID19,Thrombosis': Int64Index([3195], dtype='int64'),\n",
       " 'COVID19- Infection With SARS-CoV-2 Virus': Int64Index([3080], dtype='int64'),\n",
       " 'CPAP Ventilation,COVID-19,Emergency Departments': Int64Index([2292], dtype='int64'),\n",
       " 'CT Scores Predict Mortality in 2019-nCoV Pneumonia': Int64Index([3053], dtype='int64'),\n",
       " 'Cancer': Int64Index([261, 298, 503, 821, 1425, 2120, 2538], dtype='int64'),\n",
       " 'Cancer & COVID 19': Int64Index([2856], dtype='int64'),\n",
       " 'Cancer Metastatic,Cancer,Survivorship': Int64Index([866], dtype='int64'),\n",
       " 'Cancer, Metastatic,Cancer,Cancer of Pancreas,Cancer of Liver,Cancer of Stomach,Cancer Liver,Cancer of Rectum,Cancer of Kidney,Cancer of Esophagus,Cancer of Cervix,Cancer of Colon,Cancer of Larynx,Cancer, Lung,Cancer, Breast,Cancer, Advanced,Cancer Prostate,Cancer of Neck,Cancer of Skin,Neuroendocrine Tumors,Carcinoma,Mismatch Repair Deficiency,BRCA Gene Rearrangement,Non Hodgkin Lymphoma,Leukemia,Non Small Cell Lung Cancer,Cholangiocarcinoma,Glioblastoma,Central Nervous System Tumor,Melanoma,Urothelial Carcinoma,Bladder Cancer,Ovarian Cancer,Endometrial Cancer,Testicular Cancer,Breast Cancer,COVID': Int64Index([2121], dtype='int64'),\n",
       " 'Cancer,COPD,Asthma,Bronchiectasis Adult,Interstitial Lung Disease,Cystic Fibrosis,Chronic Heart Failure,Sickle Cell Disease,Renal Failure,Liver Failure,Post COVID-19,Dyspnea': Int64Index([1846], dtype='int64'),\n",
       " 'Cancer,COVID': Int64Index([1185, 1306, 1504], dtype='int64'),\n",
       " 'Cancer,COVID,Coronavirus Infection': Int64Index([2288], dtype='int64'),\n",
       " 'Cancer,COVID,Solid Tumor,Social Inequality,French National Cohort,Chemotherapy,Immunotherapy,Surgery,Radiotherapy': Int64Index([579], dtype='int64'),\n",
       " 'Cancer,COVID-19': Int64Index([396], dtype='int64'),\n",
       " 'Cancer,Covid-19': Int64Index([1456], dtype='int64'),\n",
       " 'Cancer,Covid19,Respiratory Viral Infection': Int64Index([2887], dtype='int64'),\n",
       " 'Cancer,Sars-CoV2': Int64Index([1130], dtype='int64'),\n",
       " 'Cardiac Arrest,Emergencies': Int64Index([2297], dtype='int64'),\n",
       " 'Cardiac Arrest,Needle Stick,Injuries,Glowe': Int64Index([3121], dtype='int64'),\n",
       " 'Cardiac Rehabilitation': Int64Index([3286], dtype='int64'),\n",
       " 'Cardiac Surgery,COVID': Int64Index([1140], dtype='int64'),\n",
       " 'Cardiomyopathies': Int64Index([2862], dtype='int64'),\n",
       " 'Cardiopulmonary Resuscitation,Personal Protective Equipment': Int64Index([833], dtype='int64'),\n",
       " 'Cardiovascular Consequences After an Episode of COVID 19': Int64Index([3236], dtype='int64'),\n",
       " 'Cardiovascular Death; Major Adverse Cardiovascular Events': Int64Index([226], dtype='int64'),\n",
       " 'Cardiovascular Disease Acute,Cardiomyopathies,COVID': Int64Index([513], dtype='int64'),\n",
       " 'Cardiovascular Diseases': Int64Index([807], dtype='int64'),\n",
       " 'Cardiovascular Diseases,COVID': Int64Index([838], dtype='int64'),\n",
       " 'Cardiovascular Diseases,COVID-19': Int64Index([18], dtype='int64'),\n",
       " 'Cardiovascular Diseases,Cardiovascular Risk Factor': Int64Index([144], dtype='int64'),\n",
       " 'Cardiovascular Diseases,Cardiovascular Risk Factor,SARS': Int64Index([3230], dtype='int64'),\n",
       " 'Cardiovascular Diseases,Delirium,Critical Illness,Intensive Care Unit Delirium,Thoracic Diseases,Respiratory Failure,Cardiac Disease,Cardiac Failure': Int64Index([1810], dtype='int64'),\n",
       " 'Cardiovascular Diseases,Heart Failure': Int64Index([2329], dtype='int64'),\n",
       " 'Cardiovascular Diseases,Mental Disorder': Int64Index([3359], dtype='int64'),\n",
       " 'Cardiovascular Prevention Behaviour': Int64Index([2031], dtype='int64'),\n",
       " 'Cardiovascular Risk Factor,Burnout,Immune Deficiency': Int64Index([2254], dtype='int64'),\n",
       " 'Caregivers,COVID-19': Int64Index([1357], dtype='int64'),\n",
       " 'Cerebrovascular Accident,Chronic Obstructive Pulmonary Disease,Chronic Renal Failure,Coronary Artery Disease,Diabetes Mellitus,Malignant Neoplasm,SARS Coronavirus 2 Infection': Int64Index([705], dtype='int64'),\n",
       " 'Change; Endoscopy, COVID-19': Int64Index([3458], dtype='int64'),\n",
       " 'Characteristics Diseases,Outcome, Fatal': Int64Index([1606], dtype='int64'),\n",
       " 'Chemeotherapy,Immunotherapy,Treatment Mofidied,Coronavirus,Quality of Life': Int64Index([2800], dtype='int64'),\n",
       " 'Chilblains,COVID-19': Int64Index([3478], dtype='int64'),\n",
       " 'Child Development,Mother-Infant Interaction,COVID-19': Int64Index([699], dtype='int64'),\n",
       " 'Cholangitis, Secondary Biliary,Cholangiocarcinoma,Obstructive Jaundice,Pancreas Cancer,COVID-19,SARS-CoV-2': Int64Index([452], dtype='int64'),\n",
       " 'Cholecystitis, Acute,Cholecystitis; Gangrenous,Cholecystitis Suppurative,Covid19': Int64Index([2397], dtype='int64'),\n",
       " \"Chronic Coronary Syndrome,Heart Failure,AMD and Macular Edema,Chronic Respiratory Failure,Hemophilia,Malignant Hemopathy,Multiple Sclerosis,Horton's Disease\": Int64Index([2951], dtype='int64'),\n",
       " 'Chronic Disabling,COVID-19': Int64Index([2438], dtype='int64'),\n",
       " 'Chronic Disease,Aging,Aging Problems,Health Behavior,Multiple Chronic Conditions,Chronic Illness,Chronic Illnesses, Multiple,Healthy Lifestyle,Healthy Aging,Aging Well,Healthy Life Style,Self-management,Self Care': Int64Index([3378], dtype='int64'),\n",
       " 'Chronic Disease,Chronic Diseases in Adolescence,Chronic Disease of Immune System,Chronic Kidney Diseases': Int64Index([946], dtype='int64'),\n",
       " 'Chronic Fatigue Syndrome,Intensive Care Unit,Muscle': Int64Index([3440], dtype='int64'),\n",
       " 'Chronic Health Conditions,Older Age is Associated With Increased Pathogenicity': Int64Index([3295], dtype='int64'),\n",
       " 'Chronic Hemodialysis Patients,Caregivers of Chronic Hemodialysis Patients': Int64Index([1374], dtype='int64'),\n",
       " 'Chronic Lymphocytic Leukemia, Lymphocytic Lymphoma or Waldenstrom Disease': Int64Index([414], dtype='int64'),\n",
       " 'Chronic Musculoskeletal Pain': Int64Index([1399], dtype='int64'),\n",
       " 'Chronic Pain': Int64Index([935, 1375, 2047, 2476], dtype='int64'),\n",
       " 'Chronic Pain,Chronic Pain Syndrome,Chronic Pain Due to Injury,Chronic Pain Due to Trauma,Fibromyalgia,Seizures,Hepatitis C,Cancer,Crohn Disease,HIV/AIDS,Multiple Sclerosis,Traumatic Brain Injury,Sickle Cell Disease,Post Traumatic Stress Disorder,Tourette Syndrome,Ulcerative Colitis,Glaucoma,Epilepsy,Inflammatory Bowel Diseases,Parkinson Disease,Amyotrophic Lateral Sclerosis,Chronic Traumatic Encephalopathy,Anxiety,Depression,Insomnia,Autism,Opioid-use Disorder,Bipolar Disorder,Covid19,SARS-CoV Infection,COVID-19,Corona Virus Infection,Coronavirus': Int64Index([3075], dtype='int64'),\n",
       " 'Chronic Stress': Int64Index([1726], dtype='int64'),\n",
       " 'Clinical Practice During the COVID-19 Crisis': Int64Index([480], dtype='int64'),\n",
       " 'Clinical Trial': Int64Index([3010], dtype='int64'),\n",
       " 'CoV2 Positive Caregivers': Int64Index([3503], dtype='int64'),\n",
       " 'CoV2 SARS Pneumonia': Int64Index([505], dtype='int64'),\n",
       " 'CoVID-19': Int64Index([2709], dtype='int64'),\n",
       " 'CoVID-19,Chinese Medicine': Int64Index([3365], dtype='int64'),\n",
       " 'CoVid 19 Positive': Int64Index([2265], dtype='int64'),\n",
       " 'Coagulation Disorder': Int64Index([822], dtype='int64'),\n",
       " 'Coagulopathy': Int64Index([87], dtype='int64'),\n",
       " 'Coagulopathy,Cardiovascular Complication,COVID-19': Int64Index([2629], dtype='int64'),\n",
       " 'Colo-rectal Cancer,Colon Cancer,Rectal Cancer,Oncology,Surgery': Int64Index([827], dtype='int64'),\n",
       " 'Colon Cancer': Int64Index([151, 1423, 1985], dtype='int64'),\n",
       " 'Colon Polyp,Colon Disease,Reflux, Gastroesophageal,Varices, Esophageal': Int64Index([2209], dtype='int64'),\n",
       " 'Communicable Disease,COVID-19,Sars-CoV2,Infectious Disease,Coronavirus,Virus': Int64Index([1557], dtype='int64'),\n",
       " 'Communication Research': Int64Index([3364], dtype='int64'),\n",
       " 'Community-acquired Pneumonia, Influenza, COVID-19': Int64Index([727], dtype='int64'),\n",
       " 'Community-acquired Pneumonia,Covid19': Int64Index([1207], dtype='int64'),\n",
       " 'Comorbidities and Coexisting Conditions,Social Isolation': Int64Index([2766], dtype='int64'),\n",
       " 'Comorbidities,Confinement,Obesity': Int64Index([1257], dtype='int64'),\n",
       " 'Complicated Grief,Intensive Care,Covid19': Int64Index([2508], dtype='int64'),\n",
       " 'Confirmed Coronavirus Disease': Int64Index([1735], dtype='int64'),\n",
       " 'Congenital Heart Disease,Covid-19': Int64Index([2069], dtype='int64'),\n",
       " 'Conjunctivitis,SARS-CoV-2,COVID-19,Ocular Infection, Viral,Ocular Inflammation': Int64Index([730], dtype='int64'),\n",
       " 'Consent': Int64Index([239], dtype='int64'),\n",
       " 'Contact Person From COVID-19 Confirmed Patient': Int64Index([1594], dtype='int64'),\n",
       " 'Contagious Pleuropneumonia': Int64Index([428], dtype='int64'),\n",
       " 'Continuous Renal Replacement Therapy,Pulmonary Edema,COVID-19': Int64Index([253], dtype='int64'),\n",
       " 'Convalescence,Corona Virus Infection,Plaque': Int64Index([1408], dtype='int64'),\n",
       " 'Convalescent Plasma for COVID 19': Int64Index([2758], dtype='int64'),\n",
       " 'Convalescent Plasma,COVID-19,SARS-CoV 2': Int64Index([2085], dtype='int64'),\n",
       " 'Corona Virus Disease': Int64Index([341], dtype='int64'),\n",
       " 'Corona Virus Disease 19 (COVID-19),COVID,Acute Lung Injury/Acute Respiratory Distress Syndrome (ARDS),Critical Illness': Int64Index([72], dtype='int64'),\n",
       " 'Corona Virus Disease 19 (Covid 19)': Int64Index([1459], dtype='int64'),\n",
       " 'Corona Virus Disease 2019': Int64Index([2905], dtype='int64'),\n",
       " 'Corona Virus Disease 2019(COVID-19)': Int64Index([1723], dtype='int64'),\n",
       " 'Corona Virus Disease 2019,COVID-19': Int64Index([1865], dtype='int64'),\n",
       " 'Corona Virus Infection': Int64Index([ 143,  233,  682,  856,  954, 1017, 1040, 1287, 1354, 1631, 1689,\n",
       "             1840, 1848, 2150, 2199, 2487, 2669, 2843, 2859, 2904, 3126, 3335,\n",
       "             3392, 3423, 3442],\n",
       "            dtype='int64'),\n",
       " 'Corona Virus Infection,ARDS,ARDS, Human,Acute Respiratory Distress Syndrome,COVID-19': Int64Index([751], dtype='int64'),\n",
       " 'Corona Virus Infection,ARDS,Coinfection': Int64Index([2421], dtype='int64'),\n",
       " 'Corona Virus Infection,Acute Respiratory Distress Syndrome,SARS-CoV Infection': Int64Index([1998, 2243], dtype='int64'),\n",
       " 'Corona Virus Infection,Acute Respiratory Distress Syndrome,SARS-CoV Infection,Coronavirus,Coronavirus Infections': Int64Index([1127], dtype='int64'),\n",
       " 'Corona Virus Infection,COVID,Pregnancy Related,Early Pregnancy': Int64Index([170], dtype='int64'),\n",
       " 'Corona Virus Infection,COVID-19': Int64Index([2844, 3210], dtype='int64'),\n",
       " 'Corona Virus Infection,COVID-19,SARS,Acute Respiratory Distress Syndrome': Int64Index([1439], dtype='int64'),\n",
       " 'Corona Virus Infection,COVID-19,SARS-CoV 2,Nitric Oxide,Respiratory Disease,Pneumonia, Viral,Inhaled Nitric Oxide': Int64Index([251], dtype='int64'),\n",
       " 'Corona Virus Infection,Coronavirus': Int64Index([433], dtype='int64'),\n",
       " 'Corona Virus Infection,Critical Illness': Int64Index([927], dtype='int64'),\n",
       " 'Corona Virus Infection,Middle East Respiratory Syndrome (MERS),Acute Respiratory Distress Syndrome,Coronavirus Infection,COVID-19,SARS-CoV 2': Int64Index([2291], dtype='int64'),\n",
       " 'Corona Virus Infection,Pediatric Cancer,Adult Children,Cancer': Int64Index([3516], dtype='int64'),\n",
       " 'Corona Virus Infection,Pneumonia': Int64Index([56], dtype='int64'),\n",
       " 'Corona Virus Infection,Post-traumatic Stress Disorder': Int64Index([3311], dtype='int64'),\n",
       " 'Corona Virus Infection,Pregnancy Related': Int64Index([107], dtype='int64'),\n",
       " 'Corona Virus Infection,Psychiatric Disorder,Psychological Distress': Int64Index([1265], dtype='int64'),\n",
       " 'Corona Virus Infection,SARS-CoV 2': Int64Index([3162], dtype='int64'),\n",
       " 'Corona Virus Infection,SARS-CoV 2,SARS Pneumonia,Pneumonia': Int64Index([1738], dtype='int64'),\n",
       " 'Corona Virus Infection,SARS-CoV Infection,Coronavirus': Int64Index([998], dtype='int64'),\n",
       " 'Corona Virus Infection,Sars-CoV2': Int64Index([1477], dtype='int64'),\n",
       " 'Corona Virus Infection,Stroke': Int64Index([1855], dtype='int64'),\n",
       " 'Corona Virus Infection,Thromboembolic Disease': Int64Index([3502], dtype='int64'),\n",
       " 'Corona Virus Infection,Virus Diseases,Coronaviridae Infections': Int64Index([2568], dtype='int64'),\n",
       " 'CoronaVirus Induced Disease-2019 (COVID-19)': Int64Index([1070], dtype='int64'),\n",
       " 'Coronary Artery Disease': Int64Index([2437], dtype='int64'),\n",
       " 'Coronavirus': Int64Index([ 178,  223,  263,  325,  350,  529,  629,  775,  966,  967, 1108,\n",
       "             1113, 1145, 1194, 1406, 1415, 1522, 1529, 1578, 1598, 1663, 1665,\n",
       "             1701, 1728, 1833, 2062, 2101, 2139, 2304, 2390, 2439, 2749, 2947,\n",
       "             2962, 3043, 3173, 3377, 3428, 3443],\n",
       "            dtype='int64'),\n",
       " 'Coronavirus (COVID-19)': Int64Index([2842], dtype='int64'),\n",
       " 'Coronavirus COVID-19': Int64Index([589], dtype='int64'),\n",
       " 'Coronavirus Disease': Int64Index([2238], dtype='int64'),\n",
       " 'Coronavirus Disease (COVID-19)': Int64Index([304, 877, 975, 1261, 1299, 1364, 1420, 1546, 2237, 2936, 3036,\n",
       "             3187, 3282],\n",
       "            dtype='int64'),\n",
       " 'Coronavirus Disease (COVID-19),COVID-19': Int64Index([973], dtype='int64'),\n",
       " 'Coronavirus Disease 2019': Int64Index([1107, 1516, 1992, 2623, 3154, 3213, 3250, 3308], dtype='int64'),\n",
       " 'Coronavirus Disease 2019 (COVID-19)': Int64Index([6, 160, 537, 603, 1061, 1241, 1619, 2803, 2854], dtype='int64'),\n",
       " 'Coronavirus Disease 2019 (COVID-19) Pneumonia': Int64Index([525], dtype='int64'),\n",
       " 'Coronavirus Disease 2019 (COVID-19),Pneumonia,Hypoxemia': Int64Index([616], dtype='int64'),\n",
       " 'Coronavirus Disease 2019 (COVID-19),Post-Exposure Prophylaxis': Int64Index([1770], dtype='int64'),\n",
       " 'Coronavirus Disease 2019 (COVID-19),Respiratory Illness,Corona Virus Infection,COVID-19': Int64Index([846], dtype='int64'),\n",
       " 'Coronavirus Disease 2019 (COVID-19),SARS-CoV-2': Int64Index([1785, 1790], dtype='int64'),\n",
       " 'Coronavirus Disease 2019 (COVID19)': Int64Index([2759], dtype='int64'),\n",
       " 'Coronavirus Disease 2019 )COVID-19)': Int64Index([227], dtype='int64'),\n",
       " 'Coronavirus Disease 2019 COVID-19': Int64Index([1782], dtype='int64'),\n",
       " 'Coronavirus Disease 2019 Infectious Disease (COVID-19 Infection)': Int64Index([2183], dtype='int64'),\n",
       " 'Coronavirus Disease 2019(COVID-19)': Int64Index([2159], dtype='int64'),\n",
       " 'Coronavirus Disease 2019,Character of the Severe Patients': Int64Index([3285], dtype='int64'),\n",
       " 'Coronavirus Disease 2019,Novel Coronavirus Pneumonia': Int64Index([2995], dtype='int64'),\n",
       " 'Coronavirus Disease-2019': Int64Index([1711], dtype='int64'),\n",
       " 'Coronavirus Disease-2019 (COVID-19)': Int64Index([637], dtype='int64'),\n",
       " 'Coronavirus Infection': Int64Index([  60,  121,  137,  308,  319,  328,  417,  575,  690,  701,  769,\n",
       "              780,  850, 1325, 1470, 1532, 1583, 1590, 1694, 1763, 1772, 1777,\n",
       "             1837, 1904, 1911, 1941, 1955, 2035, 2055, 2151, 2239, 2248, 2293,\n",
       "             2320, 2393, 2553, 2723, 3006, 3114, 3350, 3448, 3449],\n",
       "            dtype='int64'),\n",
       " 'Coronavirus Infection (COVID-19)': Int64Index([2737], dtype='int64'),\n",
       " 'Coronavirus Infection (COVID-19),Pulmonary Arterial Hypertension,Urinary Tract Infections in Children,Hypertension,Pain,Hyperphosphatemia,Primary Hyperaldosteronism,Edema,Hypokalemia,Heart Failure,Hemophilia,Menorrhagia,Insomnia,Pneumonia,Skin Infection,Arrythmia,Asthma in Children,Bronchopulmonary Dysplasia,Adrenal Insufficiency,Fibrinolysis; Hemorrhage,Attention Deficit Hyperactivity Disorder,Multisystem Inflammatory Syndrome in Children (MIS-C),Kawasaki Disease,Coagulation Disorder,Down Syndrome': Int64Index([1616], dtype='int64'),\n",
       " 'Coronavirus Infection and Hematologic Diseases': Int64Index([1838], dtype='int64'),\n",
       " 'Coronavirus Infection,Acute Respiratory Distress Syndrome,COVID': Int64Index([1001], dtype='int64'),\n",
       " 'Coronavirus Infection,COVID': Int64Index([2524], dtype='int64'),\n",
       " 'Coronavirus Infection,COVID,Covid-19,SARS-CoV-2': Int64Index([3352], dtype='int64'),\n",
       " 'Coronavirus Infection,COVID,SARS-CoV 2,Respiratory Failure,Cytokine Storm,Extracorporeal Membrane Oxygenation': Int64Index([606], dtype='int64'),\n",
       " 'Coronavirus Infection,COVID,Sars-CoV2': Int64Index([413], dtype='int64'),\n",
       " 'Coronavirus Infection,COVID,Severe Acute Respiratory Syndrome,Respiratory Failure,Respiratory Insufficiency,Respiratory Distress Syndrome,ARDS,Lung Diseases': Int64Index([3472], dtype='int64'),\n",
       " 'Coronavirus Infection,COVID-19': Int64Index([372], dtype='int64'),\n",
       " 'Coronavirus Infection,COVID19': Int64Index([761], dtype='int64'),\n",
       " 'Coronavirus Infection,Coronavirus,COVID': Int64Index([1137], dtype='int64'),\n",
       " 'Coronavirus Infection,Coronavirus,Infectious Disease': Int64Index([2682], dtype='int64'),\n",
       " 'Coronavirus Infection,Coronavirus,SARS-CoV-2 Infection,Covid19': Int64Index([2493], dtype='int64'),\n",
       " 'Coronavirus Infection,Covid-19,SARS-CoV-2': Int64Index([1708], dtype='int64'),\n",
       " 'Coronavirus Infection,Covid19,SARS (Severe Acute Respiratory Syndrome),AKI': Int64Index([2593], dtype='int64'),\n",
       " 'Coronavirus Infection,Critical Illness,Characteristics Disease': Int64Index([1489], dtype='int64'),\n",
       " 'Coronavirus Infection,Cytokine Storm,Mental Disorder': Int64Index([2334], dtype='int64'),\n",
       " 'Coronavirus Infection,Diabetes': Int64Index([3376], dtype='int64'),\n",
       " 'Coronavirus Infection,Diabetes Mellitus, Type 2': Int64Index([2653], dtype='int64'),\n",
       " 'Coronavirus Infection,Disease Prevention': Int64Index([1538], dtype='int64'),\n",
       " 'Coronavirus Infection,Endothelial Dysfunction,Microvascular Rarefaction': Int64Index([1716], dtype='int64'),\n",
       " 'Coronavirus Infection,Hydroxychloroquine Adverse Reaction': Int64Index([3163], dtype='int64'),\n",
       " 'Coronavirus Infection,Intensive Care Patients': Int64Index([218], dtype='int64'),\n",
       " 'Coronavirus Infection,Multi-Organ Disorder': Int64Index([1528], dtype='int64'),\n",
       " 'Coronavirus Infection,Oxygen Deficiency': Int64Index([135], dtype='int64'),\n",
       " 'Coronavirus Infection,Pneumonia, Viral': Int64Index([2000], dtype='int64'),\n",
       " 'Coronavirus Infection,Pneumonia, Viral,Acute Respiratory Distress Syndrome': Int64Index([635], dtype='int64'),\n",
       " 'Coronavirus Infection,Pneumonia, Viral,Acute Respiratory Failure': Int64Index([2474], dtype='int64'),\n",
       " 'Coronavirus Infection,Pregnancy Complications,Vertical Transmission of Infectious Disease,Breastfeeding,Neonatal Infection': Int64Index([238], dtype='int64'),\n",
       " 'Coronavirus Infection,Prevalence': Int64Index([2810], dtype='int64'),\n",
       " 'Coronavirus Infection,Respiratory Disease,SARS (Disease)': Int64Index([2386], dtype='int64'),\n",
       " 'Coronavirus Infection,SARS (Severe Acute Respiratory Syndrome),Virus Diseases,Coronaviridae Infections,Nidovirales Infections,RNA Virus Infections,Respiratory Tract Infections,Respiratory Tract Disease': Int64Index([2848], dtype='int64'),\n",
       " 'Coronavirus Infection,SARS-CoV 2': Int64Index([2330], dtype='int64'),\n",
       " 'Coronavirus Infection,SARS-CoV-2': Int64Index([2283], dtype='int64'),\n",
       " 'Coronavirus Infection,Sars-CoV2': Int64Index([2966], dtype='int64'),\n",
       " 'Coronavirus Infection,Sars-CoV2,Elderly Infection,Old Age; Debility': Int64Index([809], dtype='int64'),\n",
       " 'Coronavirus Infection,Severe Acute Respiratory Infection,Severe Acute Respiratory Syndrome Coronavirus 2': Int64Index([793], dtype='int64'),\n",
       " 'Coronavirus Infection,Severe Acute Respiratory Syndrome': Int64Index([256], dtype='int64'),\n",
       " 'Coronavirus Infection,Severe Acute Respiratory Syndrome,SARS-CoV Infection,Covid19': Int64Index([3380], dtype='int64'),\n",
       " 'Coronavirus Infection,Severe Acute Respiratory Syndrome,Sars-CoV2': Int64Index([776], dtype='int64'),\n",
       " 'Coronavirus Infection,Type 2 Diabetes': Int64Index([1452], dtype='int64'),\n",
       " 'Coronavirus Infections': Int64Index([  42,  844,  876, 1162, 1543, 1644, 1885, 2251, 2523, 2672, 2762,\n",
       "             2949, 3032, 3194, 3229, 3363, 3433],\n",
       "            dtype='int64'),\n",
       " 'Coronavirus Infections,COVID-19,Viral Pneumonia Human Coronavirus': Int64Index([3284], dtype='int64'),\n",
       " 'Coronavirus Infections,COVID19 Outbreak in France': Int64Index([297], dtype='int64'),\n",
       " 'Coronavirus Infections,Diabetes Mellitus,Prevalence,Risk Factors,Patient Outcome Assessment,Severe Acute Respiratory Syndrome': Int64Index([1215], dtype='int64'),\n",
       " 'Coronavirus Infections,Healthcare Associated Infection': Int64Index([2207], dtype='int64'),\n",
       " 'Coronavirus Infections,Pneumonia': Int64Index([670], dtype='int64'),\n",
       " 'Coronavirus Infections,Pneumonia, Viral': Int64Index([1343, 3490], dtype='int64'),\n",
       " 'Coronavirus Infections,Pneumonia, Viral,Acute Respiratory Distress Syndrome': Int64Index([210], dtype='int64'),\n",
       " 'Coronavirus Infections,Pneumonia, Viral,Dyspnea': Int64Index([936], dtype='int64'),\n",
       " 'Coronavirus Infections,Post-exposure Prophylaxis': Int64Index([2637], dtype='int64'),\n",
       " 'Coronavirus Infections,Respiratory Failure,Ventilator Lung': Int64Index([1385], dtype='int64'),\n",
       " 'Coronavirus Infections,SARS-CoV 2,SARS (Severe Acute Respiratory Syndrome),Pulmonary Disease': Int64Index([1104], dtype='int64'),\n",
       " 'Coronavirus Infections,Severe Acute Respiratory Syndrome,SARS-CoV Infection': Int64Index([1485], dtype='int64'),\n",
       " 'Coronavirus as the Cause of Diseases Classified Elsewhere': Int64Index([798], dtype='int64'),\n",
       " 'Coronavirus,ARDS, Human': Int64Index([3255], dtype='int64'),\n",
       " 'Coronavirus,Acute Respiratory Infection,SARS-CoV Infection': Int64Index([2020], dtype='int64'),\n",
       " 'Coronavirus,COVID': Int64Index([478, 1052, 3506], dtype='int64'),\n",
       " 'Coronavirus,COVID,ARDS,Cytokine Storm,Cytokine Release Syndrome': Int64Index([3480], dtype='int64'),\n",
       " 'Coronavirus,COVID,ART,Fertility Issues': Int64Index([3470], dtype='int64'),\n",
       " 'Coronavirus,COVID,COVID-19,COVID19,Corona Virus Infection,Coronavirus Infection': Int64Index([1074], dtype='int64'),\n",
       " 'Coronavirus,COVID,Infection Viral': Int64Index([102], dtype='int64'),\n",
       " 'Coronavirus,COVID,Pneumonia': Int64Index([58], dtype='int64'),\n",
       " 'Coronavirus,COVID-19,Convalescent Plasma': Int64Index([969], dtype='int64'),\n",
       " 'Coronavirus,COVID-19,SARS-CoV Infection,Respiratory Failure,Cytokine Storm': Int64Index([1427], dtype='int64'),\n",
       " 'Coronavirus,COVID-19,Virus,Family and Household,Infection Viral': Int64Index([675], dtype='int64'),\n",
       " 'Coronavirus,Convalescence': Int64Index([2458], dtype='int64'),\n",
       " 'Coronavirus,Corona Virus Infection': Int64Index([211], dtype='int64'),\n",
       " 'Coronavirus,Corona Virus Infection,COVID-19,2019nCoV,2019 Novel Coronavirus Infection': Int64Index([1764], dtype='int64'),\n",
       " 'Coronavirus,Coronavirus Infection': Int64Index([1448, 1996], dtype='int64'),\n",
       " 'Coronavirus,Coronavirus Infection,Corona Virus Infection,COVID,Sars-CoV2,Coronavirus as the Cause of Diseases Classified Elsewhere,SARS-Associated Coronavirus as Cause of Disease Classified Elsewhere,COVID-19,Coronavirus Disease,Coronavirus Sars-Associated as Cause of Disease Classified Elsewhere': Int64Index([2396], dtype='int64'),\n",
       " 'Coronavirus,Coronavirus Infection,Coronavirus as the Cause of Diseases Classified Elsewhere': Int64Index([1786], dtype='int64'),\n",
       " 'Coronavirus,Coronavirus Infection,Covid19,Sars-CoV2': Int64Index([1187], dtype='int64'),\n",
       " 'Coronavirus,Coronavirus Infection,Severe Acute Respiratory Syndrome Coronavirus 2,Pneumonia,Pneumonia, Viral,Lung Diseases,Respiratory Tract Disease,Respiratory Tract Infections,Coronaviridae Infections,Nidovirales Infections,RNA Virus Infections,Virus Disease,Immunologic Disease,ARDS,Immunologic Factors,Physiological Effects of Drugs,Antiviral Agents,Anti-infective Agents,Analgesics,Antimetabolites, Antineoplastic': Int64Index([1769], dtype='int64'),\n",
       " 'Coronavirus,Coronavirus Sars-Associated as Cause of Disease Classified Elsewhere': Int64Index([3362], dtype='int64'),\n",
       " 'Coronavirus,Covid19': Int64Index([3052, 3157], dtype='int64'),\n",
       " 'Coronavirus,Covid19,SARS-CoV-2,Severe Acute Respiratory Syndrome': Int64Index([3273], dtype='int64'),\n",
       " 'Coronavirus,Depression,Anxiety,Stress': Int64Index([195, 2516], dtype='int64'),\n",
       " 'Coronavirus,Diabetes': Int64Index([2226], dtype='int64'),\n",
       " 'Coronavirus,Epidemic Disease,Pneumonia, Viral': Int64Index([2453], dtype='int64'),\n",
       " 'Coronavirus,Machine Learning': Int64Index([1832], dtype='int64'),\n",
       " 'Coronavirus,N95,Medical Mask': Int64Index([519], dtype='int64'),\n",
       " 'Coronavirus,Pneumonia,Oxygen Toxicity': Int64Index([2270], dtype='int64'),\n",
       " 'Coronavirus,Post Intensive Care Unit Syndrome': Int64Index([3456], dtype='int64'),\n",
       " 'Coronavirus,Respiratory Distress Syndrome,SARS-CoV Infection': Int64Index([2620], dtype='int64'),\n",
       " 'Coronavirus,Respiratory Failure': Int64Index([817], dtype='int64'),\n",
       " 'Coronavirus,Respiratory Failure,Coronavirus Sars-Associated as Cause of Disease Classified Elsewhere,SARS-CoV-2': Int64Index([1852], dtype='int64'),\n",
       " 'Coronavirus,SARS (Severe Acute Respiratory Syndrome)': Int64Index([2401], dtype='int64'),\n",
       " 'Coronavirus,SARS-CoV-2': Int64Index([1328], dtype='int64'),\n",
       " 'Coronavirus,SARS-CoV-2,COVID-19,Acute Respiratory Distress Syndrome,Shock,Acute Circulatory Failure,Left Ventricular Dysfunction,Fluid Overload': Int64Index([1748], dtype='int64'),\n",
       " 'Coronavirus,Severe Acute Respiratory Syndrome': Int64Index([3025], dtype='int64'),\n",
       " 'Corticosteroids,Covid19,SARS-CoV 2,Steroids,Dexamethasone': Int64Index([2770], dtype='int64'),\n",
       " 'Covid 19': Int64Index([366, 458, 1055, 1568, 2616, 2838, 3457], dtype='int64'),\n",
       " 'Covid 19 Pandemic From Ethical View': Int64Index([3244], dtype='int64'),\n",
       " 'Covid 19 Positive,Corona Virus Infection': Int64Index([2867], dtype='int64'),\n",
       " 'Covid 19,BCG Vaccination': Int64Index([1907], dtype='int64'),\n",
       " 'Covid 19,Corona Virus Infection': Int64Index([1414], dtype='int64'),\n",
       " 'Covid 19,Hypoxemic Respiratory Failure': Int64Index([2890], dtype='int64'),\n",
       " 'Covid 19,Social Isolation,Mental Health Impairment': Int64Index([2060], dtype='int64'),\n",
       " 'Covid 19,Stress, Psychological': Int64Index([957], dtype='int64'),\n",
       " 'Covid 19,Vitamin D Deficiency': Int64Index([314], dtype='int64'),\n",
       " 'Covid-19': Int64Index([  47,   82,  185,  232,  307,  312,  352,  374,  377,  431,  466,\n",
       "              568,  585,  611,  634,  646,  864, 1043, 1062, 1103, 1135, 1157,\n",
       "             1168, 1219, 1228, 1317, 1322, 1395, 1481, 1564, 1643, 1712, 1771,\n",
       "             1802, 1819, 1850, 1856, 1874, 1882, 1974, 2056, 2144, 2177, 2346,\n",
       "             2415, 2431, 2456, 2488, 2530, 2543, 2544, 2571, 2676, 2695, 2716,\n",
       "             2831, 2836, 2958, 3002, 3005, 3044, 3095, 3122, 3145, 3298, 3347,\n",
       "             3425],\n",
       "            dtype='int64'),\n",
       " 'Covid-19 (New Coronavirus) Infection': Int64Index([2112], dtype='int64'),\n",
       " 'Covid-19 (SARS-CoV-2)': Int64Index([1499], dtype='int64'),\n",
       " 'Covid-19 Disease,Endoscopy Unit': Int64Index([686], dtype='int64'),\n",
       " 'Covid-19 Immune Status of Healthcare Workers': Int64Index([199], dtype='int64'),\n",
       " 'Covid-19 Infection': Int64Index([378], dtype='int64'),\n",
       " 'Covid-19 Infection,Hospitalization in Respiratory Disease Department': Int64Index([51], dtype='int64'),\n",
       " 'Covid-19 Infection,Rheumatoid Arthritis,Psoriatic Arthritis,Hydroxychloroquine': Int64Index([2168], dtype='int64'),\n",
       " 'Covid-19 Patients': Int64Index([800], dtype='int64'),\n",
       " 'Covid-19 Pneumonia': Int64Index([2111, 2638], dtype='int64'),\n",
       " 'Covid-19 Pneumonia,Cyotokine Storm': Int64Index([2287], dtype='int64'),\n",
       " 'Covid-19 With Positive RT-PCR': Int64Index([274], dtype='int64'),\n",
       " 'Covid-19, Coronavirus, Angiotensin Converting Enzyme Inhibitors, Influenza, Electronic Health Records, Epidemiology, Comorbidity, Incidence, United Kingdom': Int64Index([3118], dtype='int64'),\n",
       " 'Covid-19,ARDS': Int64Index([2880], dtype='int64'),\n",
       " 'Covid-19,ARDS, Human,Acute Lung Injury': Int64Index([2460], dtype='int64'),\n",
       " 'Covid-19,ARDS,Pneumonia': Int64Index([2888], dtype='int64'),\n",
       " 'Covid-19,ARDS,Tracheostomy Complication,Respiratory Insufficiency,Corona Virus Infection': Int64Index([882], dtype='int64'),\n",
       " 'Covid-19,Acute Respiratory Failure,ARDS, Human,Sars-CoV2,Viral Pneumonia': Int64Index([548], dtype='int64'),\n",
       " 'Covid-19,Anosmia': Int64Index([79], dtype='int64'),\n",
       " 'Covid-19,Asthma,Healthy': Int64Index([2138], dtype='int64'),\n",
       " 'Covid-19,Cancer': Int64Index([1605, 3233], dtype='int64'),\n",
       " 'Covid-19,Cardiovascular Risk Factor': Int64Index([2931], dtype='int64'),\n",
       " 'Covid-19,Corona Virus Infection,SARS-CoV 2': Int64Index([1476], dtype='int64'),\n",
       " 'Covid-19,Coronavirus Infection,Coronavirus': Int64Index([502], dtype='int64'),\n",
       " 'Covid-19,Coronavirus Infection,Pregnancy Related': Int64Index([911], dtype='int64'),\n",
       " 'Covid-19,Coronavirus Infection,SARS-CoV-2 Infection': Int64Index([655], dtype='int64'),\n",
       " 'Covid-19,Critical Illness': Int64Index([244], dtype='int64'),\n",
       " 'Covid-19,Critical Illness,Attitude of Health Personnel,Attitude to Health,Health Behavior,Health Care Utilization': Int64Index([1698], dtype='int64'),\n",
       " 'Covid-19,Critical Illness,Post Intensive Care Unit Syndrome,Muscle Weakness': Int64Index([3261], dtype='int64'),\n",
       " 'Covid-19,Drug Effect': Int64Index([2257], dtype='int64'),\n",
       " 'Covid-19,Endothelial Dysfunction,Thrombosis,Critically Ill': Int64Index([1175], dtype='int64'),\n",
       " 'Covid-19,Family Members,Critical Illness': Int64Index([3098], dtype='int64'),\n",
       " 'Covid-19,HIV': Int64Index([934], dtype='int64'),\n",
       " 'Covid-19,Health Personnel,Personnel, Hospital': Int64Index([2036], dtype='int64'),\n",
       " 'Covid-19,Hydrogen/Oxygen Mixed Gas,Dyspnea': Int64Index([1599], dtype='int64'),\n",
       " 'Covid-19,Hypoxia': Int64Index([3426], dtype='int64'),\n",
       " 'Covid-19,Lung Cancer': Int64Index([191], dtype='int64'),\n",
       " 'Covid-19,Lung Ultrasound,Respiratory Complication': Int64Index([2280], dtype='int64'),\n",
       " 'Covid-19,Maternal Psychological Distress,Anesthesia': Int64Index([2347], dtype='int64'),\n",
       " 'Covid-19,Mean Platelet Volume,Platelet Destruction': Int64Index([355], dtype='int64'),\n",
       " 'Covid-19,Mental Health Disorder,Stress Disorder,Anxiety,Depression,SARS-CoV-2': Int64Index([3524], dtype='int64'),\n",
       " 'Covid-19,Nosocomial Infection,Coronavirus,Coronavirus Infection,SARS-CoV 2': Int64Index([168], dtype='int64'),\n",
       " 'Covid-19,Obesity, Childhood,Lifestyle,Lifestyle, Healthy,Overweight, Childhood,Children, Only,Family': Int64Index([2275], dtype='int64'),\n",
       " 'Covid-19,Periodontal Diseases': Int64Index([1321], dtype='int64'),\n",
       " 'Covid-19,Pneumonia, Viral,Sars-CoV2': Int64Index([3033], dtype='int64'),\n",
       " 'Covid-19,Pneumonia,SARS Pneumonia': Int64Index([2960], dtype='int64'),\n",
       " 'Covid-19,Preeclampsia,Pregnancy Related': Int64Index([241], dtype='int64'),\n",
       " 'Covid-19,Protection Against COVID-19': Int64Index([3256], dtype='int64'),\n",
       " 'Covid-19,Pulmonary Fibrosis': Int64Index([722], dtype='int64'),\n",
       " 'Covid-19,Risk Factor, Mortality': Int64Index([1193], dtype='int64'),\n",
       " 'Covid-19,SARS,Cytokine Storm,Cytokine Release Syndrome,Tocilizumab': Int64Index([282], dtype='int64'),\n",
       " 'Covid-19,SARS-CoV 2,Coronavirus,COVID': Int64Index([1213], dtype='int64'),\n",
       " 'Covid-19,SARS-CoV 2,SARS Pneumonia': Int64Index([580], dtype='int64'),\n",
       " 'Covid-19,SARS-CoV-2,Diagnosis,Polymerase Chain Reaction': Int64Index([2565], dtype='int64'),\n",
       " 'Covid-19,SARS-CoV2': Int64Index([1236], dtype='int64'),\n",
       " 'Covid-19,SARS-CoV2,Surgery,Surgical Procedure; Complications, Late Effect of Complications,Postoperative Complications': Int64Index([2077], dtype='int64'),\n",
       " 'Covid-19,Sars-CoV2': Int64Index([897, 1740], dtype='int64'),\n",
       " 'Covid-19,Sars-CoV2,Diabete Mellitus,Cardiopathy,Pulmonary Disease,Renal Disease,Liver Diseases': Int64Index([1123], dtype='int64'),\n",
       " 'Covid-19,Sars-CoV2,Pneumonia': Int64Index([3338], dtype='int64'),\n",
       " 'Covid-19,Stress Disorders, Post-Traumatic,Anxiety,Depression': Int64Index([718], dtype='int64'),\n",
       " 'Covid-19,Thromboembolic Events,Bleeding': Int64Index([534], dtype='int64'),\n",
       " 'Covid-19,Viral Infection': Int64Index([1007], dtype='int64'),\n",
       " 'Covid-19,Virus Disease': Int64Index([1497], dtype='int64'),\n",
       " 'Covid19': Int64Index([  11,   24,   46,   54,  114,  134,  147,  171,  196,  246,\n",
       "             ...\n",
       "             3354, 3387, 3411, 3419, 3427, 3431, 3444, 3467, 3500, 3527],\n",
       "            dtype='int64', length=234),\n",
       " 'Covid19 Immunology': Int64Index([285], dtype='int64'),\n",
       " 'Covid19 Pneumonia': Int64Index([61, 1653, 2871], dtype='int64'),\n",
       " 'Covid19 Positive Patient,Covid19 Close Contact': Int64Index([2874], dtype='int64'),\n",
       " 'Covid19 Prevention': Int64Index([449], dtype='int64'),\n",
       " 'Covid19, Anxiety, Worry': Int64Index([2691], dtype='int64'),\n",
       " 'Covid19,AKI,CKD,ESRD,Transplant;Failure,Kidney': Int64Index([2105], dtype='int64'),\n",
       " 'Covid19,ARDS': Int64Index([2436], dtype='int64'),\n",
       " 'Covid19,ARDS, Human': Int64Index([1278, 1346], dtype='int64'),\n",
       " 'Covid19,ARDS, Human,ALI': Int64Index([1058], dtype='int64'),\n",
       " 'Covid19,ARDS, Human,Lung Injury, Acute,Ventilation Perfusion Mismatch': Int64Index([1347], dtype='int64'),\n",
       " 'Covid19,ARDS,Functional Recovery': Int64Index([3408], dtype='int64'),\n",
       " 'Covid19,ARDS,Pneumonia, Viral': Int64Index([71], dtype='int64'),\n",
       " 'Covid19,ARDS,Pneumonia, Viral,Computed Tomography': Int64Index([1309], dtype='int64'),\n",
       " 'Covid19,Acute Respiratory Distress Syndrome': Int64Index([1458, 1484, 2042], dtype='int64'),\n",
       " 'Covid19,Acute Respiratory Failure,Acute Respiratory Distress Syndrome': Int64Index([453], dtype='int64'),\n",
       " 'Covid19,Amyotrophic Lateral Sclerosis': Int64Index([358], dtype='int64'),\n",
       " 'Covid19,Androgen Receptor Gene Overexpression': Int64Index([302], dtype='int64'),\n",
       " 'Covid19,Angiotensin II Receptor Antagonist Adverse Reaction': Int64Index([1796], dtype='int64'),\n",
       " 'Covid19,Anosmia': Int64Index([349, 1902], dtype='int64'),\n",
       " 'Covid19,Arterial Stiffness,Endothelial Dysfunction,Diastolic Dysfunction': Int64Index([3082], dtype='int64'),\n",
       " 'Covid19,Asymptomatic Condition': Int64Index([1676], dtype='int64'),\n",
       " 'Covid19,Atherosclerosis,Cardiovascular Diseases,Upper Respiratory Tract Infections': Int64Index([2648], dtype='int64'),\n",
       " 'Covid19,Azithromycin,Ambulatory': Int64Index([3476], dtype='int64'),\n",
       " 'Covid19,Bronchiectasis': Int64Index([1828], dtype='int64'),\n",
       " 'Covid19,Burn Out,Post Traumatic Stress Disorder': Int64Index([3064], dtype='int64'),\n",
       " 'Covid19,COVID-19,Severe Acute Respiratory Syndrome Coronavirus 2,Coronavirus,Inflammation': Int64Index([2045], dtype='int64'),\n",
       " 'Covid19,Cancer': Int64Index([76], dtype='int64'),\n",
       " 'Covid19,Cancer,Nicotine Dependence,Pulmonary Disease,Cardiovascular Diseases,Immunosuppression Disorders': Int64Index([10], dtype='int64'),\n",
       " 'Covid19,Cancer,Tumor': Int64Index([3034], dtype='int64'),\n",
       " 'Covid19,Cardiac Complication': Int64Index([214], dtype='int64'),\n",
       " 'Covid19,Cardiovascular Risk Factor': Int64Index([2916], dtype='int64'),\n",
       " 'Covid19,Chronic Inflammation,Non-Communicable Chronic Diseases': Int64Index([2278], dtype='int64'),\n",
       " 'Covid19,Coma,Consciousness Disorder': Int64Index([2963], dtype='int64'),\n",
       " 'Covid19,Community-Acquired Respiratory Tract Infection': Int64Index([1746], dtype='int64'),\n",
       " 'Covid19,Convalescence': Int64Index([796], dtype='int64'),\n",
       " 'Covid19,Corona Virus Infection': Int64Index([423], dtype='int64'),\n",
       " 'Covid19,Corona Virus Infection,ARDS,Aviptadil': Int64Index([136], dtype='int64'),\n",
       " 'Covid19,Corona Virus Infection,Coronavirus,Coronavirus Infection': Int64Index([2986], dtype='int64'),\n",
       " 'Covid19,Corona Virus Infection,Pneumonia, Viral': Int64Index([726], dtype='int64'),\n",
       " 'Covid19,Corona Virus Infection,Quality of Life,Risk Reduction': Int64Index([99], dtype='int64'),\n",
       " 'Covid19,Corona Virus Infection,SAR': Int64Index([1926], dtype='int64'),\n",
       " 'Covid19,Corona Virus Infection,SARS-CoV 2,COVID': Int64Index([3418], dtype='int64'),\n",
       " 'Covid19,Corona Virus Infection,SARS-CoV Infection,ARDS,Coronavirus': Int64Index([3434], dtype='int64'),\n",
       " 'Covid19,Corona Virus Infection,Severe Acute Respiratory Syndrome,Severe Acute Respiratory Infection,Severe Acute Respiratory Syndrome (SARS) Pneumonia,Severe Acute Respiratory Syndrome of Upper Respiratory Tract,Neurodegeneration,Neuroinflammatory Response': Int64Index([2172], dtype='int64'),\n",
       " 'Covid19,Corona Virus Infection,Thrombosis,ARDS,Thrombophilia,Thromboses, Intracranial,Thromboses, Deep Vein,RAAS': Int64Index([3165], dtype='int64'),\n",
       " 'Covid19,Coronavirus': Int64Index([2563], dtype='int64'),\n",
       " 'Covid19,Coronavirus Disease,SARS-CoV-2': Int64Index([881], dtype='int64'),\n",
       " 'Covid19,Coronavirus Infection,SARS-CoV Infection': Int64Index([140], dtype='int64'),\n",
       " 'Covid19,Coronavirus,Coronavirus Infection,Corona Virus Infection': Int64Index([2262], dtype='int64'),\n",
       " 'Covid19,Coronavirus,SARS-CoV 2': Int64Index([3405], dtype='int64'),\n",
       " 'Covid19,Coronavirus,SARS-CoV Infection': Int64Index([1706], dtype='int64'),\n",
       " 'Covid19,Coronavirus,SARS-CoV-2 Infection': Int64Index([2747], dtype='int64'),\n",
       " 'Covid19,Corticosteroids': Int64Index([1603], dtype='int64'),\n",
       " 'Covid19,Cytokine Release Syndrome': Int64Index([3391], dtype='int64'),\n",
       " 'Covid19,Cytokine Release Syndrome,Critical Illness,ARDS': Int64Index([1633], dtype='int64'),\n",
       " 'Covid19,Cytokine Storm,Regulation of Inflammatory Response,Pulmonary Fibrosis': Int64Index([1462], dtype='int64'),\n",
       " 'Covid19,Diabetes Mellitus, Type 2,CKD': Int64Index([1829], dtype='int64'),\n",
       " 'Covid19,Diabetes Mellitus,Hypertension,Obesity': Int64Index([676], dtype='int64'),\n",
       " 'Covid19,Diabetes,Hypertension,Obesity': Int64Index([569], dtype='int64'),\n",
       " 'Covid19,Dialysis,Nurse-Patient Relations': Int64Index([2615], dtype='int64'),\n",
       " 'Covid19,Diarrhea': Int64Index([885], dtype='int64'),\n",
       " 'Covid19,Dyspnea': Int64Index([551], dtype='int64'),\n",
       " 'Covid19,Echocardiography': Int64Index([2200], dtype='int64'),\n",
       " 'Covid19,Exclusive Breastfeeding': Int64Index([2692], dtype='int64'),\n",
       " 'Covid19,Fear,Dental Anxiety': Int64Index([2942], dtype='int64'),\n",
       " 'Covid19,Follow up,Rehabilitation': Int64Index([1073], dtype='int64'),\n",
       " 'Covid19,Genito Urinary Cancer': Int64Index([1886], dtype='int64'),\n",
       " 'Covid19,Geriatric Medicine,Seroconversion,Immunosenescence': Int64Index([1803], dtype='int64'),\n",
       " 'Covid19,Global Impact,Pulmonology': Int64Index([1252], dtype='int64'),\n",
       " 'Covid19,Healthcare Worker Patient Transmission': Int64Index([892], dtype='int64'),\n",
       " 'Covid19,Hemodynamic Instability,ARDS, Human': Int64Index([2809], dtype='int64'),\n",
       " 'Covid19,Hydroxychloroquine Adverse Reaction': Int64Index([2443], dtype='int64'),\n",
       " 'Covid19,Hyperactive Delirium,Pneumonia, Viral': Int64Index([2891], dtype='int64'),\n",
       " 'Covid19,Hypoxemic Respiratory Failure,Hypoxemia': Int64Index([2298], dtype='int64'),\n",
       " 'Covid19,Hypoxia': Int64Index([2349], dtype='int64'),\n",
       " 'Covid19,Immune Suppression,HIV-1-infection': Int64Index([2], dtype='int64'),\n",
       " 'Covid19,Immunodeficiency': Int64Index([1787], dtype='int64'),\n",
       " 'Covid19,In-hospital Cardiac Arrest': Int64Index([2481], dtype='int64'),\n",
       " 'Covid19,Infectious Disease': Int64Index([2549], dtype='int64'),\n",
       " 'Covid19,Influenza A H1N1,Intubation Complication,Morality,Lung Injury, Acute': Int64Index([1202], dtype='int64'),\n",
       " 'Covid19,Information Seeking Behavior,Social Media,Perception, Self': Int64Index([3289], dtype='int64'),\n",
       " 'Covid19,Intellectual Disability,Developmental Disability,Child Development Disorder': Int64Index([2833], dtype='int64'),\n",
       " 'Covid19,Interstitial Pneumonia': Int64Index([189, 1383], dtype='int64'),\n",
       " 'Covid19,Ketogenic Dieting': Int64Index([1541], dtype='int64'),\n",
       " 'Covid19,Kidney Transplant Infection,Risk Factor, Cardiovascular,Immunosuppression,Outcome, Fatal,Graft Failure': Int64Index([2579], dtype='int64'),\n",
       " 'Covid19,Left Ventricular Dysfunction,Right Ventricular Dysfunction,Pulmonary Hypertension': Int64Index([1491], dtype='int64'),\n",
       " 'Covid19,Lung Function Decreased': Int64Index([557], dtype='int64'),\n",
       " 'Covid19,Lung Injury': Int64Index([2581], dtype='int64'),\n",
       " 'Covid19,Maternal-Fetal Relations': Int64Index([2030], dtype='int64'),\n",
       " 'Covid19,Measles Vaccine,Mortality': Int64Index([2289], dtype='int64'),\n",
       " 'Covid19,Mechanical Ventilation Complication,Corona Virus Infection,Respiratory Failure,SARS (Severe Acute Respiratory Syndrome)': Int64Index([658], dtype='int64'),\n",
       " 'Covid19,Mental Health Disorder,Mental Health Conditions': Int64Index([3351], dtype='int64'),\n",
       " 'Covid19,Myocardial Injury': Int64Index([390], dtype='int64'),\n",
       " 'Covid19,Neurologic Manifestations,Psychiatric Manifestations': Int64Index([1075], dtype='int64'),\n",
       " 'Covid19,Neurological Complication': Int64Index([3083], dtype='int64'),\n",
       " 'Covid19,Neurological Manifestations,Brain Damage': Int64Index([785], dtype='int64'),\n",
       " 'Covid19,Non Ischemic Myocardial Injury,Myocardial Infarction,Myocarditis,Troponin Elevation': Int64Index([3148], dtype='int64'),\n",
       " 'Covid19,Non-specific Effects of Vaccines,Heterologous Immunity,Morbidity,Immunosenescence,Vaccine Preventable Disease': Int64Index([3026], dtype='int64'),\n",
       " 'Covid19,Pediatric ALL,Infection,Critical Illness,SARS-CoV Infection': Int64Index([2953], dtype='int64'),\n",
       " 'Covid19,Pneumonia': Int64Index([146, 1500, 1511, 3109], dtype='int64'),\n",
       " 'Covid19,Pneumonia, Viral': Int64Index([111, 124], dtype='int64'),\n",
       " 'Covid19,Pneumonia,Coagulation Disorder,Pulmonary Embolism': Int64Index([133], dtype='int64'),\n",
       " 'Covid19,Pneumonia,Multiple Organ Failure,Corona Virus Infection': Int64Index([2969], dtype='int64'),\n",
       " 'Covid19,Povidone Iodine Adverse Reaction': Int64Index([860], dtype='int64'),\n",
       " 'Covid19,Pregnancy Complications,Premature Rupture of Membrane,Abruptio Placentae,Prelabor Rupture of Membranes,Stillbirth': Int64Index([2333], dtype='int64'),\n",
       " 'Covid19,Pregnancy Related,Neonatal Infection': Int64Index([34], dtype='int64'),\n",
       " 'Covid19,Progression': Int64Index([2479], dtype='int64'),\n",
       " 'Covid19,Prophylaxis': Int64Index([2373], dtype='int64'),\n",
       " 'Covid19,Psychiatric Problem,Isolation, Social': Int64Index([2864], dtype='int64'),\n",
       " 'Covid19,Pulmonary Disease': Int64Index([1054], dtype='int64'),\n",
       " 'Covid19,Pulmonary Embolism': Int64Index([2769], dtype='int64'),\n",
       " 'Covid19,Respiratory Failure': Int64Index([3137, 3266], dtype='int64'),\n",
       " 'Covid19,Respiratory Rehabilitation,Cross-sectional Study,Cohort Study': Int64Index([3054], dtype='int64'),\n",
       " 'Covid19,Rheumatic Diseases': Int64Index([1496], dtype='int64'),\n",
       " 'Covid19,SARS (Severe Acute Respiratory Syndrome),SARS-CoV Infection,SARS-CoV-2': Int64Index([1670], dtype='int64'),\n",
       " 'Covid19,SARS-COV2 Infection': Int64Index([1269], dtype='int64'),\n",
       " 'Covid19,SARS-CoV 2,Coronavirus Infection': Int64Index([2041], dtype='int64'),\n",
       " 'Covid19,SARS-CoV Infection': Int64Index([356, 659, 1155, 1158, 1308, 1336, 2622, 3275, 3322, 3475], dtype='int64'),\n",
       " 'Covid19,SARS-CoV Infection,Burnout, Caregiver,Burnout, Professional': Int64Index([13], dtype='int64'),\n",
       " 'Covid19,SARS-CoV Infection,Communicable Disease': Int64Index([1789], dtype='int64'),\n",
       " 'Covid19,SARS-CoV Infection,Pneumonia, Viral,Coagulopathy': Int64Index([853], dtype='int64'),\n",
       " 'Covid19,SARS-CoV Infection,SARS-CoV-2,Corona Virus Infection': Int64Index([2478], dtype='int64'),\n",
       " 'Covid19,SARS-CoV Infection,Survey, Family Life,Epidemic Disease,Self-Assessment': Int64Index([2267], dtype='int64'),\n",
       " 'Covid19,SARS-CoV Infection,Vaccine Adverse Reaction': Int64Index([1918], dtype='int64'),\n",
       " 'Covid19,SARS-CoV Infection,Worker-Patient Transmission, Healthcare': Int64Index([1854], dtype='int64'),\n",
       " 'Covid19,SARS-CoV-2': Int64Index([939, 1102], dtype='int64'),\n",
       " 'Covid19,SARS-CoV-2 Infection': Int64Index([3321], dtype='int64'),\n",
       " ...}"
      ]
     },
     "execution_count": 65,
     "metadata": {},
     "output_type": "execute_result"
    }
   ],
   "source": [
    "g.groups"
   ]
  },
  {
   "cell_type": "code",
   "execution_count": null,
   "metadata": {},
   "outputs": [],
   "source": []
  },
  {
   "cell_type": "code",
   "execution_count": null,
   "metadata": {},
   "outputs": [],
   "source": []
  },
  {
   "cell_type": "code",
   "execution_count": null,
   "metadata": {},
   "outputs": [],
   "source": []
  },
  {
   "cell_type": "code",
   "execution_count": null,
   "metadata": {},
   "outputs": [],
   "source": []
  },
  {
   "cell_type": "code",
   "execution_count": null,
   "metadata": {},
   "outputs": [],
   "source": []
  },
  {
   "cell_type": "code",
   "execution_count": null,
   "metadata": {},
   "outputs": [],
   "source": []
  },
  {
   "cell_type": "code",
   "execution_count": null,
   "metadata": {},
   "outputs": [],
   "source": []
  },
  {
   "cell_type": "code",
   "execution_count": null,
   "metadata": {},
   "outputs": [],
   "source": []
  },
  {
   "cell_type": "code",
   "execution_count": null,
   "metadata": {},
   "outputs": [],
   "source": []
  },
  {
   "cell_type": "code",
   "execution_count": null,
   "metadata": {},
   "outputs": [],
   "source": []
  },
  {
   "cell_type": "code",
   "execution_count": null,
   "metadata": {},
   "outputs": [],
   "source": []
  },
  {
   "cell_type": "code",
   "execution_count": null,
   "metadata": {},
   "outputs": [],
   "source": []
  },
  {
   "cell_type": "code",
   "execution_count": null,
   "metadata": {},
   "outputs": [],
   "source": []
  },
  {
   "cell_type": "code",
   "execution_count": null,
   "metadata": {},
   "outputs": [],
   "source": []
  },
  {
   "cell_type": "code",
   "execution_count": 49,
   "metadata": {},
   "outputs": [
    {
     "data": {
      "text/plain": [
       "array(['COVID-19,Sars-CoV2',\n",
       "       'COVID-19,ICU Acquired Weakness,Weaning Failure', 'Exercise Test',\n",
       "       'Pregnancy', 'COVID-19,Psychosocial Stress,Mental Health',\n",
       "       'Covid19', nan, 'Coronavirus Disease 2019 (COVID-19)', 'COVID-19',\n",
       "       'Coronavirus,Depression,Anxiety,Stress', 'Deep Venous Thrombosis',\n",
       "       'Coronavirus Infection', 'COVID-19,SARS-CoV-2',\n",
       "       'COVID-19,Coronavirus Infection,Sars-CoV2,Complications',\n",
       "       'Questionnaire Designs,COVID-19 Pandemic,Psychological Stress,Coping Skills,Two-Item Generalised Anxiety Disorder Scale,Patient Health Questionnaire Anxiety and Depression Scale,Health Status Index,Subjective Health Complaint,Mood',\n",
       "       'Type1diabetes,Covid19',\n",
       "       'SARS (Severe Acute Respiratory Syndrome),COVID-19',\n",
       "       'SARS-Cov-2 Induced Pulmonary Fibrosis',\n",
       "       'Depressive Symptoms,Anxiety,COVID-19',\n",
       "       'Lower Respiratory Tract Infection,Parainfluenza,Immunocompromised,COVID-19',\n",
       "       'COVID-19,Life Satisfaction,Anxiety,Mental Health Wellness 1,Athlete,Stress',\n",
       "       'Severe Acute Respiratory Syndrome Coronavirus 2,SARS-CoV 2,Coronavirus Infection,Covid19',\n",
       "       'Covid19,Myocardial Injury',\n",
       "       'COVID-19,Renal Replacement Therapy,Acute Kidney Injury',\n",
       "       'Post Traumatic Stress Disorder (PTSD),Anxiety,Depression,Epidemic Disease,COVID19',\n",
       "       'Acute Kidney Injury,COVID',\n",
       "       'Coronavirus Infection,Pneumonia, Viral',\n",
       "       'Satisfaction, Patient,Quality of Life', 'Covid19,Pneumonia',\n",
       "       'Blood Donation', 'RSV Infection,Covid19',\n",
       "       'Covid19,Coronavirus Infection,SARS-CoV Infection',\n",
       "       'Severe COVID-19 Pneumonia',\n",
       "       'COVID 19 Cardiac,COVID 16 Arrhythmia,COVID 19 Death',\n",
       "       'Coronavirus,COVID,Infection Viral',\n",
       "       'COVID-19,Corona Virus Infection,SARS (Severe Acute Respiratory Syndrome),SARS-CoV-2',\n",
       "       'SARS-CoV-2', 'Cardiovascular Diseases,COVID-19',\n",
       "       'Patients With COVID19', 'Dyspnea', 'Covid19,Echocardiography',\n",
       "       'Coronavirus Infections,Pneumonia, Viral,Acute Respiratory Distress Syndrome',\n",
       "       'COVID', 'COVID-19,SARS-CoV-2,2019-nCoV,Pneumonia, Viral',\n",
       "       'COVID 19', 'COVID-19,Acute Kidney Injury',\n",
       "       'SARS-CoV 2,SARS Pneumonia',\n",
       "       'Covid19,Cancer,Nicotine Dependence,Pulmonary Disease,Cardiovascular Diseases,Immunosuppression Disorders',\n",
       "       'Critically Ill,Coronavirus Infections',\n",
       "       'COVID-19,Respiratory Failure',\n",
       "       'Covid19,SARS-CoV Infection,Burnout, Caregiver,Burnout, Professional',\n",
       "       'Cytokine Storm,COVID-19',\n",
       "       'COVID-19,SARS-CoV 2,Corona Virus Infection,Sedentary Behavior',\n",
       "       'COVID,SARS-CoV 2',\n",
       "       'Sars-CoV2,Covid-19,Pregnancy Complications,Pregnancy Preterm,Pregnancy in Diabetic,Neonatal Infection',\n",
       "       'Covid19,Cancer',\n",
       "       'Vitamin C,Pneumonia, Viral,Pneumonia, Ventilator-Associated',\n",
       "       'Mortality', 'Covid-19 Patients',\n",
       "       'Daily Room Disinfection,After-each-case Room Disinfection',\n",
       "       'Covid-19', 'Coronavirus,COVID,Pneumonia',\n",
       "       'Cardiovascular Diseases,Cardiovascular Risk Factor', 'COVID-2019',\n",
       "       'SARS-CoV Infection', 'Coronavirus',\n",
       "       'SARS-CoV-2 Infection,COVID-19',\n",
       "       'the Lung Complication of COVID-19',\n",
       "       'Hematopoietic and Lymphoid Cell Neoplasm,Malignant Solid Neoplasm,Symptomatic COVID-19 Infection Laboratory-Confirmed',\n",
       "       'Psychosocial Impacts of the COVID-19 Pandemic',\n",
       "       'Juvenile Idiopathic Arthritis,COVID 19,Treatment', 'COVID19',\n",
       "       'SARS-CoV Infection,Anxiety,Depression,Occupational Problems,Severe Acute Respiratory Syndrome,Coronavirus Infection',\n",
       "       'Adult,Global Health',\n",
       "       'COVID,Covid-19,Corona Virus Infection,Sars-CoV2,Coronavirus-19,SARS Pneumonia,SARS-Associated Coronavirus as Cause of Disease Classified Elsewhere',\n",
       "       'Dental Treatment During Covid -19',\n",
       "       'COVID-19,COVID-19 Drug Treatment,Severe Acute Respiratory Syndrome Coronavirus 2',\n",
       "       'Pulmonary Embolism', 'Sars-CoV2', 'Obesity',\n",
       "       'Age Related Macular Degeneration,Diabetic Macular Edema,Retinal Vein Occlusion',\n",
       "       'SARS-CoV Infection,Severe Acute Respiratory Syndrome (SARS) Pneumonia',\n",
       "       'COVID,COVID19,SARS-CoV 2,Dyspnea', 'COVID-19 Pneumonia',\n",
       "       'SARS-COV2,COVID19', 'Type 1 Diabetes,Covid19',\n",
       "       'Influenza, Human,SARS Virus,COVID-19,Espiratory Tract Infections',\n",
       "       'Lower Respiratory Tract Infection,Ventilator Associated Pneumonia,COVID19',\n",
       "       'Severe Acute Respiratory Syndrome Coronavirus 2,SARS-CoV2',\n",
       "       'Surgical Procedure, Unspecified', 'COVID19 Pneumonia',\n",
       "       'Spinal Cord Injuries',\n",
       "       'Burnout, Professional,Medical Errors,Depression',\n",
       "       'Olfactory Disorder', 'SARS-CoV 2,SARS',\n",
       "       'Pregnancy Complications,Pregnancy, High Risk,Pregnancy Induced Hypertension,Newborn Morbidity,Fetal Growth Retardation,Fetus Disorder,Weight Gain, Maternal,Maternal-Fetal Relations',\n",
       "       'Covid19,Pneumonia, Viral',\n",
       "       'COVID,COVID-19,Corona Virus Infection,SARS-CoV-2',\n",
       "       'Physical Activity', 'Burnout',\n",
       "       'Quality of Life,Long-term Outcomes,Coronavirus Infection,Morality,Rehospitalization',\n",
       "       'Corona Virus Infection,Critical Illness',\n",
       "       'Coronavirus Infections,Pneumonia',\n",
       "       'SARS-CoV-2,Healthcare Workers', 'Covid19,ARDS,Pneumonia, Viral',\n",
       "       'COVID-19,FDG PET/CT,Inflammation',\n",
       "       'Corona Virus Disease 19 (COVID-19),COVID,Acute Lung Injury/Acute Respiratory Distress Syndrome (ARDS),Critical Illness',\n",
       "       'COVID-19,Encephalopathy,Critically Ill',\n",
       "       'Covid-19,Nosocomial Infection,Coronavirus,Coronavirus Infection,SARS-CoV 2',\n",
       "       'SARS-CoV 2,Viral Infection,COVID 19', 'Telerehabilitation',\n",
       "       'Coronavirus Infection,Intensive Care Patients',\n",
       "       'HIV,Pre-exposure Prophylaxis', 'SARS-CoV-2,Covid19',\n",
       "       'COVID,Acute Hypoxemic Respiratory Failure',\n",
       "       'COVID-19,SARS-CoV 2,Coronavirus Infection', 'Occupational Stress',\n",
       "       'COVID-19 Severe Pneumonia,Acute Lung Injury,Acute Respiratory Distress Syndrome,Pneumonia, Viral',\n",
       "       'Community-acquired Pneumonia, Influenza, COVID-19',\n",
       "       'Clinical Practice During the COVID-19 Crisis',\n",
       "       'Depression,Anxiety,Emotional Regulation',\n",
       "       'COVID,Terminal Renal Insufficiency',\n",
       "       'Corona Virus Infection,Pneumonia', 'Psychological',\n",
       "       'COVID-19,Coronavirus,Mortality,Mechanical Ventilation',\n",
       "       'Body Weight Changes,Eating Disorder Symptom,Sexual Harassment,Covid19,RED S',\n",
       "       'Psychological Adaptation,Psychology, Social',\n",
       "       'Inflammatory Disease,Covid19', 'Infection; Viral, Coronavirus',\n",
       "       'Acute Lung Injury (ALI) Associated With COVID-19,Lung Inflammation Associated With COVID-19',\n",
       "       'ARDS',\n",
       "       'Anxiety,Depression,Psychological Stress,Psychological Distress,Well-being',\n",
       "       'Alcohol Use, Unspecified,Substance Use,Intoxication Alcohol,Emergencies,COVID-19 Pandemic,Treatment',\n",
       "       'Coronavirus Infections',\n",
       "       'COVID,Oncology,Haematological Malignancy',\n",
       "       'Hypoxemic Respiratory Failure,Oxygen Toxicity', 'SARS Virus',\n",
       "       'Sepsis Syndrome',\n",
       "       'Coronavirus Infection,Severe Acute Respiratory Syndrome',\n",
       "       'SARS-CoV-2 Infection', 'COVID-19,ARDS',\n",
       "       'COVID-19,Corona Virus Infection,SARS-CoV-2,2019-nCoV,2019 Novel Coronavirus',\n",
       "       'Multiple Sclerosis,NMO Spectrum Disorder,COVID-19',\n",
       "       'Treatment of Illness-related Distress in Physical LTCs',\n",
       "       'Coronavirus Disease 2019 (COVID-19) Pneumonia',\n",
       "       'Covid19,Surgery,SARS (Severe Acute Respiratory Syndrome)',\n",
       "       'Mental Stress,Mental Health Wellness 1,Depression,Anxiety,Behavior Problem,Emotional Problem',\n",
       "       'Coronavirus Infection,Oxygen Deficiency',\n",
       "       'Follow-up,COVID-19,Infectious Diseases,Respiratory',\n",
       "       'COVID,Statin,Cardiovascular Diseases', 'Health Behavior,COVID-19',\n",
       "       'Respiratory Tract Infections',\n",
       "       'COVID-19,Critical Care,Intensive Care Units,Health Personnel',\n",
       "       'Burnout, Professional,Depression,Medical Errors,Covid-19',\n",
       "       'Covid-19 Immune Status of Healthcare Workers', 'Healthy',\n",
       "       'Anxiety Disorders,Post Traumatic Stress Disorder,Depressive Disorder,Covid19',\n",
       "       'Infertility, Female,ART,IVF,COVID-19', 'SARS-Cov-2,COVID-19',\n",
       "       'SARS-CoV 2,COVID-19,Coronavirus,Cardiac Magnetic Resonance,Myocarditis,Cardiac Anomaly',\n",
       "       'Novel Coronavirus Infection',\n",
       "       'Covid-19,SARS,Cytokine Storm,Cytokine Release Syndrome,Tocilizumab',\n",
       "       'Stress,Burnout,Anxiety,Depression,Covid19',\n",
       "       \"Emergency Department Staff During the COVID-19 Pandemic,Emergency Department Staff's Level of Stress\",\n",
       "       'Consent', 'Feeding and Eating Disorders',\n",
       "       'COVID-19,Lung Injury, Acute',\n",
       "       'COVID,Respiratory Distress Syndrome', 'Sars-CoV2,Cancer',\n",
       "       'SARS-CoV-2 Infection,Anti-SARS-CoV-2 Infection',\n",
       "       'Coronavirus,COVID-19,Convalescent Plasma',\n",
       "       'Pneumonia,Coronavirus Infection,COVID-19',\n",
       "       'Covid-19 Infection,Hospitalization in Respiratory Disease Department',\n",
       "       'COVID-19,Urologic Diseases,Surgery--Complications,Epidemic Disease',\n",
       "       'Corona Virus Infection',\n",
       "       'covid19 Infection,Pregnancy Complications,Neonatal Complications',\n",
       "       'Covid19,ARDS,Pneumonia, Viral,Computed Tomography',\n",
       "       'COVID-19,SARS-CoV2',\n",
       "       'Echocardiography, Stress,COVID-19,Hypertension, Pulmonary',\n",
       "       'Psychological Wellbeing', 'Mild Cognitive Impairment,Dementia',\n",
       "       'Health Behavior',\n",
       "       'COVID,COVID-19,SARS-CoV-2,SARS (Severe Acute Respiratory Syndrome)',\n",
       "       'SARS Pneumonia', 'Multiple Sclerosis,COVID-19', 'Infection Viral',\n",
       "       'COVID-19,Coronavirus Infection,Sars-CoV2,Corona Virus Infection,COVID,Coronavirus,Coronavirus-19,Coronavirus 19',\n",
       "       'Covid 19,Vitamin D Deficiency', 'Infertility,COVID,IVF',\n",
       "       'Solid Organ Transplant Rejection,COVID-19',\n",
       "       'COVID-19,Acute Kidney Injury,Kidney Function',\n",
       "       'Sars-CoV2,Infection Viral,Healthcare Worker,Prophylaxis',\n",
       "       'SARS-CoV 2,COVID-19',\n",
       "       'Corona Virus Infection,COVID,Pregnancy Related,Early Pregnancy',\n",
       "       'COVID-19 Infection',\n",
       "       'Hydroxychloroquine,Antimalarials,Enzyme Inhibitors,Antirheumatic Agents',\n",
       "       'COVID,Critical Limb Ischemia',\n",
       "       'SARS Coronavirus (SARS-CoV-2) Infection', 'COVID-19,SARS-CoV 2',\n",
       "       'Advanced Suturing Skills,Surgical Education',\n",
       "       'COVID-19,Coronavirus,SARS-CoV-2',\n",
       "       'COVID-19 Pneumonia,Vascular Complications', 'HIV Infections',\n",
       "       'ARDS Due to COVID-19',\n",
       "       'Coronavirus Disease 2019 (COVID-19),Pneumonia,Hypoxemia',\n",
       "       'Covid19,Corona Virus Infection,Quality of Life,Risk Reduction',\n",
       "       'Asymptomatic Infections,SARS-CoV2 Infection',\n",
       "       'ARDS, Human,COVID-19',\n",
       "       'Sperm Preservation in Oncological Patients,Fertility,Cryopreservation',\n",
       "       'COVID-19,Coronavirus,Coronavirus Infections,SARS-CoV 2',\n",
       "       'Depressive Symptoms,Metacognitive Variables',\n",
       "       'Hypertension,COVID',\n",
       "       \"SARS-CoV-2,Systemic Lupus Erythematosus,Rheumatoid Arthritis,Sjogren's Syndrome,Psoriatic Arthritis\",\n",
       "       'COVID,Pediatric Disorder',\n",
       "       'Infection, Coronavirus,Severe Acute Respiratory Syndrome Coronavirus 2',\n",
       "       'Covid19,Corona Virus Infection,Pneumonia, Viral',\n",
       "       'Radiology,Artificial Intelligence',\n",
       "       'Coronavirus Disease (COVID-19)',\n",
       "       'Severe Acute Respiratory Syndrome Coronavirus 2',\n",
       "       'COVID-19 Infection,Encephalitis',\n",
       "       'SARS-CoV 2,COVID,ARDS,ALI,Acute Lung Injury/Acute Respiratory Distress Syndrome (ARDS),Dyspnea',\n",
       "       'Infertility, Male,Testosterone Deficiency', 'Economic Burden',\n",
       "       'Severe Acute Respiratory Syndrome',\n",
       "       'Covid19,Pregnancy Related,Neonatal Infection',\n",
       "       'COVID-19,Convalescence', 'Genetic Predisposition to Disease',\n",
       "       'COVID,SARS-CoV 2,SARS Pneumonia,SARS (Disease),SARS (Severe Acute Respiratory Syndrome)',\n",
       "       'Covid-19,Critical Illness',\n",
       "       'Covid19,Corona Virus Infection,ARDS,Aviptadil', 'Brain Health',\n",
       "       'Cancer', 'COVID,Acute Respiratory Distress Syndrome',\n",
       "       '2019-nCoV Severe Pneumonia',\n",
       "       'Respiratory Tract Infections,Respiratory Tract Disease',\n",
       "       'Acute Respiratory Distress Syndrome,Coronavirus Infection',\n",
       "       'Pleth Variability Index', 'Covid-19,SARS-CoV 2,SARS Pneumonia',\n",
       "       'Substance Use Disorders,Alcohol Use Disorder',\n",
       "       'Bipolar Depression', 'Smoking Behaviors',\n",
       "       'Thalassemia Major,Covid19', 'Oncology Patients',\n",
       "       'COVID-19,Chronic Disease,Psychiatric Disorder,Cardiovascular Diseases',\n",
       "       'Musculoskeletal Pain,Disability Physical,Psychological Distress',\n",
       "       'Covid-19,Anosmia',\n",
       "       'COVID-19,Coronavirus Infection,Virus Disease,Acute Respiratory Infection,SARS-CoV Infection',\n",
       "       'Coronavirus Infection,COVID,Sars-CoV2',\n",
       "       'COVID,Infectious Disease', 'COVID-19,Lymphocytopenia',\n",
       "       'COVID,Sars-CoV2,ARDS, Human',\n",
       "       'Coronavirus Infection,Sars-CoV2,Elderly Infection,Old Age; Debility',\n",
       "       'COVID,Anxiety,Depression, Postpartum',\n",
       "       'Covid19,SARS-CoV-2,Corona Virus Infection',\n",
       "       'SARS-CoV-2,Outcome, Fatal',\n",
       "       'Age Problem,Surgery,Depression, Anxiety', 'Smoking Cessation',\n",
       "       'Colo-rectal Cancer,Colon Cancer,Rectal Cancer,Oncology,Surgery',\n",
       "       'Covid19 Pneumonia', 'Stress Disorders, Post-Traumatic',\n",
       "       'Stress,Covid19,Anxiety', 'Coronavirus,COVID',\n",
       "       'COVID-19,Virus Diseases,Corona Virus Infection,Coronary Heart Disease,Chronic Obstructive Pulmonary Disease',\n",
       "       'COVID,Corona Virus Infection,Respiratory Failure,Respiratory Distress Syndrome, Adult,ARDS, Human,SARS (Severe Acute Respiratory Syndrome)',\n",
       "       'Psychological Distress,Quality of Life', 'Pulmonary Fibrosis',\n",
       "       'Lifestyle Alteration,Non-COVID Deaths', 'Covid-19,ARDS',\n",
       "       'Corona Virus Infection,SARS-CoV Infection,Coronavirus',\n",
       "       'COVID-19,Coronavirus Infection', 'Anxiety,Surgery',\n",
       "       'Osteoporosis,Sarcopenia',\n",
       "       'COVID-19 Infection,ANAKINRA Treatment,Optimized Standard of Care (oSOC)',\n",
       "       'Cancer,COVID-19', 'Proctologic Practice During COVID-19',\n",
       "       'COVID-19,Acute Cardiovascular Condition,Acute Neurovascular Condition,Stroke,Acute Myocardial Infarction',\n",
       "       'Acute Respiratory Distress Syndrome,COVID-19', 'Pneumonia',\n",
       "       'Obesity,Telemedicine,Bariatric Surgery', 'covid19', 'Oncology',\n",
       "       'Acute Kidney Injury,COVID-19,ARDS',\n",
       "       'Acute Respiratory Tract Infection,Acute Respiratory Insufficiency,Pneumonia,Septic Shock,Hypoxemia',\n",
       "       'Emergencies', 'Face-to-face Reconsultation to Emergency Room',\n",
       "       'Anxiety,SARS-CoV Infection',\n",
       "       'Covid19,Amyotrophic Lateral Sclerosis',\n",
       "       'Corticosteroids,Covid19,SARS-CoV 2,Steroids,Dexamethasone',\n",
       "       'Coronavirus Infection,COVID-19',\n",
       "       'Cardiovascular Death; Major Adverse Cardiovascular Events',\n",
       "       'COVID-19,Pneumonia',\n",
       "       'Scleroderma,Scleroderma, Systemic,Systemic Sclerosis', 'Anosmia',\n",
       "       'Anxiety,Depression,Interpersonal Problem,Emotion Regulation',\n",
       "       'Dental Surgeon',\n",
       "       'SARS-CoV 2,Respiratory Distress Syndrome, Adult,Corona Virus Infection,Critical Illness',\n",
       "       'BCG,COVID-19,SARS-CoV2,Corona Virus Infection',\n",
       "       'Infection, Respiratory Tract',\n",
       "       'COVID,Coronavirus,Coronavirus Infection,AKI,Acute Kidney Injury',\n",
       "       'Rheumatoid Arthritis', 'COVID-19,Corona Virus Infection',\n",
       "       'End Stage Renal Disease,Sars-CoV2',\n",
       "       'COVID,Corona Virus Infection', 'COVID 19,SARS-CoV 2,Pneumonia',\n",
       "       'COVID-19 Pneumonia,Lung Ultrasound',\n",
       "       'Covid-19,Preeclampsia,Pregnancy Related', 'Trauma',\n",
       "       'Depression,Quality of Life,Covid 19,Social Isolation',\n",
       "       'Obesity,Diabetes,Covid19', 'COVID,Pneumonia, Viral',\n",
       "       'Prevention of COVID-19', 'Mental Disorder',\n",
       "       'Corona Virus Infection,Psychiatric Disorder,Psychological Distress',\n",
       "       'Covid19,Stress,Anxiety Depression',\n",
       "       'Covid19,Cardiac Complication', 'ARDS, Human,COVID',\n",
       "       'Covid19,Ultrasound,ARDS', 'Quality of Life,Stress', 'SARS-CoV 2',\n",
       "       'Sars-CoV2,COVID-19,COVID',\n",
       "       'Vascular Surgical Procedures,COVID-19,Postoperative Complications',\n",
       "       'Coronavirus Infection,Pregnancy Complications,Vertical Transmission of Infectious Disease,Breastfeeding,Neonatal Infection',\n",
       "       'Covid19,Diarrhea', 'SARS CoV-2',\n",
       "       'Conjunctivitis,SARS-CoV-2,COVID-19,Ocular Infection, Viral,Ocular Inflammation',\n",
       "       'Chemeotherapy,Immunotherapy,Treatment Mofidied,Coronavirus,Quality of Life',\n",
       "       'Intubation Complication,Intubation; Difficult or Failed,Cardiac Arrest,Influenza,Safety Issues',\n",
       "       'Covid 19', 'SARS-CoV-2 Infection,Covid19',\n",
       "       'Depression,Burnout, Professional,Post Traumatic Stress Disorder'],\n",
       "      dtype=object)"
      ]
     },
     "execution_count": 49,
     "metadata": {},
     "output_type": "execute_result"
    }
   ],
   "source": [
    "test7"
   ]
  },
  {
   "cell_type": "code",
   "execution_count": null,
   "metadata": {},
   "outputs": [],
   "source": []
  },
  {
   "cell_type": "code",
   "execution_count": null,
   "metadata": {},
   "outputs": [],
   "source": []
  },
  {
   "cell_type": "code",
   "execution_count": null,
   "metadata": {},
   "outputs": [],
   "source": []
  },
  {
   "cell_type": "code",
   "execution_count": null,
   "metadata": {},
   "outputs": [],
   "source": []
  },
  {
   "cell_type": "code",
   "execution_count": null,
   "metadata": {},
   "outputs": [],
   "source": []
  },
  {
   "cell_type": "code",
   "execution_count": null,
   "metadata": {},
   "outputs": [],
   "source": []
  },
  {
   "cell_type": "code",
   "execution_count": null,
   "metadata": {},
   "outputs": [],
   "source": []
  },
  {
   "cell_type": "code",
   "execution_count": null,
   "metadata": {},
   "outputs": [],
   "source": []
  },
  {
   "cell_type": "code",
   "execution_count": null,
   "metadata": {},
   "outputs": [],
   "source": []
  },
  {
   "cell_type": "code",
   "execution_count": null,
   "metadata": {},
   "outputs": [],
   "source": [
    "test4[\"month\"][( test4[\"start_date\"] <'2020-12-31') \n",
    "                           & ( test4[\"start_date\"] > '2020-01-01' )\n",
    "                          ].value_counts()"
   ]
  },
  {
   "cell_type": "code",
   "execution_count": null,
   "metadata": {},
   "outputs": [],
   "source": []
  },
  {
   "cell_type": "code",
   "execution_count": null,
   "metadata": {},
   "outputs": [],
   "source": []
  },
  {
   "cell_type": "code",
   "execution_count": null,
   "metadata": {},
   "outputs": [],
   "source": []
  },
  {
   "cell_type": "code",
   "execution_count": 33,
   "metadata": {},
   "outputs": [
    {
     "data": {
      "text/plain": [
       "0        120.0\n",
       "1        200.0\n",
       "2         90.0\n",
       "3       2500.0\n",
       "4         20.0\n",
       "         ...  \n",
       "3523      53.0\n",
       "3524    2000.0\n",
       "3525      60.0\n",
       "3526      30.0\n",
       "3527     500.0\n",
       "Name: enrollment, Length: 3528, dtype: float64"
      ]
     },
     "execution_count": 33,
     "metadata": {},
     "output_type": "execute_result"
    }
   ],
   "source": [
    "newdf\n"
   ]
  },
  {
   "cell_type": "code",
   "execution_count": null,
   "metadata": {},
   "outputs": [],
   "source": []
  },
  {
   "cell_type": "code",
   "execution_count": null,
   "metadata": {},
   "outputs": [],
   "source": []
  },
  {
   "cell_type": "code",
   "execution_count": null,
   "metadata": {},
   "outputs": [],
   "source": []
  },
  {
   "cell_type": "code",
   "execution_count": null,
   "metadata": {},
   "outputs": [],
   "source": []
  },
  {
   "cell_type": "code",
   "execution_count": 25,
   "metadata": {},
   "outputs": [
    {
     "data": {
      "text/plain": [
       "array(['COVID-19,Life Satisfaction,Anxiety,Mental Health Wellness 1,Athlete,Stress',\n",
       "       'COVID-19', 'Covid19,Immune Suppression,HIV-1-infection', ...,\n",
       "       'Well Aging',\n",
       "       'Covid-19,Mental Health Disorder,Stress Disorder,Anxiety,Depression,SARS-CoV-2',\n",
       "       'Disseminated Intravascular Coagulation,Critical Illness,Sars-CoV2,Viral Infection,Coagulation Disorder, Blood,Covid19'],\n",
       "      dtype=object)"
      ]
     },
     "execution_count": 25,
     "metadata": {},
     "output_type": "execute_result"
    }
   ],
   "source": [
    "label\n"
   ]
  },
  {
   "cell_type": "code",
   "execution_count": null,
   "metadata": {},
   "outputs": [],
   "source": []
  },
  {
   "cell_type": "code",
   "execution_count": null,
   "metadata": {},
   "outputs": [],
   "source": []
  },
  {
   "cell_type": "code",
   "execution_count": null,
   "metadata": {},
   "outputs": [],
   "source": [
    "\n"
   ]
  },
  {
   "cell_type": "code",
   "execution_count": null,
   "metadata": {},
   "outputs": [],
   "source": []
  },
  {
   "cell_type": "code",
   "execution_count": null,
   "metadata": {},
   "outputs": [],
   "source": []
  },
  {
   "cell_type": "code",
   "execution_count": null,
   "metadata": {},
   "outputs": [],
   "source": []
  },
  {
   "cell_type": "code",
   "execution_count": null,
   "metadata": {},
   "outputs": [],
   "source": []
  },
  {
   "cell_type": "code",
   "execution_count": null,
   "metadata": {},
   "outputs": [],
   "source": []
  },
  {
   "cell_type": "code",
   "execution_count": null,
   "metadata": {},
   "outputs": [],
   "source": []
  },
  {
   "cell_type": "code",
   "execution_count": null,
   "metadata": {},
   "outputs": [],
   "source": []
  },
  {
   "cell_type": "code",
   "execution_count": null,
   "metadata": {},
   "outputs": [],
   "source": []
  },
  {
   "cell_type": "code",
   "execution_count": 26,
   "metadata": {},
   "outputs": [
    {
     "ename": "TypeError",
     "evalue": "'value' must be an instance of str or bytes, not a float",
     "output_type": "error",
     "traceback": [
      "\u001b[1;31m---------------------------------------------------------------------------\u001b[0m",
      "\u001b[1;31mTypeError\u001b[0m                                 Traceback (most recent call last)",
      "\u001b[1;32m<ipython-input-26-24b39976c061>\u001b[0m in \u001b[0;36m<module>\u001b[1;34m\u001b[0m\n\u001b[0;32m      1\u001b[0m \u001b[0mfig\u001b[0m\u001b[1;33m,\u001b[0m\u001b[0max\u001b[0m\u001b[1;33m=\u001b[0m\u001b[0mplt\u001b[0m\u001b[1;33m.\u001b[0m\u001b[0msubplots\u001b[0m\u001b[1;33m(\u001b[0m\u001b[1;33m)\u001b[0m\u001b[1;33m\u001b[0m\u001b[1;33m\u001b[0m\u001b[0m\n\u001b[1;32m----> 2\u001b[1;33m \u001b[0max\u001b[0m\u001b[1;33m.\u001b[0m\u001b[0mbarh\u001b[0m\u001b[1;33m(\u001b[0m\u001b[0mnewdf\u001b[0m\u001b[1;33m[\u001b[0m\u001b[1;34m\"condition\"\u001b[0m\u001b[1;33m]\u001b[0m\u001b[1;33m.\u001b[0m\u001b[0munique\u001b[0m\u001b[1;33m(\u001b[0m\u001b[1;33m)\u001b[0m\u001b[1;33m,\u001b[0m\u001b[0mnewdf\u001b[0m\u001b[1;33m[\u001b[0m\u001b[1;34m\"enrollment\"\u001b[0m\u001b[1;33m]\u001b[0m\u001b[1;33m.\u001b[0m\u001b[0mastype\u001b[0m\u001b[1;33m(\u001b[0m\u001b[0mstr\u001b[0m\u001b[1;33m)\u001b[0m\u001b[1;33m)\u001b[0m\u001b[1;33m\u001b[0m\u001b[1;33m\u001b[0m\u001b[0m\n\u001b[0m\u001b[0;32m      3\u001b[0m \u001b[0max\u001b[0m\u001b[1;33m.\u001b[0m\u001b[0mset_title\u001b[0m\u001b[1;33m(\u001b[0m\u001b[1;34m\"study types\"\u001b[0m\u001b[1;33m)\u001b[0m\u001b[1;33m\u001b[0m\u001b[1;33m\u001b[0m\u001b[0m\n\u001b[0;32m      4\u001b[0m \u001b[0max\u001b[0m\u001b[1;33m.\u001b[0m\u001b[0mset_xlabel\u001b[0m\u001b[1;33m(\u001b[0m\u001b[1;34m\"No. of studies\"\u001b[0m\u001b[1;33m)\u001b[0m\u001b[1;33m\u001b[0m\u001b[1;33m\u001b[0m\u001b[0m\n",
      "\u001b[1;32mC:\\ProgramData\\Anaconda3\\lib\\site-packages\\matplotlib\\axes\\_axes.py\u001b[0m in \u001b[0;36mbarh\u001b[1;34m(self, y, width, height, left, align, **kwargs)\u001b[0m\n\u001b[0;32m   2544\u001b[0m         \"\"\"\n\u001b[0;32m   2545\u001b[0m         \u001b[0mkwargs\u001b[0m\u001b[1;33m.\u001b[0m\u001b[0msetdefault\u001b[0m\u001b[1;33m(\u001b[0m\u001b[1;34m'orientation'\u001b[0m\u001b[1;33m,\u001b[0m \u001b[1;34m'horizontal'\u001b[0m\u001b[1;33m)\u001b[0m\u001b[1;33m\u001b[0m\u001b[1;33m\u001b[0m\u001b[0m\n\u001b[1;32m-> 2546\u001b[1;33m         patches = self.bar(x=left, height=height, width=width, bottom=y,\n\u001b[0m\u001b[0;32m   2547\u001b[0m                            align=align, **kwargs)\n\u001b[0;32m   2548\u001b[0m         \u001b[1;32mreturn\u001b[0m \u001b[0mpatches\u001b[0m\u001b[1;33m\u001b[0m\u001b[1;33m\u001b[0m\u001b[0m\n",
      "\u001b[1;32mC:\\ProgramData\\Anaconda3\\lib\\site-packages\\matplotlib\\__init__.py\u001b[0m in \u001b[0;36minner\u001b[1;34m(ax, data, *args, **kwargs)\u001b[0m\n\u001b[0;32m   1563\u001b[0m     \u001b[1;32mdef\u001b[0m \u001b[0minner\u001b[0m\u001b[1;33m(\u001b[0m\u001b[0max\u001b[0m\u001b[1;33m,\u001b[0m \u001b[1;33m*\u001b[0m\u001b[0margs\u001b[0m\u001b[1;33m,\u001b[0m \u001b[0mdata\u001b[0m\u001b[1;33m=\u001b[0m\u001b[1;32mNone\u001b[0m\u001b[1;33m,\u001b[0m \u001b[1;33m**\u001b[0m\u001b[0mkwargs\u001b[0m\u001b[1;33m)\u001b[0m\u001b[1;33m:\u001b[0m\u001b[1;33m\u001b[0m\u001b[1;33m\u001b[0m\u001b[0m\n\u001b[0;32m   1564\u001b[0m         \u001b[1;32mif\u001b[0m \u001b[0mdata\u001b[0m \u001b[1;32mis\u001b[0m \u001b[1;32mNone\u001b[0m\u001b[1;33m:\u001b[0m\u001b[1;33m\u001b[0m\u001b[1;33m\u001b[0m\u001b[0m\n\u001b[1;32m-> 1565\u001b[1;33m             \u001b[1;32mreturn\u001b[0m \u001b[0mfunc\u001b[0m\u001b[1;33m(\u001b[0m\u001b[0max\u001b[0m\u001b[1;33m,\u001b[0m \u001b[1;33m*\u001b[0m\u001b[0mmap\u001b[0m\u001b[1;33m(\u001b[0m\u001b[0msanitize_sequence\u001b[0m\u001b[1;33m,\u001b[0m \u001b[0margs\u001b[0m\u001b[1;33m)\u001b[0m\u001b[1;33m,\u001b[0m \u001b[1;33m**\u001b[0m\u001b[0mkwargs\u001b[0m\u001b[1;33m)\u001b[0m\u001b[1;33m\u001b[0m\u001b[1;33m\u001b[0m\u001b[0m\n\u001b[0m\u001b[0;32m   1566\u001b[0m \u001b[1;33m\u001b[0m\u001b[0m\n\u001b[0;32m   1567\u001b[0m         \u001b[0mbound\u001b[0m \u001b[1;33m=\u001b[0m \u001b[0mnew_sig\u001b[0m\u001b[1;33m.\u001b[0m\u001b[0mbind\u001b[0m\u001b[1;33m(\u001b[0m\u001b[0max\u001b[0m\u001b[1;33m,\u001b[0m \u001b[1;33m*\u001b[0m\u001b[0margs\u001b[0m\u001b[1;33m,\u001b[0m \u001b[1;33m**\u001b[0m\u001b[0mkwargs\u001b[0m\u001b[1;33m)\u001b[0m\u001b[1;33m\u001b[0m\u001b[1;33m\u001b[0m\u001b[0m\n",
      "\u001b[1;32mC:\\ProgramData\\Anaconda3\\lib\\site-packages\\matplotlib\\axes\\_axes.py\u001b[0m in \u001b[0;36mbar\u001b[1;34m(self, x, height, width, bottom, align, **kwargs)\u001b[0m\n\u001b[0;32m   2319\u001b[0m                 \u001b[0mself\u001b[0m\u001b[1;33m.\u001b[0m\u001b[0mset_yscale\u001b[0m\u001b[1;33m(\u001b[0m\u001b[1;34m'log'\u001b[0m\u001b[1;33m,\u001b[0m \u001b[0mnonposy\u001b[0m\u001b[1;33m=\u001b[0m\u001b[1;34m'clip'\u001b[0m\u001b[1;33m)\u001b[0m\u001b[1;33m\u001b[0m\u001b[1;33m\u001b[0m\u001b[0m\n\u001b[0;32m   2320\u001b[0m         \u001b[1;32melif\u001b[0m \u001b[0morientation\u001b[0m \u001b[1;33m==\u001b[0m \u001b[1;34m'horizontal'\u001b[0m\u001b[1;33m:\u001b[0m\u001b[1;33m\u001b[0m\u001b[1;33m\u001b[0m\u001b[0m\n\u001b[1;32m-> 2321\u001b[1;33m             \u001b[0mself\u001b[0m\u001b[1;33m.\u001b[0m\u001b[0m_process_unit_info\u001b[0m\u001b[1;33m(\u001b[0m\u001b[0mxdata\u001b[0m\u001b[1;33m=\u001b[0m\u001b[0mwidth\u001b[0m\u001b[1;33m,\u001b[0m \u001b[0mydata\u001b[0m\u001b[1;33m=\u001b[0m\u001b[0my\u001b[0m\u001b[1;33m,\u001b[0m \u001b[0mkwargs\u001b[0m\u001b[1;33m=\u001b[0m\u001b[0mkwargs\u001b[0m\u001b[1;33m)\u001b[0m\u001b[1;33m\u001b[0m\u001b[1;33m\u001b[0m\u001b[0m\n\u001b[0m\u001b[0;32m   2322\u001b[0m             \u001b[1;32mif\u001b[0m \u001b[0mlog\u001b[0m\u001b[1;33m:\u001b[0m\u001b[1;33m\u001b[0m\u001b[1;33m\u001b[0m\u001b[0m\n\u001b[0;32m   2323\u001b[0m                 \u001b[0mself\u001b[0m\u001b[1;33m.\u001b[0m\u001b[0mset_xscale\u001b[0m\u001b[1;33m(\u001b[0m\u001b[1;34m'log'\u001b[0m\u001b[1;33m,\u001b[0m \u001b[0mnonposx\u001b[0m\u001b[1;33m=\u001b[0m\u001b[1;34m'clip'\u001b[0m\u001b[1;33m)\u001b[0m\u001b[1;33m\u001b[0m\u001b[1;33m\u001b[0m\u001b[0m\n",
      "\u001b[1;32mC:\\ProgramData\\Anaconda3\\lib\\site-packages\\matplotlib\\axes\\_base.py\u001b[0m in \u001b[0;36m_process_unit_info\u001b[1;34m(self, xdata, ydata, kwargs)\u001b[0m\n\u001b[0;32m   2072\u001b[0m \u001b[1;33m\u001b[0m\u001b[0m\n\u001b[0;32m   2073\u001b[0m         \u001b[0mkwargs\u001b[0m \u001b[1;33m=\u001b[0m \u001b[0m_process_single_axis\u001b[0m\u001b[1;33m(\u001b[0m\u001b[0mxdata\u001b[0m\u001b[1;33m,\u001b[0m \u001b[0mself\u001b[0m\u001b[1;33m.\u001b[0m\u001b[0mxaxis\u001b[0m\u001b[1;33m,\u001b[0m \u001b[1;34m'xunits'\u001b[0m\u001b[1;33m,\u001b[0m \u001b[0mkwargs\u001b[0m\u001b[1;33m)\u001b[0m\u001b[1;33m\u001b[0m\u001b[1;33m\u001b[0m\u001b[0m\n\u001b[1;32m-> 2074\u001b[1;33m         \u001b[0mkwargs\u001b[0m \u001b[1;33m=\u001b[0m \u001b[0m_process_single_axis\u001b[0m\u001b[1;33m(\u001b[0m\u001b[0mydata\u001b[0m\u001b[1;33m,\u001b[0m \u001b[0mself\u001b[0m\u001b[1;33m.\u001b[0m\u001b[0myaxis\u001b[0m\u001b[1;33m,\u001b[0m \u001b[1;34m'yunits'\u001b[0m\u001b[1;33m,\u001b[0m \u001b[0mkwargs\u001b[0m\u001b[1;33m)\u001b[0m\u001b[1;33m\u001b[0m\u001b[1;33m\u001b[0m\u001b[0m\n\u001b[0m\u001b[0;32m   2075\u001b[0m         \u001b[1;32mreturn\u001b[0m \u001b[0mkwargs\u001b[0m\u001b[1;33m\u001b[0m\u001b[1;33m\u001b[0m\u001b[0m\n\u001b[0;32m   2076\u001b[0m \u001b[1;33m\u001b[0m\u001b[0m\n",
      "\u001b[1;32mC:\\ProgramData\\Anaconda3\\lib\\site-packages\\matplotlib\\axes\\_base.py\u001b[0m in \u001b[0;36m_process_single_axis\u001b[1;34m(data, axis, unit_name, kwargs)\u001b[0m\n\u001b[0;32m   2054\u001b[0m                 \u001b[1;31m# We only need to update if there is nothing set yet.\u001b[0m\u001b[1;33m\u001b[0m\u001b[1;33m\u001b[0m\u001b[1;33m\u001b[0m\u001b[0m\n\u001b[0;32m   2055\u001b[0m                 \u001b[1;32mif\u001b[0m \u001b[1;32mnot\u001b[0m \u001b[0maxis\u001b[0m\u001b[1;33m.\u001b[0m\u001b[0mhave_units\u001b[0m\u001b[1;33m(\u001b[0m\u001b[1;33m)\u001b[0m\u001b[1;33m:\u001b[0m\u001b[1;33m\u001b[0m\u001b[1;33m\u001b[0m\u001b[0m\n\u001b[1;32m-> 2056\u001b[1;33m                     \u001b[0maxis\u001b[0m\u001b[1;33m.\u001b[0m\u001b[0mupdate_units\u001b[0m\u001b[1;33m(\u001b[0m\u001b[0mdata\u001b[0m\u001b[1;33m)\u001b[0m\u001b[1;33m\u001b[0m\u001b[1;33m\u001b[0m\u001b[0m\n\u001b[0m\u001b[0;32m   2057\u001b[0m \u001b[1;33m\u001b[0m\u001b[0m\n\u001b[0;32m   2058\u001b[0m             \u001b[1;31m# Check for units in the kwargs, and if present update axis\u001b[0m\u001b[1;33m\u001b[0m\u001b[1;33m\u001b[0m\u001b[1;33m\u001b[0m\u001b[0m\n",
      "\u001b[1;32mC:\\ProgramData\\Anaconda3\\lib\\site-packages\\matplotlib\\axis.py\u001b[0m in \u001b[0;36mupdate_units\u001b[1;34m(self, data)\u001b[0m\n\u001b[0;32m   1514\u001b[0m         \u001b[0mneednew\u001b[0m \u001b[1;33m=\u001b[0m \u001b[0mself\u001b[0m\u001b[1;33m.\u001b[0m\u001b[0mconverter\u001b[0m \u001b[1;33m!=\u001b[0m \u001b[0mconverter\u001b[0m\u001b[1;33m\u001b[0m\u001b[1;33m\u001b[0m\u001b[0m\n\u001b[0;32m   1515\u001b[0m         \u001b[0mself\u001b[0m\u001b[1;33m.\u001b[0m\u001b[0mconverter\u001b[0m \u001b[1;33m=\u001b[0m \u001b[0mconverter\u001b[0m\u001b[1;33m\u001b[0m\u001b[1;33m\u001b[0m\u001b[0m\n\u001b[1;32m-> 1516\u001b[1;33m         \u001b[0mdefault\u001b[0m \u001b[1;33m=\u001b[0m \u001b[0mself\u001b[0m\u001b[1;33m.\u001b[0m\u001b[0mconverter\u001b[0m\u001b[1;33m.\u001b[0m\u001b[0mdefault_units\u001b[0m\u001b[1;33m(\u001b[0m\u001b[0mdata\u001b[0m\u001b[1;33m,\u001b[0m \u001b[0mself\u001b[0m\u001b[1;33m)\u001b[0m\u001b[1;33m\u001b[0m\u001b[1;33m\u001b[0m\u001b[0m\n\u001b[0m\u001b[0;32m   1517\u001b[0m         \u001b[1;32mif\u001b[0m \u001b[0mdefault\u001b[0m \u001b[1;32mis\u001b[0m \u001b[1;32mnot\u001b[0m \u001b[1;32mNone\u001b[0m \u001b[1;32mand\u001b[0m \u001b[0mself\u001b[0m\u001b[1;33m.\u001b[0m\u001b[0munits\u001b[0m \u001b[1;32mis\u001b[0m \u001b[1;32mNone\u001b[0m\u001b[1;33m:\u001b[0m\u001b[1;33m\u001b[0m\u001b[1;33m\u001b[0m\u001b[0m\n\u001b[0;32m   1518\u001b[0m             \u001b[0mself\u001b[0m\u001b[1;33m.\u001b[0m\u001b[0mset_units\u001b[0m\u001b[1;33m(\u001b[0m\u001b[0mdefault\u001b[0m\u001b[1;33m)\u001b[0m\u001b[1;33m\u001b[0m\u001b[1;33m\u001b[0m\u001b[0m\n",
      "\u001b[1;32mC:\\ProgramData\\Anaconda3\\lib\\site-packages\\matplotlib\\category.py\u001b[0m in \u001b[0;36mdefault_units\u001b[1;34m(data, axis)\u001b[0m\n\u001b[0;32m    105\u001b[0m         \u001b[1;31m# the conversion call stack is default_units -> axis_info -> convert\u001b[0m\u001b[1;33m\u001b[0m\u001b[1;33m\u001b[0m\u001b[1;33m\u001b[0m\u001b[0m\n\u001b[0;32m    106\u001b[0m         \u001b[1;32mif\u001b[0m \u001b[0maxis\u001b[0m\u001b[1;33m.\u001b[0m\u001b[0munits\u001b[0m \u001b[1;32mis\u001b[0m \u001b[1;32mNone\u001b[0m\u001b[1;33m:\u001b[0m\u001b[1;33m\u001b[0m\u001b[1;33m\u001b[0m\u001b[0m\n\u001b[1;32m--> 107\u001b[1;33m             \u001b[0maxis\u001b[0m\u001b[1;33m.\u001b[0m\u001b[0mset_units\u001b[0m\u001b[1;33m(\u001b[0m\u001b[0mUnitData\u001b[0m\u001b[1;33m(\u001b[0m\u001b[0mdata\u001b[0m\u001b[1;33m)\u001b[0m\u001b[1;33m)\u001b[0m\u001b[1;33m\u001b[0m\u001b[1;33m\u001b[0m\u001b[0m\n\u001b[0m\u001b[0;32m    108\u001b[0m         \u001b[1;32melse\u001b[0m\u001b[1;33m:\u001b[0m\u001b[1;33m\u001b[0m\u001b[1;33m\u001b[0m\u001b[0m\n\u001b[0;32m    109\u001b[0m             \u001b[0maxis\u001b[0m\u001b[1;33m.\u001b[0m\u001b[0munits\u001b[0m\u001b[1;33m.\u001b[0m\u001b[0mupdate\u001b[0m\u001b[1;33m(\u001b[0m\u001b[0mdata\u001b[0m\u001b[1;33m)\u001b[0m\u001b[1;33m\u001b[0m\u001b[1;33m\u001b[0m\u001b[0m\n",
      "\u001b[1;32mC:\\ProgramData\\Anaconda3\\lib\\site-packages\\matplotlib\\category.py\u001b[0m in \u001b[0;36m__init__\u001b[1;34m(self, data)\u001b[0m\n\u001b[0;32m    173\u001b[0m         \u001b[0mself\u001b[0m\u001b[1;33m.\u001b[0m\u001b[0m_counter\u001b[0m \u001b[1;33m=\u001b[0m \u001b[0mitertools\u001b[0m\u001b[1;33m.\u001b[0m\u001b[0mcount\u001b[0m\u001b[1;33m(\u001b[0m\u001b[1;33m)\u001b[0m\u001b[1;33m\u001b[0m\u001b[1;33m\u001b[0m\u001b[0m\n\u001b[0;32m    174\u001b[0m         \u001b[1;32mif\u001b[0m \u001b[0mdata\u001b[0m \u001b[1;32mis\u001b[0m \u001b[1;32mnot\u001b[0m \u001b[1;32mNone\u001b[0m\u001b[1;33m:\u001b[0m\u001b[1;33m\u001b[0m\u001b[1;33m\u001b[0m\u001b[0m\n\u001b[1;32m--> 175\u001b[1;33m             \u001b[0mself\u001b[0m\u001b[1;33m.\u001b[0m\u001b[0mupdate\u001b[0m\u001b[1;33m(\u001b[0m\u001b[0mdata\u001b[0m\u001b[1;33m)\u001b[0m\u001b[1;33m\u001b[0m\u001b[1;33m\u001b[0m\u001b[0m\n\u001b[0m\u001b[0;32m    176\u001b[0m \u001b[1;33m\u001b[0m\u001b[0m\n\u001b[0;32m    177\u001b[0m     \u001b[1;33m@\u001b[0m\u001b[0mstaticmethod\u001b[0m\u001b[1;33m\u001b[0m\u001b[1;33m\u001b[0m\u001b[0m\n",
      "\u001b[1;32mC:\\ProgramData\\Anaconda3\\lib\\site-packages\\matplotlib\\category.py\u001b[0m in \u001b[0;36mupdate\u001b[1;34m(self, data)\u001b[0m\n\u001b[0;32m    210\u001b[0m         \u001b[1;32mfor\u001b[0m \u001b[0mval\u001b[0m \u001b[1;32min\u001b[0m \u001b[0mOrderedDict\u001b[0m\u001b[1;33m.\u001b[0m\u001b[0mfromkeys\u001b[0m\u001b[1;33m(\u001b[0m\u001b[0mdata\u001b[0m\u001b[1;33m)\u001b[0m\u001b[1;33m:\u001b[0m\u001b[1;33m\u001b[0m\u001b[1;33m\u001b[0m\u001b[0m\n\u001b[0;32m    211\u001b[0m             \u001b[1;31m# OrderedDict just iterates over unique values in data.\u001b[0m\u001b[1;33m\u001b[0m\u001b[1;33m\u001b[0m\u001b[1;33m\u001b[0m\u001b[0m\n\u001b[1;32m--> 212\u001b[1;33m             \u001b[0mcbook\u001b[0m\u001b[1;33m.\u001b[0m\u001b[0m_check_isinstance\u001b[0m\u001b[1;33m(\u001b[0m\u001b[1;33m(\u001b[0m\u001b[0mstr\u001b[0m\u001b[1;33m,\u001b[0m \u001b[0mbytes\u001b[0m\u001b[1;33m)\u001b[0m\u001b[1;33m,\u001b[0m \u001b[0mvalue\u001b[0m\u001b[1;33m=\u001b[0m\u001b[0mval\u001b[0m\u001b[1;33m)\u001b[0m\u001b[1;33m\u001b[0m\u001b[1;33m\u001b[0m\u001b[0m\n\u001b[0m\u001b[0;32m    213\u001b[0m             \u001b[1;32mif\u001b[0m \u001b[0mconvertible\u001b[0m\u001b[1;33m:\u001b[0m\u001b[1;33m\u001b[0m\u001b[1;33m\u001b[0m\u001b[0m\n\u001b[0;32m    214\u001b[0m                 \u001b[1;31m# this will only be called so long as convertible is True.\u001b[0m\u001b[1;33m\u001b[0m\u001b[1;33m\u001b[0m\u001b[1;33m\u001b[0m\u001b[0m\n",
      "\u001b[1;32mC:\\ProgramData\\Anaconda3\\lib\\site-packages\\matplotlib\\cbook\\__init__.py\u001b[0m in \u001b[0;36m_check_isinstance\u001b[1;34m(_types, **kwargs)\u001b[0m\n\u001b[0;32m   2121\u001b[0m     \u001b[1;32mfor\u001b[0m \u001b[0mk\u001b[0m\u001b[1;33m,\u001b[0m \u001b[0mv\u001b[0m \u001b[1;32min\u001b[0m \u001b[0mkwargs\u001b[0m\u001b[1;33m.\u001b[0m\u001b[0mitems\u001b[0m\u001b[1;33m(\u001b[0m\u001b[1;33m)\u001b[0m\u001b[1;33m:\u001b[0m\u001b[1;33m\u001b[0m\u001b[1;33m\u001b[0m\u001b[0m\n\u001b[0;32m   2122\u001b[0m         \u001b[1;32mif\u001b[0m \u001b[1;32mnot\u001b[0m \u001b[0misinstance\u001b[0m\u001b[1;33m(\u001b[0m\u001b[0mv\u001b[0m\u001b[1;33m,\u001b[0m \u001b[0mtypes\u001b[0m\u001b[1;33m)\u001b[0m\u001b[1;33m:\u001b[0m\u001b[1;33m\u001b[0m\u001b[1;33m\u001b[0m\u001b[0m\n\u001b[1;32m-> 2123\u001b[1;33m             raise TypeError(\n\u001b[0m\u001b[0;32m   2124\u001b[0m                 \"{!r} must be an instance of {}, not a {}\".format(\n\u001b[0;32m   2125\u001b[0m                     \u001b[0mk\u001b[0m\u001b[1;33m,\u001b[0m\u001b[1;33m\u001b[0m\u001b[1;33m\u001b[0m\u001b[0m\n",
      "\u001b[1;31mTypeError\u001b[0m: 'value' must be an instance of str or bytes, not a float"
     ]
    },
    {
     "data": {
      "image/png": "[encoded data removed]",
      "text/plain": [
       "<Figure size 432x288 with 1 Axes>"
      ]
     },
     "metadata": {
      "needs_background": "light"
     },
     "output_type": "display_data"
    }
   ],
   "source": []
  },
  {
   "cell_type": "code",
   "execution_count": null,
   "metadata": {},
   "outputs": [],
   "source": []
  },
  {
   "cell_type": "code",
   "execution_count": null,
   "metadata": {},
   "outputs": [],
   "source": []
  },
  {
   "cell_type": "code",
   "execution_count": null,
   "metadata": {},
   "outputs": [],
   "source": []
  },
  {
   "cell_type": "code",
   "execution_count": null,
   "metadata": {},
   "outputs": [],
   "source": []
  },
  {
   "cell_type": "code",
   "execution_count": null,
   "metadata": {},
   "outputs": [],
   "source": []
  },
  {
   "cell_type": "code",
   "execution_count": null,
   "metadata": {},
   "outputs": [],
   "source": []
  },
  {
   "cell_type": "code",
   "execution_count": null,
   "metadata": {},
   "outputs": [],
   "source": []
  },
  {
   "cell_type": "code",
   "execution_count": null,
   "metadata": {},
   "outputs": [],
   "source": []
  },
  {
   "cell_type": "code",
   "execution_count": null,
   "metadata": {},
   "outputs": [],
   "source": []
  },
  {
   "cell_type": "code",
   "execution_count": null,
   "metadata": {},
   "outputs": [],
   "source": []
  },
  {
   "cell_type": "code",
   "execution_count": null,
   "metadata": {},
   "outputs": [],
   "source": []
  },
  {
   "cell_type": "code",
   "execution_count": null,
   "metadata": {},
   "outputs": [],
   "source": []
  },
  {
   "cell_type": "code",
   "execution_count": null,
   "metadata": {},
   "outputs": [],
   "source": []
  },
  {
   "cell_type": "code",
   "execution_count": null,
   "metadata": {},
   "outputs": [],
   "source": []
  },
  {
   "cell_type": "code",
   "execution_count": null,
   "metadata": {},
   "outputs": [],
   "source": []
  },
  {
   "cell_type": "code",
   "execution_count": null,
   "metadata": {},
   "outputs": [],
   "source": []
  },
  {
   "cell_type": "code",
   "execution_count": null,
   "metadata": {},
   "outputs": [],
   "source": []
  },
  {
   "cell_type": "code",
   "execution_count": null,
   "metadata": {},
   "outputs": [],
   "source": []
  },
  {
   "cell_type": "code",
   "execution_count": null,
   "metadata": {},
   "outputs": [],
   "source": []
  },
  {
   "cell_type": "code",
   "execution_count": null,
   "metadata": {},
   "outputs": [],
   "source": []
  },
  {
   "cell_type": "code",
   "execution_count": null,
   "metadata": {},
   "outputs": [],
   "source": []
  },
  {
   "cell_type": "code",
   "execution_count": null,
   "metadata": {},
   "outputs": [],
   "source": []
  },
  {
   "cell_type": "code",
   "execution_count": null,
   "metadata": {},
   "outputs": [],
   "source": []
  },
  {
   "cell_type": "code",
   "execution_count": null,
   "metadata": {},
   "outputs": [],
   "source": []
  },
  {
   "cell_type": "code",
   "execution_count": null,
   "metadata": {},
   "outputs": [],
   "source": []
  },
  {
   "cell_type": "code",
   "execution_count": null,
   "metadata": {},
   "outputs": [],
   "source": []
  },
  {
   "cell_type": "code",
   "execution_count": null,
   "metadata": {},
   "outputs": [],
   "source": []
  },
  {
   "cell_type": "code",
   "execution_count": null,
   "metadata": {},
   "outputs": [],
   "source": []
  },
  {
   "cell_type": "code",
   "execution_count": null,
   "metadata": {},
   "outputs": [],
   "source": []
  },
  {
   "cell_type": "code",
   "execution_count": null,
   "metadata": {},
   "outputs": [],
   "source": []
  },
  {
   "cell_type": "code",
   "execution_count": null,
   "metadata": {},
   "outputs": [],
   "source": []
  },
  {
   "cell_type": "code",
   "execution_count": null,
   "metadata": {},
   "outputs": [],
   "source": []
  },
  {
   "cell_type": "code",
   "execution_count": null,
   "metadata": {},
   "outputs": [],
   "source": []
  },
  {
   "cell_type": "code",
   "execution_count": null,
   "metadata": {},
   "outputs": [],
   "source": []
  },
  {
   "cell_type": "code",
   "execution_count": null,
   "metadata": {},
   "outputs": [],
   "source": []
  },
  {
   "cell_type": "code",
   "execution_count": null,
   "metadata": {},
   "outputs": [],
   "source": []
  },
  {
   "cell_type": "code",
   "execution_count": null,
   "metadata": {},
   "outputs": [],
   "source": []
  },
  {
   "cell_type": "code",
   "execution_count": null,
   "metadata": {},
   "outputs": [],
   "source": []
  },
  {
   "cell_type": "code",
   "execution_count": null,
   "metadata": {},
   "outputs": [],
   "source": []
  },
  {
   "cell_type": "code",
   "execution_count": null,
   "metadata": {},
   "outputs": [],
   "source": []
  },
  {
   "cell_type": "code",
   "execution_count": null,
   "metadata": {},
   "outputs": [],
   "source": []
  },
  {
   "cell_type": "code",
   "execution_count": null,
   "metadata": {},
   "outputs": [],
   "source": []
  },
  {
   "cell_type": "code",
   "execution_count": null,
   "metadata": {},
   "outputs": [],
   "source": []
  },
  {
   "cell_type": "code",
   "execution_count": null,
   "metadata": {},
   "outputs": [],
   "source": []
  },
  {
   "cell_type": "code",
   "execution_count": null,
   "metadata": {},
   "outputs": [],
   "source": []
  },
  {
   "cell_type": "code",
   "execution_count": null,
   "metadata": {},
   "outputs": [],
   "source": []
  },
  {
   "cell_type": "code",
   "execution_count": null,
   "metadata": {},
   "outputs": [],
   "source": []
  },
  {
   "cell_type": "code",
   "execution_count": null,
   "metadata": {},
   "outputs": [],
   "source": []
  },
  {
   "cell_type": "code",
   "execution_count": null,
   "metadata": {},
   "outputs": [],
   "source": []
  },
  {
   "cell_type": "code",
   "execution_count": null,
   "metadata": {},
   "outputs": [],
   "source": []
  },
  {
   "cell_type": "code",
   "execution_count": null,
   "metadata": {},
   "outputs": [],
   "source": []
  },
  {
   "cell_type": "code",
   "execution_count": null,
   "metadata": {},
   "outputs": [],
   "source": []
  },
  {
   "cell_type": "code",
   "execution_count": null,
   "metadata": {},
   "outputs": [],
   "source": []
  },
  {
   "cell_type": "code",
   "execution_count": null,
   "metadata": {},
   "outputs": [],
   "source": []
  },
  {
   "cell_type": "code",
   "execution_count": null,
   "metadata": {},
   "outputs": [],
   "source": []
  },
  {
   "cell_type": "code",
   "execution_count": null,
   "metadata": {},
   "outputs": [],
   "source": []
  },
  {
   "cell_type": "code",
   "execution_count": null,
   "metadata": {},
   "outputs": [],
   "source": []
  },
  {
   "cell_type": "code",
   "execution_count": null,
   "metadata": {},
   "outputs": [],
   "source": []
  },
  {
   "cell_type": "code",
   "execution_count": null,
   "metadata": {},
   "outputs": [],
   "source": []
  },
  {
   "cell_type": "code",
   "execution_count": null,
   "metadata": {},
   "outputs": [],
   "source": []
  },
  {
   "cell_type": "code",
   "execution_count": null,
   "metadata": {},
   "outputs": [],
   "source": []
  },
  {
   "cell_type": "code",
   "execution_count": null,
   "metadata": {},
   "outputs": [],
   "source": []
  },
  {
   "cell_type": "code",
   "execution_count": null,
   "metadata": {},
   "outputs": [],
   "source": []
  },
  {
   "cell_type": "code",
   "execution_count": null,
   "metadata": {},
   "outputs": [],
   "source": []
  },
  {
   "cell_type": "code",
   "execution_count": null,
   "metadata": {},
   "outputs": [],
   "source": []
  },
  {
   "cell_type": "code",
   "execution_count": null,
   "metadata": {},
   "outputs": [],
   "source": []
  },
  {
   "cell_type": "code",
   "execution_count": null,
   "metadata": {},
   "outputs": [],
   "source": []
  },
  {
   "cell_type": "code",
   "execution_count": null,
   "metadata": {},
   "outputs": [],
   "source": []
  },
  {
   "cell_type": "code",
   "execution_count": null,
   "metadata": {},
   "outputs": [],
   "source": []
  },
  {
   "cell_type": "code",
   "execution_count": null,
   "metadata": {},
   "outputs": [],
   "source": []
  },
  {
   "cell_type": "code",
   "execution_count": null,
   "metadata": {},
   "outputs": [],
   "source": []
  },
  {
   "cell_type": "code",
   "execution_count": null,
   "metadata": {},
   "outputs": [],
   "source": []
  },
  {
   "cell_type": "code",
   "execution_count": null,
   "metadata": {},
   "outputs": [],
   "source": []
  },
  {
   "cell_type": "code",
   "execution_count": null,
   "metadata": {},
   "outputs": [],
   "source": []
  },
  {
   "cell_type": "code",
   "execution_count": null,
   "metadata": {},
   "outputs": [],
   "source": []
  },
  {
   "cell_type": "code",
   "execution_count": null,
   "metadata": {},
   "outputs": [],
   "source": []
  },
  {
   "cell_type": "code",
   "execution_count": null,
   "metadata": {},
   "outputs": [],
   "source": []
  },
  {
   "cell_type": "code",
   "execution_count": null,
   "metadata": {},
   "outputs": [],
   "source": []
  },
  {
   "cell_type": "code",
   "execution_count": null,
   "metadata": {},
   "outputs": [],
   "source": []
  },
  {
   "cell_type": "code",
   "execution_count": null,
   "metadata": {},
   "outputs": [],
   "source": []
  },
  {
   "cell_type": "code",
   "execution_count": null,
   "metadata": {},
   "outputs": [],
   "source": []
  },
  {
   "cell_type": "code",
   "execution_count": null,
   "metadata": {},
   "outputs": [],
   "source": []
  },
  {
   "cell_type": "code",
   "execution_count": null,
   "metadata": {},
   "outputs": [],
   "source": []
  },
  {
   "cell_type": "code",
   "execution_count": null,
   "metadata": {},
   "outputs": [],
   "source": []
  },
  {
   "cell_type": "code",
   "execution_count": null,
   "metadata": {},
   "outputs": [],
   "source": []
  },
  {
   "cell_type": "code",
   "execution_count": null,
   "metadata": {},
   "outputs": [],
   "source": []
  },
  {
   "cell_type": "code",
   "execution_count": null,
   "metadata": {},
   "outputs": [],
   "source": []
  },
  {
   "cell_type": "code",
   "execution_count": null,
   "metadata": {},
   "outputs": [],
   "source": []
  },
  {
   "cell_type": "code",
   "execution_count": null,
   "metadata": {},
   "outputs": [],
   "source": []
  },
  {
   "cell_type": "code",
   "execution_count": null,
   "metadata": {},
   "outputs": [],
   "source": []
  },
  {
   "cell_type": "code",
   "execution_count": null,
   "metadata": {},
   "outputs": [],
   "source": []
  },
  {
   "cell_type": "code",
   "execution_count": null,
   "metadata": {},
   "outputs": [],
   "source": []
  },
  {
   "cell_type": "code",
   "execution_count": null,
   "metadata": {},
   "outputs": [],
   "source": []
  },
  {
   "cell_type": "code",
   "execution_count": null,
   "metadata": {},
   "outputs": [],
   "source": []
  },
  {
   "cell_type": "code",
   "execution_count": null,
   "metadata": {},
   "outputs": [],
   "source": []
  },
  {
   "cell_type": "code",
   "execution_count": null,
   "metadata": {},
   "outputs": [],
   "source": []
  },
  {
   "cell_type": "code",
   "execution_count": null,
   "metadata": {},
   "outputs": [],
   "source": []
  },
  {
   "cell_type": "code",
   "execution_count": null,
   "metadata": {},
   "outputs": [],
   "source": []
  },
  {
   "cell_type": "code",
   "execution_count": null,
   "metadata": {},
   "outputs": [],
   "source": []
  },
  {
   "cell_type": "code",
   "execution_count": null,
   "metadata": {},
   "outputs": [],
   "source": [
    "trial_count.sum()"
   ]
  },
  {
   "cell_type": "code",
   "execution_count": null,
   "metadata": {},
   "outputs": [],
   "source": []
  },
  {
   "cell_type": "code",
   "execution_count": null,
   "metadata": {},
   "outputs": [],
   "source": []
  },
  {
   "cell_type": "code",
   "execution_count": null,
   "metadata": {},
   "outputs": [],
   "source": []
  },
  {
   "cell_type": "code",
   "execution_count": null,
   "metadata": {},
   "outputs": [],
   "source": []
  },
  {
   "cell_type": "code",
   "execution_count": null,
   "metadata": {},
   "outputs": [],
   "source": []
  },
  {
   "cell_type": "code",
   "execution_count": null,
   "metadata": {},
   "outputs": [],
   "source": []
  },
  {
   "cell_type": "code",
   "execution_count": null,
   "metadata": {},
   "outputs": [],
   "source": []
  },
  {
   "cell_type": "code",
   "execution_count": null,
   "metadata": {},
   "outputs": [],
   "source": [
    "test4[test4[\"month\"]==12.0]"
   ]
  },
  {
   "cell_type": "code",
   "execution_count": null,
   "metadata": {},
   "outputs": [],
   "source": []
  },
  {
   "cell_type": "code",
   "execution_count": null,
   "metadata": {},
   "outputs": [],
   "source": []
  },
  {
   "cell_type": "code",
   "execution_count": null,
   "metadata": {},
   "outputs": [],
   "source": []
  },
  {
   "cell_type": "code",
   "execution_count": null,
   "metadata": {},
   "outputs": [],
   "source": []
  },
  {
   "cell_type": "code",
   "execution_count": null,
   "metadata": {},
   "outputs": [],
   "source": []
  },
  {
   "cell_type": "code",
   "execution_count": null,
   "metadata": {},
   "outputs": [],
   "source": [
    "trial_count"
   ]
  },
  {
   "cell_type": "code",
   "execution_count": null,
   "metadata": {},
   "outputs": [],
   "source": []
  },
  {
   "cell_type": "code",
   "execution_count": null,
   "metadata": {},
   "outputs": [],
   "source": []
  },
  {
   "cell_type": "code",
   "execution_count": null,
   "metadata": {},
   "outputs": [],
   "source": []
  },
  {
   "cell_type": "code",
   "execution_count": null,
   "metadata": {},
   "outputs": [],
   "source": []
  },
  {
   "cell_type": "code",
   "execution_count": null,
   "metadata": {},
   "outputs": [],
   "source": []
  },
  {
   "cell_type": "code",
   "execution_count": null,
   "metadata": {},
   "outputs": [],
   "source": []
  },
  {
   "cell_type": "code",
   "execution_count": null,
   "metadata": {},
   "outputs": [],
   "source": []
  },
  {
   "cell_type": "code",
   "execution_count": null,
   "metadata": {},
   "outputs": [],
   "source": []
  },
  {
   "cell_type": "code",
   "execution_count": null,
   "metadata": {},
   "outputs": [],
   "source": [
    "#def findnct(startdate,completiondate):\n",
    "df.loc[(df[\"2020-08-19\"])]"
   ]
  },
  {
   "cell_type": "code",
   "execution_count": null,
   "metadata": {},
   "outputs": [],
   "source": []
  },
  {
   "cell_type": "code",
   "execution_count": null,
   "metadata": {},
   "outputs": [],
   "source": []
  },
  {
   "cell_type": "code",
   "execution_count": null,
   "metadata": {},
   "outputs": [],
   "source": []
  },
  {
   "cell_type": "code",
   "execution_count": null,
   "metadata": {},
   "outputs": [],
   "source": []
  },
  {
   "cell_type": "code",
   "execution_count": null,
   "metadata": {},
   "outputs": [],
   "source": [
    "test1=df.groupby(\"condition\")"
   ]
  },
  {
   "cell_type": "code",
   "execution_count": null,
   "metadata": {},
   "outputs": [],
   "source": [
    "test1.groups.keys()"
   ]
  },
  {
   "cell_type": "code",
   "execution_count": null,
   "metadata": {},
   "outputs": [],
   "source": [
    "test2=test1.get_group(\"COVID-19\")"
   ]
  },
  {
   "cell_type": "code",
   "execution_count": null,
   "metadata": {},
   "outputs": [],
   "source": [
    "covid=test2[\"nct_id\"].count()"
   ]
  },
  {
   "cell_type": "code",
   "execution_count": null,
   "metadata": {},
   "outputs": [],
   "source": [
    "covid"
   ]
  },
  {
   "cell_type": "code",
   "execution_count": null,
   "metadata": {},
   "outputs": [],
   "source": [
    "noncovid=df[df[\"condition\"]!=\"COVID-19\"][\"nct_id\"].count()"
   ]
  },
  {
   "cell_type": "code",
   "execution_count": null,
   "metadata": {},
   "outputs": [],
   "source": []
  },
  {
   "cell_type": "code",
   "execution_count": null,
   "metadata": {},
   "outputs": [],
   "source": [
    "noncovid"
   ]
  },
  {
   "cell_type": "code",
   "execution_count": null,
   "metadata": {},
   "outputs": [],
   "source": []
  },
  {
   "cell_type": "code",
   "execution_count": null,
   "metadata": {},
   "outputs": [],
   "source": []
  },
  {
   "cell_type": "code",
   "execution_count": null,
   "metadata": {},
   "outputs": [],
   "source": []
  },
  {
   "cell_type": "code",
   "execution_count": null,
   "metadata": {},
   "outputs": [],
   "source": []
  },
  {
   "cell_type": "code",
   "execution_count": null,
   "metadata": {},
   "outputs": [],
   "source": []
  },
  {
   "cell_type": "code",
   "execution_count": null,
   "metadata": {},
   "outputs": [],
   "source": []
  },
  {
   "cell_type": "code",
   "execution_count": null,
   "metadata": {},
   "outputs": [],
   "source": [
    "import matplotlib.pyplot as plt"
   ]
  },
  {
   "cell_type": "code",
   "execution_count": null,
   "metadata": {},
   "outputs": [],
   "source": []
  },
  {
   "cell_type": "code",
   "execution_count": null,
   "metadata": {},
   "outputs": [],
   "source": [
    "fig,ax=plt.subplots(figsize=(7,5))"
   ]
  },
  {
   "cell_type": "code",
   "execution_count": null,
   "metadata": {},
   "outputs": [],
   "source": [
    "plt.plot(df[\"nct_id\"].loc[1:573],test2[\"nct_id\"])"
   ]
  },
  {
   "cell_type": "code",
   "execution_count": null,
   "metadata": {},
   "outputs": [],
   "source": [
    "ax.stackplot(df[\"nct_id\"].loc[1:573],test2[\"nct_id\"])"
   ]
  },
  {
   "cell_type": "code",
   "execution_count": null,
   "metadata": {},
   "outputs": [],
   "source": [
    "fig"
   ]
  },
  {
   "cell_type": "code",
   "execution_count": null,
   "metadata": {},
   "outputs": [],
   "source": []
  },
  {
   "cell_type": "code",
   "execution_count": null,
   "metadata": {},
   "outputs": [],
   "source": []
  },
  {
   "cell_type": "code",
   "execution_count": null,
   "metadata": {},
   "outputs": [],
   "source": []
  },
  {
   "cell_type": "code",
   "execution_count": null,
   "metadata": {},
   "outputs": [],
   "source": []
  },
  {
   "cell_type": "code",
   "execution_count": null,
   "metadata": {},
   "outputs": [],
   "source": []
  },
  {
   "cell_type": "code",
   "execution_count": null,
   "metadata": {},
   "outputs": [],
   "source": []
  },
  {
   "cell_type": "code",
   "execution_count": null,
   "metadata": {},
   "outputs": [],
   "source": []
  },
  {
   "cell_type": "code",
   "execution_count": null,
   "metadata": {},
   "outputs": [],
   "source": []
  },
  {
   "cell_type": "code",
   "execution_count": null,
   "metadata": {},
   "outputs": [],
   "source": []
  },
  {
   "cell_type": "code",
   "execution_count": null,
   "metadata": {},
   "outputs": [],
   "source": []
  },
  {
   "cell_type": "code",
   "execution_count": null,
   "metadata": {},
   "outputs": [],
   "source": []
  },
  {
   "cell_type": "code",
   "execution_count": null,
   "metadata": {},
   "outputs": [],
   "source": []
  },
  {
   "cell_type": "code",
   "execution_count": null,
   "metadata": {},
   "outputs": [],
   "source": []
  },
  {
   "cell_type": "code",
   "execution_count": null,
   "metadata": {},
   "outputs": [],
   "source": []
  },
  {
   "cell_type": "code",
   "execution_count": null,
   "metadata": {},
   "outputs": [],
   "source": []
  },
  {
   "cell_type": "code",
   "execution_count": null,
   "metadata": {},
   "outputs": [],
   "source": []
  },
  {
   "cell_type": "code",
   "execution_count": null,
   "metadata": {},
   "outputs": [],
   "source": []
  },
  {
   "cell_type": "code",
   "execution_count": null,
   "metadata": {},
   "outputs": [],
   "source": []
  },
  {
   "cell_type": "code",
   "execution_count": null,
   "metadata": {},
   "outputs": [],
   "source": []
  }
 ],
 "metadata": {
  "kernelspec": {
   "display_name": "Python 3",
   "language": "python",
   "name": "python3"
  },
  "language_info": {
   "codemirror_mode": {
    "name": "ipython",
    "version": 3
   },
   "file_extension": ".py",
   "mimetype": "text/x-python",
   "name": "python",
   "nbconvert_exporter": "python",
   "pygments_lexer": "ipython3",
   "version": "3.8.3"
  }
 },
 "nbformat": 4,
 "nbformat_minor": 4
}
